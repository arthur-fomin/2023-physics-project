{
 "cells": [
  {
   "cell_type": "code",
   "execution_count": 1,
   "id": "17e14208",
   "metadata": {
    "execution": {
     "iopub.execute_input": "2023-06-28T09:14:51.725142Z",
     "iopub.status.busy": "2023-06-28T09:14:51.724480Z",
     "iopub.status.idle": "2023-06-28T09:14:52.344208Z",
     "shell.execute_reply": "2023-06-28T09:14:52.341427Z"
    }
   },
   "outputs": [],
   "source": [
    "import sympy as sm\n",
    "import sympy.physics.mechanics as me\n",
    "sm.init_printing(use_latex='mathjax')"
   ]
  },
  {
   "cell_type": "markdown",
   "id": "9b59060e",
   "metadata": {},
   "source": [
    "### Частные производные \n",
    "\n",
    "Если вектор $\\bar{v}$ является функцией $n$ скалярных переменных $q_1, q_2, …, q_n$ в системе отсчета «A», тогда можно сформулировать первая частичную производную, по правилам  дифференцирования и учитывая, что взаимно перпендикулярная юнит-вектора векторы зафиксированы в «A»:\n",
    "\n",
    "$$\n",
    "   \\frac{{}^A\\partial \\bar{v}}{\\partial q_r} = \\sum_{i=1}^3 \\frac{\\partial\n",
    "   v_i}{\\partial q_r} \\hat{a}_i \\ ∀ r=1\\ldots n\n",
    "$$\n",
    "\n",
    "где $v_i$ — координаты $\\bar{v}$ в базисе «́A». \n",
    "\n",
    "Т.е. если $\\bar{v}=v_x\\hat{a}_x+v_y\\hat{a}_y+v_z\\hat{a}_z$, это раскроется в \n",
    "$$\n",
    "   \\frac{{}^A\\partial \\bar{v}}{\\partial q_r} =\n",
    "   \\frac{\\partial v_x}{\\partial q_r} \\hat{a}_x +\n",
    "   \\frac{\\partial v_y}{\\partial q_r} \\hat{a}_y +\n",
    "   \\frac{\\partial v_z}{\\partial q_r} \\hat{a}_z\n",
    "   \\textrm{ for } r=1\\ldots n\n",
    "$$"
   ]
  },
  {
   "cell_type": "markdown",
   "id": "691bafc0",
   "metadata": {},
   "source": [
    "Многие из векторов, с которыми работают в кинематике, функции одной переменной, чаще всего времени t. Тогда частная производная сводится к производной с одной переменной: \n",
    "\n",
    "$\n",
    "   \\frac{{}^A d \\bar{v}}{dt} := \\sum_{i=1}^3 \\frac{d v_i}{dt} \\hat{a}_i\n",
    "$"
   ]
  },
  {
   "cell_type": "markdown",
   "id": "db385f4d",
   "metadata": {},
   "source": [
    "Приведенное выше определение подразумевает, что вектор должен быть выражен в системе координат, и скалярные производные берутся именно от этих координатных функций. \n",
    "\n",
    "Например, вот вектор, который выражается с помощью единичных векторов из трех разных систем отсчета: "
   ]
  },
  {
   "cell_type": "code",
   "execution_count": 2,
   "id": "d5779706",
   "metadata": {
    "execution": {
     "iopub.execute_input": "2023-06-28T09:14:52.358098Z",
     "iopub.status.busy": "2023-06-28T09:14:52.357852Z",
     "iopub.status.idle": "2023-06-28T09:14:52.381842Z",
     "shell.execute_reply": "2023-06-28T09:14:52.381043Z"
    }
   },
   "outputs": [
    {
     "data": {
      "text/latex": [
       "$\\displaystyle a\\mathbf{\\hat{a}_x} + b\\mathbf{\\hat{a}_y} + c\\mathbf{\\hat{b}_x} + d\\mathbf{\\hat{b}_y} + e\\mathbf{\\hat{c}_x} + f\\mathbf{\\hat{c}_y}$"
      ],
      "text/plain": [
       "a a_x + b a_y + c b_x + d b_y + e c_x + f c_y"
      ]
     },
     "execution_count": 2,
     "metadata": {},
     "output_type": "execute_result"
    }
   ],
   "source": [
    "alpha, beta = sm.symbols('alpha beta')\n",
    "a, b, c, d, e, f = sm.symbols('a b c d e f')\n",
    "\n",
    "A = me.ReferenceFrame('A')\n",
    "B = me.ReferenceFrame('B')\n",
    "C = me.ReferenceFrame('C')\n",
    "\n",
    "B.orient_axis(A, alpha, A.x)\n",
    "C.orient_axis(B, beta, B.y)\n",
    "\n",
    "v = a*A.x + b*A.y + c*B.x + d*B.y + e*C.x + f*C.y\n",
    "v"
   ]
  },
  {
   "cell_type": "markdown",
   "id": "713f8697",
   "metadata": {},
   "source": [
    "Чтобы вычислить $\\frac{{}^A\\partial\\bar{v}}{\\partial \\alpha}$ сначала нужно проецировать вектор $\\bar{v}$ на базис «A» и взять производные его координат там по α. \n",
    "\n",
    "Скалярное произведение обеспечивает проекцию и результирующий результат."
   ]
  },
  {
   "cell_type": "code",
   "execution_count": 3,
   "id": "94cb38f3",
   "metadata": {
    "execution": {
     "iopub.execute_input": "2023-06-28T09:14:52.384880Z",
     "iopub.status.busy": "2023-06-28T09:14:52.384634Z",
     "iopub.status.idle": "2023-06-28T09:14:52.397575Z",
     "shell.execute_reply": "2023-06-28T09:14:52.396785Z"
    }
   },
   "outputs": [
    {
     "data": {
      "text/latex": [
       "$\\displaystyle 0$"
      ],
      "text/plain": [
       "0"
      ]
     },
     "execution_count": 3,
     "metadata": {},
     "output_type": "execute_result"
    }
   ],
   "source": [
    "dvdalphaAx = v.dot(A.x).diff(alpha)\n",
    "dvdalphaAx"
   ]
  },
  {
   "cell_type": "code",
   "execution_count": 4,
   "id": "64dcf4b7",
   "metadata": {
    "execution": {
     "iopub.execute_input": "2023-06-28T09:14:52.400834Z",
     "iopub.status.busy": "2023-06-28T09:14:52.400379Z",
     "iopub.status.idle": "2023-06-28T09:14:52.421313Z",
     "shell.execute_reply": "2023-06-28T09:14:52.420310Z"
    }
   },
   "outputs": [
    {
     "data": {
      "text/latex": [
       "$\\displaystyle - d \\sin{\\left(\\alpha \\right)} + e \\sin{\\left(\\beta \\right)} \\cos{\\left(\\alpha \\right)} - f \\sin{\\left(\\alpha \\right)}$"
      ],
      "text/plain": [
       "-d⋅sin(α) + e⋅sin(β)⋅cos(α) - f⋅sin(α)"
      ]
     },
     "execution_count": 4,
     "metadata": {},
     "output_type": "execute_result"
    }
   ],
   "source": [
    "dvdalphaAy = v.dot(A.y).diff(alpha)\n",
    "dvdalphaAy"
   ]
  },
  {
   "cell_type": "code",
   "execution_count": 5,
   "id": "0d2da8d2",
   "metadata": {
    "execution": {
     "iopub.execute_input": "2023-06-28T09:14:52.424941Z",
     "iopub.status.busy": "2023-06-28T09:14:52.424691Z",
     "iopub.status.idle": "2023-06-28T09:14:52.441221Z",
     "shell.execute_reply": "2023-06-28T09:14:52.440506Z"
    }
   },
   "outputs": [
    {
     "data": {
      "text/latex": [
       "$\\displaystyle d \\cos{\\left(\\alpha \\right)} + e \\sin{\\left(\\alpha \\right)} \\sin{\\left(\\beta \\right)} + f \\cos{\\left(\\alpha \\right)}$"
      ],
      "text/plain": [
       "d⋅cos(α) + e⋅sin(α)⋅sin(β) + f⋅cos(α)"
      ]
     },
     "execution_count": 5,
     "metadata": {},
     "output_type": "execute_result"
    }
   ],
   "source": [
    "dvdalphaAz = v.dot(A.z).diff(alpha)\n",
    "dvdalphaAz"
   ]
  },
  {
   "cell_type": "code",
   "execution_count": 6,
   "id": "c8709fc1",
   "metadata": {
    "execution": {
     "iopub.execute_input": "2023-06-28T09:14:52.444401Z",
     "iopub.status.busy": "2023-06-28T09:14:52.443806Z",
     "iopub.status.idle": "2023-06-28T09:14:52.454605Z",
     "shell.execute_reply": "2023-06-28T09:14:52.453828Z"
    }
   },
   "outputs": [
    {
     "data": {
      "text/latex": [
       "$\\displaystyle (- d \\sin{\\left(\\alpha \\right)} + e \\sin{\\left(\\beta \\right)} \\cos{\\left(\\alpha \\right)} - f \\sin{\\left(\\alpha \\right)})\\mathbf{\\hat{a}_y} + (d \\cos{\\left(\\alpha \\right)} + e \\sin{\\left(\\alpha \\right)} \\sin{\\left(\\beta \\right)} + f \\cos{\\left(\\alpha \\right)})\\mathbf{\\hat{a}_z}$"
      ],
      "text/plain": [
       "(-d⋅sin(α) + e⋅sin(β)⋅cos(α) - f⋅sin(α)) a_y + (d⋅cos(α) + e⋅sin(α)⋅sin(β) + f\n",
       "⋅cos(α)) a_z"
      ]
     },
     "execution_count": 6,
     "metadata": {},
     "output_type": "execute_result"
    }
   ],
   "source": [
    "dvdalphaA = dvdalphaAx*A.x + dvdalphaAy*A.y + dvdalphaAz*A.z\n",
    "dvdalphaA"
   ]
  },
  {
   "cell_type": "markdown",
   "id": "7e0b096b",
   "metadata": {},
   "source": [
    "В SymPy Mechanics все это делает метод [`diff()`](https://docs.sympy.org/latest/modules/physics/vector/api/classes.html#sympy.physics.vector.vector.Vector.diff), который удается брать частные производные из разных систем отсчета. "
   ]
  },
  {
   "cell_type": "code",
   "execution_count": 7,
   "id": "de7665cb",
   "metadata": {
    "execution": {
     "iopub.execute_input": "2023-06-28T09:14:52.457816Z",
     "iopub.status.busy": "2023-06-28T09:14:52.457551Z",
     "iopub.status.idle": "2023-06-28T09:14:52.493558Z",
     "shell.execute_reply": "2023-06-28T09:14:52.492458Z"
    }
   },
   "outputs": [
    {
     "data": {
      "text/latex": [
       "$\\displaystyle (- d \\sin{\\left(\\alpha \\right)} + e \\sin{\\left(\\beta \\right)} \\cos{\\left(\\alpha \\right)} - f \\sin{\\left(\\alpha \\right)})\\mathbf{\\hat{a}_y} + (d \\cos{\\left(\\alpha \\right)} + e \\sin{\\left(\\alpha \\right)} \\sin{\\left(\\beta \\right)} + f \\cos{\\left(\\alpha \\right)})\\mathbf{\\hat{a}_z}$"
      ],
      "text/plain": [
       "(-d⋅sin(α) + e⋅sin(β)⋅cos(α) - f⋅sin(α)) a_y + (d⋅cos(α) + e⋅sin(α)⋅sin(β) + f\n",
       "⋅cos(α)) a_z"
      ]
     },
     "execution_count": 7,
     "metadata": {},
     "output_type": "execute_result"
    }
   ],
   "source": [
    "v.diff(alpha, A)"
   ]
  },
  {
   "cell_type": "code",
   "execution_count": 8,
   "id": "fce926f6",
   "metadata": {
    "execution": {
     "iopub.execute_input": "2023-06-28T09:14:52.496723Z",
     "iopub.status.busy": "2023-06-28T09:14:52.496277Z",
     "iopub.status.idle": "2023-06-28T09:14:52.510486Z",
     "shell.execute_reply": "2023-06-28T09:14:52.509663Z"
    }
   },
   "outputs": [
    {
     "data": {
      "text/latex": [
       "$\\displaystyle \\cos{\\left(\\beta \\right)}\\mathbf{\\hat{b}_x} -  \\sin{\\left(\\beta \\right)}\\mathbf{\\hat{b}_z}$"
      ],
      "text/plain": [
       "cos(β) b_x + -sin(β) b_z"
      ]
     },
     "execution_count": 8,
     "metadata": {},
     "output_type": "execute_result"
    }
   ],
   "source": [
    "dvdeBx = v.dot(B.x).diff(e)\n",
    "dvdeBy = v.dot(B.y).diff(e)\n",
    "dvdeBz = v.dot(B.z).diff(e)\n",
    "dvdeBx*B.x + dvdeBy*B.y + dvdeBz*B.z"
   ]
  },
  {
   "cell_type": "code",
   "execution_count": 9,
   "id": "3416c388",
   "metadata": {
    "execution": {
     "iopub.execute_input": "2023-06-28T09:14:52.513682Z",
     "iopub.status.busy": "2023-06-28T09:14:52.513428Z",
     "iopub.status.idle": "2023-06-28T09:14:52.521696Z",
     "shell.execute_reply": "2023-06-28T09:14:52.520839Z"
    }
   },
   "outputs": [
    {
     "data": {
      "text/latex": [
       "$\\displaystyle \\cos{\\left(\\beta \\right)}\\mathbf{\\hat{b}_x} -  \\sin{\\left(\\beta \\right)}\\mathbf{\\hat{b}_z}$"
      ],
      "text/plain": [
       "cos(β) b_x + -sin(β) b_z"
      ]
     },
     "execution_count": 9,
     "metadata": {},
     "output_type": "execute_result"
    }
   ],
   "source": [
    "v.diff(e, B).express(B)"
   ]
  },
  {
   "cell_type": "code",
   "execution_count": 10,
   "id": "9506670f",
   "metadata": {},
   "outputs": [
    {
     "data": {
      "text/latex": [
       "$\\displaystyle \\mathbf{\\hat{c}_x}$"
      ],
      "text/plain": [
       "c_x"
      ]
     },
     "execution_count": 10,
     "metadata": {},
     "output_type": "execute_result"
    }
   ],
   "source": [
    "v.diff(e, B)"
   ]
  },
  {
   "cell_type": "markdown",
   "id": "7e745d0e",
   "metadata": {},
   "source": [
    "### Правило произведения\n",
    "\n",
    "Рассмотрим еще раз вектор $\\bar{v}=v_x\\hat{a}_x+v_y\\hat{a}_y+v_z\\hat{a}_z$. \n",
    "\n",
    "Раньше координаты этого вектора были скалярными функциями $q_r$. \n",
    "\n",
    "Теперь рассмотрим систему отсчета «N» которая ориентирована относительно «A», так что относительная ориентация также зависит от $q_r$. \n",
    "\n",
    "Это означает, что при наблюдении со стороны «N», базисные векторы $\\hat{a}_x,\\hat{a}_y,\\hat{a}_z$ может быть функцией $q_r$. И теперь нужно использовать правила произведения при взятии частной производной. Например: \n",
    "\n",
    "$\n",
    "\\frac{{}^N\\partial \\bar{v}}{\\partial q_r} =\n",
    "   \\frac{{}^N\\partial v_x}{\\partial q_r}\\hat{a}_x + v_x \\frac{{}^N\\partial \\hat{a}_x}{\\partial q_r} +\n",
    "   \\frac{{}^N\\partial v_y}{\\partial q_r}\\hat{a}_y + v_y \\frac{{}^N\\partial \\hat{a}_y}{\\partial q_r} +\n",
    "   \\frac{{}^N\\partial v_z}{\\partial q_r}\\hat{a}_z + v_z \\frac{{}^N\\partial \\hat{a}_z}{\\partial q_r}\n",
    "$\n",
    "\n",
    "Три подобных термина со скалярными производными совершенно такие же, как и в прошлом случае\n",
    "\n",
    "$\n",
    "\\frac{{}^N\\partial v_x}{\\partial q_r}\\hat{a}_x,\n",
    "   \\frac{{}^N\\partial v_y}{\\partial q_r}\\hat{a}_y,\n",
    "   \\frac{{}^N\\partial v_z}{\\partial q_r}\\hat{a}_z\n",
    "$\n",
    "\n",
    "Но обратите внимание на новую часть с производными единичного вектора (у единичных векторов не будет изменения длины, только ориентации).    \n",
    "\n",
    "$\n",
    "   v_x \\frac{{}^N\\partial \\hat{a}_x}{\\partial q_r},\n",
    "   v_y \\frac{{}^N\\partial \\hat{a}_y}{\\partial q_r},\n",
    "   v_z \\frac{{}^N\\partial \\hat{a}_z}{\\partial q_r}\n",
    "$\n",
    "\n",
    "Правило произведения также применяется к скалярному … \n",
    "\n",
    "$$\n",
    "   \\frac{\\partial}{\\partial q_r}(\\bar{v} \\cdot \\bar{w}) = \n",
    "   \\frac{\\partial \\bar{v}}{\\partial q_r} \\cdot \\bar{w} +\n",
    "   \\bar{v} \\cdot \\frac{\\partial \\bar{w}}{\\partial q_r}\n",
    "$$\n",
    "\n",
    "и векторному произведению…\n",
    "$$\n",
    "   \\frac{\\partial}{\\partial q_r}(\\bar{v} \\times \\bar{w}) = \n",
    "   \\frac{\\partial \\bar{v}}{\\partial q_r} \\times \\bar{w} +\n",
    "   \\bar{v} \\times \\frac{\\partial \\bar{w}}{\\partial q_r}\n",
    "$$\n",
    "\n",
    "и обобщается на множественное произведение.\n",
    "Если $G=f_1 \\cdots f_n$, то: \n",
    "\n",
    "$$\n",
    "   \\frac{\\partial G}{\\partial q_r} =\n",
    "   \\frac{\\partial f_1}{\\partial q_r}\\cdot f_2 \\cdots f_n +\n",
    "   f_1 \\cdot\\frac{\\partial f_2}{\\partial q_r}\\cdot f_3 \\cdots f_n +\n",
    "   \\dots +\n",
    "   f_1 \\cdots f_{n-1} \\cdot \\frac{\\partial f_n}{\\partial q_r}\n",
    "$$"
   ]
  },
  {
   "cell_type": "markdown",
   "id": "c577830e",
   "metadata": {},
   "source": [
    "### Вторые производные \n",
    "\n",
    "$\\frac{{}^A\\partial \\bar{v}}{\\partial q_r}$ тоже будет вектором, и как $\\bar{v}$, может быть векторной функцией. \n",
    "\n",
    "Поэтому можно вычислить также и вторую частную производную по отношению к некому $q_s$, $s=1\\ldots n$. \n",
    "\n",
    "Причем эту вторую частную производную не обязательно брать в той же системе отсчета, что и первую. Так что если мы сначала дифференцируем в «A», а потом в «B», то получится \n",
    "\n",
    "$$\n",
    "   \\frac{{}^B\\partial}{\\partial q_s} \\left(\\frac{{}^A\\partial\\bar{v}}{\\partial\n",
    "   q_r}\\right)\n",
    "$$\n",
    "\n",
    "При этом не всегда выполняется коммутация:\n",
    "\n",
    "$$\n",
    "   \\frac{{}^B\\partial}{\\partial q_s} \\left(\\frac{{}^A\\partial\\bar{v}}{\\partial\n",
    "   q_r}\\right)\n",
    "   \\neq\n",
    "   \\frac{{}^A\\partial}{\\partial q_r} \\left(\\frac{{}^B\\partial\\bar{v}}{\\partial\n",
    "   q_s}\\right)\n",
    "$$\n",
    "\n",
    "Если же системы отсчета не менялись, то [коммутируют](https://en.wikipedia.org/wiki/Symmetry_of_second_derivatives)."
   ]
  },
  {
   "cell_type": "markdown",
   "id": "89f732c9",
   "metadata": {},
   "source": [
    "### Векторные функции времени \n",
    "\n",
    "В кинематике, нас в первую очередь интересует то, как движение меняется с изменением времени $t$, и наши векторы и координаты  будут неявные или неявные функции времени, т.е. $q_r(t)$. \n",
    "Тогда можно использовать цепное правило для получения полных производных: \n",
    "\n",
    "$\n",
    "   \\frac{{}^A d\\bar{v}}{dt} =\n",
    "   \\sum_{i=1}^n \\frac{{}^A\\partial \\bar{v}}{\\partial q_r(t)} \\frac{d q_r(t)}{dt} +\n",
    "   \\frac{{}^A \\partial \\bar{v}}{\\partial t}\n",
    "   \\textrm{ где } r=1,\\ldots,n\n",
    "$\n",
    "\n",
    "Обычно для производных по времени используют «точечную» нотацию \n",
    "\n",
    "$\\frac{dq}{dt}$ как $\\dot{q}$, $\\frac{d^2q}{dt^2}$ как $\\ddot{q}$ и т.п.\n"
   ]
  },
  {
   "cell_type": "markdown",
   "id": "b4bef937",
   "metadata": {},
   "source": [
    "В SymPy Mechanics скалярные функции времени можно создавать так: "
   ]
  },
  {
   "cell_type": "code",
   "execution_count": 11,
   "id": "ebb6afa4",
   "metadata": {
    "execution": {
     "iopub.execute_input": "2023-06-28T09:14:52.530257Z",
     "iopub.status.busy": "2023-06-28T09:14:52.530001Z",
     "iopub.status.idle": "2023-06-28T09:14:52.536102Z",
     "shell.execute_reply": "2023-06-28T09:14:52.535267Z"
    }
   },
   "outputs": [
    {
     "data": {
      "text/latex": [
       "$\\displaystyle q{\\left(t \\right)}$"
      ],
      "text/plain": [
       "q(t)"
      ]
     },
     "execution_count": 11,
     "metadata": {},
     "output_type": "execute_result"
    }
   ],
   "source": [
    "t = sm.symbols('t')\n",
    "q_of = sm.Function('q')\n",
    "\n",
    "q = q_of(t)\n",
    "q"
   ]
  },
  {
   "cell_type": "markdown",
   "id": "fd66493b",
   "metadata": {},
   "source": [
    "И эти скалярные функции можно дифференцировать: "
   ]
  },
  {
   "cell_type": "code",
   "execution_count": 12,
   "id": "89984f52",
   "metadata": {
    "execution": {
     "iopub.execute_input": "2023-06-28T09:14:52.539951Z",
     "iopub.status.busy": "2023-06-28T09:14:52.539642Z",
     "iopub.status.idle": "2023-06-28T09:14:52.546252Z",
     "shell.execute_reply": "2023-06-28T09:14:52.545400Z"
    }
   },
   "outputs": [
    {
     "data": {
      "text/latex": [
       "$\\displaystyle \\frac{d}{d t} q{\\left(t \\right)}$"
      ],
      "text/plain": [
       "d       \n",
       "──(q(t))\n",
       "dt      "
      ]
     },
     "execution_count": 12,
     "metadata": {},
     "output_type": "execute_result"
    }
   ],
   "source": [
    "q.diff(t)"
   ]
  },
  {
   "cell_type": "markdown",
   "id": "5d08bfb4",
   "metadata": {},
   "source": [
    "SymPy Mechanics предоставляет удобную функцию [`dynamicsymbols()`](https://docs.sympy.org/latest/modules/physics/vector/api/functions.html#sympy.physics.vector.dynamicsymbols\") для создания скалярных функции времени:"
   ]
  },
  {
   "cell_type": "code",
   "execution_count": 19,
   "id": "97f47d5c",
   "metadata": {
    "execution": {
     "iopub.execute_input": "2023-06-28T09:14:52.550175Z",
     "iopub.status.busy": "2023-06-28T09:14:52.549933Z",
     "iopub.status.idle": "2023-06-28T09:14:52.556727Z",
     "shell.execute_reply": "2023-06-28T09:14:52.555899Z"
    }
   },
   "outputs": [
    {
     "data": {
      "text/latex": [
       "$\\displaystyle \\left( q_{1}, \\  q_{2}, \\  q_{3}\\right)$"
      ],
      "text/plain": [
       "(q₁, q₂, q₃)"
      ]
     },
     "execution_count": 19,
     "metadata": {},
     "output_type": "execute_result"
    }
   ],
   "source": [
    "q1, q2, q3 = me.dynamicsymbols('q1 q2 q3')\n",
    "q1, q2, q3"
   ]
  },
  {
   "cell_type": "markdown",
   "id": "1ceca95e",
   "metadata": {},
   "source": [
    "Специальную переменную времени, которая используется во всех таких временных функциях, можно взять так:"
   ]
  },
  {
   "cell_type": "code",
   "execution_count": 14,
   "id": "a20db62d",
   "metadata": {
    "execution": {
     "iopub.execute_input": "2023-06-28T09:14:52.560484Z",
     "iopub.status.busy": "2023-06-28T09:14:52.560244Z",
     "iopub.status.idle": "2023-06-28T09:14:52.563855Z",
     "shell.execute_reply": "2023-06-28T09:14:52.562970Z"
    }
   },
   "outputs": [],
   "source": [
    "t = me.dynamicsymbols._t"
   ]
  },
  {
   "cell_type": "code",
   "execution_count": 15,
   "id": "b81fb572",
   "metadata": {
    "execution": {
     "iopub.execute_input": "2023-06-28T09:14:52.566816Z",
     "iopub.status.busy": "2023-06-28T09:14:52.566579Z",
     "iopub.status.idle": "2023-06-28T09:14:52.576865Z",
     "shell.execute_reply": "2023-06-28T09:14:52.576067Z"
    }
   },
   "outputs": [
    {
     "data": {
      "text/latex": [
       "$\\displaystyle \\left( \\dot{q}_{1}, \\  \\ddot{q}_{2}\\right)$"
      ],
      "text/plain": [
       "(q₁̇, q₂̈)"
      ]
     },
     "execution_count": 15,
     "metadata": {},
     "output_type": "execute_result"
    }
   ],
   "source": [
    "me.init_vprinting(use_latex='mathjax')\n",
    "q1.diff(t), q2.diff(t, 2) \n",
    "#, q3.diff(t, 3) https://github.com/KaTeX/KaTeX/issues/2744"
   ]
  },
  {
   "cell_type": "markdown",
   "id": "7beac844",
   "metadata": {},
   "source": [
    "Теперь эти скалярные функции времени можно использовать для формулирования векторов: "
   ]
  },
  {
   "cell_type": "code",
   "execution_count": 16,
   "id": "6bede49f",
   "metadata": {
    "execution": {
     "iopub.execute_input": "2023-06-28T09:14:52.580865Z",
     "iopub.status.busy": "2023-06-28T09:14:52.580439Z",
     "iopub.status.idle": "2023-06-28T09:14:53.212433Z",
     "shell.execute_reply": "2023-06-28T09:14:53.211591Z"
    }
   },
   "outputs": [
    {
     "data": {
      "text/latex": [
       "$\\displaystyle q_{1}\\mathbf{\\hat{a}_x} + q_{2}\\mathbf{\\hat{a}_y} + t^{2}\\mathbf{\\hat{a}_z}$"
      ],
      "text/plain": [
       "                   2\n",
       "q₁ a_x + q₂ a_y + t  a_z"
      ]
     },
     "execution_count": 16,
     "metadata": {},
     "output_type": "execute_result"
    }
   ],
   "source": [
    "A = me.ReferenceFrame('A')\n",
    "B = me.ReferenceFrame('B')\n",
    "B.orient_body_fixed(A, (q1, q2, q3), 'ZXZ')\n",
    "v = q1*A.x + q2*A.y + t**2*A.z\n",
    "v"
   ]
  },
  {
   "cell_type": "markdown",
   "id": "8f5ce7b9",
   "metadata": {},
   "source": [
    "А производную по времени можно найти с помощью: "
   ]
  },
  {
   "cell_type": "code",
   "execution_count": 17,
   "id": "c5aee0df",
   "metadata": {
    "execution": {
     "iopub.execute_input": "2023-06-28T09:14:53.215512Z",
     "iopub.status.busy": "2023-06-28T09:14:53.215266Z",
     "iopub.status.idle": "2023-06-28T09:14:53.227651Z",
     "shell.execute_reply": "2023-06-28T09:14:53.226846Z"
    }
   },
   "outputs": [
    {
     "data": {
      "text/latex": [
       "$\\displaystyle \\dot{q}_{1}\\mathbf{\\hat{a}_x} + \\dot{q}_{2}\\mathbf{\\hat{a}_y} + 2 t\\mathbf{\\hat{a}_z}$"
      ],
      "text/plain": [
       "q₁̇ a_x + q₂̇ a_y + 2⋅t a_z"
      ]
     },
     "execution_count": 17,
     "metadata": {},
     "output_type": "execute_result"
    }
   ],
   "source": [
    "v.diff(t, A)"
   ]
  },
  {
   "cell_type": "markdown",
   "id": "29f3457a",
   "metadata": {},
   "source": [
    "Наконец, векторы имеют [`dt()`](https://docs.sympy.org/latest/modules/physics/vector/api/classes.html#sympy.physics.vector.vector.Vector.dt), который вычисляет производные по времени при просмотре из системы отсчета, экономя несколько символы набора:"
   ]
  },
  {
   "cell_type": "code",
   "execution_count": 18,
   "id": "9a2e7f69",
   "metadata": {
    "execution": {
     "iopub.execute_input": "2023-06-28T09:14:53.230747Z",
     "iopub.status.busy": "2023-06-28T09:14:53.230482Z",
     "iopub.status.idle": "2023-06-28T09:14:53.238877Z",
     "shell.execute_reply": "2023-06-28T09:14:53.238084Z"
    }
   },
   "outputs": [
    {
     "data": {
      "text/latex": [
       "$\\displaystyle \\dot{q}_{1}\\mathbf{\\hat{a}_x} + \\dot{q}_{2}\\mathbf{\\hat{a}_y} + 2 t\\mathbf{\\hat{a}_z}$"
      ],
      "text/plain": [
       "q₁̇ a_x + q₂̇ a_y + 2⋅t a_z"
      ]
     },
     "execution_count": 18,
     "metadata": {},
     "output_type": "execute_result"
    }
   ],
   "source": [
    "v.dt(A)"
   ]
  }
 ],
 "metadata": {
  "kernelspec": {
   "display_name": "Python 3 (ipykernel)",
   "language": "python",
   "name": "python3"
  },
  "language_info": {
   "codemirror_mode": {
    "name": "ipython",
    "version": 3
   },
   "file_extension": ".py",
   "mimetype": "text/x-python",
   "name": "python",
   "nbconvert_exporter": "python",
   "pygments_lexer": "ipython3",
   "version": "3.11.6"
  }
 },
 "nbformat": 4,
 "nbformat_minor": 5
}
