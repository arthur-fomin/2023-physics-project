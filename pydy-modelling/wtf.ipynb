{
 "cells": [
  {
   "cell_type": "code",
   "execution_count": 1,
   "metadata": {},
   "outputs": [],
   "source": [
    "import sympy as sm\n",
    "import sympy.physics.mechanics as me\n",
    "me.init_vprinting(use_latex='mathjax')"
   ]
  },
  {
   "cell_type": "code",
   "execution_count": 13,
   "metadata": {},
   "outputs": [
    {
     "data": {
      "text/latex": [
       "$\\displaystyle \\left( \\dot{\\theta}\\mathbf{\\hat{n}_z}, \\  r\\mathbf{\\hat{n}_x}, \\  \\dot{r}\\mathbf{\\hat{n}_x} -  r \\dot{\\theta}\\mathbf{\\hat{n}_y}, \\  (- r \\dot{\\theta}^{2} + \\ddot{r})\\mathbf{\\hat{n}_x} + (- r \\ddot{\\theta} - 2 \\dot{r} \\dot{\\theta})\\mathbf{\\hat{n}_y}\\right)$"
      ],
      "text/plain": [
       "⎛θ̇ n_z, r n_x, ṙ n_x + -r⋅θ̇ n_y,              ⎛     2    ⎞            ⎞\n",
       "⎝                                ⎝- r⋅θ̇  + r̈⎠ n_x + (-r⋅θ̈ - 2⋅ṙ⋅θ̇) n_y⎠"
      ]
     },
     "execution_count": 13,
     "metadata": {},
     "output_type": "execute_result"
    }
   ],
   "source": [
    "# theta = sm.symbols('theta')\n",
    "theta, r = me.dynamicsymbols('theta r')\n",
    "N = me.ReferenceFrame('N')\n",
    "S = me.ReferenceFrame('S')\n",
    "NS = r * N.x\n",
    "S.orient_axis(N, theta, N.z)\n",
    "S.ang_vel_in(N), NS, NS.dt(S), NS.dt(S).dt(S)"
   ]
  },
  {
   "cell_type": "code",
   "execution_count": 4,
   "metadata": {},
   "outputs": [
    {
     "data": {
      "text/latex": [
       "$\\displaystyle 0$"
      ],
      "text/plain": [
       "0"
      ]
     },
     "execution_count": 4,
     "metadata": {},
     "output_type": "execute_result"
    }
   ],
   "source": [
    "A = me.ReferenceFrame('A')\n",
    "B = me.ReferenceFrame('B')\n",
    "B.orient_axis(A, theta, A.z)\n",
    "B.ang_vel_in(A)"
   ]
  },
  {
   "cell_type": "code",
   "execution_count": null,
   "metadata": {},
   "outputs": [
    {
     "ename": "",
     "evalue": "",
     "output_type": "error",
     "traceback": [
      "\u001b[1;31mFailed to start the Kernel '.venv (Python 3.11.6)'. \n",
      "\u001b[1;31mView Jupyter <a href='command:jupyter.viewOutput'>log</a> for further details. ENOENT: no such file or directory, open '/tmp/kernel-v2-453921bMvfokwWVctp.json'"
     ]
    }
   ],
   "source": [
    "import numpy as np\n",
    "import matplotlib.pyplot as plt\n",
    "plt.rcParams['text.usetex'] = True\n",
    "s = t = np.arange(0.0, 2.0, 1)\n",
    "plt.plot(t, s)"
   ]
  }
 ],
 "metadata": {
  "kernelspec": {
   "display_name": "Python 3 (ipykernel)",
   "language": "python",
   "name": "python3"
  },
  "language_info": {
   "codemirror_mode": {
    "name": "ipython",
    "version": 3
   },
   "file_extension": ".py",
   "mimetype": "text/x-python",
   "name": "python",
   "nbconvert_exporter": "python",
   "pygments_lexer": "ipython3",
   "version": "3.11.6"
  }
 },
 "nbformat": 4,
 "nbformat_minor": 4
}
