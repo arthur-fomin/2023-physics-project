{
 "cells": [
  {
   "cell_type": "code",
   "execution_count": 1,
   "metadata": {},
   "outputs": [],
   "source": [
    "import sympy as sm\n",
    "import sympy.physics.mechanics as me\n",
    "me.init_vprinting(use_latex='mathjax')"
   ]
  },
  {
   "cell_type": "code",
   "execution_count": 21,
   "metadata": {},
   "outputs": [
    {
     "data": {
      "text/latex": [
       "$\\displaystyle \\left( -  \\dot{\\theta}\\mathbf{\\hat{n}_z}, \\  r\\mathbf{\\hat{n}_x}, \\  \\dot{r}\\mathbf{\\hat{n}_x} + r \\dot{\\theta}\\mathbf{\\hat{n}_y}, \\  (- r \\dot{\\theta}^{2} + \\ddot{r})\\mathbf{\\hat{n}_x} + (r \\ddot{\\theta} + 2 \\dot{r} \\dot{\\theta})\\mathbf{\\hat{n}_y}, \\  - \\frac{G M}{r^{2}}\\right)$"
      ],
      "text/plain": [
       "⎛-θ̇ n_z, r n_x, ṙ n_x + r⋅θ̇ n_y,             ⎛     2    ⎞            , -G⋅M ⎞\n",
       "⎜                                ⎝- r⋅θ̇  + r̈⎠ n_x + (r⋅θ̈ + 2⋅ṙ⋅θ̇) n_y  ─────⎟\n",
       "⎜                                                                         2 ⎟\n",
       "⎝                                                                        r  ⎠"
      ]
     },
     "execution_count": 21,
     "metadata": {},
     "output_type": "execute_result"
    }
   ],
   "source": [
    "theta, r = me.dynamicsymbols('theta r')\n",
    "G, M  = sm.symbols('G, M')\n",
    "f = -G * M / r**2\n",
    "N = me.ReferenceFrame('N')\n",
    "S = me.ReferenceFrame('S')\n",
    "NS = r * N.x\n",
    "S.orient_axis(N, -theta, N.z)\n",
    "vn = NS.dt(S)\n",
    "an = vn.dt(S)\n",
    "S.ang_vel_in(N), NS, vn, an, f"
   ]
  },
  {
   "cell_type": "code",
   "execution_count": 23,
   "metadata": {},
   "outputs": [
    {
     "data": {
      "text/latex": [
       "$\\displaystyle \\left( - r \\dot{\\theta}^{2} + \\ddot{r}, \\  r \\ddot{\\theta} + 2 \\dot{r} \\dot{\\theta}, \\  0\\right)$"
      ],
      "text/plain": [
       "⎛     2                    ⎞\n",
       "⎝- r⋅θ̇  + r̈, r⋅θ̈ + 2⋅ṙ⋅θ̇, 0⎠"
      ]
     },
     "execution_count": 23,
     "metadata": {},
     "output_type": "execute_result"
    }
   ],
   "source": [
    "me.dot(N.x, an), me.dot(N.y, an), me.dot(N.z, an)"
   ]
  },
  {
   "cell_type": "code",
   "execution_count": 28,
   "metadata": {},
   "outputs": [
    {
     "ename": "ValueError",
     "evalue": "[G*M/r(t)**2 - r(t)*Derivative(theta(t), t)**2 + Derivative(r(t), (t, 2)), r(t)*Derivative(theta(t), (t, 2)) + 2*Derivative(r(t), t)*Derivative(theta(t), t)] is not a valid SymPy expression",
     "output_type": "error",
     "traceback": [
      "\u001b[0;31m---------------------------------------------------------------------------\u001b[0m",
      "\u001b[0;31mValueError\u001b[0m                                Traceback (most recent call last)",
      "\u001b[1;32m/var/data/cocalc/c48d6f16-2998-46dd-b339-93dcd2815b5e/2023-physics-project/pydy-modelling/wtf.ipynb Cell 4\u001b[0m line \u001b[0;36m1\n\u001b[0;32m----> <a href='vscode-notebook-cell://xn--28-6kce2c.xn--80apqgfe.xn--p1ai/var/data/cocalc/c48d6f16-2998-46dd-b339-93dcd2815b5e/2023-physics-project/pydy-modelling/wtf.ipynb#W5sdnNjb2RlLXJlbW90ZQ%3D%3D?line=0'>1</a>\u001b[0m sm\u001b[39m.\u001b[39;49msolveset([me\u001b[39m.\u001b[39;49mdot(N\u001b[39m.\u001b[39;49mx, an) \u001b[39m-\u001b[39;49m f, me\u001b[39m.\u001b[39;49mdot(N\u001b[39m.\u001b[39;49my, an)], r)\n",
      "File \u001b[0;32m~/2023-physics-project/pydy-modelling/.venv/lib64/python3.11/site-packages/sympy/solvers/solveset.py:2214\u001b[0m, in \u001b[0;36msolveset\u001b[0;34m(f, symbol, domain)\u001b[0m\n\u001b[1;32m   2211\u001b[0m     \u001b[39mreturn\u001b[39;00m S\u001b[39m.\u001b[39mEmptySet\n\u001b[1;32m   2213\u001b[0m \u001b[39mif\u001b[39;00m \u001b[39mnot\u001b[39;00m \u001b[39misinstance\u001b[39m(f, (Expr, Relational, Number)):\n\u001b[0;32m-> 2214\u001b[0m     \u001b[39mraise\u001b[39;00m \u001b[39mValueError\u001b[39;00m(\u001b[39m\"\u001b[39m\u001b[39m%s\u001b[39;00m\u001b[39m is not a valid SymPy expression\u001b[39m\u001b[39m\"\u001b[39m \u001b[39m%\u001b[39m f)\n\u001b[1;32m   2216\u001b[0m \u001b[39mif\u001b[39;00m \u001b[39mnot\u001b[39;00m \u001b[39misinstance\u001b[39m(symbol, (Expr, Relational)) \u001b[39mand\u001b[39;00m  symbol \u001b[39mis\u001b[39;00m \u001b[39mnot\u001b[39;00m \u001b[39mNone\u001b[39;00m:\n\u001b[1;32m   2217\u001b[0m     \u001b[39mraise\u001b[39;00m \u001b[39mValueError\u001b[39;00m(\u001b[39m\"\u001b[39m\u001b[39m%s\u001b[39;00m\u001b[39m is not a valid SymPy symbol\u001b[39m\u001b[39m\"\u001b[39m \u001b[39m%\u001b[39m (symbol,))\n",
      "\u001b[0;31mValueError\u001b[0m: [G*M/r(t)**2 - r(t)*Derivative(theta(t), t)**2 + Derivative(r(t), (t, 2)), r(t)*Derivative(theta(t), (t, 2)) + 2*Derivative(r(t), t)*Derivative(theta(t), t)] is not a valid SymPy expression"
     ]
    }
   ],
   "source": [
    "sm.solveset([me.dot(N.x, an) - f, me.dot(N.y, an)], r)"
   ]
  },
  {
   "cell_type": "code",
   "execution_count": null,
   "metadata": {},
   "outputs": [],
   "source": []
  }
 ],
 "metadata": {
  "kernelspec": {
   "display_name": "Python 3 (ipykernel)",
   "language": "python",
   "name": "python3"
  },
  "language_info": {
   "codemirror_mode": {
    "name": "ipython",
    "version": 3
   },
   "file_extension": ".py",
   "mimetype": "text/x-python",
   "name": "python",
   "nbconvert_exporter": "python",
   "pygments_lexer": "ipython3",
   "version": "3.11.6"
  }
 },
 "nbformat": 4,
 "nbformat_minor": 4
}
