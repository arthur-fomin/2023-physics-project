{
 "cells": [
  {
   "cell_type": "code",
   "execution_count": 1,
   "metadata": {},
   "outputs": [],
   "source": [
    "import sympy as sm\n",
    "import sympy.physics.mechanics as me\n",
    "me.init_vprinting(use_latex='mathjax')"
   ]
  },
  {
   "cell_type": "code",
   "execution_count": 21,
   "metadata": {},
   "outputs": [
    {
     "data": {
      "text/latex": [
       "$\\displaystyle \\left( -  \\dot{\\theta}\\mathbf{\\hat{n}_z}, \\  r\\mathbf{\\hat{n}_x}, \\  \\dot{r}\\mathbf{\\hat{n}_x} + r \\dot{\\theta}\\mathbf{\\hat{n}_y}, \\  (- r \\dot{\\theta}^{2} + \\ddot{r})\\mathbf{\\hat{n}_x} + (r \\ddot{\\theta} + 2 \\dot{r} \\dot{\\theta})\\mathbf{\\hat{n}_y}, \\  - \\frac{G M}{r^{2}}\\right)$"
      ],
      "text/plain": [
       "⎛-θ̇ n_z, r n_x, ṙ n_x + r⋅θ̇ n_y,             ⎛     2    ⎞            , -G⋅M ⎞\n",
       "⎜                                ⎝- r⋅θ̇  + r̈⎠ n_x + (r⋅θ̈ + 2⋅ṙ⋅θ̇) n_y  ─────⎟\n",
       "⎜                                                                         2 ⎟\n",
       "⎝                                                                        r  ⎠"
      ]
     },
     "execution_count": 21,
     "metadata": {},
     "output_type": "execute_result"
    }
   ],
   "source": [
    "theta, r = me.dynamicsymbols('theta r')\n",
    "G, M  = sm.symbols('G, M')\n",
    "f = -G * M / r**2\n",
    "N = me.ReferenceFrame('N')\n",
    "S = me.ReferenceFrame('S')\n",
    "NS = r * N.x\n",
    "S.orient_axis(N, -theta, N.z)\n",
    "vn = NS.dt(S)\n",
    "an = vn.dt(S)\n",
    "S.ang_vel_in(N), NS, vn, an, f"
   ]
  },
  {
   "cell_type": "code",
   "execution_count": 23,
   "metadata": {},
   "outputs": [
    {
     "data": {
      "text/latex": [
       "$\\displaystyle \\left( - r \\dot{\\theta}^{2} + \\ddot{r}, \\  r \\ddot{\\theta} + 2 \\dot{r} \\dot{\\theta}, \\  0\\right)$"
      ],
      "text/plain": [
       "⎛     2                    ⎞\n",
       "⎝- r⋅θ̇  + r̈, r⋅θ̈ + 2⋅ṙ⋅θ̇, 0⎠"
      ]
     },
     "execution_count": 23,
     "metadata": {},
     "output_type": "execute_result"
    }
   ],
   "source": [
    "me.dot(N.x, an), me.dot(N.y, an), me.dot(N.z, an)"
   ]
  },
  {
   "cell_type": "code",
   "execution_count": 24,
   "metadata": {},
   "outputs": [
    {
     "data": {
      "text/latex": [
       "$\\displaystyle \\left[ \\right]$"
      ],
      "text/plain": [
       "[]"
      ]
     },
     "execution_count": 24,
     "metadata": {},
     "output_type": "execute_result"
    }
   ],
   "source": [
    "sm.solve([me.dot(N.x, an), me.dot(N.y, an)], r)"
   ]
  },
  {
   "cell_type": "code",
   "execution_count": null,
   "metadata": {},
   "outputs": [],
   "source": []
  }
 ],
 "metadata": {
  "kernelspec": {
   "display_name": "Python 3 (ipykernel)",
   "language": "python",
   "name": "python3"
  },
  "language_info": {
   "codemirror_mode": {
    "name": "ipython",
    "version": 3
   },
   "file_extension": ".py",
   "mimetype": "text/x-python",
   "name": "python",
   "nbconvert_exporter": "python",
   "pygments_lexer": "ipython3",
   "version": "3.11.6"
  }
 },
 "nbformat": 4,
 "nbformat_minor": 4
}
