{
 "cells": [
  {
   "cell_type": "code",
   "execution_count": 1,
   "id": "6bce3fdc",
   "metadata": {
    "execution": {
     "iopub.execute_input": "2023-06-28T09:22:53.852741Z",
     "iopub.status.busy": "2023-06-28T09:22:53.852483Z",
     "iopub.status.idle": "2023-06-28T09:22:54.446694Z",
     "shell.execute_reply": "2023-06-28T09:22:54.445768Z"
    }
   },
   "outputs": [],
   "source": [
    "import sympy as sm\n",
    "import sympy.physics.mechanics as me\n",
    "sm.init_printing(use_latex='mathjax')"
   ]
  },
  {
   "cell_type": "markdown",
   "id": "5813b0f7",
   "metadata": {},
   "source": [
    "### Что такое вектор? \n",
    "\n",
    "Векторы имеют три характеристики:\n",
    "* величина\n",
    "* ориентация\n",
    "* знак\n",
    "\n",
    "![](figures/vectors-characteristics.svg)\n",
    "\n",
    "Направление, на которое указывает вектор, определяется как ориентацией, так и знаком. \n",
    "\n",
    "Векторы равны, когда все три характеристики одинаковы."
   ]
  },
  {
   "cell_type": "markdown",
   "id": "38fcc0bc",
   "metadata": {},
   "source": [
    "В этом тексте мы будем различать скалярные переменные, например $v$, от векторы, включив черту над символом, например $\\bar{v}$. \n",
    "\n",
    "Векторы будут нарисованы следующим образом:\n",
    "\n",
    "![](figures/vectors-figure-notation.svg)\n",
    "\n",
    "См. также [правило правой руки](https://en.wikipedia.org/wiki/Right-hand_rule)\n",
    "\n",
    "![](https://upload.wikimedia.org/wikipedia/commons/thumb/3/34/Right-hand_grip_rule.svg/240px-Right-hand_grip_rule.svg.png)\n"
   ]
  },
  {
   "cell_type": "markdown",
   "id": "990d9f1d",
   "metadata": {},
   "source": [
    "Векторы обладают следующими математическими свойствами: \n",
    "\n",
    "* умножение на скаляр: $\\bar{v} = \\lambda\\bar{u}$, где $\\lambda$ может менять только величину или знак вектора. \n",
    "* коммуникативность по сложению: $\\bar{u} + \\bar{v} = \\bar{v} + \\bar{u}$\n",
    "* дистрибутивность: $\\lambda(\\bar{u} + \\bar{v}) = \\lambda\\bar{u}+ \\lambda\\bar{v}$\n",
    "* ассоциативность: $(\\bar{u} + \\bar{v}) + \\bar{w} = \\bar{u} + (\\bar{v} + \\bar{w})$\n",
    "\n",
    "Единичные («юнит») вектора имеют величину «1». Обычно такие вектора обозначают «крышкой» $\\hat{v}$. Любой вектор имеет соответствующий единичный вектор $\\hat{u} = \\frac{\\bar{u}}{|\\bar{u}|}$\n",
    "\n",
    "where $|\\bar{u}|$ — [евклидова норма](https://en.wikipedia.org/wiki/Norm_(mathematics)#Euclidean_norm) (2-норма), или величина вектора $\\bar{u}$."
   ]
  },
  {
   "cell_type": "markdown",
   "id": "062c089a",
   "metadata": {},
   "source": [
    "### Векторные функции \n",
    "\n",
    "Векторы могут быть функциями скалярных переменных. \n",
    "\n",
    "Если изменение скалярной переменной $q$ изменяет величину или направление $\\bar{v}$ при наблюдении из «A», то $\\bar{v}(q)$ — векторная функция от $q$.\n",
    "\n",
    "Если $\\hat{a}_x,\\hat{a}_y,\\hat{a}_z$ базис в «A», то векторную функцию можно представить как три скалярных:\n",
    "$\\bar{v} = v_x \\hat{a}_x + v_y \\hat{a}_y + v_y \\hat{a}_y$,\n",
    "каждая из которых по сути является проекцией на соответствующий базисный вектор:\n",
    "$$\n",
    "   \\bar{v} = (\\bar{v} \\cdot \\hat{a}_x) \\hat{a}_x +\n",
    "             (\\bar{v} \\cdot \\hat{a}_y) \\hat{a}_y +\n",
    "             (\\bar{v} \\cdot \\hat{a}_z) \\hat{a}_z\n",
    "$$\n"
   ]
  },
  {
   "cell_type": "markdown",
   "id": "62771414",
   "metadata": {},
   "source": [
    "### Сложение векторов\n",
    "\n",
    "Когда прибавляем вектор $\\bar{b}$ к вектору $\\bar{a}$, в результате получаем вектор, стартующий в начале вектора $\\bar{a}$ кончающийся на кончике вектора $\\bar{b}$:\n",
    "![](figures/vectors-addition.svg)\n"
   ]
  },
  {
   "cell_type": "markdown",
   "id": "fca1c278",
   "metadata": {},
   "source": [
    "Векторы в SymPy Mechanics создаются с привязкой к системе координат и их базису. "
   ]
  },
  {
   "cell_type": "code",
   "execution_count": 2,
   "id": "530cb15a",
   "metadata": {
    "execution": {
     "iopub.execute_input": "2023-06-28T09:22:54.459192Z",
     "iopub.status.busy": "2023-06-28T09:22:54.458921Z",
     "iopub.status.idle": "2023-06-28T09:22:54.463312Z",
     "shell.execute_reply": "2023-06-28T09:22:54.462455Z"
    }
   },
   "outputs": [],
   "source": [
    "N = me.ReferenceFrame('N')"
   ]
  },
  {
   "cell_type": "code",
   "execution_count": 3,
   "id": "ba8649cb",
   "metadata": {
    "execution": {
     "iopub.execute_input": "2023-06-28T09:22:54.466355Z",
     "iopub.status.busy": "2023-06-28T09:22:54.466076Z",
     "iopub.status.idle": "2023-06-28T09:22:54.471397Z",
     "shell.execute_reply": "2023-06-28T09:22:54.470524Z"
    }
   },
   "outputs": [],
   "source": [
    "a, b, c, d, e, f = sm.symbols('a, b, c, d, e, f')"
   ]
  },
  {
   "cell_type": "code",
   "execution_count": 4,
   "id": "92e38852",
   "metadata": {},
   "outputs": [
    {
     "data": {
      "text/latex": [
       "$\\displaystyle \\left( a_{0}, \\  a_{1}, \\  a_{2}, \\  a_{3}, \\  a_{4}\\right)$"
      ],
      "text/plain": [
       "(a₀, a₁, a₂, a₃, a₄)"
      ]
     },
     "execution_count": 4,
     "metadata": {},
     "output_type": "execute_result"
    }
   ],
   "source": [
    "z = sm.symbols('a:5')\n",
    "z"
   ]
  },
  {
   "cell_type": "markdown",
   "id": "240e4857",
   "metadata": {},
   "source": [
    "Простейший трехмерный неединичный вектор состоит из одного компонента: "
   ]
  },
  {
   "cell_type": "code",
   "execution_count": 5,
   "id": "1d28d7db",
   "metadata": {
    "execution": {
     "iopub.execute_input": "2023-06-28T09:22:54.474626Z",
     "iopub.status.busy": "2023-06-28T09:22:54.474260Z",
     "iopub.status.idle": "2023-06-28T09:22:54.481849Z",
     "shell.execute_reply": "2023-06-28T09:22:54.480740Z"
    }
   },
   "outputs": [
    {
     "data": {
      "text/latex": [
       "$\\displaystyle a\\mathbf{\\hat{n}_x}$"
      ],
      "text/plain": [
       "a n_x"
      ]
     },
     "execution_count": 5,
     "metadata": {},
     "output_type": "execute_result"
    }
   ],
   "source": [
    "v = a * N.x\n",
    "v"
   ]
  },
  {
   "cell_type": "markdown",
   "id": "3fa6a49f",
   "metadata": {},
   "source": [
    "Представление в стандартной форме матрицы-столбца вектора: "
   ]
  },
  {
   "cell_type": "code",
   "execution_count": 6,
   "id": "826f4549",
   "metadata": {
    "execution": {
     "iopub.execute_input": "2023-06-28T09:22:54.485117Z",
     "iopub.status.busy": "2023-06-28T09:22:54.484675Z",
     "iopub.status.idle": "2023-06-28T09:22:54.492212Z",
     "shell.execute_reply": "2023-06-28T09:22:54.491348Z"
    }
   },
   "outputs": [
    {
     "data": {
      "text/latex": [
       "$\\displaystyle \\left[\\begin{matrix}a\\\\0\\\\0\\end{matrix}\\right]$"
      ],
      "text/plain": [
       "⎡a⎤\n",
       "⎢ ⎥\n",
       "⎢0⎥\n",
       "⎢ ⎥\n",
       "⎣0⎦"
      ]
     },
     "execution_count": 6,
     "metadata": {},
     "output_type": "execute_result"
    }
   ],
   "source": [
    "v.to_matrix(N)"
   ]
  },
  {
   "cell_type": "markdown",
   "id": "bf3d194c",
   "metadata": {},
   "source": [
    "Полностью трехмерные и произвольные векторы можно создать, указав коэффициент для каждого единичного вектора «N»:"
   ]
  },
  {
   "cell_type": "code",
   "execution_count": 7,
   "id": "f6fda378",
   "metadata": {
    "execution": {
     "iopub.execute_input": "2023-06-28T09:22:54.496483Z",
     "iopub.status.busy": "2023-06-28T09:22:54.495867Z",
     "iopub.status.idle": "2023-06-28T09:22:54.505009Z",
     "shell.execute_reply": "2023-06-28T09:22:54.504184Z"
    }
   },
   "outputs": [
    {
     "data": {
      "text/latex": [
       "$\\displaystyle a\\mathbf{\\hat{n}_x} + b\\mathbf{\\hat{n}_y} + c\\mathbf{\\hat{n}_z}$"
      ],
      "text/plain": [
       "a n_x + b n_y + c n_z"
      ]
     },
     "execution_count": 7,
     "metadata": {},
     "output_type": "execute_result"
    }
   ],
   "source": [
    "w = a*N.x + b*N.y + c*N.z\n",
    "w"
   ]
  },
  {
   "cell_type": "code",
   "execution_count": 8,
   "id": "dea56427",
   "metadata": {
    "execution": {
     "iopub.execute_input": "2023-06-28T09:22:54.508253Z",
     "iopub.status.busy": "2023-06-28T09:22:54.507953Z",
     "iopub.status.idle": "2023-06-28T09:22:54.515713Z",
     "shell.execute_reply": "2023-06-28T09:22:54.514845Z"
    }
   },
   "outputs": [
    {
     "data": {
      "text/latex": [
       "$\\displaystyle \\left[\\begin{matrix}a\\\\b\\\\c\\end{matrix}\\right]$"
      ],
      "text/plain": [
       "⎡a⎤\n",
       "⎢ ⎥\n",
       "⎢b⎥\n",
       "⎢ ⎥\n",
       "⎣c⎦"
      ]
     },
     "execution_count": 8,
     "metadata": {},
     "output_type": "execute_result"
    }
   ],
   "source": [
    "w.to_matrix(N)"
   ]
  },
  {
   "cell_type": "markdown",
   "id": "a9be0dc7",
   "metadata": {},
   "source": [
    "Сложение векторов работает путем сложения коэффициентов каждого общего компонента: \n",
    "\n",
    "\\begin{align*}\n",
    "   \\bar{w} = & a \\hat{n}_x + b \\hat{n}_y + c \\hat{n}_z \\\\\n",
    "   \\bar{x} = & d \\hat{n}_x + e \\hat{n}_y + f \\hat{n}_z \\\\\n",
    "   \\bar{w} + \\bar{x} = & (a + d) \\hat{n}_x + (b + e) \\hat{n}_y + (c + f) \\hat{n}_z\n",
    "\\end{align*}"
   ]
  },
  {
   "cell_type": "code",
   "execution_count": 9,
   "id": "d9d7b733",
   "metadata": {
    "execution": {
     "iopub.execute_input": "2023-06-28T09:22:54.519293Z",
     "iopub.status.busy": "2023-06-28T09:22:54.518831Z",
     "iopub.status.idle": "2023-06-28T09:22:54.527456Z",
     "shell.execute_reply": "2023-06-28T09:22:54.526711Z"
    }
   },
   "outputs": [
    {
     "data": {
      "text/latex": [
       "$\\displaystyle d\\mathbf{\\hat{n}_x} + e\\mathbf{\\hat{n}_y} + f\\mathbf{\\hat{n}_z}$"
      ],
      "text/plain": [
       "d n_x + e n_y + f n_z"
      ]
     },
     "execution_count": 9,
     "metadata": {},
     "output_type": "execute_result"
    }
   ],
   "source": [
    "x = d*N.x + e*N.y + f*N.z\n",
    "x"
   ]
  },
  {
   "cell_type": "code",
   "execution_count": 10,
   "id": "6ce71cca",
   "metadata": {
    "execution": {
     "iopub.execute_input": "2023-06-28T09:22:54.530689Z",
     "iopub.status.busy": "2023-06-28T09:22:54.530311Z",
     "iopub.status.idle": "2023-06-28T09:22:54.539647Z",
     "shell.execute_reply": "2023-06-28T09:22:54.538887Z"
    }
   },
   "outputs": [
    {
     "data": {
      "text/latex": [
       "$\\displaystyle (a + d)\\mathbf{\\hat{n}_x} + (b + e)\\mathbf{\\hat{n}_y} + (c + f)\\mathbf{\\hat{n}_z}$"
      ],
      "text/plain": [
       "(a + d) n_x + (b + e) n_y + (c + f) n_z"
      ]
     },
     "execution_count": 10,
     "metadata": {},
     "output_type": "execute_result"
    }
   ],
   "source": [
    "w + x"
   ]
  },
  {
   "cell_type": "markdown",
   "id": "a7cc719d",
   "metadata": {},
   "source": [
    "### Умножение\n",
    "\n",
    "Умножение вектора на скаляр изменяет его величину, но не его ориентацию. Масштабирование отрицательным числом изменяет величину вектора и меняет его знак (вращает его на π радиан). \n",
    "\n",
    "![](figures/vectors-scaling.svg)"
   ]
  },
  {
   "cell_type": "code",
   "execution_count": 11,
   "id": "e5113994",
   "metadata": {
    "execution": {
     "iopub.execute_input": "2023-06-28T09:22:54.543526Z",
     "iopub.status.busy": "2023-06-28T09:22:54.542963Z",
     "iopub.status.idle": "2023-06-28T09:22:54.551967Z",
     "shell.execute_reply": "2023-06-28T09:22:54.551096Z"
    }
   },
   "outputs": [
    {
     "data": {
      "text/latex": [
       "$\\displaystyle 2 a\\mathbf{\\hat{n}_x} + 2 b\\mathbf{\\hat{n}_y} + 2 c\\mathbf{\\hat{n}_z}$"
      ],
      "text/plain": [
       "2⋅a n_x + 2⋅b n_y + 2⋅c n_z"
      ]
     },
     "execution_count": 11,
     "metadata": {},
     "output_type": "execute_result"
    }
   ],
   "source": [
    "y = 2*w\n",
    "y"
   ]
  },
  {
   "cell_type": "code",
   "execution_count": 12,
   "id": "cd9fc3dc",
   "metadata": {
    "execution": {
     "iopub.execute_input": "2023-06-28T09:22:54.555345Z",
     "iopub.status.busy": "2023-06-28T09:22:54.554969Z",
     "iopub.status.idle": "2023-06-28T09:22:54.563225Z",
     "shell.execute_reply": "2023-06-28T09:22:54.562503Z"
    }
   },
   "outputs": [
    {
     "data": {
      "text/latex": [
       "$\\displaystyle -  a\\mathbf{\\hat{n}_x} -  b\\mathbf{\\hat{n}_y} -  c\\mathbf{\\hat{n}_z}$"
      ],
      "text/plain": [
       "-a n_x + -b n_y + -c n_z"
      ]
     },
     "execution_count": 12,
     "metadata": {},
     "output_type": "execute_result"
    }
   ],
   "source": [
    "z = -w\n",
    "z"
   ]
  },
  {
   "cell_type": "markdown",
   "id": "85861851",
   "metadata": {},
   "source": [
    "### Скалярное произведение \n",
    "\n",
    "Скалярное произведение, которое дает скалярную величину, определяется как: \n",
    "\n",
    "$\\bar{v} \\cdot \\bar{w} = |\\bar{v}| |\\bar{w}| \\cos{\\theta}$\n",
    "\n",
    "где θ — угол между двумя векторами. \n",
    "\n",
    "Для координатно заданных векторов, это превращается в \n",
    "$$\n",
    "\\begin{align*}\n",
    "   \\bar{v} = & v_x \\hat{n}_x + v_y \\hat{n}_y + v_z \\hat{n}_z \\\\\n",
    "   \\bar{w} = & w_x \\hat{n}_x + w_y \\hat{n}_y + w_z \\hat{n}_z \\\\\n",
    "   \\bar{v} \\cdot \\bar{w} = & v_x w_x + v_y w_y + v_z w_z\n",
    "\\end{align*}\n",
    "$$\n",
    "\n",
    "![](figures/vectors-dot-product.svg)\n",
    "\n",
    "Скалярное произведение имеет следующие свойства:\n",
    "* Можно «выносить» скаляры: $c \\bar{u} \\cdot d \\bar{v} = cd (\\bar{u} \\cdot \\bar{v})$\n",
    "* Порядок не имеет значения (коммутативность): $\\bar{u} \\cdot \\bar{v} = \\bar{v} \\cdot \\bar{u}$\n",
    "* Дистрибутивность: $\\bar{u} \\cdot (\\bar{v} + \\bar{w}) = \\bar{u} \\cdot \\bar{v} + \\bar{u} \\cdot \\bar{w}$\n",
    "\n",
    "Скалярное произведение часто используется для определения:\n",
    "* угол между двумя векторами: $\\theta = \\arccos\\frac{\\bar{a} \\cdot \\bar{b}}{|\\bar{a}||\\bar{b}|}$\n",
    "* величина вектора: $|\\bar{v}| = \\sqrt{\\bar{v} \\cdot \\bar{v}}$\n",
    "* длина проекции вектора на другой: $\\mathrm{proj}_{\\hat{u}} \\bar{v} = \\bar{v} \\cdot \\hat{u}$\n",
    "* два вектора перпендикулярны ←→ $\\bar{v} \\cdot \\bar{w} = 0$\n",
    "* вычисление мощности: $P = \\bar{F} \\cdot \\bar{v}$, где $\\bar{F}$ — вектор силы и $\\bar{v}$ — скорость точки, на которую действует сила.\n",
    "\n",
    "Кроме того, скалярное произведение используется для преобразования векторного уравнения в скалярное уравнение,  «расставив точки» по всему уравнению вектором.\n"
   ]
  },
  {
   "cell_type": "code",
   "execution_count": 13,
   "id": "2c0d2b11",
   "metadata": {},
   "outputs": [],
   "source": [
    "N = me.ReferenceFrame('N')\n",
    "w = a*N.x + b*N.y + c*N.z\n",
    "x = d*N.x + e*N.y + f*N.z"
   ]
  },
  {
   "cell_type": "markdown",
   "id": "a140bfc8",
   "metadata": {},
   "source": [
    "Функция или метод [`dot()`](https://docs.sympy.org/latest/modules/physics/vector/api/functions.html#sympy.physics.vector.functions.dot) вычисляет скалярное произведение:"
   ]
  },
  {
   "cell_type": "code",
   "execution_count": 14,
   "id": "70cdd22a",
   "metadata": {},
   "outputs": [
    {
     "data": {
      "text/latex": [
       "$\\displaystyle a d + b e + c f$"
      ],
      "text/plain": [
       "a⋅d + b⋅e + c⋅f"
      ]
     },
     "execution_count": 14,
     "metadata": {},
     "output_type": "execute_result"
    }
   ],
   "source": [
    "me.dot(w, x)"
   ]
  },
  {
   "cell_type": "code",
   "execution_count": 15,
   "id": "47977443",
   "metadata": {},
   "outputs": [
    {
     "data": {
      "text/latex": [
       "$\\displaystyle a d + b e + c f$"
      ],
      "text/plain": [
       "a⋅d + b⋅e + c⋅f"
      ]
     },
     "execution_count": 15,
     "metadata": {},
     "output_type": "execute_result"
    }
   ],
   "source": [
    "w.dot(x)"
   ]
  },
  {
   "cell_type": "markdown",
   "id": "000e42a6",
   "metadata": {},
   "source": [
    "Можно вычислить единичный вектор с тем же направлением"
   ]
  },
  {
   "cell_type": "code",
   "execution_count": 16,
   "id": "cefe41c0",
   "metadata": {},
   "outputs": [
    {
     "data": {
      "text/latex": [
       "$\\displaystyle \\frac{a}{\\sqrt{a^{2} + b^{2} + c^{2}}}\\mathbf{\\hat{n}_x} + \\frac{b}{\\sqrt{a^{2} + b^{2} + c^{2}}}\\mathbf{\\hat{n}_y} + \\frac{c}{\\sqrt{a^{2} + b^{2} + c^{2}}}\\mathbf{\\hat{n}_z}$"
      ],
      "text/plain": [
       "        a                       b                       c\n",
       "───────────────── n_x + ───────────────── n_y + ───────────────── n_z\n",
       "   ______________          ______________          ______________\n",
       "  ╱  2    2    2          ╱  2    2    2          ╱  2    2    2\n",
       "╲╱  a  + b  + c         ╲╱  a  + b  + c         ╲╱  a  + b  + c"
      ]
     },
     "execution_count": 16,
     "metadata": {},
     "output_type": "execute_result"
    }
   ],
   "source": [
    "w.normalize()"
   ]
  },
  {
   "cell_type": "code",
   "execution_count": 17,
   "id": "115ecfac",
   "metadata": {},
   "outputs": [
    {
     "data": {
      "text/latex": [
       "$\\displaystyle \\frac{a}{\\sqrt{a^{2} + b^{2} + c^{2}}}\\mathbf{\\hat{n}_x} + \\frac{b}{\\sqrt{a^{2} + b^{2} + c^{2}}}\\mathbf{\\hat{n}_y} + \\frac{c}{\\sqrt{a^{2} + b^{2} + c^{2}}}\\mathbf{\\hat{n}_z}$"
      ],
      "text/plain": [
       "        a                       b                       c\n",
       "───────────────── n_x + ───────────────── n_y + ───────────────── n_z\n",
       "   ______________          ______________          ______________\n",
       "  ╱  2    2    2          ╱  2    2    2          ╱  2    2    2\n",
       "╲╱  a  + b  + c         ╲╱  a  + b  + c         ╲╱  a  + b  + c"
      ]
     },
     "execution_count": 17,
     "metadata": {},
     "output_type": "execute_result"
    }
   ],
   "source": [
    "def normalize(vector):\n",
    "    return vector/sm.sqrt(me.dot(vector, vector))\n",
    "\n",
    "normalize(w)"
   ]
  },
  {
   "cell_type": "code",
   "execution_count": 18,
   "id": "6a5580e2",
   "metadata": {},
   "outputs": [
    {
     "data": {
      "text/latex": [
       "$\\displaystyle \\sqrt{a^{2} + b^{2} + c^{2}}$"
      ],
      "text/plain": [
       "   ______________\n",
       "  ╱  2    2    2 \n",
       "╲╱  a  + b  + c  "
      ]
     },
     "execution_count": 18,
     "metadata": {},
     "output_type": "execute_result"
    }
   ],
   "source": [
    "w.magnitude()"
   ]
  },
  {
   "cell_type": "code",
   "execution_count": 19,
   "id": "bbd5d3cb",
   "metadata": {},
   "outputs": [
    {
     "data": {
      "text/latex": [
       "$\\displaystyle \\frac{a}{\\sqrt{a^{2} + b^{2} + c^{2}}}\\mathbf{\\hat{n}_x} + \\frac{b}{\\sqrt{a^{2} + b^{2} + c^{2}}}\\mathbf{\\hat{n}_y} + \\frac{c}{\\sqrt{a^{2} + b^{2} + c^{2}}}\\mathbf{\\hat{n}_z}$"
      ],
      "text/plain": [
       "        a                       b                       c\n",
       "───────────────── n_x + ───────────────── n_y + ───────────────── n_z\n",
       "   ______________          ______________          ______________\n",
       "  ╱  2    2    2          ╱  2    2    2          ╱  2    2    2\n",
       "╲╱  a  + b  + c         ╲╱  a  + b  + c         ╲╱  a  + b  + c"
      ]
     },
     "execution_count": 19,
     "metadata": {},
     "output_type": "execute_result"
    }
   ],
   "source": [
    "w/w.magnitude()"
   ]
  },
  {
   "cell_type": "markdown",
   "id": "a377a1bc",
   "metadata": {},
   "source": [
    "### Векторное произведение\n",
    "\n",
    "[Векторное произведение](https://en.wikipedia.org/wiki/Cross_product), которое дает векторную величину, определяется как:\n",
    "\n",
    "$\\bar{v} \\times \\bar{w} = |\\bar{v}||\\bar{w}| \\sin\\theta \\hat{u}$\n",
    "\n",
    "где $\\theta$ — угол между векторами, а $\\hat{u}$ — единичный вектор, перпендикулярный обоим, $\\bar{v}$, $\\bar{w}$, а знак определяется правилом правой руки.\n",
    "\n",
    "Для произвольных коэффициентов:\n",
    "\n",
    "\\begin{align*}\n",
    "   \\bar{v} = & v_x \\hat{n}_x + v_y \\hat{n}_y + v_z \\hat{n}_z \\\\\n",
    "   \\bar{w} = & w_x \\hat{n}_x + w_y \\hat{n}_y + w_z \\hat{n}_z \\\\\n",
    "   \\bar{v} \\times \\bar{w} = &\n",
    "   (v_y w_z - v_z w_y) \\hat{n}_x +\n",
    "   (v_z w_x - v_x w_z) \\hat{n}_y +\n",
    "   (v_x w_y - v_y w_x) \\hat{n}_z\n",
    "\\end{align*}\n",
    "\n",
    "![](figures/vectors-cross-product.svg)"
   ]
  },
  {
   "cell_type": "markdown",
   "id": "3aa59774",
   "metadata": {},
   "source": [
    "Некоторые свойства векторных произведений:\n",
    "* Пересечение вектора с самим собой «отменяет» его: $\\bar{a} \\times \\bar{a} = \\bar{0}$\n",
    "* Можно выносить скаляры: $c \\bar{a} \\times d \\bar{b} = cd (\\bar{a} \\times \\bar{b})$\n",
    "* Порядок **ИМЕЕТ** значение (из-за правила правой руки): $\\bar{a} \\times \\bar{b} = -\\bar{b} \\times \\bar{a}$\n",
    "* Дистрибутивность: $\\bar{a} \\times (\\bar{b} + \\bar{c}) = \\bar{a} \\times \\bar{b} + \\bar{a} \\times \\bar{c}$\n",
    "* Ассоциативности **нет**: $\\bar{a} \\times (\\bar{b} \\times \\bar{c}) \\neq (\\bar{a} \\times \\bar{b}) \\times \\bar{c}$\n",
    "\n",
    "\n",
    "Векторное произведение используется для:\n",
    "* получить вектор/направление, перпендикулярное двум другим векторам\n",
    "* определить, параллельны ли два вектора: $\\bar{v} \\times \\bar{w} = \\bar{0}$ ← $\\bar{v} \\parallel \\bar{w}$\n",
    "* вычислить моменты: $\\bar{r} \\times \\bar{F}$\n",
    "* вычислить площадь треугольника\n",
    "\n",
    "SymPy Mechanics может вычислять векторные произведения с помощью [`cross()`](https://docs.sympy.org/latest/modules/physics/vector/api/functions.html#sympy.physics.vector.functions.cross):"
   ]
  },
  {
   "cell_type": "code",
   "execution_count": 20,
   "id": "dc2d1a4c",
   "metadata": {
    "execution": {
     "iopub.execute_input": "2023-06-28T09:22:54.765401Z",
     "iopub.status.busy": "2023-06-28T09:22:54.765114Z",
     "iopub.status.idle": "2023-06-28T09:22:54.772843Z",
     "shell.execute_reply": "2023-06-28T09:22:54.771837Z"
    }
   },
   "outputs": [
    {
     "data": {
      "text/latex": [
       "$\\displaystyle a\\mathbf{\\hat{n}_x} + b\\mathbf{\\hat{n}_y} + c\\mathbf{\\hat{n}_z}$"
      ],
      "text/plain": [
       "a n_x + b n_y + c n_z"
      ]
     },
     "execution_count": 20,
     "metadata": {},
     "output_type": "execute_result"
    }
   ],
   "source": [
    "N = me.ReferenceFrame('N')\n",
    "w = a*N.x + b*N.y + c*N.z\n",
    "w"
   ]
  },
  {
   "cell_type": "code",
   "execution_count": 21,
   "id": "248c9d84",
   "metadata": {
    "execution": {
     "iopub.execute_input": "2023-06-28T09:22:54.776680Z",
     "iopub.status.busy": "2023-06-28T09:22:54.776391Z",
     "iopub.status.idle": "2023-06-28T09:22:54.782905Z",
     "shell.execute_reply": "2023-06-28T09:22:54.781985Z"
    }
   },
   "outputs": [
    {
     "data": {
      "text/latex": [
       "$\\displaystyle d\\mathbf{\\hat{n}_x} + e\\mathbf{\\hat{n}_y} + f\\mathbf{\\hat{n}_z}$"
      ],
      "text/plain": [
       "d n_x + e n_y + f n_z"
      ]
     },
     "execution_count": 21,
     "metadata": {},
     "output_type": "execute_result"
    }
   ],
   "source": [
    "x = d*N.x + e*N.y + f*N.z\n",
    "x"
   ]
  },
  {
   "cell_type": "code",
   "execution_count": 22,
   "id": "7547fada",
   "metadata": {
    "execution": {
     "iopub.execute_input": "2023-06-28T09:22:54.786629Z",
     "iopub.status.busy": "2023-06-28T09:22:54.786359Z",
     "iopub.status.idle": "2023-06-28T09:22:54.802440Z",
     "shell.execute_reply": "2023-06-28T09:22:54.801721Z"
    }
   },
   "outputs": [
    {
     "data": {
      "text/latex": [
       "$\\displaystyle (b f - c e)\\mathbf{\\hat{n}_x} + (- a f + c d)\\mathbf{\\hat{n}_y} + (a e - b d)\\mathbf{\\hat{n}_z}$"
      ],
      "text/plain": [
       "(b⋅f - c⋅e) n_x + (-a⋅f + c⋅d) n_y + (a⋅e - b⋅d) n_z"
      ]
     },
     "execution_count": 22,
     "metadata": {},
     "output_type": "execute_result"
    }
   ],
   "source": [
    "me.cross(w, x)"
   ]
  },
  {
   "cell_type": "code",
   "execution_count": 23,
   "id": "315a9552",
   "metadata": {
    "execution": {
     "iopub.execute_input": "2023-06-28T09:22:54.806164Z",
     "iopub.status.busy": "2023-06-28T09:22:54.805689Z",
     "iopub.status.idle": "2023-06-28T09:22:54.819258Z",
     "shell.execute_reply": "2023-06-28T09:22:54.818458Z"
    }
   },
   "outputs": [
    {
     "data": {
      "text/latex": [
       "$\\displaystyle (b f - c e)\\mathbf{\\hat{n}_x} + (- a f + c d)\\mathbf{\\hat{n}_y} + (a e - b d)\\mathbf{\\hat{n}_z}$"
      ],
      "text/plain": [
       "(b⋅f - c⋅e) n_x + (-a⋅f + c⋅d) n_y + (a⋅e - b⋅d) n_z"
      ]
     },
     "execution_count": 23,
     "metadata": {},
     "output_type": "execute_result"
    }
   ],
   "source": [
    "w.cross(x)"
   ]
  },
  {
   "cell_type": "markdown",
   "id": "470fc9d5",
   "metadata": {},
   "source": [
    "### Векторы, выраженные в нескольких системах отсчета \n",
    "\n",
    "Координатная запись векторов становятся особенно полезна при работе в нескольких системах отсчета. "
   ]
  },
  {
   "cell_type": "code",
   "execution_count": 24,
   "id": "9772e39f",
   "metadata": {
    "execution": {
     "iopub.execute_input": "2023-06-28T09:22:54.838387Z",
     "iopub.status.busy": "2023-06-28T09:22:54.837933Z",
     "iopub.status.idle": "2023-06-28T09:22:54.846521Z",
     "shell.execute_reply": "2023-06-28T09:22:54.845641Z"
    }
   },
   "outputs": [
    {
     "data": {
      "text/latex": [
       "$\\displaystyle a\\mathbf{\\hat{a}_x} + b\\mathbf{\\hat{n}_y}$"
      ],
      "text/plain": [
       "a a_x + b n_y"
      ]
     },
     "execution_count": 24,
     "metadata": {},
     "output_type": "execute_result"
    }
   ],
   "source": [
    "N = me.ReferenceFrame('N')\n",
    "A = me.ReferenceFrame('A')\n",
    "\n",
    "a, b, theta = sm.symbols('a, b, theta')\n",
    "\n",
    "v = a*A.x + b*N.y\n",
    "v"
   ]
  },
  {
   "cell_type": "markdown",
   "id": "23cbfc05",
   "metadata": {},
   "source": [
    "Все ранее описанные операции работают как положено:\n",
    "\n"
   ]
  },
  {
   "cell_type": "code",
   "execution_count": 25,
   "id": "d14f6c4f",
   "metadata": {
    "execution": {
     "iopub.execute_input": "2023-06-28T09:22:54.849479Z",
     "iopub.status.busy": "2023-06-28T09:22:54.849235Z",
     "iopub.status.idle": "2023-06-28T09:22:54.857275Z",
     "shell.execute_reply": "2023-06-28T09:22:54.856569Z"
    }
   },
   "outputs": [
    {
     "data": {
      "text/latex": [
       "$\\displaystyle 2 a\\mathbf{\\hat{a}_x} + 2 b\\mathbf{\\hat{n}_y}$"
      ],
      "text/plain": [
       "2⋅a a_x + 2⋅b n_y"
      ]
     },
     "execution_count": 25,
     "metadata": {},
     "output_type": "execute_result"
    }
   ],
   "source": [
    "v + v"
   ]
  },
  {
   "cell_type": "markdown",
   "id": "d5211c28",
   "metadata": {},
   "source": [
    "Если ​​между двумя системами отсчета установлена ориентация,все преобразования с матрицами вращения выполняются за вас и могут быть использованы для естественным образом выразить вектор в любой системе отсчета, используя [`express()`](https://docs.sympy.org/latest/modules/physics/vector/api/classes.html#sympy.physics.vector.vector.Vector.express\")."
   ]
  },
  {
   "cell_type": "code",
   "execution_count": 26,
   "id": "fb0b1aa6",
   "metadata": {
    "execution": {
     "iopub.execute_input": "2023-06-28T09:22:54.860375Z",
     "iopub.status.busy": "2023-06-28T09:22:54.859908Z",
     "iopub.status.idle": "2023-06-28T09:22:54.873780Z",
     "shell.execute_reply": "2023-06-28T09:22:54.872918Z"
    }
   },
   "outputs": [
    {
     "data": {
      "text/latex": [
       "$\\displaystyle a \\cos{\\left(\\theta \\right)}\\mathbf{\\hat{n}_x} + (a \\sin{\\left(\\theta \\right)} + b)\\mathbf{\\hat{n}_y}$"
      ],
      "text/plain": [
       "a⋅cos(θ) n_x + (a⋅sin(θ) + b) n_y"
      ]
     },
     "execution_count": 26,
     "metadata": {},
     "output_type": "execute_result"
    }
   ],
   "source": [
    "A.orient_axis(N, theta, N.z)\n",
    "\n",
    "v.express(N)"
   ]
  },
  {
   "cell_type": "code",
   "execution_count": 27,
   "id": "f820ffcc",
   "metadata": {
    "execution": {
     "iopub.execute_input": "2023-06-28T09:22:54.876924Z",
     "iopub.status.busy": "2023-06-28T09:22:54.876685Z",
     "iopub.status.idle": "2023-06-28T09:22:54.884119Z",
     "shell.execute_reply": "2023-06-28T09:22:54.883303Z"
    }
   },
   "outputs": [
    {
     "data": {
      "text/latex": [
       "$\\displaystyle (a + b \\sin{\\left(\\theta \\right)})\\mathbf{\\hat{a}_x} + b \\cos{\\left(\\theta \\right)}\\mathbf{\\hat{a}_y}$"
      ],
      "text/plain": [
       "(a + b⋅sin(θ)) a_x + b⋅cos(θ) a_y"
      ]
     },
     "execution_count": 27,
     "metadata": {},
     "output_type": "execute_result"
    }
   ],
   "source": [
    "v.express(A)"
   ]
  },
  {
   "cell_type": "markdown",
   "id": "cfd28ccf",
   "metadata": {},
   "source": [
    "### Относительное положение точек\n",
    "\n",
    "Возьмем, к примеру, [лампу со сбалансированным кронштейном](https://en.wikipedia.org/wiki/Balanced-arm_lamp), которая имеет несколько шарниров, шарниры настроены таким образом, чтобы сбалансировать вес лампы в любом положении.\n",
    "\n",
    "Вот классические примеры разного размера:\n",
    "\n",
    "![](https://upload.wikimedia.org/wikipedia/commons/thumb/c/cc/Anglepoise_1227.jpg/353px-Anglepoise_1227.jpg)\n",
    "\n",
    "![](https://upload.wikimedia.org/wikipedia/commons/thumb/0/07/GraphyArchy_-_Wikipedia_00323.jpg/320px-GraphyArchy_-_Wikipedia_00323.jpg)\n",
    "\n",
    "которых мы представим такой моделью:\n",
    "\n",
    "![](figures/vectors-desk-lamp.svg)\n",
    "\n",
    "* База «N» — зафиксирована на столе. \n",
    "* Первый рычаг «A» ориентирован относительно «N» $z\\textrm{-}x$, с углами $q_1$ и $q_2$. \n",
    "    * Точка $P_1$ на центре «N». \n",
    "    * Точка $P_2$ идет от точки $P_1$ в направлении $\\hat{a}_z$ на расстояние $l_1$\n",
    "* Второй рычаг «B» ориентирован относительно «A»\n",
    "    * $\\hat{a}_x=\\hat{b}_x$ на угол $q_3$\n",
    "    * Точка $P_3$ на расстоянии $l_2$ от точки $P_2$ вдоль $\\hat{b}_z$. \n",
    "* Наконец, плафон лампы «C» относительно «B» в направлении $x\\textrm{-}z$ через углы $q_4$ и $q_5$. \n",
    "    * Центр плафона $P_4$ относительно $P_3$ в направлении $\\hat{c}_z$ на расстоянии $l_3$, и в направлении $-\\hat{c}_y$ на $l_4$.\n"
   ]
  },
  {
   "cell_type": "code",
   "execution_count": 28,
   "id": "546cb45f",
   "metadata": {
    "execution": {
     "iopub.execute_input": "2023-06-28T09:22:54.887292Z",
     "iopub.status.busy": "2023-06-28T09:22:54.887005Z",
     "iopub.status.idle": "2023-06-28T09:22:54.894582Z",
     "shell.execute_reply": "2023-06-28T09:22:54.893741Z"
    }
   },
   "outputs": [],
   "source": [
    "q1, q2, q3, q4, q5 = sm.symbols('q1, q2, q3, q4, q5')\n",
    "l1, l2, l3, l4 = sm.symbols('l1, l2, l3, l4')\n",
    "N = me.ReferenceFrame('N')\n",
    "A = me.ReferenceFrame('A')\n",
    "B = me.ReferenceFrame('B')\n",
    "C = me.ReferenceFrame('C')"
   ]
  },
  {
   "cell_type": "code",
   "execution_count": 29,
   "id": "1bbccc22",
   "metadata": {
    "execution": {
     "iopub.execute_input": "2023-06-28T09:22:54.897697Z",
     "iopub.status.busy": "2023-06-28T09:22:54.897435Z",
     "iopub.status.idle": "2023-06-28T09:22:54.929759Z",
     "shell.execute_reply": "2023-06-28T09:22:54.928995Z"
    }
   },
   "outputs": [],
   "source": [
    "A.orient_body_fixed(N, (q1, q2, 0), 'ZXZ')"
   ]
  },
  {
   "cell_type": "code",
   "execution_count": 30,
   "id": "23b7990d",
   "metadata": {
    "execution": {
     "iopub.execute_input": "2023-06-28T09:22:54.933266Z",
     "iopub.status.busy": "2023-06-28T09:22:54.932802Z",
     "iopub.status.idle": "2023-06-28T09:22:54.941836Z",
     "shell.execute_reply": "2023-06-28T09:22:54.940981Z"
    }
   },
   "outputs": [],
   "source": [
    "B.orient_axis(A, q3, A.x)"
   ]
  },
  {
   "cell_type": "code",
   "execution_count": 31,
   "id": "6551a916",
   "metadata": {
    "execution": {
     "iopub.execute_input": "2023-06-28T09:22:54.945173Z",
     "iopub.status.busy": "2023-06-28T09:22:54.944678Z",
     "iopub.status.idle": "2023-06-28T09:22:54.973190Z",
     "shell.execute_reply": "2023-06-28T09:22:54.972411Z"
    }
   },
   "outputs": [],
   "source": [
    "C.orient_body_fixed(B, (q4, q5, 0), 'XZX')"
   ]
  },
  {
   "cell_type": "markdown",
   "id": "f0f77053",
   "metadata": {},
   "source": [
    "Теперь мы можем создавать векторы положения между парами точек используя удобную для этого систему координат, т. е. систему отсчета, в которой обе точки лежат на линии, параллельной существующему единичному вектору. \n",
    "\n",
    "Промежуточные векторы, которые соединять $P_1→P_2$, $P_2 →P_3$, и $P_3 → P_4$ являются: "
   ]
  },
  {
   "cell_type": "code",
   "execution_count": 32,
   "id": "a96f2bd3",
   "metadata": {
    "execution": {
     "iopub.execute_input": "2023-06-28T09:22:54.976775Z",
     "iopub.status.busy": "2023-06-28T09:22:54.976310Z",
     "iopub.status.idle": "2023-06-28T09:22:54.981787Z",
     "shell.execute_reply": "2023-06-28T09:22:54.980983Z"
    }
   },
   "outputs": [],
   "source": [
    "R_P1_P2 = l1*A.z\n",
    "R_P2_P3 = l2*B.z\n",
    "R_P3_P4 = l3*C.z - l4*C.y"
   ]
  },
  {
   "cell_type": "markdown",
   "id": "343eefa7",
   "metadata": {},
   "source": [
    "Вектор положения из $P_1$ к $P_4$ находится через сложение векторов: "
   ]
  },
  {
   "cell_type": "code",
   "execution_count": 33,
   "id": "8c454a23",
   "metadata": {
    "execution": {
     "iopub.execute_input": "2023-06-28T09:22:54.984857Z",
     "iopub.status.busy": "2023-06-28T09:22:54.984573Z",
     "iopub.status.idle": "2023-06-28T09:22:54.993441Z",
     "shell.execute_reply": "2023-06-28T09:22:54.992647Z"
    }
   },
   "outputs": [
    {
     "data": {
      "text/latex": [
       "$\\displaystyle l_{1}\\mathbf{\\hat{a}_z} + l_{2}\\mathbf{\\hat{b}_z} -  l_{4}\\mathbf{\\hat{c}_y} + l_{3}\\mathbf{\\hat{c}_z}$"
      ],
      "text/plain": [
       "l₁ a_z + l₂ b_z + -l₄ c_y + l₃ c_z"
      ]
     },
     "execution_count": 33,
     "metadata": {},
     "output_type": "execute_result"
    }
   ],
   "source": [
    "R_P1_P4 = R_P1_P2 + R_P2_P3 + R_P3_P4\n",
    "R_P1_P4"
   ]
  },
  {
   "cell_type": "code",
   "execution_count": 34,
   "id": "c30b2ede",
   "metadata": {
    "execution": {
     "iopub.execute_input": "2023-06-28T09:22:55.001600Z",
     "iopub.status.busy": "2023-06-28T09:22:55.001324Z",
     "iopub.status.idle": "2023-06-28T09:22:55.131055Z",
     "shell.execute_reply": "2023-06-28T09:22:55.130175Z"
    }
   },
   "outputs": [
    {
     "data": {
      "text/latex": [
       "$\\displaystyle (l_{1} \\sin{\\left(q_{1} \\right)} \\sin{\\left(q_{2} \\right)} + l_{2} \\left(\\sin{\\left(q_{1} \\right)} \\sin{\\left(q_{2} \\right)} \\cos{\\left(q_{3} \\right)} + \\sin{\\left(q_{1} \\right)} \\sin{\\left(q_{3} \\right)} \\cos{\\left(q_{2} \\right)}\\right) + l_{3} \\left(- \\left(\\sin{\\left(q_{1} \\right)} \\sin{\\left(q_{2} \\right)} \\sin{\\left(q_{3} \\right)} - \\sin{\\left(q_{1} \\right)} \\cos{\\left(q_{2} \\right)} \\cos{\\left(q_{3} \\right)}\\right) \\sin{\\left(q_{4} \\right)} + \\left(\\sin{\\left(q_{1} \\right)} \\sin{\\left(q_{2} \\right)} \\cos{\\left(q_{3} \\right)} + \\sin{\\left(q_{1} \\right)} \\sin{\\left(q_{3} \\right)} \\cos{\\left(q_{2} \\right)}\\right) \\cos{\\left(q_{4} \\right)}\\right) - l_{4} \\left(\\left(\\sin{\\left(q_{1} \\right)} \\sin{\\left(q_{2} \\right)} \\sin{\\left(q_{3} \\right)} - \\sin{\\left(q_{1} \\right)} \\cos{\\left(q_{2} \\right)} \\cos{\\left(q_{3} \\right)}\\right) \\cos{\\left(q_{4} \\right)} \\cos{\\left(q_{5} \\right)} + \\left(\\sin{\\left(q_{1} \\right)} \\sin{\\left(q_{2} \\right)} \\cos{\\left(q_{3} \\right)} + \\sin{\\left(q_{1} \\right)} \\sin{\\left(q_{3} \\right)} \\cos{\\left(q_{2} \\right)}\\right) \\sin{\\left(q_{4} \\right)} \\cos{\\left(q_{5} \\right)} - \\sin{\\left(q_{5} \\right)} \\cos{\\left(q_{1} \\right)}\\right))\\mathbf{\\hat{n}_x} + (- l_{1} \\sin{\\left(q_{2} \\right)} \\cos{\\left(q_{1} \\right)} + l_{2} \\left(- \\sin{\\left(q_{2} \\right)} \\cos{\\left(q_{1} \\right)} \\cos{\\left(q_{3} \\right)} - \\sin{\\left(q_{3} \\right)} \\cos{\\left(q_{1} \\right)} \\cos{\\left(q_{2} \\right)}\\right) + l_{3} \\left(- \\left(- \\sin{\\left(q_{2} \\right)} \\sin{\\left(q_{3} \\right)} \\cos{\\left(q_{1} \\right)} + \\cos{\\left(q_{1} \\right)} \\cos{\\left(q_{2} \\right)} \\cos{\\left(q_{3} \\right)}\\right) \\sin{\\left(q_{4} \\right)} + \\left(- \\sin{\\left(q_{2} \\right)} \\cos{\\left(q_{1} \\right)} \\cos{\\left(q_{3} \\right)} - \\sin{\\left(q_{3} \\right)} \\cos{\\left(q_{1} \\right)} \\cos{\\left(q_{2} \\right)}\\right) \\cos{\\left(q_{4} \\right)}\\right) - l_{4} \\left(\\left(- \\sin{\\left(q_{2} \\right)} \\sin{\\left(q_{3} \\right)} \\cos{\\left(q_{1} \\right)} + \\cos{\\left(q_{1} \\right)} \\cos{\\left(q_{2} \\right)} \\cos{\\left(q_{3} \\right)}\\right) \\cos{\\left(q_{4} \\right)} \\cos{\\left(q_{5} \\right)} + \\left(- \\sin{\\left(q_{2} \\right)} \\cos{\\left(q_{1} \\right)} \\cos{\\left(q_{3} \\right)} - \\sin{\\left(q_{3} \\right)} \\cos{\\left(q_{1} \\right)} \\cos{\\left(q_{2} \\right)}\\right) \\sin{\\left(q_{4} \\right)} \\cos{\\left(q_{5} \\right)} - \\sin{\\left(q_{1} \\right)} \\sin{\\left(q_{5} \\right)}\\right))\\mathbf{\\hat{n}_y} + (l_{1} \\cos{\\left(q_{2} \\right)} + l_{2} \\left(- \\sin{\\left(q_{2} \\right)} \\sin{\\left(q_{3} \\right)} + \\cos{\\left(q_{2} \\right)} \\cos{\\left(q_{3} \\right)}\\right) + l_{3} \\left(\\left(- \\sin{\\left(q_{2} \\right)} \\sin{\\left(q_{3} \\right)} + \\cos{\\left(q_{2} \\right)} \\cos{\\left(q_{3} \\right)}\\right) \\cos{\\left(q_{4} \\right)} - \\left(\\sin{\\left(q_{2} \\right)} \\cos{\\left(q_{3} \\right)} + \\sin{\\left(q_{3} \\right)} \\cos{\\left(q_{2} \\right)}\\right) \\sin{\\left(q_{4} \\right)}\\right) - l_{4} \\left(\\left(- \\sin{\\left(q_{2} \\right)} \\sin{\\left(q_{3} \\right)} + \\cos{\\left(q_{2} \\right)} \\cos{\\left(q_{3} \\right)}\\right) \\sin{\\left(q_{4} \\right)} \\cos{\\left(q_{5} \\right)} + \\left(\\sin{\\left(q_{2} \\right)} \\cos{\\left(q_{3} \\right)} + \\sin{\\left(q_{3} \\right)} \\cos{\\left(q_{2} \\right)}\\right) \\cos{\\left(q_{4} \\right)} \\cos{\\left(q_{5} \\right)}\\right))\\mathbf{\\hat{n}_z}$"
      ],
      "text/plain": [
       "(l₁⋅sin(q₁)⋅sin(q₂) + l₂⋅(sin(q₁)⋅sin(q₂)⋅cos(q₃) + sin(q₁)⋅sin(q₃)⋅cos(q₂)) +\n",
       " l₃⋅(-(sin(q₁)⋅sin(q₂)⋅sin(q₃) - sin(q₁)⋅cos(q₂)⋅cos(q₃))⋅sin(q₄) + (sin(q₁)⋅s\n",
       "in(q₂)⋅cos(q₃) + sin(q₁)⋅sin(q₃)⋅cos(q₂))⋅cos(q₄)) - l₄⋅((sin(q₁)⋅sin(q₂)⋅sin(\n",
       "q₃) - sin(q₁)⋅cos(q₂)⋅cos(q₃))⋅cos(q₄)⋅cos(q₅) + (sin(q₁)⋅sin(q₂)⋅cos(q₃) + si\n",
       "n(q₁)⋅sin(q₃)⋅cos(q₂))⋅sin(q₄)⋅cos(q₅) - sin(q₅)⋅cos(q₁))) n_x + (-l₁⋅sin(q₂)⋅\n",
       "cos(q₁) + l₂⋅(-sin(q₂)⋅cos(q₁)⋅cos(q₃) - sin(q₃)⋅cos(q₁)⋅cos(q₂)) + l₃⋅(-(-sin\n",
       "(q₂)⋅sin(q₃)⋅cos(q₁) + cos(q₁)⋅cos(q₂)⋅cos(q₃))⋅sin(q₄) + (-sin(q₂)⋅cos(q₁)⋅co\n",
       "s(q₃) - sin(q₃)⋅cos(q₁)⋅cos(q₂))⋅cos(q₄)) - l₄⋅((-sin(q₂)⋅sin(q₃)⋅cos(q₁) + co\n",
       "s(q₁)⋅cos(q₂)⋅cos(q₃))⋅cos(q₄)⋅cos(q₅) + (-sin(q₂)⋅cos(q₁)⋅cos(q₃) - sin(q₃)⋅c\n",
       "os(q₁)⋅cos(q₂))⋅sin(q₄)⋅cos(q₅) - sin(q₁)⋅sin(q₅))) n_y + (l₁⋅cos(q₂) + l₂⋅(-s\n",
       "in(q₂)⋅sin(q₃) + cos(q₂)⋅cos(q₃)) + l₃⋅((-sin(q₂)⋅sin(q₃) + cos(q₂)⋅cos(q₃))⋅c\n",
       "os(q₄) - (sin(q₂)⋅cos(q₃) + sin(q₃)⋅cos(q₂))⋅sin(q₄)) - l₄⋅((-sin(q₂)⋅sin(q₃)\n",
       "+ cos(q₂)⋅cos(q₃))⋅sin(q₄)⋅cos(q₅) + (sin(q₂)⋅cos(q₃) + sin(q₃)⋅cos(q₂))⋅cos(q\n",
       "₄)⋅cos(q₅))) n_z"
      ]
     },
     "execution_count": 34,
     "metadata": {},
     "output_type": "execute_result"
    }
   ],
   "source": [
    "R_P1_P4.express(N)"
   ]
  },
  {
   "cell_type": "code",
   "execution_count": 35,
   "id": "162d8e77",
   "metadata": {
    "execution": {
     "iopub.execute_input": "2023-06-28T09:22:55.134610Z",
     "iopub.status.busy": "2023-06-28T09:22:55.134361Z",
     "iopub.status.idle": "2023-06-28T09:22:55.141848Z",
     "shell.execute_reply": "2023-06-28T09:22:55.141029Z"
    }
   },
   "outputs": [
    {
     "data": {
      "text/latex": [
       "$\\displaystyle l_{1} \\sin{\\left(q_{1} \\right)} \\sin{\\left(q_{2} \\right)}\\mathbf{\\hat{n}_x} -  l_{1} \\sin{\\left(q_{2} \\right)} \\cos{\\left(q_{1} \\right)}\\mathbf{\\hat{n}_y} + l_{1} \\cos{\\left(q_{2} \\right)}\\mathbf{\\hat{n}_z}$"
      ],
      "text/plain": [
       "l₁⋅sin(q₁)⋅sin(q₂) n_x + -l₁⋅sin(q₂)⋅cos(q₁) n_y + l₁⋅cos(q₂) n_z"
      ]
     },
     "execution_count": 35,
     "metadata": {},
     "output_type": "execute_result"
    }
   ],
   "source": [
    "R_P1_P2.express(N)"
   ]
  },
  {
   "cell_type": "code",
   "execution_count": 36,
   "id": "18d89a41",
   "metadata": {
    "execution": {
     "iopub.execute_input": "2023-06-28T09:22:55.145790Z",
     "iopub.status.busy": "2023-06-28T09:22:55.145512Z",
     "iopub.status.idle": "2023-06-28T09:22:55.153239Z",
     "shell.execute_reply": "2023-06-28T09:22:55.151325Z"
    }
   },
   "outputs": [
    {
     "data": {
      "text/latex": [
       "$\\displaystyle \\left\\{l_{1}, q_{1}, q_{2}\\right\\}$"
      ],
      "text/plain": [
       "{l₁, q₁, q₂}"
      ]
     },
     "execution_count": 36,
     "metadata": {},
     "output_type": "execute_result"
    }
   ],
   "source": [
    "R_P1_P2.free_symbols(N)"
   ]
  },
  {
   "cell_type": "code",
   "execution_count": 37,
   "id": "13da5bb4",
   "metadata": {
    "execution": {
     "iopub.execute_input": "2023-06-28T09:22:55.156375Z",
     "iopub.status.busy": "2023-06-28T09:22:55.156097Z",
     "iopub.status.idle": "2023-06-28T09:22:55.162110Z",
     "shell.execute_reply": "2023-06-28T09:22:55.161348Z"
    }
   },
   "outputs": [
    {
     "data": {
      "text/latex": [
       "$\\displaystyle \\left\\{l_{1}\\right\\}$"
      ],
      "text/plain": [
       "{l₁}"
      ]
     },
     "execution_count": 37,
     "metadata": {},
     "output_type": "execute_result"
    }
   ],
   "source": [
    "R_P1_P2.free_symbols(A)"
   ]
  },
  {
   "cell_type": "code",
   "execution_count": 38,
   "id": "33ad892b",
   "metadata": {
    "execution": {
     "iopub.execute_input": "2023-06-28T09:22:55.166270Z",
     "iopub.status.busy": "2023-06-28T09:22:55.166017Z",
     "iopub.status.idle": "2023-06-28T09:22:55.174593Z",
     "shell.execute_reply": "2023-06-28T09:22:55.173759Z"
    }
   },
   "outputs": [
    {
     "data": {
      "text/latex": [
       "$\\displaystyle \\left\\{l_{1}, l_{2}, l_{3}, l_{4}, q_{1}, q_{2}, q_{3}, q_{4}, q_{5}\\right\\}$"
      ],
      "text/plain": [
       "{l₁, l₂, l₃, l₄, q₁, q₂, q₃, q₄, q₅}"
      ]
     },
     "execution_count": 38,
     "metadata": {},
     "output_type": "execute_result"
    }
   ],
   "source": [
    "R_P1_P4.free_symbols(N)"
   ]
  }
 ],
 "metadata": {
  "kernelspec": {
   "display_name": "Python 3 (ipykernel)",
   "language": "python",
   "name": "python3"
  },
  "language_info": {
   "codemirror_mode": {
    "name": "ipython",
    "version": 3
   },
   "file_extension": ".py",
   "mimetype": "text/x-python",
   "name": "python",
   "nbconvert_exporter": "python",
   "pygments_lexer": "ipython3",
   "version": "3.11.6"
  }
 },
 "nbformat": 4,
 "nbformat_minor": 5
}
