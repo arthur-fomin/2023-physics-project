{
 "cells": [
  {
   "cell_type": "code",
   "execution_count": 2,
   "metadata": {},
   "outputs": [],
   "source": [
    "import sympy as sm\n",
    "import sympy.physics.mechanics as me\n",
    "me.init_vprinting(use_latex='mathjax')"
   ]
  },
  {
   "cell_type": "code",
   "execution_count": 3,
   "metadata": {},
   "outputs": [
    {
     "data": {
      "text/latex": [
       "$\\displaystyle \\left( -  \\dot{\\theta}\\mathbf{\\hat{n}_z}, \\  r\\mathbf{\\hat{n}_x}, \\  \\dot{r}\\mathbf{\\hat{n}_x} + r \\dot{\\theta}\\mathbf{\\hat{n}_y}, \\  (- r \\dot{\\theta}^{2} + \\ddot{r})\\mathbf{\\hat{n}_x} + (r \\ddot{\\theta} + 2 \\dot{r} \\dot{\\theta})\\mathbf{\\hat{n}_y}, \\  - \\frac{G M}{r^{2}}\\right)$"
      ],
      "text/plain": [
       "⎛-θ̇ n_z, r n_x, ṙ n_x + r⋅θ̇ n_y,             ⎛     2    ⎞            , -G⋅M ⎞\n",
       "⎜                                ⎝- r⋅θ̇  + r̈⎠ n_x + (r⋅θ̈ + 2⋅ṙ⋅θ̇) n_y  ─────⎟\n",
       "⎜                                                                         2 ⎟\n",
       "⎝                                                                        r  ⎠"
      ]
     },
     "execution_count": 3,
     "metadata": {},
     "output_type": "execute_result"
    }
   ],
   "source": [
    "theta, r = me.dynamicsymbols('theta r')\n",
    "G, M  = sm.symbols('G, M')\n",
    "f = -G * M / r**2\n",
    "N = me.ReferenceFrame('N')\n",
    "S = me.ReferenceFrame('S')\n",
    "NS = r * N.x\n",
    "S.orient_axis(N, -theta, N.z)\n",
    "vn = NS.dt(S)\n",
    "an = vn.dt(S)\n",
    "t = me.dynamicsymbols._t\n",
    "S.ang_vel_in(N), NS, vn, an, f"
   ]
  },
  {
   "cell_type": "code",
   "execution_count": 4,
   "metadata": {},
   "outputs": [
    {
     "data": {
      "text/latex": [
       "$\\displaystyle \\left( - r \\dot{\\theta}^{2} + \\ddot{r}, \\  r \\ddot{\\theta} + 2 \\dot{r} \\dot{\\theta}, \\  0\\right)$"
      ],
      "text/plain": [
       "⎛     2                    ⎞\n",
       "⎝- r⋅θ̇  + r̈, r⋅θ̈ + 2⋅ṙ⋅θ̇, 0⎠"
      ]
     },
     "execution_count": 4,
     "metadata": {},
     "output_type": "execute_result"
    }
   ],
   "source": [
    "me.dot(N.x, an), me.dot(N.y, an), me.dot(N.z, an)"
   ]
  },
  {
   "cell_type": "markdown",
   "metadata": {},
   "source": [
    "Задача на будущее, как-то заставить симпай, решать набор дифуров для первого закона кеплера"
   ]
  },
  {
   "cell_type": "code",
   "execution_count": 7,
   "metadata": {},
   "outputs": [
    {
     "ename": "ValueError",
     "evalue": "\nNumber of equations and number of functions do not match",
     "output_type": "error",
     "traceback": [
      "\u001b[0;31m---------------------------------------------------------------------------\u001b[0m",
      "\u001b[0;31mValueError\u001b[0m                                Traceback (most recent call last)",
      "\u001b[1;32m/var/data/cocalc/c48d6f16-2998-46dd-b339-93dcd2815b5e/2023-physics-project/pydy-modelling/keplers.ipynb Cell 5\u001b[0m line \u001b[0;36m1\n\u001b[0;32m----> <a href='vscode-notebook-cell://xn--28-6kce2c.xn--80apqgfe.xn--p1ai/var/data/cocalc/c48d6f16-2998-46dd-b339-93dcd2815b5e/2023-physics-project/pydy-modelling/keplers.ipynb#W4sdnNjb2RlLXJlbW90ZQ%3D%3D?line=0'>1</a>\u001b[0m sm\u001b[39m.\u001b[39;49mdsolve([me\u001b[39m.\u001b[39;49mdot(N\u001b[39m.\u001b[39;49mx, an) \u001b[39m-\u001b[39;49m f, me\u001b[39m.\u001b[39;49mdot(N\u001b[39m.\u001b[39;49my, an)], [theta])\n",
      "File \u001b[0;32m~/2023-physics-project/pydy-modelling/.venv/lib64/python3.11/site-packages/sympy/solvers/ode/ode.py:559\u001b[0m, in \u001b[0;36mdsolve\u001b[0;34m(eq, func, hint, simplify, ics, xi, eta, x0, n, **kwargs)\u001b[0m\n\u001b[1;32m    553\u001b[0m \u001b[39m# This may have to be changed in future\u001b[39;00m\n\u001b[1;32m    554\u001b[0m \u001b[39m# when we have weakly and strongly\u001b[39;00m\n\u001b[1;32m    555\u001b[0m \u001b[39m# connected components. This have to\u001b[39;00m\n\u001b[1;32m    556\u001b[0m \u001b[39m# changed to show the systems that haven't\u001b[39;00m\n\u001b[1;32m    557\u001b[0m \u001b[39m# been solved.\u001b[39;00m\n\u001b[1;32m    558\u001b[0m \u001b[39mtry\u001b[39;00m:\n\u001b[0;32m--> 559\u001b[0m     sol \u001b[39m=\u001b[39m dsolve_system(eq, funcs\u001b[39m=\u001b[39;49mfunc, ics\u001b[39m=\u001b[39;49mics, doit\u001b[39m=\u001b[39;49m\u001b[39mTrue\u001b[39;49;00m)\n\u001b[1;32m    560\u001b[0m     \u001b[39mreturn\u001b[39;00m sol[\u001b[39m0\u001b[39m] \u001b[39mif\u001b[39;00m \u001b[39mlen\u001b[39m(sol) \u001b[39m==\u001b[39m \u001b[39m1\u001b[39m \u001b[39melse\u001b[39;00m sol\n\u001b[1;32m    561\u001b[0m \u001b[39mexcept\u001b[39;00m \u001b[39mNotImplementedError\u001b[39;00m:\n",
      "File \u001b[0;32m~/2023-physics-project/pydy-modelling/.venv/lib64/python3.11/site-packages/sympy/solvers/ode/systems.py:2087\u001b[0m, in \u001b[0;36mdsolve_system\u001b[0;34m(eqs, funcs, t, ics, doit, simplify)\u001b[0m\n\u001b[1;32m   2081\u001b[0m     \u001b[39mraise\u001b[39;00m \u001b[39mValueError\u001b[39;00m(filldedent(\u001b[39m'''\u001b[39m\n\u001b[1;32m   2082\u001b[0m \u001b[39m        dsolve_system can solve a system of ODEs with only one independent\u001b[39m\n\u001b[1;32m   2083\u001b[0m \u001b[39m        variable.\u001b[39m\n\u001b[1;32m   2084\u001b[0m \u001b[39m    \u001b[39m\u001b[39m'''\u001b[39m))\n\u001b[1;32m   2086\u001b[0m \u001b[39mif\u001b[39;00m \u001b[39mlen\u001b[39m(eqs) \u001b[39m!=\u001b[39m \u001b[39mlen\u001b[39m(funcs):\n\u001b[0;32m-> 2087\u001b[0m     \u001b[39mraise\u001b[39;00m \u001b[39mValueError\u001b[39;00m(filldedent(\u001b[39m'''\u001b[39m\n\u001b[1;32m   2088\u001b[0m \u001b[39m        Number of equations and number of functions do not match\u001b[39m\n\u001b[1;32m   2089\u001b[0m \u001b[39m    \u001b[39m\u001b[39m'''\u001b[39m))\n\u001b[1;32m   2091\u001b[0m \u001b[39mif\u001b[39;00m t \u001b[39mis\u001b[39;00m \u001b[39mnot\u001b[39;00m \u001b[39mNone\u001b[39;00m \u001b[39mand\u001b[39;00m \u001b[39mnot\u001b[39;00m \u001b[39misinstance\u001b[39m(t, Symbol):\n\u001b[1;32m   2092\u001b[0m     \u001b[39mraise\u001b[39;00m \u001b[39mValueError\u001b[39;00m(filldedent(\u001b[39m'''\u001b[39m\n\u001b[1;32m   2093\u001b[0m \u001b[39m        The independent variable must be of type Symbol\u001b[39m\n\u001b[1;32m   2094\u001b[0m \u001b[39m    \u001b[39m\u001b[39m'''\u001b[39m))\n",
      "\u001b[0;31mValueError\u001b[0m: \nNumber of equations and number of functions do not match"
     ]
    }
   ],
   "source": [
    "sm.dsolve([me.dot(N.x, an) - f, me.dot(N.y, an)], [theta])"
   ]
  },
  {
   "cell_type": "code",
   "execution_count": 8,
   "metadata": {},
   "outputs": [],
   "source": [
    "psi, G, M, l = sm.symbols('u, psi, G, M, l')"
   ]
  },
  {
   "cell_type": "code",
   "execution_count": 12,
   "metadata": {},
   "outputs": [
    {
     "data": {
      "text/latex": [
       "$\\displaystyle \\frac{d}{d \\psi} u{\\left(\\psi \\right)}$"
      ],
      "text/plain": [
       "d       \n",
       "──(u(ψ))\n",
       "dψ      "
      ]
     },
     "execution_count": 12,
     "metadata": {},
     "output_type": "execute_result"
    }
   ],
   "source": [
    "u = sm.Function('u')(psi)\n",
    "u.diff(psi)"
   ]
  },
  {
   "cell_type": "code",
   "execution_count": 13,
   "metadata": {},
   "outputs": [
    {
     "data": {
      "text/latex": [
       "$\\displaystyle u{\\left(\\psi \\right)} + \\frac{d^{2}}{d \\psi^{2}} u{\\left(\\psi \\right)} = \\frac{G M}{l^{2}}$"
      ],
      "text/plain": [
       "         2            \n",
       "        d          G⋅M\n",
       "u(ψ) + ───(u(ψ)) = ───\n",
       "         2           2\n",
       "       dψ           l "
      ]
     },
     "execution_count": 13,
     "metadata": {},
     "output_type": "execute_result"
    }
   ],
   "source": [
    "eq = sm.Eq(u.diff(psi).diff(psi) + u, G*M/l**2)\n",
    "eq"
   ]
  },
  {
   "cell_type": "code",
   "execution_count": null,
   "metadata": {},
   "outputs": [],
   "source": [
    "sm.dsolve()"
   ]
  }
 ],
 "metadata": {
  "kernelspec": {
   "display_name": "Python 3 (ipykernel)",
   "language": "python",
   "name": "python3"
  },
  "language_info": {
   "codemirror_mode": {
    "name": "ipython",
    "version": 3
   },
   "file_extension": ".py",
   "mimetype": "text/x-python",
   "name": "python",
   "nbconvert_exporter": "python",
   "pygments_lexer": "ipython3",
   "version": "3.11.6"
  }
 },
 "nbformat": 4,
 "nbformat_minor": 4
}
