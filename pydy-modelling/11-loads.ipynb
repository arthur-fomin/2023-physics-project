{
 "cells": [
  {
   "cell_type": "code",
   "execution_count": null,
   "id": "2d2ba8df",
   "metadata": {
    "execution": {
     "iopub.execute_input": "2023-06-28T09:20:09.616135Z",
     "iopub.status.busy": "2023-06-28T09:20:09.615849Z",
     "iopub.status.idle": "2023-06-28T09:20:10.207785Z",
     "shell.execute_reply": "2023-06-28T09:20:10.206832Z"
    }
   },
   "outputs": [
    {
     "ename": "",
     "evalue": "",
     "output_type": "error",
     "traceback": [
      "\u001b[1;31mFailed to start the Kernel '.venv (Python 3.11.6)'. \n",
      "\u001b[1;31mView Jupyter <a href='command:jupyter.viewOutput'>log</a> for further details. ENOENT: no such file or directory, open '/tmp/kernel-v2-453921z5MI59DKy2Y4.json'"
     ]
    }
   ],
   "source": [
    "import sympy as sm\n",
    "import sympy.physics.mechanics as me\n",
    "me.init_vprinting(use_latex='mathjax')"
   ]
  },
  {
   "cell_type": "markdown",
   "id": "42b7fbbf",
   "metadata": {},
   "source": [
    "### Сила\n",
    "\n",
    "Сила — это абстракция, которая используется для описания чего-то, что заставляет массу двигаться (например, ускоряться из стационарного состояния). \n",
    "\n",
    "Существует четыре [фундаментальных силы природы](https://en.wikipedia.org/wiki/Force#Fundamental_interactions) , из которых могут быть получены все остальные силы. \n",
    "\n",
    "Моменты и крутящие моменты возникают из-за сил и полезны для описания причин распределенного вращения масс. \n",
    "\n",
    "Силы, моменты и крутящие моменты имеют величину и направление, поэтому для их математического описания используются векторы.\n"
   ]
  },
  {
   "cell_type": "markdown",
   "id": "3b528e9f",
   "metadata": {},
   "source": [
    "### Связанные и свободные векторы \n",
    "\n",
    "Векторы могут иметь *[линию действия](https://en.wikipedia.org/wiki/Line_of_action)*. \n",
    "\n",
    "Линия действия параллельна вектору и проходит через определенную точку. Если вектор имеет линию действия, то это говорят, что он *привязан* к своей линии действий. \n",
    "Если вектор не привязан, то говорят что действие *свободное*.\n",
    "\n",
    "Угловая скорость является примером свободного вектора. \n",
    "\n",
    "Имеет направление и величину, но не связана ни  с какой линией действия. Например, если диск может вращаться вокруг фиксированной точки, на этом диске можно разместить тело в любом месте. Диск и тело всегда будут иметь одинаковую угловую скорость. \n",
    "\n",
    "Вектор силы, с другой стороны, связан. Если к твердому телу приложена сила, то мы должны знать, где на теле она применяется, чтобы учесть ее влияние. \n",
    "\n",
    "![](figures/force-bound-free.svg)\n",
    "\n",
    "Вектор силы, действующая на твердое тело $P$ это линия действия через точку $P$, и параллельная вектору силы.\n",
    "\n"
   ]
  },
  {
   "cell_type": "markdown",
   "id": "e837fd4b",
   "metadata": {},
   "source": [
    "# Момент\n",
    "\n",
    "Если вектор связан, то можно определить его *момент* относительно точки. \n",
    "\n",
    "Момент $\\bar{M}$ связанного вектора $\\bar{v}$ в точке $P$ тоже будет вектором:\n",
    "\n",
    "$$\n",
    "   \\bar{M} := \\bar{r}^{L/P} \\times \\bar{v}\n",
    "$$\n",
    "\n",
    "где $\\bar{r}^{L/P}$ вектор положения некоторой точки $L_i$ на линии действия $L$ от точки $P$. Определение векторного произведения обеспечивает независимость, от того, какая точка выбрана.\n",
    "\n",
    "![](figures/force-moment.svg)\n",
    "   \n",
    "Моментможет быть результатом действия множества векторов.\n",
    "\n",
    "Результирующий момент действия набора векторов $S$ $\\bar{v}_1,\\ldots,\\bar{v}_\\nu$:\n",
    "\n",
    "$$\n",
    "   \\bar{R}^{S} := \\sum_{i=1}^{\\nu} \\bar{v}_i\n",
    "$$\n",
    "\n",
    "Если каждый вектор в результирующем моменте связан, сумма моментов от каждого вектора называется результирующим моментом $\\bar{R}^{S}$ относительно точки $P$.\n",
    "\n",
    "$$\n",
    "\\bar{M}^{S/P} = \\sum_{i=1}^{\\nu} \\bar{r}^{L_i/P} \\times \\bar{v}_i\n",
    "$$\n",
    "где $L_i$  — какая-то точка на линии действия $\\bar{v}_i$."
   ]
  },
  {
   "cell_type": "markdown",
   "id": "503467e1",
   "metadata": {},
   "source": [
    "Момент действия множества векторов $S$ относительно точки $P$ связан с моментом относительно другой точки $Q$:\n",
    "\n",
    "$$\n",
    "   \\bar{M}^{S/P} = \\bar{M}^{S/Q} + \\bar{r}^{P/Q} \\times \\bar{R}^{S/Q}\n",
    "$$\n",
    "\n",
    "где $\\bar{R}^{S/Q}$ результирующая векторов из $S$ связанных с линией действия через точку $Q$.\n"
   ]
  },
  {
   "cell_type": "markdown",
   "id": "2279d6ad",
   "metadata": {},
   "source": [
    "Например, возьмем набор $S$ из двух связанных векторов $\\bar{F}_1$ и $\\bar{F}_2$ связанных с линияим действия через точки $P_1$ и $P_2$, соответственно. \n"
   ]
  },
  {
   "cell_type": "code",
   "execution_count": null,
   "id": "8f896140",
   "metadata": {
    "execution": {
     "iopub.execute_input": "2023-06-28T09:20:10.220868Z",
     "iopub.status.busy": "2023-06-28T09:20:10.220616Z",
     "iopub.status.idle": "2023-06-28T09:20:10.227071Z",
     "shell.execute_reply": "2023-06-28T09:20:10.226277Z"
    }
   },
   "outputs": [
    {
     "ename": "",
     "evalue": "",
     "output_type": "error",
     "traceback": [
      "\u001b[1;31mFailed to start the Kernel '.venv (Python 3.11.6)'. \n",
      "\u001b[1;31mView Jupyter <a href='command:jupyter.viewOutput'>log</a> for further details. ENOENT: no such file or directory, open '/tmp/kernel-v2-453921z5MI59DKy2Y4.json'"
     ]
    }
   ],
   "source": [
    "N = me.ReferenceFrame('N')\n",
    "\n",
    "F1 = 2*N.x + 3*N.y\n",
    "F2 = -4*N.x + 5*N.y\n",
    "\n",
    "r_O_P1 = 2*N.x\n",
    "r_O_P2 = 3*N.x"
   ]
  },
  {
   "cell_type": "code",
   "execution_count": null,
   "id": "6cf7ce60",
   "metadata": {
    "execution": {
     "iopub.execute_input": "2023-06-28T09:20:10.232122Z",
     "iopub.status.busy": "2023-06-28T09:20:10.231848Z",
     "iopub.status.idle": "2023-06-28T09:20:10.243993Z",
     "shell.execute_reply": "2023-06-28T09:20:10.243100Z"
    }
   },
   "outputs": [
    {
     "ename": "",
     "evalue": "",
     "output_type": "error",
     "traceback": [
      "\u001b[1;31mFailed to start the Kernel '.venv (Python 3.11.6)'. \n",
      "\u001b[1;31mView Jupyter <a href='command:jupyter.viewOutput'>log</a> for further details. ENOENT: no such file or directory, open '/tmp/kernel-v2-453921z5MI59DKy2Y4.json'"
     ]
    }
   ],
   "source": [
    "r_O_P = -5*N.x\n",
    "\n",
    "M_S_P = me.cross(r_O_P1 - r_O_P, F1) + me.cross(r_O_P2 - r_O_P, F2)\n",
    "M_S_P"
   ]
  },
  {
   "cell_type": "markdown",
   "id": "38ba69e6",
   "metadata": {},
   "source": [
    "Или если известны $\\bar{M}^{S/Q}$ и $\\bar{r}^{P/Q}$ то можно так:\n"
   ]
  },
  {
   "cell_type": "code",
   "execution_count": null,
   "id": "c3a7d3db",
   "metadata": {
    "execution": {
     "iopub.execute_input": "2023-06-28T09:20:10.248680Z",
     "iopub.status.busy": "2023-06-28T09:20:10.248437Z",
     "iopub.status.idle": "2023-06-28T09:20:10.264049Z",
     "shell.execute_reply": "2023-06-28T09:20:10.263265Z"
    }
   },
   "outputs": [
    {
     "ename": "",
     "evalue": "",
     "output_type": "error",
     "traceback": [
      "\u001b[1;31mFailed to start the Kernel '.venv (Python 3.11.6)'. \n",
      "\u001b[1;31mView Jupyter <a href='command:jupyter.viewOutput'>log</a> for further details. ENOENT: no such file or directory, open '/tmp/kernel-v2-453921z5MI59DKy2Y4.json'"
     ]
    }
   ],
   "source": [
    "r_O_Q = 5*N.y\n",
    "M_S_Q = me.cross(r_O_P1 - r_O_Q, F1) + me.cross(r_O_P2 - r_O_Q, F2)\n",
    "\n",
    "M_S_P = M_S_Q + me.cross(r_O_Q - r_O_P, F1 + F2)\n",
    "M_S_P"
   ]
  },
  {
   "cell_type": "markdown",
   "id": "76e09b1e",
   "metadata": {},
   "source": [
    "### Пара сил\n",
    "\n",
    "Множество $S$ связанных векторов с результирующей, равной нулю, называется *пара*. Пара может иметь столько векторов, сколько хочется или необходимо с минимумом. число равно двум, такое что $\\bar{R}^{S}=0$. Пара, состоящая из двоих векторов называется *простой парой*. \n",
    "\n",
    "![](figures/force-couples.svg)"
   ]
  },
  {
   "cell_type": "markdown",
   "id": "ac99181a",
   "metadata": {},
   "source": [
    "Крутящий *момент* пары, $\\bar{T}$, это момент пары относительно  некоторой точки. \n",
    "\n",
    "Поскольку результирующая пары равна нулю, крутящий момент пары одинаков обо всех пунктах. Крутящий момент, будучи моментом, также является вектором."
   ]
  },
  {
   "cell_type": "markdown",
   "id": "84b9710b",
   "metadata": {},
   "source": [
    "### Эквивалентность и замена \n",
    "\n",
    "Два набора связанных векторов *эквивалентны*, если они обладают этими двумя свойствами:\n",
    "\n",
    "* равные результаты\n",
    "* равные моменты относительно *любой* точки\n",
    "\n",
    "Если это выполняется, говорят, что множества *заменяют друг друга*. Пары, имеющие равные крутящие моменты, эквивалентны, поскольку результирующие равны нулю, и равны крутящие моменты относительно любой точки.\n",
    "\n",
    "Для заданного набора векторов $S$\n",
    "и набора связанных векторов $\\bar{T}$ и вектора $\\bar{v}$ связанного с точкой $P$, необходимое и достаточное условие, чтобы второй набор заменил первый:\n",
    "\n",
    "$$\n",
    "   \\bar{T} = \\bar{M}^{S/P} \\\\\n",
    "   \\bar{v} = \\bar{R}^{S/P}\n",
    "$$\n",
    "\n",
    "Это означает, что каждый набор связанных векторов можно заменить эквивалентным крутящий момент пары и один связанный вектор, который является результатом заменил комплект. \n",
    "\n",
    "Такая замена упрощает описание сил, действующих на тела. \n"
   ]
  },
  {
   "cell_type": "markdown",
   "id": "73dae339",
   "metadata": {},
   "source": [
    "Возьмем, к примеру, вид сверху на  четырехколесный автомобиль, у которого есть передняя часть. рулевое управление и двигатели на каждом колесе, обеспечивающие точный контроль над автомобилем. \n",
    "\n",
    "![](figures/force-car-replacement.svg)\n",
    "\n",
    "Комплект cил, действующие на каждую шину, можно заменить равнодействующей и крутящий момент в заданной точке, в данном случае $B_o$."
   ]
  },
  {
   "cell_type": "code",
   "execution_count": null,
   "id": "5d43b7c3",
   "metadata": {
    "execution": {
     "iopub.execute_input": "2023-06-28T09:20:10.267536Z",
     "iopub.status.busy": "2023-06-28T09:20:10.267290Z",
     "iopub.status.idle": "2023-06-28T09:20:10.274372Z",
     "shell.execute_reply": "2023-06-28T09:20:10.273546Z"
    }
   },
   "outputs": [
    {
     "ename": "",
     "evalue": "",
     "output_type": "error",
     "traceback": [
      "\u001b[1;31mFailed to start the Kernel '.venv (Python 3.11.6)'. \n",
      "\u001b[1;31mView Jupyter <a href='command:jupyter.viewOutput'>log</a> for further details. ENOENT: no such file or directory, open '/tmp/kernel-v2-453921z5MI59DKy2Y4.json'"
     ]
    }
   ],
   "source": [
    "l, w = sm.symbols('l, w')\n",
    "Ffl, Ffr, Frl, Frr = me.dynamicsymbols('F_{fl}, F_{fr}, F_{rl}, F_{rr}')\n",
    "alphafl, alphafr = me.dynamicsymbols(r'\\alpha_{fl}, \\alpha_{fr}')\n",
    "alpharl, alpharr = me.dynamicsymbols(r'\\alpha_{rl}, \\alpha_{rr}')\n",
    "delta = me.dynamicsymbols('delta')"
   ]
  },
  {
   "cell_type": "markdown",
   "id": "c0d71af3",
   "metadata": {},
   "source": [
    "Определив символы, используем вспомогательные системы отсчета, чтобы установить ориентации \n",
    "* $B$ — за кузовом автомобиля, \n",
    "* $W$ — управляемые передние колеса, \n",
    "* а остальные — для установления направления силы на каждое колесо. "
   ]
  },
  {
   "cell_type": "code",
   "execution_count": null,
   "id": "99034f84",
   "metadata": {
    "execution": {
     "iopub.execute_input": "2023-06-28T09:20:10.277575Z",
     "iopub.status.busy": "2023-06-28T09:20:10.277325Z",
     "iopub.status.idle": "2023-06-28T09:20:10.308830Z",
     "shell.execute_reply": "2023-06-28T09:20:10.307829Z"
    }
   },
   "outputs": [
    {
     "ename": "",
     "evalue": "",
     "output_type": "error",
     "traceback": [
      "\u001b[1;31mFailed to start the Kernel '.venv (Python 3.11.6)'. \n",
      "\u001b[1;31mView Jupyter <a href='command:jupyter.viewOutput'>log</a> for further details. ENOENT: no such file or directory, open '/tmp/kernel-v2-453921z5MI59DKy2Y4.json'"
     ]
    }
   ],
   "source": [
    "B = me.ReferenceFrame('B')\n",
    "W = me.ReferenceFrame('W')\n",
    "FR = me.ReferenceFrame('F_R')\n",
    "FL = me.ReferenceFrame('F_L')\n",
    "RR = me.ReferenceFrame('R_R')\n",
    "RL = me.ReferenceFrame('R_L')\n",
    "\n",
    "W.orient_axis(B, delta, B.z)\n",
    "FR.orient_axis(W, alphafr, W.z)\n",
    "FL.orient_axis(W, alphafl, W.z)\n",
    "RR.orient_axis(B, alpharr, B.z)\n",
    "RL.orient_axis(B, alpharl, B.z)"
   ]
  },
  {
   "cell_type": "markdown",
   "id": "4de99433",
   "metadata": {},
   "source": [
    "Результирующая сил, выраженная в $B$ кадр тогда: "
   ]
  },
  {
   "cell_type": "code",
   "execution_count": null,
   "id": "33c5b2a9",
   "metadata": {
    "execution": {
     "iopub.execute_input": "2023-06-28T09:20:10.312220Z",
     "iopub.status.busy": "2023-06-28T09:20:10.311939Z",
     "iopub.status.idle": "2023-06-28T09:20:11.325709Z",
     "shell.execute_reply": "2023-06-28T09:20:11.324854Z"
    }
   },
   "outputs": [
    {
     "ename": "",
     "evalue": "",
     "output_type": "error",
     "traceback": [
      "\u001b[1;31mFailed to start the Kernel '.venv (Python 3.11.6)'. \n",
      "\u001b[1;31mView Jupyter <a href='command:jupyter.viewOutput'>log</a> for further details. ENOENT: no such file or directory, open '/tmp/kernel-v2-453921z5MI59DKy2Y4.json'"
     ]
    }
   ],
   "source": [
    "R = Ffl*FL.x + Ffr*FR.x + Frl*RL.x + Frr*RR.x\n",
    "R.express(B).simplify()"
   ]
  },
  {
   "cell_type": "markdown",
   "id": "8a9337db",
   "metadata": {},
   "source": [
    "Результат будет привязан к линии действия через $B_o$. \n",
    "Связанная пара вычислена как полный момент относительно $B_o$."
   ]
  },
  {
   "cell_type": "code",
   "execution_count": null,
   "id": "0fe37910",
   "metadata": {
    "execution": {
     "iopub.execute_input": "2023-06-28T09:20:11.329308Z",
     "iopub.status.busy": "2023-06-28T09:20:11.329066Z",
     "iopub.status.idle": "2023-06-28T09:20:15.356078Z",
     "shell.execute_reply": "2023-06-28T09:20:15.355190Z"
    }
   },
   "outputs": [
    {
     "ename": "",
     "evalue": "",
     "output_type": "error",
     "traceback": [
      "\u001b[1;31mFailed to start the Kernel '.venv (Python 3.11.6)'. \n",
      "\u001b[1;31mView Jupyter <a href='command:jupyter.viewOutput'>log</a> for further details. ENOENT: no such file or directory, open '/tmp/kernel-v2-453921z5MI59DKy2Y4.json'"
     ]
    }
   ],
   "source": [
    "T = (me.cross(l/2*B.x - w/2*B.y, Ffl*FL.x) +\n",
    "     me.cross(l/2*B.x + w/2*B.y, Ffr*FR.x) +\n",
    "     me.cross(-l/2*B.x - w/2*B.y, Frl*RL.x) +\n",
    "     me.cross(-l/2*B.x + w/2*B.y, Frr*RR.x))\n",
    "T = T.express(B).simplify()\n",
    "T"
   ]
  },
  {
   "cell_type": "markdown",
   "id": "51700111",
   "metadata": {},
   "source": [
    "Поскольку мы всегда можем описать силы, действующие на твердое тело, как равнодействующую силу и связанный с ней крутящий момент пары, этим можно пользоваться для более простой формы построения моделей. "
   ]
  },
  {
   "cell_type": "markdown",
   "id": "705c7915",
   "metadata": {},
   "source": [
    "### Определение сил и моментов\n",
    "\n",
    "Силы представляют собой связанные векторы, поэтому нам необходимо определить линии их действия. \n",
    "\n",
    "Это лучше всего это сделать, указав точки, на которые действует каждая сила, таким образом мы будем всегда используйте вектор и точку, чтобы полностью описать силу. \n",
    "\n",
    "Методы и функции в SymPy Mechanics, использующие силы, обычно требуют кортеж, содержащий точку и вектор, например результирующую силу $R^{S/B_o}$ \n",
    "\n",
    "Boздействующее на центр масс автомобиля будет определяться как так:\n"
   ]
  },
  {
   "cell_type": "code",
   "execution_count": null,
   "id": "50da2af0",
   "metadata": {
    "execution": {
     "iopub.execute_input": "2023-06-28T09:20:15.359098Z",
     "iopub.status.busy": "2023-06-28T09:20:15.358847Z",
     "iopub.status.idle": "2023-06-28T09:20:15.366952Z",
     "shell.execute_reply": "2023-06-28T09:20:15.366133Z"
    }
   },
   "outputs": [
    {
     "ename": "",
     "evalue": "",
     "output_type": "error",
     "traceback": [
      "\u001b[1;31mFailed to start the Kernel '.venv (Python 3.11.6)'. \n",
      "\u001b[1;31mView Jupyter <a href='command:jupyter.viewOutput'>log</a> for further details. ENOENT: no such file or directory, open '/tmp/kernel-v2-453921z5MI59DKy2Y4.json'"
     ]
    }
   ],
   "source": [
    "Bo = me.Point('Bo')\n",
    "force = (Bo, R)\n",
    "force"
   ]
  },
  {
   "cell_type": "markdown",
   "id": "e4c53fb0",
   "metadata": {},
   "source": [
    "Крутящие моменты пары являются свободными векторами (не привязанными к линии действия), но представляют пару, действующую на твердое тело, таким образом, связанную систему отсчета с твердым телом и вектор, представляющий крутящий момент, будет использоваться для описать крутящий момент в SymPy Mechanics. Например: "
   ]
  },
  {
   "cell_type": "code",
   "execution_count": null,
   "id": "b3387104",
   "metadata": {
    "execution": {
     "iopub.execute_input": "2023-06-28T09:20:15.369881Z",
     "iopub.status.busy": "2023-06-28T09:20:15.369616Z",
     "iopub.status.idle": "2023-06-28T09:20:15.379732Z",
     "shell.execute_reply": "2023-06-28T09:20:15.378924Z"
    }
   },
   "outputs": [
    {
     "ename": "",
     "evalue": "",
     "output_type": "error",
     "traceback": [
      "\u001b[1;31mFailed to start the Kernel '.venv (Python 3.11.6)'. \n",
      "\u001b[1;31mView Jupyter <a href='command:jupyter.viewOutput'>log</a> for further details. ENOENT: no such file or directory, open '/tmp/kernel-v2-453921z5MI59DKy2Y4.json'"
     ]
    }
   ],
   "source": [
    "torque = (B, T)\n",
    "torque"
   ]
  },
  {
   "cell_type": "markdown",
   "id": "721fdb57",
   "metadata": {},
   "source": [
    "Мы часто будем называть силы и крутящие моменты общими *нагрузками*."
   ]
  },
  {
   "cell_type": "markdown",
   "id": "bee50a32",
   "metadata": {},
   "source": [
    "### Действие и противодействие"
   ]
  },
  {
   "cell_type": "markdown",
   "id": "b06ee620",
   "metadata": {},
   "source": [
    "И силы, и крутящие моменты, приложенные к системе многих тел, должны подчиняться [Третьему закону Ньютона](https://en.wikipedia.org/wiki/Newton's_laws_of_motion#Third_law), т.е. что силы и моменты действуют одинаково и противоположно. \n",
    "\n",
    "Возьмем, к примеру, крутящий момент двигателя, вызывающий заклинивание рычага $B$ вращаться относительно земля $N$ показано на рис.\n",
    "\n",
    "![](figures/force-equal-opposite.svg)\n",
    "\n",
    "Можно смоделировать крутящий момент, возникающий между статором и ротором. У нас есть произвольно выбрано указанное соглашение о знаках, т.е. положительное значение крутящего момента. применяет положительный крутящий момент к $B$ и отрицательный крутящий момент $N$ если крутящий момент параллелен $\\hat{n}_z=\\hat{b}_z$.\n",
    "\n",
    "\n",
    "Статор двигателя $N$ закреплен на земле с помощью рычага, прикрепленного к двигателю ротор $B$ показаны как единое целое на \n",
    "* а) и как отдельные тела \n",
    "* на б) с равные и противоположные векторы крутящего момента, приложенные к паре тел, представляющих крутящий момент пары, создаваемый двигателем. \n"
   ]
  },
  {
   "cell_type": "markdown",
   "id": "2fad1d47",
   "metadata": {},
   "source": [
    "Крутящий момент двигателя можно задать как изменяющийся во времени вектор: "
   ]
  },
  {
   "cell_type": "code",
   "execution_count": null,
   "id": "5cfc7df2",
   "metadata": {
    "execution": {
     "iopub.execute_input": "2023-06-28T09:20:15.383662Z",
     "iopub.status.busy": "2023-06-28T09:20:15.383414Z",
     "iopub.status.idle": "2023-06-28T09:20:15.389937Z",
     "shell.execute_reply": "2023-06-28T09:20:15.388837Z"
    }
   },
   "outputs": [
    {
     "ename": "",
     "evalue": "",
     "output_type": "error",
     "traceback": [
      "\u001b[1;31mFailed to start the Kernel '.venv (Python 3.11.6)'. \n",
      "\u001b[1;31mView Jupyter <a href='command:jupyter.viewOutput'>log</a> for further details. ENOENT: no such file or directory, open '/tmp/kernel-v2-453921z5MI59DKy2Y4.json'"
     ]
    }
   ],
   "source": [
    "T, q = me.dynamicsymbols('T, q')\n",
    "\n",
    "N = me.ReferenceFrame('N')\n",
    "B = me.ReferenceFrame('B')\n",
    "\n",
    "Tm = T*N.z"
   ]
  },
  {
   "cell_type": "markdown",
   "id": "5f2f2cd3",
   "metadata": {},
   "source": [
    "Тогда равные и противоположные крутящие моменты фиксируются этими двумя кортежами: "
   ]
  },
  {
   "cell_type": "code",
   "execution_count": null,
   "id": "4d1676dd",
   "metadata": {
    "execution": {
     "iopub.execute_input": "2023-06-28T09:20:15.393276Z",
     "iopub.status.busy": "2023-06-28T09:20:15.393004Z",
     "iopub.status.idle": "2023-06-28T09:20:15.399094Z",
     "shell.execute_reply": "2023-06-28T09:20:15.398267Z"
    }
   },
   "outputs": [
    {
     "ename": "",
     "evalue": "",
     "output_type": "error",
     "traceback": [
      "\u001b[1;31mFailed to start the Kernel '.venv (Python 3.11.6)'. \n",
      "\u001b[1;31mView Jupyter <a href='command:jupyter.viewOutput'>log</a> for further details. ENOENT: no such file or directory, open '/tmp/kernel-v2-453921z5MI59DKy2Y4.json'"
     ]
    }
   ],
   "source": [
    "(B, Tm), (N, -Tm)"
   ]
  },
  {
   "cell_type": "markdown",
   "id": "c1ee9ad3",
   "metadata": {},
   "source": [
    "### Содействующие и несодействующие силы "
   ]
  },
  {
   "cell_type": "markdown",
   "id": "49443384",
   "metadata": {},
   "source": [
    "*Содействующие силы* — это те, которые могут совершать работу в системе многих тел. [Работа](https://en.wikipedia.org/wiki/Work_(physics)) силы $\\bar{F}$ действие по пути $S$ определяется как следующий [линейный интеграл](https://en.wikipedia.org/wiki/Line_integral):\n",
    "\n",
    "$$\n",
    "   W = \\int_S \\bar{F} \\cdot d\\bar{s}\n",
    "$$\n",
    "\n",
    "где $d\\bar{s}$ — дифференциальный вектор, касательный к пути в точке точка приложения силы. "
   ]
  },
  {
   "cell_type": "markdown",
   "id": "f6ad441b",
   "metadata": {},
   "source": [
    "Например, сила гравитации, действующая на частицу, движущуюся через однонаправленное постоянное гравитационное поле (т.е. где гравитационная сила равна по величине, не меняется и всегда в одном направлении) работает в системе.\n",
    "\n",
    "*Невносящие вклад силы* никогда не работают в системе. Например, когда сила действует между двумя точками, не имеющими относительного движения, никакой работы не совершается. Примеры несодействующих сил:\n",
    "\n",
    "* контактные силы, действующие на частицы на гладких (без трения) поверхностях твердых тела\n",
    "\n",
    "* любой внутренний контакт и объемные (расстоянные) силы между любыми двумя точками в жесткое тело\n",
    "\n",
    "* контактные силы между телами, катящимися без скольжения друг по другу\n",
    "\n",
    "Дальше покажем, как использование обобщенных координат облегчает задачу, когда нам не нужно указывать какие-либо неучаствующие силы."
   ]
  },
  {
   "cell_type": "markdown",
   "id": "e45027b0",
   "metadata": {},
   "source": [
    "### Гравитация\n",
    "\n",
    "Простейший случай — постоянное однонаправленное гравитационное поле, которое является подходящей моделью для объектов, движущихся вблизи поверхности Земли. \n",
    "\n",
    "Силы гравитации могут быть приложены только к центры масс каждого твердого тела как равнодействующая сила. \n",
    "\n",
    "Гравитационный момент тела равен нулю, поскольку сила равна по величине для каждой частицы в организме. (В общем случае [закона всемирного тяготения Ньютона](https://en.wikipedia.org/wiki/Newton's_law_of_universal_gravitation), это не так, и исследование динамики космического корабля часто требует учета как гравитационных сил, так и моментов)."
   ]
  },
  {
   "cell_type": "code",
   "execution_count": null,
   "id": "e8a719e9",
   "metadata": {
    "execution": {
     "iopub.execute_input": "2023-06-28T09:20:15.403007Z",
     "iopub.status.busy": "2023-06-28T09:20:15.402523Z",
     "iopub.status.idle": "2023-06-28T09:20:15.412523Z",
     "shell.execute_reply": "2023-06-28T09:20:15.411771Z"
    }
   },
   "outputs": [
    {
     "ename": "",
     "evalue": "",
     "output_type": "error",
     "traceback": [
      "\u001b[1;31mFailed to start the Kernel '.venv (Python 3.11.6)'. \n",
      "\u001b[1;31mView Jupyter <a href='command:jupyter.viewOutput'>log</a> for further details. ENOENT: no such file or directory, open '/tmp/kernel-v2-453921z5MI59DKy2Y4.json'"
     ]
    }
   ],
   "source": [
    "m, g = sm.symbols('m, g')\n",
    "Fg = -m*g*N.y\n",
    "Fg"
   ]
  },
  {
   "cell_type": "markdown",
   "id": "6810ee9c",
   "metadata": {},
   "source": [
    "### Пружины и демпферы\n",
    "\n"
   ]
  },
  {
   "cell_type": "markdown",
   "id": "7ca3a2e6",
   "metadata": {},
   "source": [
    "Идеализированные пружины и амортизаторы — полезные модели элементов, имеют длину и зависящие от нее скорости, силы и крутящие моменты. \n",
    "\n",
    "Назакрепленная пружина с коэффициентом жесткости $k$ и длиной в состоянии покоя $q_0$:\n",
    "\n",
    "![](figures/force-spring.svg)\n",
    "\n"
   ]
  },
  {
   "cell_type": "code",
   "execution_count": null,
   "id": "88193499",
   "metadata": {
    "execution": {
     "iopub.execute_input": "2023-06-28T09:20:15.415755Z",
     "iopub.status.busy": "2023-06-28T09:20:15.415505Z",
     "iopub.status.idle": "2023-06-28T09:20:15.425802Z",
     "shell.execute_reply": "2023-06-28T09:20:15.424962Z"
    }
   },
   "outputs": [
    {
     "ename": "",
     "evalue": "",
     "output_type": "error",
     "traceback": [
      "\u001b[1;31mFailed to start the Kernel '.venv (Python 3.11.6)'. \n",
      "\u001b[1;31mView Jupyter <a href='command:jupyter.viewOutput'>log</a> for further details. ENOENT: no such file or directory, open '/tmp/kernel-v2-453921z5MI59DKy2Y4.json'"
     ]
    }
   ],
   "source": [
    "q0, k = sm.symbols('q0, k')\n",
    "q1, q2 = me.dynamicsymbols('q1, q2')\n",
    "\n",
    "displacement = q2 - q1 - q0\n",
    "displacement"
   ]
  },
  {
   "cell_type": "code",
   "execution_count": null,
   "id": "06f9e510",
   "metadata": {
    "execution": {
     "iopub.execute_input": "2023-06-28T09:20:15.429066Z",
     "iopub.status.busy": "2023-06-28T09:20:15.428818Z",
     "iopub.status.idle": "2023-06-28T09:20:15.439881Z",
     "shell.execute_reply": "2023-06-28T09:20:15.439077Z"
    }
   },
   "outputs": [
    {
     "ename": "",
     "evalue": "",
     "output_type": "error",
     "traceback": [
      "\u001b[1;31mFailed to start the Kernel '.venv (Python 3.11.6)'. \n",
      "\u001b[1;31mView Jupyter <a href='command:jupyter.viewOutput'>log</a> for further details. ENOENT: no such file or directory, open '/tmp/kernel-v2-453921z5MI59DKy2Y4.json'"
     ]
    }
   ],
   "source": [
    "Fs = -k*displacement*N.x\n",
    "Fs"
   ]
  },
  {
   "cell_type": "markdown",
   "id": "3fea767b",
   "metadata": {},
   "source": [
    "[Демпферы](https://en.wikipedia.org/wiki/Dashpot) часто используются параллельно или последовательно с пружинами для обеспечения диссипация энергии за счет вязкоподобного трения. \n",
    "\n",
    "Пружины в сочетании с амортизаторами позволяют классическое движение второго порядка [с недостаточным, избыточным и критическим демпфированием](https://en.wikipedia.org/wiki/Damping). \n",
    "\n",
    "Линейный вязкостной демпфер с демпфированием коэффициент cкоторый сопротивляется движению, можно определить так:"
   ]
  },
  {
   "cell_type": "code",
   "execution_count": null,
   "id": "87f27a44",
   "metadata": {
    "execution": {
     "iopub.execute_input": "2023-06-28T09:20:15.443075Z",
     "iopub.status.busy": "2023-06-28T09:20:15.442828Z",
     "iopub.status.idle": "2023-06-28T09:20:15.458194Z",
     "shell.execute_reply": "2023-06-28T09:20:15.457476Z"
    }
   },
   "outputs": [
    {
     "ename": "",
     "evalue": "",
     "output_type": "error",
     "traceback": [
      "\u001b[1;31mFailed to start the Kernel '.venv (Python 3.11.6)'. \n",
      "\u001b[1;31mView Jupyter <a href='command:jupyter.viewOutput'>log</a> for further details. ENOENT: no such file or directory, open '/tmp/kernel-v2-453921z5MI59DKy2Y4.json'"
     ]
    }
   ],
   "source": [
    "c = sm.symbols('c')\n",
    "t = me.dynamicsymbols._t\n",
    "\n",
    "Fc = -c*displacement.diff(t)*N.x\n",
    "Fc"
   ]
  },
  {
   "cell_type": "markdown",
   "id": "f1d282fa",
   "metadata": {},
   "source": [
    "### Трение\n",
    "\n",
    "Закон трения Кулона представляет собой простую модель сухого [трения](https://en.wikipedia.org/wiki/Friction) между двумя объектами. \n",
    "\n",
    "Когда два объекта движутся относительно друг друга, это сила постоянной величины, которая сопротивляется движению. \n",
    "\n",
    "Сила независима от площади контакта и пропорциональна нормальной силе между объектами. \n",
    "\n",
    "Модель кинетического трения Кулона принимает скалярную форму:\n",
    "\n",
    "$$\n",
    "   F_f =\n",
    "   \\begin{cases}\n",
    "   \\mu_k F_n & v < 0 \\\\\n",
    "   0 & v = 0 \\\\\n",
    "   -\\mu_k F_n & v > 0\n",
    "   \\end{cases}\n",
    "$$\n",
    "\n",
    "где\n",
    "* $F_N$ — нормальная сила между двумя объектами,\n",
    "* $v$ — относительная скорость между ними\n",
    "* $\\mu_k$ — коэффициент кинетического трения.\n",
    "\n",
    "При $v=0$ кинетическое трение нулевое, но два обхекта осттаются в контакте с нормальной силой, которая сопротивляется движению из-за статического трения. Если $v=0$ любая сила перпендикулярая нормальной может быть удерживаться до величины $F_f=\\mu_s F_n$, где $\\mu_s > \\mu_k$  — коэффициент статического трения, так что можно обобщить:\n",
    "\n",
    "$$\n",
    "   F_f =\n",
    "   \\begin{cases}\n",
    "   \\mu_k F_n & v < 0 \\\\\n",
    "   \\left[-\\mu_s F_n, \\mu_s F_n\\right] & v = 0 \\\\\n",
    "   -\\mu_k F_n & v > 0\n",
    "   \\end{cases}\n",
    "$$\n"
   ]
  },
  {
   "cell_type": "markdown",
   "id": "0e35a43a",
   "metadata": {},
   "source": [
    "Функция SymPy [`Piecewise`](https://docs.sympy.org/latest/modules/functions/elementary.html#sympy.functions.elementary.piecewise.Piecewise) — один из способов создать символическое представление кинетического трения:"
   ]
  },
  {
   "cell_type": "code",
   "execution_count": null,
   "id": "09cde004",
   "metadata": {
    "execution": {
     "iopub.execute_input": "2023-06-28T09:20:15.462099Z",
     "iopub.status.busy": "2023-06-28T09:20:15.461737Z",
     "iopub.status.idle": "2023-06-28T09:20:15.483230Z",
     "shell.execute_reply": "2023-06-28T09:20:15.482345Z"
    }
   },
   "outputs": [
    {
     "ename": "",
     "evalue": "",
     "output_type": "error",
     "traceback": [
      "\u001b[1;31mFailed to start the Kernel '.venv (Python 3.11.6)'. \n",
      "\u001b[1;31mView Jupyter <a href='command:jupyter.viewOutput'>log</a> for further details. ENOENT: no such file or directory, open '/tmp/kernel-v2-453921z5MI59DKy2Y4.json'"
     ]
    }
   ],
   "source": [
    "mu, m, g = sm.symbols('mu, m, g')\n",
    "\n",
    "Fn = m*g\n",
    "\n",
    "displacement = q2 - q1\n",
    "\n",
    "Ff = sm.Piecewise((mu*Fn, displacement.diff(t) < 0),\n",
    "                  (-mu*Fn, displacement.diff(t) > 0),\n",
    "                  (0, True))*N.x\n",
    "Ff"
   ]
  },
  {
   "cell_type": "markdown",
   "id": "884df126",
   "metadata": {},
   "source": [
    "Можно также использовать [сигнум](https://ru.wikipedia.org/wiki/Sgn) ( [`sign`](https://docs.sympy.org/latest/modules/functions/elementary.html#sympy.functions.elementary.complexes.sign)), в аналогичной или более простой форме:"
   ]
  },
  {
   "cell_type": "code",
   "execution_count": null,
   "id": "9248472a",
   "metadata": {
    "execution": {
     "iopub.execute_input": "2023-06-28T09:20:15.486751Z",
     "iopub.status.busy": "2023-06-28T09:20:15.486482Z",
     "iopub.status.idle": "2023-06-28T09:20:15.496514Z",
     "shell.execute_reply": "2023-06-28T09:20:15.495650Z"
    }
   },
   "outputs": [
    {
     "ename": "",
     "evalue": "",
     "output_type": "error",
     "traceback": [
      "\u001b[1;31mFailed to start the Kernel '.venv (Python 3.11.6)'. \n",
      "\u001b[1;31mView Jupyter <a href='command:jupyter.viewOutput'>log</a> for further details. ENOENT: no such file or directory, open '/tmp/kernel-v2-453921z5MI59DKy2Y4.json'"
     ]
    }
   ],
   "source": [
    "Ff = -mu*Fn*sm.sign(displacement.diff(t))*N.x\n",
    "Ff"
   ]
  },
  {
   "cell_type": "markdown",
   "id": "49686cd5",
   "metadata": {},
   "source": [
    "Модель Кулона проста, но не всегда отражает все наблюдаемые эффекты. На рис. показана модификация модели Кулона, которая включает [эффект Штрибека](https://en.wikipedia.org/wiki/Stribeck_curve) и вязкое трение. \n",
    "\n",
    "![](https://ars.els-cdn.com/content/image/1-s2.0-S0094114X23000782-gr18_lrg.jpg)"
   ]
  },
  {
   "cell_type": "markdown",
   "id": "fd1f76d3",
   "metadata": {},
   "source": [
    "### Аэродинамическое сопротивление\n",
    "\n",
    "[Аэродинамическое сопротивление](https://en.wikipedia.org/wiki/Drag_(physics)) затупленного тела при малых числах Рейнольдса определяется cопротивление лобовой области:\n",
    "\n",
    "$$\n",
    "   F_d = \\frac{1}{2}\\rho C_dAv^2\n",
    "$$\n",
    "\n",
    "где \n",
    "* $\\rho$ — плотность воздуха\n",
    "* $C_d$ — коэффициент сопротивления\n",
    "* $A$ — площадь фронтальной проекции\n",
    "* $v$ — скорость воздуха относительно тела."
   ]
  },
  {
   "cell_type": "markdown",
   "id": "6a3410f6",
   "metadata": {},
   "source": [
    "Если тело движется в неподвижном воздухе с произвольной скоростью и в любой точке $P$ — аэродинамический центр тела, то вектор силы аэродинамического сопротивления противодействующий движению можно найти с помощью такого уравнения: "
   ]
  },
  {
   "cell_type": "code",
   "execution_count": null,
   "id": "847a4351",
   "metadata": {
    "execution": {
     "iopub.execute_input": "2023-06-28T09:20:15.499863Z",
     "iopub.status.busy": "2023-06-28T09:20:15.499586Z",
     "iopub.status.idle": "2023-06-28T09:20:15.535172Z",
     "shell.execute_reply": "2023-06-28T09:20:15.534401Z"
    }
   },
   "outputs": [
    {
     "ename": "",
     "evalue": "",
     "output_type": "error",
     "traceback": [
      "\u001b[1;31mFailed to start the Kernel '.venv (Python 3.11.6)'. \n",
      "\u001b[1;31mView Jupyter <a href='command:jupyter.viewOutput'>log</a> for further details. ENOENT: no such file or directory, open '/tmp/kernel-v2-453921z5MI59DKy2Y4.json'"
     ]
    }
   ],
   "source": [
    "A, Cd, rho = sm.symbols('A, C_d, rho')\n",
    "ux, uy, uz = me.dynamicsymbols('u_x, u_y, u_z', real=True)\n",
    "\n",
    "N_v_P = ux*N.x + uy*N.y + uz*N.z\n",
    "\n",
    "Fd = -N_v_P.normalize()*Cd*A*rho/2*N_v_P.dot(N_v_P)\n",
    "Fd"
   ]
  },
  {
   "cell_type": "markdown",
   "id": "3f20da36",
   "metadata": {},
   "source": [
    "Что можно упростить, если движение происходит только вдоль одного из базисных векторов системы отсчета: "
   ]
  },
  {
   "cell_type": "code",
   "execution_count": null,
   "id": "27ceb2b5",
   "metadata": {
    "execution": {
     "iopub.execute_input": "2023-06-28T09:20:15.538909Z",
     "iopub.status.busy": "2023-06-28T09:20:15.538440Z",
     "iopub.status.idle": "2023-06-28T09:20:15.546426Z",
     "shell.execute_reply": "2023-06-28T09:20:15.545593Z"
    }
   },
   "outputs": [
    {
     "ename": "",
     "evalue": "",
     "output_type": "error",
     "traceback": [
      "\u001b[1;31mFailed to start the Kernel '.venv (Python 3.11.6)'. \n",
      "\u001b[1;31mView Jupyter <a href='command:jupyter.viewOutput'>log</a> for further details. ENOENT: no such file or directory, open '/tmp/kernel-v2-453921z5MI59DKy2Y4.json'"
     ]
    }
   ],
   "source": [
    "Fd.xreplace({uy: 0, uz:0})"
   ]
  },
  {
   "cell_type": "markdown",
   "id": "7fb44167",
   "metadata": {},
   "source": [
    "Управление правильным направлением силы, чтобы она противодействовала движению и была применяется в аэродинамическом центре, имеет важное значение. Коэффициент лобового сопротивления и фронтальная область также может динамически меняться в зависимости от формы объекта и направление потока воздуха над ним. "
   ]
  },
  {
   "cell_type": "markdown",
   "id": "e8342d0c",
   "metadata": {},
   "source": [
    "### Столкновения\n",
    "\n",
    "Если две точки, точка и поверхность или две поверхности сталкиваются, поведение удара зависит от свойств материала, массы и кинематики сталкивающиеся тела. \n",
    "\n",
    "Существует два основных подхода к моделированию столкновений. \n",
    "\n",
    "Во-первых, это метод Ньютона, в котором вы учитываете изменение импульса, импульс до и после столкновения. Для частицы, ударяющейся о поверхность, это принимает базовую форму:\n",
    "\n",
    "$$\n",
    "   m v^{+} = -e m v^{-}\n",
    "$$\n",
    "\n",
    "где \n",
    "* $m$ — масса частицы, \n",
    "* $v^{-}$ — скорость до столкновения\n",
    "* $v^{+}$ — скорость после\n",
    ": $e$ — [коэффициент упругого восстановления](https://en.wikipedia.org/wiki/Coefficient_of_restitution).\n",
    "\n",
    "Импульс после удара будет противоположным и равен импульсу перед ударом при чисто упругом столкновении $e=1$ и величина импульса будет меньше, если удар будет неупругим $0<e<1$.\n",
    "\n",
    "Ньютоновская модель не учитывает явное поведение силы, которая генерирует импульс при столкновении. Здесь мы воспользуемся альтернативным подходом путем явного моделирования силы. Такие модели контактной силы могут дать больше точные результаты за счет увеличения времени вычислений. \n",
    "\n",
    "Лучшие модели столкновений основаны на основополагающей [модели Hunt и Crossley](https://asmedigitalcollection.asme.org/appliedmechanics/article-abstract/42/2/440/387758/Coefficient-of-Restitution-Interpreted-as-Damping?redirectedFrom=fulltext), которые основана по [теории контакта Герца](https://en.wikipedia.org/wiki/Contact_mechanics). \n",
    "\n",
    "Хант и Кроссли моделируют это воздействие как нелинейную функция глубины проникновения и его скорости. \n",
    "Сила состоит из нелинейной жесткости и коэффициента демпфирования:\n",
    "\n",
    "$$\n",
    "   f_c = k z^n + cz^n \\dot{z}\n",
    "$$\n",
    "где\n",
    "* $k$ —   нелинейная контактная жесткость\n",
    "* $n$ — коэффициент-показатель нелинейной жесткости (обычно $3/2$ из теории Герца)\n",
    "* $z$ — глубина проникновения\n",
    "* $\\dot{z}$ — скорость проникновения\n",
    "* $c$ — коэффициент затухания гистерезиса. \n",
    "\n",
    "$k$ и $c$ — определяется из свойств материала и формы сталкивающихся объектов.  "
   ]
  },
  {
   "cell_type": "markdown",
   "id": "55a2df27",
   "metadata": {},
   "source": [
    "![](figures/force-collision.svg)\n",
    "\n",
    "Если моделировать частицу $P$, сталивающася с поверхностью: \n",
    "\n",
    "$$\n",
    "   z_p = \\frac{| \\bar{r}^{P/O} \\cdot \\hat{n}_z | - \\bar{r}^{P/O} \\cdot \\hat{n}_z}{2}\n",
    "$$\n",
    "\n",
    "Эта разница между абсолютным значением и самим значением эквивалентна к этой кусочной функции:\n",
    "\n",
    "$$\n",
    "   z_p =\n",
    "   \\begin{cases}\n",
    "   0 & \\bar{r}^{P/O} \\cdot \\hat{n}_z > 0 \\\\\n",
    "   \\bar{r}^{P/O} \\cdot \\hat{n}_z & \\bar{r}^{P/O} \\cdot \\hat{n}_z \\leq 0\n",
    "   \\end{cases}\n",
    "$$\n",
    "\n",
    "Что мы можем смоделировать:\n",
    "\n"
   ]
  },
  {
   "cell_type": "code",
   "execution_count": null,
   "id": "93bb8a57",
   "metadata": {
    "execution": {
     "iopub.execute_input": "2023-06-28T09:20:15.549888Z",
     "iopub.status.busy": "2023-06-28T09:20:15.549307Z",
     "iopub.status.idle": "2023-06-28T09:20:15.563738Z",
     "shell.execute_reply": "2023-06-28T09:20:15.563007Z"
    }
   },
   "outputs": [
    {
     "ename": "",
     "evalue": "",
     "output_type": "error",
     "traceback": [
      "\u001b[1;31mFailed to start the Kernel '.venv (Python 3.11.6)'. \n",
      "\u001b[1;31mView Jupyter <a href='command:jupyter.viewOutput'>log</a> for further details. ENOENT: no such file or directory, open '/tmp/kernel-v2-453921z5MI59DKy2Y4.json'"
     ]
    }
   ],
   "source": [
    "x, y, z, zd = me.dynamicsymbols('x, y, z, \\dot{z}', real=True)\n",
    "\n",
    "r_O_P = x*N.x + y*N.y + z*N.z\n",
    "\n",
    "zh = r_O_P.dot(N.z)\n",
    "\n",
    "zp = (sm.Abs(zh) - zh)/2\n",
    "zp"
   ]
  },
  {
   "cell_type": "code",
   "execution_count": null,
   "id": "aaeeeb3a",
   "metadata": {
    "execution": {
     "iopub.execute_input": "2023-06-28T09:20:15.567270Z",
     "iopub.status.busy": "2023-06-28T09:20:15.566793Z",
     "iopub.status.idle": "2023-06-28T09:20:15.586767Z",
     "shell.execute_reply": "2023-06-28T09:20:15.585927Z"
    }
   },
   "outputs": [
    {
     "ename": "",
     "evalue": "",
     "output_type": "error",
     "traceback": [
      "\u001b[1;31mFailed to start the Kernel '.venv (Python 3.11.6)'. \n",
      "\u001b[1;31mView Jupyter <a href='command:jupyter.viewOutput'>log</a> for further details. ENOENT: no such file or directory, open '/tmp/kernel-v2-453921z5MI59DKy2Y4.json'"
     ]
    }
   ],
   "source": [
    "k, c = sm.symbols('k, c')\n",
    "\n",
    "Fz = (k*zp**(sm.S(3)/2) + c*zp**(sm.S(3)/2)*zd)*N.z\n",
    "Fz"
   ]
  },
  {
   "cell_type": "markdown",
   "id": "b2f2c3a7",
   "metadata": {},
   "source": [
    "Проверим, правильна ли сила для положительных и отрицательных $z$:"
   ]
  },
  {
   "cell_type": "code",
   "execution_count": null,
   "id": "c7cd63cf",
   "metadata": {
    "execution": {
     "iopub.execute_input": "2023-06-28T09:20:15.590074Z",
     "iopub.status.busy": "2023-06-28T09:20:15.589820Z",
     "iopub.status.idle": "2023-06-28T09:20:15.595920Z",
     "shell.execute_reply": "2023-06-28T09:20:15.594871Z"
    }
   },
   "outputs": [
    {
     "ename": "",
     "evalue": "",
     "output_type": "error",
     "traceback": [
      "\u001b[1;31mFailed to start the Kernel '.venv (Python 3.11.6)'. \n",
      "\u001b[1;31mView Jupyter <a href='command:jupyter.viewOutput'>log</a> for further details. ENOENT: no such file or directory, open '/tmp/kernel-v2-453921z5MI59DKy2Y4.json'"
     ]
    }
   ],
   "source": [
    "Fz.xreplace({z: sm.Symbol('z', positive=True)})"
   ]
  },
  {
   "cell_type": "code",
   "execution_count": null,
   "id": "76165326",
   "metadata": {
    "execution": {
     "iopub.execute_input": "2023-06-28T09:20:15.599344Z",
     "iopub.status.busy": "2023-06-28T09:20:15.599091Z",
     "iopub.status.idle": "2023-06-28T09:20:15.608184Z",
     "shell.execute_reply": "2023-06-28T09:20:15.607336Z"
    }
   },
   "outputs": [
    {
     "ename": "",
     "evalue": "",
     "output_type": "error",
     "traceback": [
      "\u001b[1;31mFailed to start the Kernel '.venv (Python 3.11.6)'. \n",
      "\u001b[1;31mView Jupyter <a href='command:jupyter.viewOutput'>log</a> for further details. ENOENT: no such file or directory, open '/tmp/kernel-v2-453921z5MI59DKy2Y4.json'"
     ]
    }
   ],
   "source": [
    "Fz.xreplace({z: sm.Symbol('z', negative=True)})"
   ]
  },
  {
   "cell_type": "markdown",
   "id": "4df6b06f",
   "metadata": {},
   "source": [
    "Модель силы удара часто комбинируется с моделью трения для получения сила трения для ударов, которые не являются совершенно нормальными по отношению к контактирующему элементу. поверхности. Например, сила трения Кулона может замедлить скольжение частицы. на поверхности, если известны тангенциальные компоненты скорости $v_x$ и $v_y$ в месте контакта. Это позволяет нам записать тангенциальное трение компоненты силы:"
   ]
  },
  {
   "cell_type": "code",
   "execution_count": null,
   "id": "aede8ecd",
   "metadata": {
    "execution": {
     "iopub.execute_input": "2023-06-28T09:20:15.611452Z",
     "iopub.status.busy": "2023-06-28T09:20:15.611199Z",
     "iopub.status.idle": "2023-06-28T09:20:15.637817Z",
     "shell.execute_reply": "2023-06-28T09:20:15.636980Z"
    }
   },
   "outputs": [
    {
     "ename": "",
     "evalue": "",
     "output_type": "error",
     "traceback": [
      "\u001b[1;31mFailed to start the Kernel '.venv (Python 3.11.6)'. \n",
      "\u001b[1;31mView Jupyter <a href='command:jupyter.viewOutput'>log</a> for further details. ENOENT: no such file or directory, open '/tmp/kernel-v2-453921z5MI59DKy2Y4.json'"
     ]
    }
   ],
   "source": [
    "mu = sm.symbols('mu')\n",
    "\n",
    "vx = r_O_P.dot(N.x).diff(t)\n",
    "vy = r_O_P.dot(N.y).diff(t)\n",
    "\n",
    "Fx = -sm.Abs(vx)/vx*mu*Fz.dot(N.z)*N.x\n",
    "Fx"
   ]
  },
  {
   "cell_type": "code",
   "execution_count": null,
   "id": "1dc3ebe2",
   "metadata": {
    "execution": {
     "iopub.execute_input": "2023-06-28T09:20:15.642171Z",
     "iopub.status.busy": "2023-06-28T09:20:15.640720Z",
     "iopub.status.idle": "2023-06-28T09:20:15.660473Z",
     "shell.execute_reply": "2023-06-28T09:20:15.659592Z"
    }
   },
   "outputs": [
    {
     "ename": "",
     "evalue": "",
     "output_type": "error",
     "traceback": [
      "\u001b[1;31mFailed to start the Kernel '.venv (Python 3.11.6)'. \n",
      "\u001b[1;31mView Jupyter <a href='command:jupyter.viewOutput'>log</a> for further details. ENOENT: no such file or directory, open '/tmp/kernel-v2-453921z5MI59DKy2Y4.json'"
     ]
    }
   ],
   "source": [
    "Fy = -sm.Abs(vy)/vy*mu*Fz.dot(N.z)*N.y\n",
    "Fy"
   ]
  },
  {
   "cell_type": "markdown",
   "id": "896c824f",
   "metadata": {},
   "source": [
    "Эти числа измерений для вектора силы затем оцениваются как ноль, когда возникает нет проникновения $z_p$ и оценивается как пружина, демпфер и кулон трение, когда оно есть. \n",
    "\n",
    "Например, используя такие числовые значения для установки проникновение: "
   ]
  },
  {
   "cell_type": "code",
   "execution_count": null,
   "id": "94ea8c84",
   "metadata": {
    "execution": {
     "iopub.execute_input": "2023-06-28T09:20:15.663973Z",
     "iopub.status.busy": "2023-06-28T09:20:15.663718Z",
     "iopub.status.idle": "2023-06-28T09:20:15.671502Z",
     "shell.execute_reply": "2023-06-28T09:20:15.670741Z"
    }
   },
   "outputs": [
    {
     "ename": "",
     "evalue": "",
     "output_type": "error",
     "traceback": [
      "\u001b[1;31mFailed to start the Kernel '.venv (Python 3.11.6)'. \n",
      "\u001b[1;31mView Jupyter <a href='command:jupyter.viewOutput'>log</a> for further details. ENOENT: no such file or directory, open '/tmp/kernel-v2-453921z5MI59DKy2Y4.json'"
     ]
    }
   ],
   "source": [
    "vz = me.dynamicsymbols('v_z', negative=True)\n",
    "\n",
    "repl = {zd: vz, z: sm.Symbol('z', positive=True)}\n",
    "\n",
    "Fx.xreplace(repl), Fy.xreplace(repl), Fz.xreplace(repl)"
   ]
  },
  {
   "cell_type": "code",
   "execution_count": null,
   "id": "fe697b90",
   "metadata": {
    "execution": {
     "iopub.execute_input": "2023-06-28T09:20:15.674539Z",
     "iopub.status.busy": "2023-06-28T09:20:15.674278Z",
     "iopub.status.idle": "2023-06-28T09:20:15.694211Z",
     "shell.execute_reply": "2023-06-28T09:20:15.693320Z"
    }
   },
   "outputs": [
    {
     "ename": "",
     "evalue": "",
     "output_type": "error",
     "traceback": [
      "\u001b[1;31mFailed to start the Kernel '.venv (Python 3.11.6)'. \n",
      "\u001b[1;31mView Jupyter <a href='command:jupyter.viewOutput'>log</a> for further details. ENOENT: no such file or directory, open '/tmp/kernel-v2-453921z5MI59DKy2Y4.json'"
     ]
    }
   ],
   "source": [
    "vz = me.dynamicsymbols('v_z', negative=True)\n",
    "\n",
    "repl = {zd: vz, z: sm.Symbol('z', negative=True)}\n",
    "\n",
    "Fx.xreplace(repl), Fy.xreplace(repl), Fz.xreplace(repl)"
   ]
  },
  {
   "cell_type": "markdown",
   "id": "60ccffd5",
   "metadata": {},
   "source": [
    "Наконец, полная сила, действующая на частицу, контактирующую с поверхностью: "
   ]
  },
  {
   "cell_type": "code",
   "execution_count": null,
   "id": "35ea3d92",
   "metadata": {
    "execution": {
     "iopub.execute_input": "2023-06-28T09:20:15.697234Z",
     "iopub.status.busy": "2023-06-28T09:20:15.696952Z",
     "iopub.status.idle": "2023-06-28T09:20:15.718716Z",
     "shell.execute_reply": "2023-06-28T09:20:15.716727Z"
    }
   },
   "outputs": [
    {
     "ename": "",
     "evalue": "",
     "output_type": "error",
     "traceback": [
      "\u001b[1;31mFailed to start the Kernel '.venv (Python 3.11.6)'. \n",
      "\u001b[1;31mView Jupyter <a href='command:jupyter.viewOutput'>log</a> for further details. ENOENT: no such file or directory, open '/tmp/kernel-v2-453921z5MI59DKy2Y4.json'"
     ]
    }
   ],
   "source": [
    "Fx + Fy + Fz"
   ]
  }
 ],
 "metadata": {
  "kernelspec": {
   "display_name": "Python 3 (ipykernel)",
   "language": "python",
   "name": "python3"
  },
  "language_info": {
   "codemirror_mode": {
    "name": "ipython",
    "version": 3
   },
   "file_extension": ".py",
   "mimetype": "text/x-python",
   "name": "python",
   "nbconvert_exporter": "python",
   "pygments_lexer": "ipython3",
   "version": "3.11.6"
  }
 },
 "nbformat": 4,
 "nbformat_minor": 5
}
