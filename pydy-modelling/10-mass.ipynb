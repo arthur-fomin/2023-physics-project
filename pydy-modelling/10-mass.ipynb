{
 "cells": [
  {
   "cell_type": "code",
   "execution_count": 1,
   "id": "9dca71ee",
   "metadata": {
    "execution": {
     "iopub.execute_input": "2023-06-28T09:20:17.766772Z",
     "iopub.status.busy": "2023-06-28T09:20:17.766510Z",
     "iopub.status.idle": "2023-06-28T09:20:18.377006Z",
     "shell.execute_reply": "2023-06-28T09:20:18.376073Z"
    }
   },
   "outputs": [],
   "source": [
    "import sympy as sm\n",
    "import sympy.physics.mechanics as me\n",
    "me.init_vprinting(use_latex='mathjax')"
   ]
  },
  {
   "cell_type": "code",
   "execution_count": 2,
   "id": "3f74195c",
   "metadata": {
    "execution": {
     "iopub.execute_input": "2023-06-28T09:20:18.380713Z",
     "iopub.status.busy": "2023-06-28T09:20:18.380383Z",
     "iopub.status.idle": "2023-06-28T09:20:18.386300Z",
     "shell.execute_reply": "2023-06-28T09:20:18.385513Z"
    }
   },
   "outputs": [],
   "source": [
    "class ReferenceFrame(me.ReferenceFrame):\n",
    "\n",
    "    def __init__(self, *args, **kwargs):\n",
    "\n",
    "        kwargs.pop('latexs', None)\n",
    "\n",
    "        lab = args[0].lower()\n",
    "        tex = r'\\hat{{{}}}_{}'\n",
    "\n",
    "        super(ReferenceFrame, self).__init__(*args,\n",
    "                                             latexs=(tex.format(lab, 'x'),\n",
    "                                                     tex.format(lab, 'y'),\n",
    "                                                     tex.format(lab, 'z')),\n",
    "                                             **kwargs)\n",
    "me.ReferenceFrame = ReferenceFrame"
   ]
  },
  {
   "cell_type": "markdown",
   "id": "79059b19",
   "metadata": {},
   "source": [
    "### Масса"
   ]
  },
  {
   "cell_type": "markdown",
   "id": "21805a4e",
   "metadata": {},
   "source": [
    "В прошлых разделах показаны инструменты для формулирования кинематики, точек и систем отсчета. \n",
    "Кинематика является первой из трех основных части, необходимых для формирования уравнений движения системы многих тел; остальные --- распределение массы и силы, действующие на систему.\n",
    "\n",
    "Когда точка связана с частицей массы $m$, или система отсчета  связана с твердым телом, имеющим некоторое распределение массы, вторые законы движения [Ньютона](https://en.wikipedia.org/wiki/Newton%27s_laws_of_motion) и [Эйлера](https://en.wikipedia.org/wiki/Euler%27s_laws_of_motion) показывают, что изменение во времени\n",
    "* импульса (линейного момента) должно быть равно силам, действующим на частицу.\n",
    "* углового момента должно быть равно крутящим моментам, на твердое тело. \n",
    "\n",
    "Импульс частицы определяется ее массой и скоростью.\n",
    "Угловой момент твердого тела определяется распределением массы и его угловой скоростью. \n"
   ]
  },
  {
   "cell_type": "markdown",
   "id": "851564ca",
   "metadata": {},
   "source": [
    "### Частицы и твердые тела"
   ]
  },
  {
   "cell_type": "markdown",
   "id": "7ab5fbe7",
   "metadata": {},
   "source": [
    "Понятия частиц и твердых тел — это абстракции реальных перемещающихся и вращающихся объектов. \n",
    "\n",
    "Частицы — это точки, расположенные в евклидовом пространстве и имеющие бесконечно малые по объему массы. \n",
    "\n",
    "Твердые тела – это системы отсчета, которые имеют ориентацию, которая имеет связанное с ней непрерывное распределение массы. Распределение массы можно представить как бесконечную совокупность точек, распределенных в конечной объемной границе. \n",
    "Все точки, распределенные в объеме фиксируются друг к другу и перемещаются вместе.\n",
    "\n",
    "Например, самолет можно смоделировать как твердое тело, когда речь идет о его перемещении или ориентации, для исследования минимального радиуса поворота и угла крена. Но можно моделировать его как частицу, когда речь идет только о ее перемещении, например, когда наблюдаем движение самолета снаружи атмосферы Земли. "
   ]
  },
  {
   "cell_type": "markdown",
   "id": "72724523",
   "metadata": {},
   "source": [
    "### Масса\n",
    "\n",
    "Если задано $\\nu$ частиц с массами $m_1,\\ldots,m_\\nu$, общая масса, или нулевой момент масс этого множества определен как \n",
    "\n",
    "$$\n",
    "   m := \\sum_{i=1}^\\nu m_i\n",
    "$$"
   ]
  },
  {
   "cell_type": "markdown",
   "id": "1f357b84",
   "metadata": {},
   "source": [
    "Например, какова масса объекта, состоящего из двух частиц массы $m$ и твердого тела с массой $m/2$? "
   ]
  },
  {
   "cell_type": "code",
   "execution_count": 3,
   "id": "df2235aa",
   "metadata": {
    "execution": {
     "iopub.execute_input": "2023-06-28T09:20:18.389456Z",
     "iopub.status.busy": "2023-06-28T09:20:18.389210Z",
     "iopub.status.idle": "2023-06-28T09:20:18.396559Z",
     "shell.execute_reply": "2023-06-28T09:20:18.395737Z"
    }
   },
   "outputs": [
    {
     "data": {
      "text/latex": [
       "$\\displaystyle \\frac{5 m}{2}$"
      ],
      "text/plain": [
       "5⋅m\n",
       "───\n",
       " 2 "
      ]
     },
     "execution_count": 3,
     "metadata": {},
     "output_type": "execute_result"
    }
   ],
   "source": [
    "m = sm.symbols('m')\n",
    "\n",
    "m_total = m + m + m/2\n",
    "m_total"
   ]
  },
  {
   "cell_type": "markdown",
   "id": "832e9cbc",
   "metadata": {},
   "source": [
    "\n",
    "\n",
    "Для твердого тела с плотностью ρ определенной в каждой точке объёма V, общая масса это интеграл общего вида: \n",
    "\n",
    "$$\n",
    "   m := \\int_{\\textrm{solid}} \\rho dV\n",
    "$$"
   ]
  },
  {
   "cell_type": "markdown",
   "id": "08ea5b12",
   "metadata": {},
   "source": [
    "Например, посчитаем массу конуса при одинаковой плотности ρ, радиус r и высота h.\n",
    " "
   ]
  },
  {
   "cell_type": "code",
   "execution_count": 4,
   "id": "f0f8ea76",
   "metadata": {
    "execution": {
     "iopub.execute_input": "2023-06-28T09:20:18.401117Z",
     "iopub.status.busy": "2023-06-28T09:20:18.400834Z",
     "iopub.status.idle": "2023-06-28T09:20:18.450773Z",
     "shell.execute_reply": "2023-06-28T09:20:18.449962Z"
    }
   },
   "outputs": [
    {
     "data": {
      "text/latex": [
       "$\\displaystyle \\frac{\\pi h r^{2} \\rho}{3}$"
      ],
      "text/plain": [
       "     2  \n",
       "π⋅h⋅r ⋅ρ\n",
       "────────\n",
       "   3    "
      ]
     },
     "execution_count": 4,
     "metadata": {},
     "output_type": "execute_result"
    }
   ],
   "source": [
    "p, r, h, z, theta = sm.symbols('rho, r, h, z, theta')\n",
    "\n",
    "sm.integrate(p*r, (r, 0, r/h*z), (theta, 0, 2*sm.pi), (z, 0, h))"
   ]
  },
  {
   "cell_type": "markdown",
   "id": "54e29f7f",
   "metadata": {},
   "source": [
    "### Центр масс"
   ]
  },
  {
   "cell_type": "markdown",
   "id": "9d902956",
   "metadata": {},
   "source": [
    "Если для каждой частицы из некого множества $S$ задана позиция $\\bar{r}^{P_i/O},\\ldots,\\bar{r}^{P_\\nu/O}$ первый момент массы определяется как:\n",
    "\n",
    "$$\n",
    "   \\sum_{i=1}^\\nu m_i \\bar{r}^{P_i/O}\\textrm{.}\n",
    "$$\n",
    "\n",
    "Существует точка, в которой он равен нулю:\n",
    "\n",
    "$$\n",
    "   \\sum_{i=1}^\\nu m_i \\bar{r}^{P_i/S_o} = 0\\textrm{.}\n",
    "$$\n",
    "\n",
    "Эту точку $S_o$ определяют как *центр масс* множества частиц. \n",
    "\n",
    "Положение центра масс можно определить делением первого момента масс на нулевой (полную массу):\n",
    "\n",
    "$$\n",
    "   \\bar{r}^{S_o/O} = \\frac{ \\sum_{i=1}^\\nu m_i \\bar{r}^{P_i/O} }{\\sum_{i=1}^\\nu m_i}\\textrm{.}\n",
    "$$\n",
    "\n",
    "Для твердого тела, это записывается в виде интеграла:\n",
    "\n",
    "$$\n",
    "   \\bar{r}^{S_o/O} = \\frac{ \\int_{\\textrm{solid}} \\rho \\bar{r} dV }{ \\int_{\\textrm{solid}} \\rho dV }\n",
    "$$\n",
    "\n",
    "Посчитаем центр масс в «SymPy Mechanics» используя три частицы в произвольных положениях относительно $O$:"
   ]
  },
  {
   "cell_type": "code",
   "execution_count": 5,
   "id": "1425cad6",
   "metadata": {
    "execution": {
     "iopub.execute_input": "2023-06-28T09:20:18.453775Z",
     "iopub.status.busy": "2023-06-28T09:20:18.453503Z",
     "iopub.status.idle": "2023-06-28T09:20:18.479900Z",
     "shell.execute_reply": "2023-06-28T09:20:18.479042Z"
    }
   },
   "outputs": [
    {
     "data": {
      "text/latex": [
       "$\\displaystyle (m_{1} x_{1} + m_{2} x_{2} + m_{3} x_{3})\\hat{a}_x + (m_{1} y_{1} + m_{2} y_{2} + m_{3} y_{3})\\hat{a}_y + (m_{1} z_{1} + m_{2} z_{2} + m_{3} z_{3})\\hat{a}_z$"
      ],
      "text/plain": [
       "(m₁⋅x₁ + m₂⋅x₂ + m₃⋅x₃) a_x + (m₁⋅y₁ + m₂⋅y₂ + m₃⋅y₃) a_y + (m₁⋅z₁ + m₂⋅z₂ + m\n",
       "₃⋅z₃) a_z"
      ]
     },
     "execution_count": 5,
     "metadata": {},
     "output_type": "execute_result"
    }
   ],
   "source": [
    "m1, m2, m3 = sm.symbols('m1 m2 m3')\n",
    "x1, x2, x3 = me.dynamicsymbols('x1 x2 x3')\n",
    "y1, y2, y3 = me.dynamicsymbols('y1 y2 y3')\n",
    "z1, z2, z3 = me.dynamicsymbols('z1 z2 z3')\n",
    "\n",
    "A = me.ReferenceFrame('A')\n",
    "\n",
    "zeroth_moment = (m1 + m2 + m3)\n",
    "\n",
    "first_moment = (m1*(x1*A.x + y1*A.y + z1*A.z) +\n",
    "                m2*(x2*A.x + y2*A.y + z2*A.z) +\n",
    "                m3*(x3*A.x + y3*A.y + z3*A.z))\n",
    "first_moment"
   ]
  },
  {
   "cell_type": "code",
   "execution_count": 6,
   "id": "86c4a658",
   "metadata": {
    "execution": {
     "iopub.execute_input": "2023-06-28T09:20:18.483156Z",
     "iopub.status.busy": "2023-06-28T09:20:18.482850Z",
     "iopub.status.idle": "2023-06-28T09:20:18.503575Z",
     "shell.execute_reply": "2023-06-28T09:20:18.502478Z"
    }
   },
   "outputs": [
    {
     "data": {
      "text/latex": [
       "$\\displaystyle \\frac{m_{1} x_{1} + m_{2} x_{2} + m_{3} x_{3}}{m_{1} + m_{2} + m_{3}}\\hat{a}_x + \\frac{m_{1} y_{1} + m_{2} y_{2} + m_{3} y_{3}}{m_{1} + m_{2} + m_{3}}\\hat{a}_y + \\frac{m_{1} z_{1} + m_{2} z_{2} + m_{3} z_{3}}{m_{1} + m_{2} + m_{3}}\\hat{a}_z$"
      ],
      "text/plain": [
       "m₁⋅x₁ + m₂⋅x₂ + m₃⋅x₃       m₁⋅y₁ + m₂⋅y₂ + m₃⋅y₃       m₁⋅z₁ + m₂⋅z₂ + m₃⋅z₃\n",
       "───────────────────── a_x + ───────────────────── a_y + ─────────────────────\n",
       "     m₁ + m₂ + m₃                m₁ + m₂ + m₃                m₁ + m₂ + m₃\n",
       "\n",
       "\n",
       "a_z\n"
      ]
     },
     "execution_count": 6,
     "metadata": {},
     "output_type": "execute_result"
    }
   ],
   "source": [
    "r_O_So =  first_moment/zeroth_moment\n",
    "r_O_So"
   ]
  },
  {
   "cell_type": "code",
   "execution_count": 7,
   "id": "3abc12f0",
   "metadata": {
    "execution": {
     "iopub.execute_input": "2023-06-28T09:20:18.507196Z",
     "iopub.status.busy": "2023-06-28T09:20:18.506726Z",
     "iopub.status.idle": "2023-06-28T09:20:18.629873Z",
     "shell.execute_reply": "2023-06-28T09:20:18.629000Z"
    }
   },
   "outputs": [
    {
     "data": {
      "text/latex": [
       "$\\displaystyle (\\frac{x_{1}}{6} + \\frac{x_{2}}{3} + \\frac{x_{3}}{2})\\hat{a}_x + (\\frac{y_{1}}{6} + \\frac{y_{2}}{3} + \\frac{y_{3}}{2})\\hat{a}_y + (\\frac{z_{1}}{6} + \\frac{z_{2}}{3} + \\frac{z_{3}}{2})\\hat{a}_z$"
      ],
      "text/plain": [
       "⎛x₁   x₂   x₃⎞       ⎛y₁   y₂   y₃⎞       ⎛z₁   z₂   z₃⎞\n",
       "⎜── + ── + ──⎟ a_x + ⎜── + ── + ──⎟ a_y + ⎜── + ── + ──⎟ a_z\n",
       "⎝6    3    2 ⎠       ⎝6    3    2 ⎠       ⎝6    3    2 ⎠"
      ]
     },
     "execution_count": 7,
     "metadata": {},
     "output_type": "execute_result"
    }
   ],
   "source": [
    "r_O_So.xreplace({m2: 2*m1, m3: 3*m1}).simplify()"
   ]
  },
  {
   "cell_type": "markdown",
   "id": "fdf5c5bd",
   "metadata": {},
   "source": [
    "### Инерция или распределение массы \n",
    "\n",
    "Инерция, или второй момент массы, описывает распределение массы относительно оси. Инерция характеризует «сопротивление» угловому ускорение точно так же, как масса характеризует «сопротивление» линейному ускорению. \n",
    "\n",
    "Для набора частиц $P_1,\\ldots,P_\\nu$ c позициями $\\bar{r}^{P_1/O},\\ldots,\\bar{r}^{P_\\nu/O}$ относительно точка $O$, *вектор инерции* относительно единичного вектора $\\hat{n}_a$ определяется как:\n",
    "\n",
    "$$\n",
    "   \\bar{I}_a := \\sum_{i=1}^\\nu m_i \\bar{r}^{P_i/O} \\times \\left( \\hat{n}_a \\times\n",
    "   \\bar{r}^{P_i/O}  \\right)\n",
    "$$\n",
    "\n",
    "Этот вектор описывает сумму вклада каждой частицы в общую массу, относительно прямой, параллельной $\\hat{n}_a$ и проходящей через $O$. \n",
    "\n"
   ]
  },
  {
   "cell_type": "markdown",
   "id": "4fe823d9",
   "metadata": {},
   "source": [
    "\n",
    "Рисунок показывает визуальное представление этого вектора для одной частицы $P$ массой $m$. \n",
    "\n",
    "![](figures/mass-inertia-vector.svg)\n",
    "\n",
    "Для этой единственной частицы инерция:\n",
    "\n",
    "$$\n",
    "  \\left| \\bar{I}_a \\right| = m \\left| \\bar{r}^{P/O} \\right| ^2 | \\sin\\theta |\n",
    "$$\n",
    "где $\\theta$ — угол между $\\bar{r}^{P/O}$ и $\\hat{n}_a$. \n",
    "\n",
    "Видно, что $\\bar{I}_a$ всегда перпендикулярно $\\bar{r}^{P/O}$ и пропорционально $m$, $| \\bar{r}^{P/O} |^2$, и $\\sin\\theta$.\n",
    "\n",
    "Если $\\hat{n}_a$ параллельно $\\bar{r}^{P/O}$ то величина $\\bar{I}_a$` нулевая. \n",
    "\n",
    "Если $\\hat{n}_a$ перпендикулярно $\\bar{r}^{P/O}$ то величина инерции\n",
    "\n",
    "$$\n",
    "   \\left| \\bar{I}_a \\right| = m \\left| \\bar{r}^{P/O} \\right| ^2\n",
    "$$\n"
   ]
  },
  {
   "cell_type": "markdown",
   "id": "0d80b425",
   "metadata": {},
   "source": [
    "Вектор инерции полностью описывает распределение частиц относительно вектора $\\hat{n}_a$ проходящего через $O$.\n",
    "\n",
    "Проекция $\\bar{I}_a$ в направлении $\\hat{n}_b$ называется *скаляром инерции*:\n",
    "\n",
    "$$\n",
    "   I_{ab} := \\bar{I}_{a} \\cdot \\hat{n}_b\n",
    "$$\n",
    "\n",
    "что можно переписать как\n",
    "\n",
    "$$\n",
    "   I_{ab} =\n",
    "   \\sum_{i=1}^\\nu m_i\n",
    "   \\left( \\bar{r}^{P_i/O} \\times \\hat{n}_a \\right)\n",
    "   \\cdot\n",
    "   \\left( \\bar{r}^{P_i/O} \\times \\hat{n}_b \\right)\\textrm{.}\n",
    "$$\n",
    "\n",
    "Из этого следует\n",
    "\n",
    "$$\n",
    "   I_{ab} = I_{ba}\n",
    "$$\n",
    "\n",
    "Если $\\hat{n}_a = \\hat{n}_b$ то скаляр инерции называется *моментом инерции*, и если $\\hat{n}_a \\neq \\hat{n}_b$ ` то это *центробежный момент инерции* (*product of\n",
    "inertia*). \n",
    "\n",
    "Моменты инерции определяют распределения масс относительно некой единой оси, а центробежный момент — относительно двух осей.\n",
    "\n",
    "Если $\\hat{n}_a = \\hat{n}_b$ центробежный момент схлопывается до обычного момента инерции:\n",
    "\n",
    "$$\n",
    "   I_{aa} =\n",
    "   \\sum_{i=1}^\\nu m_i\n",
    "   \\left( \\bar{r}^{P_i/O} \\times \\hat{n}_a \\right) \\cdot\n",
    "   \\left( \\bar{r}^{P_i/O} \\times \\hat{n}_a \\right)\n",
    "$$\n",
    "\n"
   ]
  },
  {
   "cell_type": "markdown",
   "id": "bb018a72",
   "metadata": {},
   "source": [
    "\n",
    "Можно также определить *радиус инерции* $k_{aa}$, равный радиусу кольца, имеющего такой же момент инерции.\n",
    "\n",
    "Радиус инерции относительно оси через $O$ параллельной $\\hat{n}_a$:\n",
    "\n",
    "$$\n",
    "   k_{aa} := \\sqrt{\\frac{I_{aa}}{m}}\n",
    "$$"
   ]
  },
  {
   "cell_type": "markdown",
   "id": "2940de4b",
   "metadata": {},
   "source": [
    "Пример. Три массы $m$, $2m$, $3m$ могут скользить по кругу радиуса $r$, с фиксированными углами между ними.\n",
    "\n",
    "![](figures/mass-ring.svg)\n",
    "\n",
    "Надо найти острый угол от линии, проходящей от центра кольца к $m$ к линии, касательной к кольцу в точке $O$ что сводит к минимуму общий радиус вращения всех трех масс вокруг линии, касательной к кольцу. "
   ]
  },
  {
   "cell_type": "code",
   "execution_count": 8,
   "id": "e163de2b",
   "metadata": {
    "execution": {
     "iopub.execute_input": "2023-06-28T09:20:18.633162Z",
     "iopub.status.busy": "2023-06-28T09:20:18.632903Z",
     "iopub.status.idle": "2023-06-28T09:20:18.640321Z",
     "shell.execute_reply": "2023-06-28T09:20:18.636498Z"
    }
   },
   "outputs": [],
   "source": [
    "m, r, theta = sm.symbols('m r theta')\n",
    "A = me.ReferenceFrame('A')"
   ]
  },
  {
   "cell_type": "markdown",
   "id": "fb8e7917",
   "metadata": {},
   "source": [
    "Векторы положения для каждой из масс: "
   ]
  },
  {
   "cell_type": "code",
   "execution_count": 9,
   "id": "29f02786",
   "metadata": {
    "execution": {
     "iopub.execute_input": "2023-06-28T09:20:18.643471Z",
     "iopub.status.busy": "2023-06-28T09:20:18.642932Z",
     "iopub.status.idle": "2023-06-28T09:20:18.661350Z",
     "shell.execute_reply": "2023-06-28T09:20:18.660475Z"
    }
   },
   "outputs": [],
   "source": [
    "r_O_m = (r + r*sm.sin(theta))*A.x + r*sm.cos(theta)*A.y\n",
    "r_O_2m = (r + r*sm.sin(theta + sm.pi/7))*A.x + r*sm.cos(theta + sm.pi/7)*A.y\n",
    "r_O_3m = (r + r*sm.sin(theta - sm.pi/6))*A.x + r*sm.cos(theta - sm.pi/6)*A.y"
   ]
  },
  {
   "cell_type": "markdown",
   "id": "249c8569",
   "metadata": {},
   "source": [
    "Скаляр инерции для момента инерции относительно точки $O$ и $\\hat{a}_y$"
   ]
  },
  {
   "cell_type": "code",
   "execution_count": 10,
   "id": "69ac8226",
   "metadata": {
    "execution": {
     "iopub.execute_input": "2023-06-28T09:20:18.664710Z",
     "iopub.status.busy": "2023-06-28T09:20:18.664425Z",
     "iopub.status.idle": "2023-06-28T09:20:18.705990Z",
     "shell.execute_reply": "2023-06-28T09:20:18.705000Z"
    }
   },
   "outputs": [
    {
     "data": {
      "text/latex": [
       "$\\displaystyle m \\left(r \\sin{\\left(\\theta \\right)} + r\\right)^{2} + 2 m \\left(r \\sin{\\left(\\theta + \\frac{\\pi}{7} \\right)} + r\\right)^{2} + 3 m \\left(- r \\cos{\\left(\\theta + \\frac{\\pi}{3} \\right)} + r\\right)^{2}$"
      ],
      "text/plain": [
       "                                          2                           2\n",
       "                2       ⎛     ⎛    π⎞    ⎞        ⎛       ⎛    π⎞    ⎞ \n",
       "m⋅(r⋅sin(θ) + r)  + 2⋅m⋅⎜r⋅sin⎜θ + ─⎟ + r⎟  + 3⋅m⋅⎜- r⋅cos⎜θ + ─⎟ + r⎟ \n",
       "                        ⎝     ⎝    7⎠    ⎠        ⎝       ⎝    3⎠    ⎠ "
      ]
     },
     "execution_count": 10,
     "metadata": {},
     "output_type": "execute_result"
    }
   ],
   "source": [
    "Iyy = (m*me.dot(r_O_m.cross(A.y), r_O_m.cross(A.y)) +\n",
    "       2*m*me.dot(r_O_2m.cross(A.y), r_O_2m.cross(A.y)) +\n",
    "       3*m*me.dot(r_O_3m.cross(A.y), r_O_3m.cross(A.y)))\n",
    "Iyy"
   ]
  },
  {
   "cell_type": "markdown",
   "id": "376f3c3a",
   "metadata": {},
   "source": [
    "Признавая, что радиус вращения минимален, когда момент инерция минимизирована, можно взять производную момента инерции относительно θ и приравняем ее нулю. "
   ]
  },
  {
   "cell_type": "code",
   "execution_count": 11,
   "id": "6c74954e",
   "metadata": {
    "execution": {
     "iopub.execute_input": "2023-06-28T09:20:18.709296Z",
     "iopub.status.busy": "2023-06-28T09:20:18.708955Z",
     "iopub.status.idle": "2023-06-28T09:20:19.533755Z",
     "shell.execute_reply": "2023-06-28T09:20:19.532747Z"
    }
   },
   "outputs": [
    {
     "data": {
      "text/latex": [
       "$\\displaystyle 2 m r^{2} \\left(\\left(\\sin{\\left(\\theta \\right)} + 1\\right) \\cos{\\left(\\theta \\right)} + 2 \\left(\\sin{\\left(\\theta + \\frac{\\pi}{7} \\right)} + 1\\right) \\cos{\\left(\\theta + \\frac{\\pi}{7} \\right)} - 3 \\left(\\cos{\\left(\\theta + \\frac{\\pi}{3} \\right)} - 1\\right) \\sin{\\left(\\theta + \\frac{\\pi}{3} \\right)}\\right)$"
      ],
      "text/plain": [
       "     2 ⎛                        ⎛   ⎛    π⎞    ⎞    ⎛    π⎞     ⎛   ⎛    π⎞   \n",
       "2⋅m⋅r ⋅⎜(sin(θ) + 1)⋅cos(θ) + 2⋅⎜sin⎜θ + ─⎟ + 1⎟⋅cos⎜θ + ─⎟ - 3⋅⎜cos⎜θ + ─⎟ - \n",
       "       ⎝                        ⎝   ⎝    7⎠    ⎠    ⎝    7⎠     ⎝   ⎝    3⎠   \n",
       "\n",
       " ⎞    ⎛    π⎞⎞\n",
       "1⎟⋅sin⎜θ + ─⎟⎟\n",
       " ⎠    ⎝    3⎠⎠"
      ]
     },
     "execution_count": 11,
     "metadata": {},
     "output_type": "execute_result"
    }
   ],
   "source": [
    "dIyydtheta = sm.simplify(Iyy.diff(theta))\n",
    "dIyydtheta"
   ]
  },
  {
   "cell_type": "markdown",
   "id": "663f1252",
   "metadata": {},
   "source": [
    "Мы можем сократить все на $mr^2$ решить численно, т.к. $\\theta$ останется единственной переменной:\n"
   ]
  },
  {
   "cell_type": "code",
   "execution_count": 12,
   "id": "336a29b8",
   "metadata": {
    "execution": {
     "iopub.execute_input": "2023-06-28T09:20:19.537844Z",
     "iopub.status.busy": "2023-06-28T09:20:19.537348Z",
     "iopub.status.idle": "2023-06-28T09:20:19.567008Z",
     "shell.execute_reply": "2023-06-28T09:20:19.566103Z"
    }
   },
   "outputs": [
    {
     "data": {
      "text/latex": [
       "$\\displaystyle -1.49935061382135$"
      ],
      "text/plain": [
       "-1.49935061382135"
      ]
     },
     "execution_count": 12,
     "metadata": {},
     "output_type": "execute_result"
    }
   ],
   "source": [
    "theta_sol = sm.nsolve((dIyydtheta/m/r**2).evalf(), theta, 0)\n",
    "theta_sol"
   ]
  },
  {
   "cell_type": "markdown",
   "id": "435dd536",
   "metadata": {},
   "source": [
    "В градусах это: "
   ]
  },
  {
   "cell_type": "code",
   "execution_count": 13,
   "id": "534ee2ad",
   "metadata": {
    "execution": {
     "iopub.execute_input": "2023-06-28T09:20:19.570812Z",
     "iopub.status.busy": "2023-06-28T09:20:19.570540Z",
     "iopub.status.idle": "2023-06-28T09:20:19.576227Z",
     "shell.execute_reply": "2023-06-28T09:20:19.575400Z"
    }
   },
   "outputs": [
    {
     "data": {
      "text/latex": [
       "$\\displaystyle -85.9064621823125$"
      ],
      "text/plain": [
       "-85.9064621823125"
      ]
     },
     "execution_count": 13,
     "metadata": {},
     "output_type": "execute_result"
    }
   ],
   "source": [
    "import math\n",
    "\n",
    "theta_sol*180/math.pi"
   ]
  },
  {
   "cell_type": "code",
   "execution_count": 14,
   "id": "dffc176b",
   "metadata": {
    "execution": {
     "iopub.execute_input": "2023-06-28T09:20:19.579104Z",
     "iopub.status.busy": "2023-06-28T09:20:19.578726Z",
     "iopub.status.idle": "2023-06-28T09:20:19.604689Z",
     "shell.execute_reply": "2023-06-28T09:20:19.603894Z"
    }
   },
   "outputs": [
    {
     "data": {
      "text/latex": [
       "$\\displaystyle \\sqrt{\\frac{m \\left(r \\sin{\\left(\\theta \\right)} + r\\right)^{2} + 2 m \\left(r \\sin{\\left(\\theta + \\frac{\\pi}{7} \\right)} + r\\right)^{2} + 3 m \\left(- r \\cos{\\left(\\theta + \\frac{\\pi}{3} \\right)} + r\\right)^{2}}{m}}$"
      ],
      "text/plain": [
       "       _______________________________________________________________________\n",
       "      ╱                                           2                           \n",
       "     ╱                  2       ⎛     ⎛    π⎞    ⎞        ⎛       ⎛    π⎞    ⎞\n",
       "    ╱   m⋅(r⋅sin(θ) + r)  + 2⋅m⋅⎜r⋅sin⎜θ + ─⎟ + r⎟  + 3⋅m⋅⎜- r⋅cos⎜θ + ─⎟ + r⎟\n",
       "   ╱                            ⎝     ⎝    7⎠    ⎠        ⎝       ⎝    3⎠    ⎠\n",
       "  ╱     ──────────────────────────────────────────────────────────────────────\n",
       "╲╱                                         m                                  \n",
       "\n",
       "__\n",
       "2 \n",
       "  \n",
       "  \n",
       "  \n",
       "─ \n",
       "  "
      ]
     },
     "execution_count": 14,
     "metadata": {},
     "output_type": "execute_result"
    }
   ],
   "source": [
    "kyy = sm.sqrt(Iyy/m)\n",
    "kyy"
   ]
  },
  {
   "cell_type": "markdown",
   "id": "5ea817e9",
   "metadata": {},
   "source": [
    "Функция [`plot()`](https://docs.sympy.org/latest/modules/plotting.html#sympy.plotting.plot.plot) может быстро нарисовать график функций одной переменной. \n",
    "\n",
    "Здесь мы видим, что вращение множества масс вокруг кольца будут максимизировать и минимизировать радиус вращения, и что наше решение является минимумом. \n",
    "\n",
    "Мы зафиксировали $m=r=1$, чтобы график был только от θ."
   ]
  },
  {
   "cell_type": "code",
   "execution_count": 15,
   "id": "330f995d",
   "metadata": {
    "execution": {
     "iopub.execute_input": "2023-06-28T09:20:19.608504Z",
     "iopub.status.busy": "2023-06-28T09:20:19.608108Z",
     "iopub.status.idle": "2023-06-28T09:20:20.843630Z",
     "shell.execute_reply": "2023-06-28T09:20:20.842052Z"
    }
   },
   "outputs": [
    {
     "name": "stdout",
     "output_type": "stream",
     "text": [
      "    4.7 |              ..               ..               ..     \n",
      "        |                .                .                .    \n",
      "        |             .                .                .       \n",
      "        |.                .                                     \n",
      "        |            .                .    .           .    .   \n",
      "        |                                                       \n",
      "        | .                .                                    \n",
      "        |           .                .      .         .      .  \n",
      "        |                                                       \n",
      "        |                                                       \n",
      "    2.5 |--.-------.--------.-------.--------.-------.--------.-\n",
      "        |                                                       \n",
      "        |                                                       \n",
      "        |   .                .                .                 \n",
      "        |         .                .                .          .\n",
      "        |                                                       \n",
      "        |    .                .                    .            \n",
      "        |        .                .            .                \n",
      "        |                                                       \n",
      "        |     . .              . .              . .             \n",
      "    0.3 |_______________________________________________________\n",
      "         -10                        0                          10\n"
     ]
    }
   ],
   "source": [
    "sm.plot(kyy.xreplace({m: 1, r: 1}));"
   ]
  },
  {
   "cell_type": "code",
   "execution_count": 16,
   "id": "38af6b1f",
   "metadata": {
    "execution": {
     "iopub.execute_input": "2023-06-28T09:20:20.847344Z",
     "iopub.status.busy": "2023-06-28T09:20:20.847002Z",
     "iopub.status.idle": "2023-06-28T09:20:20.869261Z",
     "shell.execute_reply": "2023-06-28T09:20:20.868453Z"
    }
   },
   "outputs": [
    {
     "data": {
      "text/latex": [
       "$\\displaystyle 0.255558185585985$"
      ],
      "text/plain": [
       "0.255558185585985"
      ]
     },
     "execution_count": 16,
     "metadata": {},
     "output_type": "execute_result"
    }
   ],
   "source": [
    "kyy.xreplace({m: 1, r: 1, theta: theta_sol}).evalf()"
   ]
  },
  {
   "cell_type": "markdown",
   "id": "54f84e48",
   "metadata": {},
   "source": [
    "### Матрица инерции"
   ]
  },
  {
   "cell_type": "markdown",
   "id": "e3a4e7d3",
   "metadata": {},
   "source": [
    "Для взаимно перпендикулярных единичных векторов, фиксированных в системе отсчета «A», можно вычислить моменты и произведения инерции относительно точки $O$ и каждого единичного вектора. \n",
    "\n",
    "Это приводит к девяти скалярам инерции (6 уникальных из-за симметрии, $I_{xy}=I_{yx}$, $I_{xz}=I_{zx}$, $I_{yz}=I_{zy}$), которые описывают массу распределение набора частиц или твердого тела в трехмерном пространстве. \n",
    "\n",
    "Эти скаляры обычно представляются в виде симметричной *матрицы инерции* (также называемой *тензор инерции* ), который принимает такой вид:\n",
    "\n",
    "$$\n",
    "   \\begin{bmatrix}\n",
    "    I_{xx} & I_{xy} & I_{xz} \\\\\n",
    "    I_{yx} & I_{yy} & I_{yz} \\\\\n",
    "    I_{zx} & I_{zy} & I_{zz}\n",
    "   \\end{bmatrix}_A\n",
    "$$\n",
    "\n",
    "где моменты инерции лежат на диагонали, а произведения инерции — это недиагональные записи. \n",
    "\n",
    "Индекс $A$ указывает на то, что эти скаляры рассчитаны относительно к базиса $\\hat{a}_x,\\hat{a}_y,\\hat{a}_z$.\n",
    "\n",
    "Эта матрица, так называемый *тензор второго порядка* аналогична векторам (или *тензору первого порядка*), который у нас уже был для скорости:\n",
    "\n",
    "$$\n",
    "\\begin{bmatrix}\n",
    "   v_1 \\\\\n",
    "   v_2 \\\\\n",
    "   v_3\n",
    "   \\end{bmatrix}_A = v_1\\hat{a}_x + v_2\\hat{a}_y + v_3\\hat{a}_z\n",
    "$$\n",
    "\n",
    "Существует также аналогичная форма для [диадических](https://en.wikipedia.org/wiki/Dyadics) тензоров второго порядка, связанных с разными системами отсчета. "
   ]
  },
  {
   "cell_type": "markdown",
   "id": "313c5fae",
   "metadata": {},
   "source": [
    "## Диадики\n",
    "\n",
    "Если мы введем [внешнее векторное произведение произведения](https://en.wikipedia.org/wiki/Outer_product) между двумя векторами, мы увидим, что он генерирует матрицу, похожую на приведенную выше матрицу инерции.\n",
    "\n",
    "$$\n",
    "   \\begin{bmatrix}\n",
    "   v_1 \\\\ v_2 \\\\ v_3\n",
    "   \\end{bmatrix}_A\n",
    "   \\otimes\n",
    "   \\begin{bmatrix}\n",
    "     w_1 \\\\ w_2 \\\\ w_3\n",
    "   \\end{bmatrix}_A\n",
    "   =\n",
    "   \\begin{bmatrix}\n",
    "   v_1w_1 & v_1w_2 & v_1w_3 \\\\\n",
    "   v_2w_1 & v_2w_2 & v_2w_3 \\\\\n",
    "   v_3w_1 & v_3w_2 & v_3w_3 \\\\\n",
    "   \\end{bmatrix}_A\n",
    "$$\n"
   ]
  },
  {
   "cell_type": "markdown",
   "id": "7f3128a9",
   "metadata": {},
   "source": [
    "В «SymPy Mechanics» так можно делать диадику $\\breve{Q}$: "
   ]
  },
  {
   "cell_type": "code",
   "execution_count": 17,
   "id": "7b5dcf9f",
   "metadata": {
    "execution": {
     "iopub.execute_input": "2023-06-28T09:20:20.872437Z",
     "iopub.status.busy": "2023-06-28T09:20:20.872179Z",
     "iopub.status.idle": "2023-06-28T09:20:20.901074Z",
     "shell.execute_reply": "2023-06-28T09:20:20.900263Z"
    }
   },
   "outputs": [
    {
     "data": {
      "text/latex": [
       "$\\displaystyle v_{1} w_{1}\\hat{a}_x\\otimes \\hat{a}_x + v_{1} w_{2}\\hat{a}_x\\otimes \\hat{a}_y + v_{1} w_{3}\\hat{a}_x\\otimes \\hat{a}_z + v_{2} w_{1}\\hat{a}_y\\otimes \\hat{a}_x + v_{2} w_{2}\\hat{a}_y\\otimes \\hat{a}_y + v_{2} w_{3}\\hat{a}_y\\otimes \\hat{a}_z + v_{3} w_{1}\\hat{a}_z\\otimes \\hat{a}_x + v_{3} w_{2}\\hat{a}_z\\otimes \\hat{a}_y + v_{3} w_{3}\\hat{a}_z\\otimes \\hat{a}_z$"
      ],
      "text/plain": [
       "v₁⋅w₁ a_x⊗a_x + v₁⋅w₂ a_x⊗a_y + v₁⋅w₃ a_x⊗a_z + v₂⋅w₁ a_y⊗a_x + v₂⋅w₂ a_y⊗a_y + v₂⋅w₃ a_y⊗a_z + v₃⋅w₁ a_z⊗a_x + v₃⋅w₂ a_z⊗a_y + v₃⋅w₃ a_z⊗a_z"
      ]
     },
     "execution_count": 17,
     "metadata": {},
     "output_type": "execute_result"
    }
   ],
   "source": [
    "v1, v2, v3 = sm.symbols('v1, v2, v3')\n",
    "w1, w2, w3 = sm.symbols('w1, w2, w3')\n",
    "\n",
    "A = me.ReferenceFrame('A')\n",
    "\n",
    "v = v1*A.x + v2*A.y + v3*A.z\n",
    "w = w1*A.x + w2*A.y + w3*A.z\n",
    "\n",
    "Q = me.outer(v, w)\n",
    "Q"
   ]
  },
  {
   "cell_type": "code",
   "execution_count": 18,
   "id": "8c06e111",
   "metadata": {
    "execution": {
     "iopub.execute_input": "2023-06-28T09:20:20.904349Z",
     "iopub.status.busy": "2023-06-28T09:20:20.904093Z",
     "iopub.status.idle": "2023-06-28T09:20:20.964529Z",
     "shell.execute_reply": "2023-06-28T09:20:20.963631Z"
    }
   },
   "outputs": [
    {
     "data": {
      "text/latex": [
       "$\\displaystyle \\left[\\begin{matrix}v_{1} w_{1} & v_{1} w_{2} & v_{1} w_{3}\\\\v_{2} w_{1} & v_{2} w_{2} & v_{2} w_{3}\\\\v_{3} w_{1} & v_{3} w_{2} & v_{3} w_{3}\\end{matrix}\\right]$"
      ],
      "text/plain": [
       "⎡v₁⋅w₁  v₁⋅w₂  v₁⋅w₃⎤\n",
       "⎢                   ⎥\n",
       "⎢v₂⋅w₁  v₂⋅w₂  v₂⋅w₃⎥\n",
       "⎢                   ⎥\n",
       "⎣v₃⋅w₁  v₃⋅w₂  v₃⋅w₃⎦"
      ]
     },
     "execution_count": 18,
     "metadata": {},
     "output_type": "execute_result"
    }
   ],
   "source": [
    "Q.to_matrix(A)"
   ]
  },
  {
   "cell_type": "markdown",
   "id": "a726b4d2",
   "metadata": {},
   "source": [
    "Диада состоит из скаляров, умноженных на диады единиц. Примеры «единиц измерения диады» – это: "
   ]
  },
  {
   "cell_type": "code",
   "execution_count": 19,
   "id": "3112de87",
   "metadata": {
    "execution": {
     "iopub.execute_input": "2023-06-28T09:20:20.967534Z",
     "iopub.status.busy": "2023-06-28T09:20:20.967275Z",
     "iopub.status.idle": "2023-06-28T09:20:20.972955Z",
     "shell.execute_reply": "2023-06-28T09:20:20.972162Z"
    }
   },
   "outputs": [
    {
     "data": {
      "text/latex": [
       "$\\displaystyle \\hat{a}_x\\otimes \\hat{a}_x$"
      ],
      "text/plain": [
       "a_x⊗a_x"
      ]
     },
     "execution_count": 19,
     "metadata": {},
     "output_type": "execute_result"
    }
   ],
   "source": [
    "me.outer(A.x, A.x)"
   ]
  },
  {
   "cell_type": "code",
   "execution_count": 20,
   "id": "fb466a89",
   "metadata": {
    "execution": {
     "iopub.execute_input": "2023-06-28T09:20:20.975951Z",
     "iopub.status.busy": "2023-06-28T09:20:20.975688Z",
     "iopub.status.idle": "2023-06-28T09:20:20.988184Z",
     "shell.execute_reply": "2023-06-28T09:20:20.987364Z"
    }
   },
   "outputs": [
    {
     "data": {
      "text/latex": [
       "$\\displaystyle \\left[\\begin{matrix}1 & 0 & 0\\\\0 & 0 & 0\\\\0 & 0 & 0\\end{matrix}\\right]$"
      ],
      "text/plain": [
       "⎡1  0  0⎤\n",
       "⎢       ⎥\n",
       "⎢0  0  0⎥\n",
       "⎢       ⎥\n",
       "⎣0  0  0⎦"
      ]
     },
     "execution_count": 20,
     "metadata": {},
     "output_type": "execute_result"
    }
   ],
   "source": [
    "me.outer(A.x, A.x).to_matrix(A)"
   ]
  },
  {
   "cell_type": "markdown",
   "id": "0767dc95",
   "metadata": {},
   "source": [
    "Единичные диады аналогичны единичным векторам. Всего существует девять диад единиц. связанный с тремя ортогональными единичными векторами. Вот еще один пример: "
   ]
  },
  {
   "cell_type": "code",
   "execution_count": 21,
   "id": "7099d67a",
   "metadata": {
    "execution": {
     "iopub.execute_input": "2023-06-28T09:20:20.991849Z",
     "iopub.status.busy": "2023-06-28T09:20:20.991597Z",
     "iopub.status.idle": "2023-06-28T09:20:20.997567Z",
     "shell.execute_reply": "2023-06-28T09:20:20.996768Z"
    }
   },
   "outputs": [
    {
     "data": {
      "text/latex": [
       "$\\displaystyle \\hat{a}_y\\otimes \\hat{a}_z$"
      ],
      "text/plain": [
       "a_y⊗a_z"
      ]
     },
     "execution_count": 21,
     "metadata": {},
     "output_type": "execute_result"
    }
   ],
   "source": [
    "me.outer(A.y, A.z)"
   ]
  },
  {
   "cell_type": "code",
   "execution_count": 22,
   "id": "dec3d63b",
   "metadata": {
    "execution": {
     "iopub.execute_input": "2023-06-28T09:20:21.001613Z",
     "iopub.status.busy": "2023-06-28T09:20:21.001343Z",
     "iopub.status.idle": "2023-06-28T09:20:21.015557Z",
     "shell.execute_reply": "2023-06-28T09:20:21.014763Z"
    }
   },
   "outputs": [
    {
     "data": {
      "text/latex": [
       "$\\displaystyle \\left[\\begin{matrix}0 & 0 & 0\\\\0 & 0 & 1\\\\0 & 0 & 0\\end{matrix}\\right]$"
      ],
      "text/plain": [
       "⎡0  0  0⎤\n",
       "⎢       ⎥\n",
       "⎢0  0  1⎥\n",
       "⎢       ⎥\n",
       "⎣0  0  0⎦"
      ]
     },
     "execution_count": 22,
     "metadata": {},
     "output_type": "execute_result"
    }
   ],
   "source": [
    "me.outer(A.y, A.z).to_matrix(A)"
   ]
  },
  {
   "cell_type": "markdown",
   "id": "212eea54",
   "metadata": {},
   "source": [
    "Эти единичные диады могут быть сформированы из любых единичных векторов. Это удобно потому что мы можем создавать диады, как и векторы, которые состоят из компоненты в разных системах отсчета. Например: "
   ]
  },
  {
   "cell_type": "code",
   "execution_count": 23,
   "id": "4024121f",
   "metadata": {
    "execution": {
     "iopub.execute_input": "2023-06-28T09:20:21.019718Z",
     "iopub.status.busy": "2023-06-28T09:20:21.018566Z",
     "iopub.status.idle": "2023-06-28T09:20:21.035101Z",
     "shell.execute_reply": "2023-06-28T09:20:21.034181Z"
    }
   },
   "outputs": [
    {
     "data": {
      "text/latex": [
       "$\\displaystyle 2\\hat{b}_x\\otimes \\hat{b}_x + 3\\hat{a}_x\\otimes \\hat{b}_y + 4\\hat{b}_z\\otimes \\hat{a}_z$"
      ],
      "text/plain": [
       "2 b_x⊗b_x + 3 a_x⊗b_y + 4 b_z⊗a_z"
      ]
     },
     "execution_count": 23,
     "metadata": {},
     "output_type": "execute_result"
    }
   ],
   "source": [
    "theta = sm.symbols(\"theta\")\n",
    "\n",
    "A = me.ReferenceFrame('A')\n",
    "B = me.ReferenceFrame('B')\n",
    "\n",
    "B.orient_axis(A, theta, A.x)\n",
    "\n",
    "P = 2*me.outer(B.x, B.x) + 3*me.outer(A.x, B.y) + 4*me.outer(B.z, A.z)\n",
    "P"
   ]
  },
  {
   "cell_type": "markdown",
   "id": "c536e139",
   "metadata": {},
   "source": [
    "Диада $\\breve{P}$ может быть выражена через юнит-диады $A$:\n"
   ]
  },
  {
   "cell_type": "code",
   "execution_count": 24,
   "id": "9d5ba196",
   "metadata": {
    "execution": {
     "iopub.execute_input": "2023-06-28T09:20:21.038981Z",
     "iopub.status.busy": "2023-06-28T09:20:21.038285Z",
     "iopub.status.idle": "2023-06-28T09:20:21.053248Z",
     "shell.execute_reply": "2023-06-28T09:20:21.052429Z"
    }
   },
   "outputs": [
    {
     "data": {
      "text/latex": [
       "$\\displaystyle 2\\hat{a}_x\\otimes \\hat{a}_x + 3 \\cos{\\left(\\theta \\right)}\\hat{a}_x\\otimes \\hat{a}_y + 3 \\sin{\\left(\\theta \\right)}\\hat{a}_x\\otimes \\hat{a}_z -  4 \\sin{\\left(\\theta \\right)}\\hat{a}_y\\otimes \\hat{a}_z + 4 \\cos{\\left(\\theta \\right)}\\hat{a}_z\\otimes \\hat{a}_z$"
      ],
      "text/plain": [
       "2 a_x⊗a_x + 3⋅cos(θ) a_x⊗a_y + 3⋅sin(θ) a_x⊗a_z - 4⋅sin(θ) a_y⊗a_z + 4⋅cos(θ) a_z⊗a_z"
      ]
     },
     "execution_count": 24,
     "metadata": {},
     "output_type": "execute_result"
    }
   ],
   "source": [
    "P.express(A)"
   ]
  },
  {
   "cell_type": "code",
   "execution_count": 25,
   "id": "994d99ff",
   "metadata": {
    "execution": {
     "iopub.execute_input": "2023-06-28T09:20:21.056755Z",
     "iopub.status.busy": "2023-06-28T09:20:21.056285Z",
     "iopub.status.idle": "2023-06-28T09:20:21.082433Z",
     "shell.execute_reply": "2023-06-28T09:20:21.081634Z"
    }
   },
   "outputs": [
    {
     "data": {
      "text/latex": [
       "$\\displaystyle \\left[\\begin{matrix}2 & 3 \\cos{\\left(\\theta \\right)} & 3 \\sin{\\left(\\theta \\right)}\\\\0 & 0 & - 4 \\sin{\\left(\\theta \\right)}\\\\0 & 0 & 4 \\cos{\\left(\\theta \\right)}\\end{matrix}\\right]$"
      ],
      "text/plain": [
       "⎡2  3⋅cos(θ)  3⋅sin(θ) ⎤\n",
       "⎢                      ⎥\n",
       "⎢0     0      -4⋅sin(θ)⎥\n",
       "⎢                      ⎥\n",
       "⎣0     0      4⋅cos(θ) ⎦"
      ]
     },
     "execution_count": 25,
     "metadata": {},
     "output_type": "execute_result"
    }
   ],
   "source": [
    "P.to_matrix(A)"
   ]
  },
  {
   "cell_type": "markdown",
   "id": "67353f23",
   "metadata": {},
   "source": [
    "… или $B$"
   ]
  },
  {
   "cell_type": "code",
   "execution_count": 26,
   "id": "51a86faa",
   "metadata": {
    "execution": {
     "iopub.execute_input": "2023-06-28T09:20:21.085475Z",
     "iopub.status.busy": "2023-06-28T09:20:21.085140Z",
     "iopub.status.idle": "2023-06-28T09:20:21.096637Z",
     "shell.execute_reply": "2023-06-28T09:20:21.095801Z"
    }
   },
   "outputs": [
    {
     "data": {
      "text/latex": [
       "$\\displaystyle 2\\hat{b}_x\\otimes \\hat{b}_x + 3\\hat{b}_x\\otimes \\hat{b}_y + 4 \\sin{\\left(\\theta \\right)}\\hat{b}_z\\otimes \\hat{b}_y + 4 \\cos{\\left(\\theta \\right)}\\hat{b}_z\\otimes \\hat{b}_z$"
      ],
      "text/plain": [
       "2 b_x⊗b_x + 3 b_x⊗b_y + 4⋅sin(θ) b_z⊗b_y + 4⋅cos(θ) b_z⊗b_z"
      ]
     },
     "execution_count": 26,
     "metadata": {},
     "output_type": "execute_result"
    }
   ],
   "source": [
    "P.express(B)"
   ]
  },
  {
   "cell_type": "code",
   "execution_count": 27,
   "id": "5b74e15a",
   "metadata": {
    "execution": {
     "iopub.execute_input": "2023-06-28T09:20:21.099898Z",
     "iopub.status.busy": "2023-06-28T09:20:21.099626Z",
     "iopub.status.idle": "2023-06-28T09:20:21.122807Z",
     "shell.execute_reply": "2023-06-28T09:20:21.121872Z"
    }
   },
   "outputs": [
    {
     "data": {
      "text/latex": [
       "$\\displaystyle \\left[\\begin{matrix}2 & 3 & 0\\\\0 & 0 & 0\\\\0 & 4 \\sin{\\left(\\theta \\right)} & 4 \\cos{\\left(\\theta \\right)}\\end{matrix}\\right]$"
      ],
      "text/plain": [
       "⎡2     3         0    ⎤\n",
       "⎢                     ⎥\n",
       "⎢0     0         0    ⎥\n",
       "⎢                     ⎥\n",
       "⎣0  4⋅sin(θ)  4⋅cos(θ)⎦"
      ]
     },
     "execution_count": 27,
     "metadata": {},
     "output_type": "execute_result"
    }
   ],
   "source": [
    "P.to_matrix(B)"
   ]
  },
  {
   "cell_type": "markdown",
   "id": "5d690e1e",
   "metadata": {},
   "source": [
    "Диадическая единица:"
   ]
  },
  {
   "cell_type": "code",
   "execution_count": 28,
   "id": "bc377c48",
   "metadata": {
    "execution": {
     "iopub.execute_input": "2023-06-28T09:20:21.125794Z",
     "iopub.status.busy": "2023-06-28T09:20:21.125431Z",
     "iopub.status.idle": "2023-06-28T09:20:21.132492Z",
     "shell.execute_reply": "2023-06-28T09:20:21.131735Z"
    }
   },
   "outputs": [
    {
     "data": {
      "text/latex": [
       "$\\displaystyle \\hat{a}_x\\otimes \\hat{a}_x + \\hat{a}_y\\otimes \\hat{a}_y + \\hat{a}_z\\otimes \\hat{a}_z$"
      ],
      "text/plain": [
       "a_x⊗a_x + a_y⊗a_y + a_z⊗a_z"
      ]
     },
     "execution_count": 28,
     "metadata": {},
     "output_type": "execute_result"
    }
   ],
   "source": [
    "U = me.outer(A.x, A.x) + me.outer(A.y, A.y) + me.outer(A.z, A.z)\n",
    "U"
   ]
  },
  {
   "cell_type": "markdown",
   "id": "db3bb27a",
   "metadata": {},
   "source": [
    "… представляет собой единичную матрицу в A:"
   ]
  },
  {
   "cell_type": "code",
   "execution_count": 29,
   "id": "c7af11ee",
   "metadata": {
    "execution": {
     "iopub.execute_input": "2023-06-28T09:20:21.135859Z",
     "iopub.status.busy": "2023-06-28T09:20:21.135330Z",
     "iopub.status.idle": "2023-06-28T09:20:21.158822Z",
     "shell.execute_reply": "2023-06-28T09:20:21.158000Z"
    }
   },
   "outputs": [
    {
     "data": {
      "text/latex": [
       "$\\displaystyle \\left[\\begin{matrix}1 & 0 & 0\\\\0 & 1 & 0\\\\0 & 0 & 1\\end{matrix}\\right]$"
      ],
      "text/plain": [
       "⎡1  0  0⎤\n",
       "⎢       ⎥\n",
       "⎢0  1  0⎥\n",
       "⎢       ⎥\n",
       "⎣0  0  1⎦"
      ]
     },
     "execution_count": 29,
     "metadata": {},
     "output_type": "execute_result"
    }
   ],
   "source": [
    "U.to_matrix(A)"
   ]
  },
  {
   "cell_type": "markdown",
   "id": "641bf341",
   "metadata": {},
   "source": [
    "Обратите внимание, что диадическая единица одинакова, если она выражена в любой системе отсчета: "
   ]
  },
  {
   "cell_type": "code",
   "execution_count": 30,
   "id": "85c72e17",
   "metadata": {
    "execution": {
     "iopub.execute_input": "2023-06-28T09:20:21.162043Z",
     "iopub.status.busy": "2023-06-28T09:20:21.161573Z",
     "iopub.status.idle": "2023-06-28T09:20:21.239943Z",
     "shell.execute_reply": "2023-06-28T09:20:21.239091Z"
    }
   },
   "outputs": [
    {
     "data": {
      "text/latex": [
       "$\\displaystyle \\hat{b}_x\\otimes \\hat{b}_x + \\hat{b}_y\\otimes \\hat{b}_y + \\hat{b}_z\\otimes \\hat{b}_z$"
      ],
      "text/plain": [
       "b_x⊗b_x + b_y⊗b_y + b_z⊗b_z"
      ]
     },
     "execution_count": 30,
     "metadata": {},
     "output_type": "execute_result"
    }
   ],
   "source": [
    "U.express(B).simplify()"
   ]
  },
  {
   "cell_type": "markdown",
   "id": "f4aa85d7",
   "metadata": {},
   "source": [
    "### Свойства диадик "
   ]
  },
  {
   "cell_type": "markdown",
   "id": "1d275def",
   "metadata": {},
   "source": [
    "Свойства диадик похожи на векторные, но коммутативность не гарантируется.\n",
    "\n",
    "- Скалярное умножение: $\\alpha(\\bar{u}\\otimes\\bar{v}) = \\alpha\\bar{u}\\otimes\\bar{v} = \\bar{u}\\otimes\\alpha\\bar{v}$\n",
    "- Дистрибутивность: $`\\bar{u}\\otimes(\\bar{v} + \\bar{w}) = \\bar{u}\\otimes\\bar{v} + \\bar{u}\\otimes\\bar{w}$\n",
    "- Левое и правое точечное произведение  с векторами дает вектор:\n",
    "\n",
    "  - $\\bar{u}\\cdot(\\bar{v}\\otimes\\bar{w}) = (\\bar{u}\\cdot\\bar{v})\\bar{w}$\n",
    "  - $(\\bar{u}\\otimes\\bar{v})\\cdot\\bar{w} = \\bar{u}(\\bar{v}\\cdot\\bar{w})$\n",
    "\n",
    "- Левое и правое ×-умножение дает диаду:\n",
    "\n",
    "  - $\\bar{u}\\times(\\bar{v}\\otimes\\bar{w}) = (\\bar{u}\\times\\bar{v})\\otimes\\bar{w}$\n",
    "  - $(\\bar{u}\\otimes\\bar{v})\\times\\bar{w} = \\bar{u}\\otimes(\\bar{v}\\times\\bar{w})$\n",
    "\n",
    "- Точечное произведение между вектором $\\bar{u}$ и диадой $\\breve{V}$ не обязательно коммутативно $\\breve{V}\\cdot\\bar{u} \\neq\n",
    "  \\bar{u}\\cdot\\breve{V}$\n",
    "- Точечное произведение между вектором и элементарной диадой — коммутативно, и дает этот самый вектор: $\\breve{U}\\cdot\\bar{v} =\n",
    "  \\bar{v}\\cdot\\breve{U} = \\bar{v}$\n",
    "\n"
   ]
  },
  {
   "cell_type": "markdown",
   "id": "5d6d12ca",
   "metadata": {},
   "source": [
    "### Инерция через диады\n",
    "\n",
    "Ранее, мы определили вектор инерции как \n",
    "$$\n",
    "   \\bar{I}_a = \\sum_{i=1}^\\nu m_i \\bar{r}^{P_i/O} \\times \\left( \\hat{n}_a \\times \\bar{r}^{P_i/O}  \\right)\n",
    "$$\n",
    "\n",
    "Используя [тождество векторного тройного произведения](https://en.wikipedia.org/wiki/Triple_product#Vector_triple_product): $\\bar{a}\\times(\\bar{b}\\times\\bar{c}) = \\bar{b}(\\bar{a}\\cdot\\bar{c}) -\n",
    "\\bar{c}(\\bar{a}\\cdot\\bar{b})$ вектор инерции можно записать как:\n",
    "\n",
    "$$\n",
    "   \\bar{I}_a = \\sum_{i=1}^\\nu m_i\n",
    "   \\left[\\hat{n}_a \\left( \\bar{r}^{P_i/O} \\cdot \\bar{r}^{P_i/O} \\right) -\n",
    "   \\bar{r}^{P_i/O} \\left( \\bar{r}^{P_i/O} \\cdot \\hat{n}_a \\right) \\right]\n",
    "$$\n",
    "\n",
    "Теперь, введя диадическую единицу, мы можем написать: \n",
    "\n",
    "$$\n",
    "   \\bar{I}_a =\n",
    "   \\sum_{i=1}^\\nu m_i \\left[\n",
    "   \\left|\\bar{r}^{P_i/O}\\right|^2 \\hat{n}_a \\cdot \\breve{U}  -\n",
    "   \\hat{n}_a \\cdot \\left(\\bar{r}^{P_i/O} \\otimes \\bar{r}^{P_i/O}\\right)\n",
    "   \\right]\n",
    "$$\n",
    "\n",
    "$\\hat{n}_a$ можно вынести из суммирования:\n",
    "\n",
    "$$\n",
    "   \\bar{I}_a =\n",
    "   \\hat{n}_a \\cdot\n",
    "   \\sum_{i=1}^\\nu m_i \\left(\n",
    "   \\left|\\bar{r}^{P_i/O}\\right|^2 \\breve{U}  -\n",
    "   \\bar{r}^{P_i/O} \\otimes \\bar{r}^{P_i/O}\n",
    "   \\right)\n",
    "$$\n",
    "\n",
    "*диадика инерции* $\\breve{I}$ множества $S$ частиц относительно $O$:\n",
    "\n",
    "$$\n",
    "   \\breve{I}^{S/O} :=\n",
    "   \\sum_{i=1}^\\nu m_i \\left(\n",
    "   \\left|\\bar{r}^{P_i/O}\\right|^2 \\breve{U}  -\n",
    "   \\bar{r}^{P_i/O} \\otimes \\bar{r}^{P_i/O}\n",
    "   \\right)\n",
    "$$\n",
    "\n",
    "где\n",
    "$\n",
    "   \\bar{I}_a = \\hat{n}_a \\cdot \\breve{I}^{S/O}\n",
    "$   "
   ]
  },
  {
   "cell_type": "markdown",
   "id": "fdb93ab1",
   "metadata": {},
   "source": [
    "Обратите внимание, что мы сейчас описали инерцию множества частиц без необходимости задания вектора $\\hat{n}_a$. \n",
    "Диада инерции содержит полное описание инерции относительно точки $O$ для любой оси. "
   ]
  },
  {
   "cell_type": "markdown",
   "id": "d082878b",
   "metadata": {},
   "source": [
    "Если же рассматривать твердое тело, бесконечный набор точек в замкнутом объеме, то вам нужна интегральная версия этого определения, где положение любого места в частице параметризуется выражением τ который может представлять параметризацию объема, линии или поверхности.\n",
    "\n",
    "$$\n",
    "   \\breve{I}^{S/O} := \\int_\\textrm{solid} \\rho\n",
    "   \\left(\n",
    "   \\left|\\bar{r}^{P(\\tau)/O}\\right|^2 \\breve{U}  -\n",
    "   \\bar{r}^{P(\\tau)/O} \\otimes \\bar{r}^{P(\\tau)/O}\n",
    "   \\right) \\textrm{d}\\tau\n",
    "$$"
   ]
  },
  {
   "cell_type": "markdown",
   "id": "7afd90b7",
   "metadata": {},
   "source": [
    "В SymPy Mechanics простые диадики инерции для заданной системы отсчета можно создать с помощью [`inertia()`](https://docs.sympy.org/latest/modules/physics/mechanics/api/part_bod.html#sympy.physics.mechanics.functions.inertia). Например:"
   ]
  },
  {
   "cell_type": "code",
   "execution_count": 31,
   "id": "d64980c9",
   "metadata": {
    "execution": {
     "iopub.execute_input": "2023-06-28T09:20:21.242901Z",
     "iopub.status.busy": "2023-06-28T09:20:21.242644Z",
     "iopub.status.idle": "2023-06-28T09:20:21.266863Z",
     "shell.execute_reply": "2023-06-28T09:20:21.265979Z"
    }
   },
   "outputs": [
    {
     "data": {
      "text/latex": [
       "$\\displaystyle I_{xx}\\hat{a}_x\\otimes \\hat{a}_x + I_{xy}\\hat{a}_x\\otimes \\hat{a}_y + I_{xz}\\hat{a}_x\\otimes \\hat{a}_z + I_{xy}\\hat{a}_y\\otimes \\hat{a}_x + I_{yy}\\hat{a}_y\\otimes \\hat{a}_y + I_{yz}\\hat{a}_y\\otimes \\hat{a}_z + I_{xz}\\hat{a}_z\\otimes \\hat{a}_x + I_{yz}\\hat{a}_z\\otimes \\hat{a}_y + I_{zz}\\hat{a}_z\\otimes \\hat{a}_z$"
      ],
      "text/plain": [
       "I_{xx} a_x⊗a_x + I_{xy} a_x⊗a_y + I_{xz} a_x⊗a_z + I_{xy} a_y⊗a_x + I_{yy} a_y⊗a_y + I_{yz} a_y⊗a_z + I_{xz} a_z⊗a_x + I_{yz} a_z⊗a_y + I_{zz} a_z⊗a_z"
      ]
     },
     "execution_count": 31,
     "metadata": {},
     "output_type": "execute_result"
    }
   ],
   "source": [
    "Ixx, Iyy, Izz = sm.symbols('I_{xx}, I_{yy}, I_{zz}')\n",
    "Ixy, Iyz, Ixz = sm.symbols('I_{xy}, I_{yz}, I_{xz}')\n",
    "\n",
    "I = me.inertia(A, Ixx, Iyy, Izz, ixy=Ixy, iyz=Iyz, izx=Ixz)\n",
    "I"
   ]
  },
  {
   "cell_type": "code",
   "execution_count": 32,
   "id": "2085d96b",
   "metadata": {
    "execution": {
     "iopub.execute_input": "2023-06-28T09:20:21.270117Z",
     "iopub.status.busy": "2023-06-28T09:20:21.269863Z",
     "iopub.status.idle": "2023-06-28T09:20:21.330568Z",
     "shell.execute_reply": "2023-06-28T09:20:21.329730Z"
    }
   },
   "outputs": [
    {
     "data": {
      "text/latex": [
       "$\\displaystyle \\left[\\begin{matrix}I_{xx} & I_{xy} & I_{xz}\\\\I_{xy} & I_{yy} & I_{yz}\\\\I_{xz} & I_{yz} & I_{zz}\\end{matrix}\\right]$"
      ],
      "text/plain": [
       "⎡I_{xx}  I_{xy}  I_{xz}⎤\n",
       "⎢                      ⎥\n",
       "⎢I_{xy}  I_{yy}  I_{yz}⎥\n",
       "⎢                      ⎥\n",
       "⎣I_{xz}  I_{yz}  I_{zz}⎦"
      ]
     },
     "execution_count": 32,
     "metadata": {},
     "output_type": "execute_result"
    }
   ],
   "source": [
    "I.to_matrix(A)"
   ]
  },
  {
   "cell_type": "markdown",
   "id": "eea07e86",
   "metadata": {},
   "source": [
    "Эту диаду инерции легко выразить относительно другой системы отсчета. если ориентация определена "
   ]
  },
  {
   "cell_type": "code",
   "execution_count": 33,
   "id": "3f07f8a9",
   "metadata": {
    "execution": {
     "iopub.execute_input": "2023-06-28T09:20:21.333783Z",
     "iopub.status.busy": "2023-06-28T09:20:21.333477Z",
     "iopub.status.idle": "2023-06-28T09:20:22.330710Z",
     "shell.execute_reply": "2023-06-28T09:20:22.329724Z"
    }
   },
   "outputs": [
    {
     "data": {
      "text/latex": [
       "$\\displaystyle \\left[\\begin{matrix}I_{xx} & I_{xy} \\cos{\\left(\\theta \\right)} + I_{xz} \\sin{\\left(\\theta \\right)} & - I_{xy} \\sin{\\left(\\theta \\right)} + I_{xz} \\cos{\\left(\\theta \\right)}\\\\I_{xy} \\cos{\\left(\\theta \\right)} + I_{xz} \\sin{\\left(\\theta \\right)} & \\frac{I_{yy} \\cos{\\left(2 \\theta \\right)}}{2} + \\frac{I_{yy}}{2} + I_{yz} \\sin{\\left(2 \\theta \\right)} - \\frac{I_{zz} \\cos{\\left(2 \\theta \\right)}}{2} + \\frac{I_{zz}}{2} & - \\frac{I_{yy} \\sin{\\left(2 \\theta \\right)}}{2} + I_{yz} \\cos{\\left(2 \\theta \\right)} + \\frac{I_{zz} \\sin{\\left(2 \\theta \\right)}}{2}\\\\- I_{xy} \\sin{\\left(\\theta \\right)} + I_{xz} \\cos{\\left(\\theta \\right)} & - \\frac{I_{yy} \\sin{\\left(2 \\theta \\right)}}{2} + I_{yz} \\cos{\\left(2 \\theta \\right)} + \\frac{I_{zz} \\sin{\\left(2 \\theta \\right)}}{2} & - \\frac{I_{yy} \\cos{\\left(2 \\theta \\right)}}{2} + \\frac{I_{yy}}{2} - I_{yz} \\sin{\\left(2 \\theta \\right)} + \\frac{I_{zz} \\cos{\\left(2 \\theta \\right)}}{2} + \\frac{I_{zz}}{2}\\end{matrix}\\right]$"
      ],
      "text/plain": [
       "⎡            I_{xx}                                  I_{xy}⋅cos(θ) + I_{xz}⋅si\n",
       "⎢                                                                             \n",
       "⎢                                I_{yy}⋅cos(2⋅θ)   I_{yy}                     \n",
       "⎢I_{xy}⋅cos(θ) + I_{xz}⋅sin(θ)   ─────────────── + ────── + I_{yz}⋅sin(2⋅θ) - \n",
       "⎢                                       2            2                        \n",
       "⎢                                                                             \n",
       "⎢                                          I_{yy}⋅sin(2⋅θ)                    \n",
       "⎢-I_{xy}⋅sin(θ) + I_{xz}⋅cos(θ)          - ─────────────── + I_{yz}⋅cos(2⋅θ) +\n",
       "⎣                                                 2                           \n",
       "\n",
       "n(θ)                                          -I_{xy}⋅sin(θ) + I_{xz}⋅cos(θ)  \n",
       "                                                                              \n",
       "I_{zz}⋅cos(2⋅θ)   I_{zz}             I_{yy}⋅sin(2⋅θ)                     I_{zz\n",
       "─────────────── + ──────           - ─────────────── + I_{yz}⋅cos(2⋅θ) + ─────\n",
       "       2            2                       2                                 \n",
       "                                                                              \n",
       " I_{zz}⋅sin(2⋅θ)            I_{yy}⋅cos(2⋅θ)   I_{yy}                     I_{zz\n",
       " ───────────────          - ─────────────── + ────── - I_{yz}⋅sin(2⋅θ) + ─────\n",
       "        2                          2            2                             \n",
       "\n",
       "                   ⎤\n",
       "                   ⎥\n",
       "}⋅sin(2⋅θ)         ⎥\n",
       "──────────         ⎥\n",
       "  2                ⎥\n",
       "                   ⎥\n",
       "}⋅cos(2⋅θ)   I_{zz}⎥\n",
       "────────── + ──────⎥\n",
       "  2            2   ⎦"
      ]
     },
     "execution_count": 33,
     "metadata": {},
     "output_type": "execute_result"
    }
   ],
   "source": [
    "sm.trigsimp(I.to_matrix(B))"
   ]
  },
  {
   "cell_type": "markdown",
   "id": "ec816fa7",
   "metadata": {},
   "source": [
    "Это эквивалентно матричному преобразованию для выражения матрицы инерции в виде другой кадр отсчета (см. некоторые пояснения [на stackexchange](https://physics.stackexchange.com/questions/637421/inertia-tensor-of-rotated-object) об этом преобразовании):\n",
    "\n",
    "$$\n",
    "   {}^B\\mathbf{C}^A \\ \\mathbf{I} \\ {}^A\\mathbf{C}^B\n",
    "$$"
   ]
  },
  {
   "cell_type": "code",
   "execution_count": 34,
   "id": "905996a3",
   "metadata": {
    "execution": {
     "iopub.execute_input": "2023-06-28T09:20:22.334079Z",
     "iopub.status.busy": "2023-06-28T09:20:22.333806Z",
     "iopub.status.idle": "2023-06-28T09:20:23.246290Z",
     "shell.execute_reply": "2023-06-28T09:20:23.245486Z"
    }
   },
   "outputs": [
    {
     "data": {
      "text/latex": [
       "$\\displaystyle \\left[\\begin{matrix}I_{xx} & I_{xy} \\cos{\\left(\\theta \\right)} + I_{xz} \\sin{\\left(\\theta \\right)} & - I_{xy} \\sin{\\left(\\theta \\right)} + I_{xz} \\cos{\\left(\\theta \\right)}\\\\I_{xy} \\cos{\\left(\\theta \\right)} + I_{xz} \\sin{\\left(\\theta \\right)} & \\frac{I_{yy} \\cos{\\left(2 \\theta \\right)}}{2} + \\frac{I_{yy}}{2} + I_{yz} \\sin{\\left(2 \\theta \\right)} - \\frac{I_{zz} \\cos{\\left(2 \\theta \\right)}}{2} + \\frac{I_{zz}}{2} & - \\frac{I_{yy} \\sin{\\left(2 \\theta \\right)}}{2} + I_{yz} \\cos{\\left(2 \\theta \\right)} + \\frac{I_{zz} \\sin{\\left(2 \\theta \\right)}}{2}\\\\- I_{xy} \\sin{\\left(\\theta \\right)} + I_{xz} \\cos{\\left(\\theta \\right)} & - \\frac{I_{yy} \\sin{\\left(2 \\theta \\right)}}{2} + I_{yz} \\cos{\\left(2 \\theta \\right)} + \\frac{I_{zz} \\sin{\\left(2 \\theta \\right)}}{2} & - \\frac{I_{yy} \\cos{\\left(2 \\theta \\right)}}{2} + \\frac{I_{yy}}{2} - I_{yz} \\sin{\\left(2 \\theta \\right)} + \\frac{I_{zz} \\cos{\\left(2 \\theta \\right)}}{2} + \\frac{I_{zz}}{2}\\end{matrix}\\right]$"
      ],
      "text/plain": [
       "⎡            I_{xx}                                  I_{xy}⋅cos(θ) + I_{xz}⋅si\n",
       "⎢                                                                             \n",
       "⎢                                I_{yy}⋅cos(2⋅θ)   I_{yy}                     \n",
       "⎢I_{xy}⋅cos(θ) + I_{xz}⋅sin(θ)   ─────────────── + ────── + I_{yz}⋅sin(2⋅θ) - \n",
       "⎢                                       2            2                        \n",
       "⎢                                                                             \n",
       "⎢                                          I_{yy}⋅sin(2⋅θ)                    \n",
       "⎢-I_{xy}⋅sin(θ) + I_{xz}⋅cos(θ)          - ─────────────── + I_{yz}⋅cos(2⋅θ) +\n",
       "⎣                                                 2                           \n",
       "\n",
       "n(θ)                                          -I_{xy}⋅sin(θ) + I_{xz}⋅cos(θ)  \n",
       "                                                                              \n",
       "I_{zz}⋅cos(2⋅θ)   I_{zz}             I_{yy}⋅sin(2⋅θ)                     I_{zz\n",
       "─────────────── + ──────           - ─────────────── + I_{yz}⋅cos(2⋅θ) + ─────\n",
       "       2            2                       2                                 \n",
       "                                                                              \n",
       " I_{zz}⋅sin(2⋅θ)            I_{yy}⋅cos(2⋅θ)   I_{yy}                     I_{zz\n",
       " ───────────────          - ─────────────── + ────── - I_{yz}⋅sin(2⋅θ) + ─────\n",
       "        2                          2            2                             \n",
       "\n",
       "                   ⎤\n",
       "                   ⎥\n",
       "}⋅sin(2⋅θ)         ⎥\n",
       "──────────         ⎥\n",
       "  2                ⎥\n",
       "                   ⎥\n",
       "}⋅cos(2⋅θ)   I_{zz}⎥\n",
       "────────── + ──────⎥\n",
       "  2            2   ⎦"
      ]
     },
     "execution_count": 34,
     "metadata": {},
     "output_type": "execute_result"
    }
   ],
   "source": [
    "sm.trigsimp(B.dcm(A)*I.to_matrix(A)*A.dcm(B))"
   ]
  },
  {
   "cell_type": "markdown",
   "id": "b801e4bb",
   "metadata": {},
   "source": [
    "### Пример\n",
    "\n",
    "![](https://objects-us-east-1.dream.io/mechmotum/typical-bicycle-geometry.png)\n",
    "\n",
    "* Угол наклона рулевой трубы 68° к земле \n",
    "* $\\hat{n}_x$ от центра заднего колеса к центру переднего\n",
    "* $\\hat{n}_z$ вертикально вниз.\n",
    "\n",
    "Надо найти момент инерции относительно наклоненной оси поворота учитывая диадию инерции: "
   ]
  },
  {
   "cell_type": "code",
   "execution_count": 35,
   "id": "70233079",
   "metadata": {
    "execution": {
     "iopub.execute_input": "2023-06-28T09:20:23.249751Z",
     "iopub.status.busy": "2023-06-28T09:20:23.249446Z",
     "iopub.status.idle": "2023-06-28T09:20:23.263946Z",
     "shell.execute_reply": "2023-06-28T09:20:23.263148Z"
    }
   },
   "outputs": [
    {
     "data": {
      "text/latex": [
       "$\\displaystyle 0.25\\hat{n}_x\\otimes \\hat{n}_x + 0.25\\hat{n}_y\\otimes \\hat{n}_y + 0.1\\hat{n}_z\\otimes \\hat{n}_z - 0.07\\hat{n}_x\\otimes \\hat{n}_z - 0.07\\hat{n}_z\\otimes \\hat{n}_x$"
      ],
      "text/plain": [
       "0.250000000000000 n_x⊗n_x + 0.250000000000000 n_y⊗n_y + 0.100000000000000 n_z⊗n_z - 0.0700000000000000 n_x⊗n_z - 0.0700000000000000 n_z⊗n_x"
      ]
     },
     "execution_count": 35,
     "metadata": {},
     "output_type": "execute_result"
    }
   ],
   "source": [
    "N = me.ReferenceFrame('N')\n",
    "\n",
    "I = (0.25*me.outer(N.x, N.x) +\n",
    "    0.25*me.outer(N.y, N.y) +\n",
    "    0.10*me.outer(N.z, N.z) -\n",
    "    0.07*me.outer(N.x, N.z) -\n",
    "    0.07*me.outer(N.z, N.x))\n",
    "I"
   ]
  },
  {
   "cell_type": "markdown",
   "id": "d0e5b4b8",
   "metadata": {},
   "source": [
    "Новую систему отсчета, выровненную по рулевой оси."
   ]
  },
  {
   "cell_type": "code",
   "execution_count": 36,
   "id": "2cd09627",
   "metadata": {
    "execution": {
     "iopub.execute_input": "2023-06-28T09:20:23.267293Z",
     "iopub.status.busy": "2023-06-28T09:20:23.266935Z",
     "iopub.status.idle": "2023-06-28T09:20:23.283262Z",
     "shell.execute_reply": "2023-06-28T09:20:23.282519Z"
    }
   },
   "outputs": [],
   "source": [
    "H = me.ReferenceFrame('H')\n",
    "H.orient_axis(N, 68.0*sm.pi/180, N.y)"
   ]
  },
  {
   "cell_type": "markdown",
   "id": "70b4a409",
   "metadata": {},
   "source": [
    "Дважды спроецируем диадику инерции на рулевую ось $\\hat{h}_z$, чтобы получить момент инерции относительно этой оси:\n"
   ]
  },
  {
   "cell_type": "code",
   "execution_count": 37,
   "id": "af469028",
   "metadata": {
    "execution": {
     "iopub.execute_input": "2023-06-28T09:20:23.286754Z",
     "iopub.status.busy": "2023-06-28T09:20:23.286337Z",
     "iopub.status.idle": "2023-06-28T09:20:23.303086Z",
     "shell.execute_reply": "2023-06-28T09:20:23.302245Z"
    }
   },
   "outputs": [
    {
     "data": {
      "text/latex": [
       "$\\displaystyle 0.180324399093269$"
      ],
      "text/plain": [
       "0.180324399093269"
      ]
     },
     "execution_count": 37,
     "metadata": {},
     "output_type": "execute_result"
    }
   ],
   "source": [
    "I.dot(H.z).dot(H.z).evalf()"
   ]
  },
  {
   "cell_type": "markdown",
   "id": "1b306017",
   "metadata": {},
   "source": [
    "Альтернативно, можно использовать матричное преобразование. "
   ]
  },
  {
   "cell_type": "code",
   "execution_count": 38,
   "id": "34909cb3",
   "metadata": {
    "execution": {
     "iopub.execute_input": "2023-06-28T09:20:23.306702Z",
     "iopub.status.busy": "2023-06-28T09:20:23.306077Z",
     "iopub.status.idle": "2023-06-28T09:20:23.347746Z",
     "shell.execute_reply": "2023-06-28T09:20:23.346774Z"
    }
   },
   "outputs": [
    {
     "data": {
      "text/latex": [
       "$\\displaystyle \\left[\\begin{matrix}0.25 & 0 & -0.07\\\\0 & 0.25 & 0\\\\-0.07 & 0 & 0.1\\end{matrix}\\right]$"
      ],
      "text/plain": [
       "⎡0.25    0    -0.07⎤\n",
       "⎢                  ⎥\n",
       "⎢  0    0.25    0  ⎥\n",
       "⎢                  ⎥\n",
       "⎣-0.07   0     0.1 ⎦"
      ]
     },
     "execution_count": 38,
     "metadata": {},
     "output_type": "execute_result"
    }
   ],
   "source": [
    "I.to_matrix(N)"
   ]
  },
  {
   "cell_type": "code",
   "execution_count": 39,
   "id": "e8d434eb",
   "metadata": {
    "execution": {
     "iopub.execute_input": "2023-06-28T09:20:23.352417Z",
     "iopub.status.busy": "2023-06-28T09:20:23.352133Z",
     "iopub.status.idle": "2023-06-28T09:20:23.413810Z",
     "shell.execute_reply": "2023-06-28T09:20:23.412988Z"
    }
   },
   "outputs": [
    {
     "data": {
      "text/latex": [
       "$\\displaystyle \\left[\\begin{matrix}0.169675600906731 & 0 & 0.10245316380813\\\\0 & 0.25 & 0\\\\0.10245316380813 & 0 & 0.180324399093269\\end{matrix}\\right]$"
      ],
      "text/plain": [
       "⎡0.169675600906731   0    0.10245316380813 ⎤\n",
       "⎢                                          ⎥\n",
       "⎢        0          0.25          0        ⎥\n",
       "⎢                                          ⎥\n",
       "⎣0.10245316380813    0    0.180324399093269⎦"
      ]
     },
     "execution_count": 39,
     "metadata": {},
     "output_type": "execute_result"
    }
   ],
   "source": [
    "I_H = (H.dcm(N) @ I.to_matrix(N) @ N.dcm(H)).evalf()\n",
    "I_H"
   ]
  },
  {
   "cell_type": "code",
   "execution_count": 40,
   "id": "c730d683",
   "metadata": {
    "execution": {
     "iopub.execute_input": "2023-06-28T09:20:23.417498Z",
     "iopub.status.busy": "2023-06-28T09:20:23.417051Z",
     "iopub.status.idle": "2023-06-28T09:20:23.424782Z",
     "shell.execute_reply": "2023-06-28T09:20:23.424051Z"
    }
   },
   "outputs": [
    {
     "data": {
      "text/latex": [
       "$\\displaystyle 0.180324399093269$"
      ],
      "text/plain": [
       "0.180324399093269"
      ]
     },
     "execution_count": 40,
     "metadata": {},
     "output_type": "execute_result"
    }
   ],
   "source": [
    "I_H[2, 2]"
   ]
  },
  {
   "cell_type": "markdown",
   "id": "ffb36a37",
   "metadata": {},
   "source": [
    "### Теорема о параллельной оси \n"
   ]
  },
  {
   "cell_type": "markdown",
   "id": "52a0c7a1",
   "metadata": {},
   "source": [
    "Если известна центральная диада инерции твердого тела B вокруг своего центра масс $B_o$, тогда можно вычислить диаду инерции относительно любой другой точки $O$. \n",
    "\n",
    "Тут надо учесть инерционный вклад из-за расстояния между точки $O$ и $B_o$. \n",
    "\n",
    "Это делается с помощью [теоремы о параллельной оси](https://en.wikipedia.org/wiki/Parallel_axis_theorem):\n",
    "\n",
    "$$\n",
    "  \\breve{I}^{B/O} = \\breve{I}^{B/B_o} + \\breve{I}^{B_o/O}\n",
    "$$\n",
    "\n",
    "последний член это инерция частицы с массой $m$ (с общей массой тела), расположенной в центре масс относительно точки $O$\n",
    "$$\n",
    "   \\breve{I}^{B_o/O} = m \\left(\n",
    "   \\left|\\bar{r}^{B_o/O}\\right|^2 \\breve{U}  -\n",
    "   \\bar{r}^{B_o/O} \\otimes \\bar{r}^{B_o/O}\n",
    "   \\right)\n",
    "$$\n",
    "\n",
    "Если $B_o$ смещается из точки $O$ на три ортогональных сдвига $d_x,d_y,d_z$ общую форму этого члена можно рассчитать так:"
   ]
  },
  {
   "cell_type": "code",
   "execution_count": 41,
   "id": "8ecc8032",
   "metadata": {
    "execution": {
     "iopub.execute_input": "2023-06-28T09:20:23.427784Z",
     "iopub.status.busy": "2023-06-28T09:20:23.427340Z",
     "iopub.status.idle": "2023-06-28T09:20:23.475934Z",
     "shell.execute_reply": "2023-06-28T09:20:23.475121Z"
    }
   },
   "outputs": [
    {
     "data": {
      "text/latex": [
       "$\\displaystyle m \\left(d_{y}^{2} + d_{z}^{2}\\right)\\hat{n}_x\\otimes \\hat{n}_x + m \\left(d_{x}^{2} + d_{z}^{2}\\right)\\hat{n}_y\\otimes \\hat{n}_y + m \\left(d_{x}^{2} + d_{y}^{2}\\right)\\hat{n}_z\\otimes \\hat{n}_z -  d_{x} d_{y} m\\hat{n}_x\\otimes \\hat{n}_y -  d_{x} d_{z} m\\hat{n}_x\\otimes \\hat{n}_z -  d_{x} d_{y} m\\hat{n}_y\\otimes \\hat{n}_x -  d_{y} d_{z} m\\hat{n}_y\\otimes \\hat{n}_z -  d_{x} d_{z} m\\hat{n}_z\\otimes \\hat{n}_x -  d_{y} d_{z} m\\hat{n}_z\\otimes \\hat{n}_y$"
      ],
      "text/plain": [
       "  ⎛   2      2⎞\n",
       "m⋅⎝d_y  + d_z ⎠ n_x⊗n_x +   ⎛  2      2⎞\n",
       "m⋅⎝dₓ  + d_z ⎠ n_y⊗n_y +   ⎛  2      2⎞\n",
       "m⋅⎝dₓ  + d_y ⎠ n_z⊗n_z - dₓ⋅d_y⋅m n_x⊗n_y - dₓ⋅d_z⋅m n_x⊗n_z - dₓ⋅d_y⋅m n_y⊗n_x - d_y⋅d_z⋅m n_y⊗n_z - dₓ⋅d_z⋅m n_z⊗n_x - d_y⋅d_z⋅m n_z⊗n_y"
      ]
     },
     "execution_count": 41,
     "metadata": {},
     "output_type": "execute_result"
    }
   ],
   "source": [
    "dx, dy, dz, m = sm.symbols('d_x, d_y, d_z, m')\n",
    "\n",
    "N = me.ReferenceFrame('N')\n",
    "\n",
    "r_O_Bo = dx*N.x + dy*N.y + dz*N.z\n",
    "\n",
    "U = me.outer(N.x, N.x) + me.outer(N.y, N.y) + me.outer(N.z, N.z)\n",
    "\n",
    "I_Bo_O = m*(me.dot(r_O_Bo, r_O_Bo)*U - me.outer(r_O_Bo, r_O_Bo))\n",
    "I_Bo_O"
   ]
  },
  {
   "cell_type": "markdown",
   "id": "36ef9f48",
   "metadata": {},
   "source": [
    "Матричная форма этой диады показывает типичное представление параллельного сложения оси: "
   ]
  },
  {
   "cell_type": "code",
   "execution_count": 42,
   "id": "daabb527",
   "metadata": {
    "execution": {
     "iopub.execute_input": "2023-06-28T09:20:23.479262Z",
     "iopub.status.busy": "2023-06-28T09:20:23.478998Z",
     "iopub.status.idle": "2023-06-28T09:20:23.555420Z",
     "shell.execute_reply": "2023-06-28T09:20:23.554605Z"
    }
   },
   "outputs": [
    {
     "data": {
      "text/latex": [
       "$\\displaystyle \\left[\\begin{matrix}m \\left(d_{y}^{2} + d_{z}^{2}\\right) & - d_{x} d_{y} m & - d_{x} d_{z} m\\\\- d_{x} d_{y} m & m \\left(d_{x}^{2} + d_{z}^{2}\\right) & - d_{y} d_{z} m\\\\- d_{x} d_{z} m & - d_{y} d_{z} m & m \\left(d_{x}^{2} + d_{y}^{2}\\right)\\end{matrix}\\right]$"
      ],
      "text/plain": [
       "⎡  ⎛   2      2⎞                                ⎤\n",
       "⎢m⋅⎝d_y  + d_z ⎠    -dₓ⋅d_y⋅m       -dₓ⋅d_z⋅m   ⎥\n",
       "⎢                                               ⎥\n",
       "⎢                   ⎛  2      2⎞                ⎥\n",
       "⎢   -dₓ⋅d_y⋅m     m⋅⎝dₓ  + d_z ⎠    -d_y⋅d_z⋅m  ⎥\n",
       "⎢                                               ⎥\n",
       "⎢                                   ⎛  2      2⎞⎥\n",
       "⎣   -dₓ⋅d_z⋅m       -d_y⋅d_z⋅m    m⋅⎝dₓ  + d_y ⎠⎦"
      ]
     },
     "execution_count": 42,
     "metadata": {},
     "output_type": "execute_result"
    }
   ],
   "source": [
    "I_Bo_O.to_matrix(N)"
   ]
  },
  {
   "cell_type": "markdown",
   "id": "37ec238d",
   "metadata": {},
   "source": [
    "### Главные оси и моменты инерции"
   ]
  },
  {
   "cell_type": "markdown",
   "id": "63923409",
   "metadata": {},
   "source": [
    "Если вектор инерции $\\bar{I}_a$ относительно точки $O$ параллелен $\\hat{n}_a$, то ось через $O$ параллельная $\\hat{n}_a$ называется *главной осью* множества частиц или твердого тела.\n",
    "\n",
    "Плоскость перепендикулярная $\\hat{n}_a$ называется *главной плостостью*. \n",
    "\n",
    "Момент инерции относительно главной оси называется *главным моментом инерции*.\n",
    "\n",
    "Следствие параллельности $\\bar{I}_a$ и $\\hat{n}_a$, что продукты инерции все будут нулевыми, и *главная диадика инерции* будет\n",
    "\n",
    "$$\n",
    "   \\breve{I}^{B/O} =\n",
    "   I_{11} \\hat{b}_1 \\otimes \\hat{b}_1 +\n",
    "   I_{22} \\hat{b}_2 \\otimes \\hat{b}_2 +\n",
    "   I_{33} \\hat{b}_3 \\otimes \\hat{b}_3\n",
    "$$\n",
    "\n",
    "где $\\hat{b}_1,\\hat{b}_2,\\hat{b}_3$ ортогональный базис в «B», каждый из которых параллелен какой-нибудь главной оси, а $I_{11},I_{22},I_{33}$ — главные моменты инерции.\n",
    "\n",
    "Геометрически симметричные объекты с одинаковой плотностью массы имеют главные плоскости. которые перпендикулярны плоскостям симметрии геометрии. Но также существуют уникальные главные оси для несимметричной и неоднородной плотности объекты. \n",
    "\n",
    "Главные оси и связанные с ними главные моменты инерции могут находится через поиск собственных значений. \n",
    "\n",
    "Собственные значения произвольного матрица инерции — главные моменты инерции, а собственные векторы — единичные векторы параллельны взаимно перпендикулярным главным осям. \n",
    "\n",
    "Вспоминая, что матрица инерции представляет собой симметричную матрицу действительных чисел, получаем, что оно эрмитово и, следовательно, все его собственные значения действительны. \n",
    "\n",
    "Симметричные матрицы также диагонализуемы, и тогда собственные векторы будут ортонормированными. "
   ]
  },
  {
   "cell_type": "markdown",
   "id": "f6d332f8",
   "metadata": {},
   "source": [
    "Вот пример нахождения главных осей и связанных с ними моментов инерции с SymPy: "
   ]
  },
  {
   "cell_type": "code",
   "execution_count": 43,
   "id": "5df69995",
   "metadata": {
    "execution": {
     "iopub.execute_input": "2023-06-28T09:20:23.558850Z",
     "iopub.status.busy": "2023-06-28T09:20:23.558568Z",
     "iopub.status.idle": "2023-06-28T09:20:23.568568Z",
     "shell.execute_reply": "2023-06-28T09:20:23.567769Z"
    }
   },
   "outputs": [
    {
     "data": {
      "text/latex": [
       "$\\displaystyle \\left[\\begin{matrix}1.0451 & 0 & -0.1123\\\\0 & 2.403 & 0\\\\-0.1123 & 0 & 1.8501\\end{matrix}\\right]$"
      ],
      "text/plain": [
       "⎡1.0451     0    -0.1123⎤\n",
       "⎢                       ⎥\n",
       "⎢   0     2.403     0   ⎥\n",
       "⎢                       ⎥\n",
       "⎣-0.1123    0    1.8501 ⎦"
      ]
     },
     "execution_count": 43,
     "metadata": {},
     "output_type": "execute_result"
    }
   ],
   "source": [
    "I = sm.Matrix([ [1.0451, 0.0, -0.1123],\n",
    "                [0.0, 2.403, 0.0],\n",
    "                [-0.1123, 0.0, 1.8501]])\n",
    "I"
   ]
  },
  {
   "cell_type": "markdown",
   "id": "8eb05928",
   "metadata": {},
   "source": [
    "метод [`eigenvects()`](https://docs.sympy.org/latest/modules/matrices/matrices.html#sympy.matrices.matrices.MatrixEigen.eigenvects) на возвращает список кортежей, каждый из которых содержит `(eigenvalue, multiplicity, eigenvector)`:"
   ]
  },
  {
   "cell_type": "code",
   "execution_count": 44,
   "id": "d240ffeb",
   "metadata": {
    "execution": {
     "iopub.execute_input": "2023-06-28T09:20:23.573315Z",
     "iopub.status.busy": "2023-06-28T09:20:23.572850Z",
     "iopub.status.idle": "2023-06-28T09:20:23.584034Z",
     "shell.execute_reply": "2023-06-28T09:20:23.583151Z"
    }
   },
   "outputs": [],
   "source": [
    "ev1, ev2, ev3 = I.eigenvects()"
   ]
  },
  {
   "cell_type": "markdown",
   "id": "cc48f125",
   "metadata": {},
   "source": [
    "Первое и наибольшее собственное значение (главный момент инерции) и его связанный собственный вектор (направление главной оси): "
   ]
  },
  {
   "cell_type": "code",
   "execution_count": 45,
   "id": "4bfbcecd",
   "metadata": {
    "execution": {
     "iopub.execute_input": "2023-06-28T09:20:23.588677Z",
     "iopub.status.busy": "2023-06-28T09:20:23.588415Z",
     "iopub.status.idle": "2023-06-28T09:20:23.596676Z",
     "shell.execute_reply": "2023-06-28T09:20:23.595634Z"
    }
   },
   "outputs": [
    {
     "data": {
      "text/latex": [
       "$\\displaystyle 2.403$"
      ],
      "text/plain": [
       "2.40300000000000"
      ]
     },
     "execution_count": 45,
     "metadata": {},
     "output_type": "execute_result"
    }
   ],
   "source": [
    "ev1[0]"
   ]
  },
  {
   "cell_type": "code",
   "execution_count": 46,
   "id": "128ed0b0",
   "metadata": {
    "execution": {
     "iopub.execute_input": "2023-06-28T09:20:23.599953Z",
     "iopub.status.busy": "2023-06-28T09:20:23.599475Z",
     "iopub.status.idle": "2023-06-28T09:20:23.606171Z",
     "shell.execute_reply": "2023-06-28T09:20:23.605354Z"
    }
   },
   "outputs": [
    {
     "data": {
      "text/latex": [
       "$\\displaystyle \\left[\\begin{matrix}0\\\\1.0\\\\0\\end{matrix}\\right]$"
      ],
      "text/plain": [
       "⎡ 0 ⎤\n",
       "⎢   ⎥\n",
       "⎢1.0⎥\n",
       "⎢   ⎥\n",
       "⎣ 0 ⎦"
      ]
     },
     "execution_count": 46,
     "metadata": {},
     "output_type": "execute_result"
    }
   ],
   "source": [
    "ev1[2][0]"
   ]
  },
  {
   "cell_type": "markdown",
   "id": "b7fe1fb4",
   "metadata": {},
   "source": [
    "Это показывает, что y-ось уже была  самой главной осью. \n",
    "\n",
    "Второе собственное значение и связанный с ним собственный вектор: "
   ]
  },
  {
   "cell_type": "code",
   "execution_count": 47,
   "id": "4c8e14d8",
   "metadata": {
    "execution": {
     "iopub.execute_input": "2023-06-28T09:20:23.610376Z",
     "iopub.status.busy": "2023-06-28T09:20:23.610111Z",
     "iopub.status.idle": "2023-06-28T09:20:23.616198Z",
     "shell.execute_reply": "2023-06-28T09:20:23.615361Z"
    }
   },
   "outputs": [
    {
     "data": {
      "text/latex": [
       "$\\displaystyle 1.02972736390139$"
      ],
      "text/plain": [
       "1.02972736390139"
      ]
     },
     "execution_count": 47,
     "metadata": {},
     "output_type": "execute_result"
    }
   ],
   "source": [
    "ev2[0]"
   ]
  },
  {
   "cell_type": "code",
   "execution_count": 48,
   "id": "f25a1908",
   "metadata": {
    "execution": {
     "iopub.execute_input": "2023-06-28T09:20:23.620144Z",
     "iopub.status.busy": "2023-06-28T09:20:23.619875Z",
     "iopub.status.idle": "2023-06-28T09:20:23.626312Z",
     "shell.execute_reply": "2023-06-28T09:20:23.625503Z"
    }
   },
   "outputs": [
    {
     "data": {
      "text/latex": [
       "$\\displaystyle \\left[\\begin{matrix}-0.990760351805416\\\\0\\\\-0.135624206137434\\end{matrix}\\right]$"
      ],
      "text/plain": [
       "⎡-0.990760351805416⎤\n",
       "⎢                  ⎥\n",
       "⎢        0         ⎥\n",
       "⎢                  ⎥\n",
       "⎣-0.135624206137434⎦"
      ]
     },
     "execution_count": 48,
     "metadata": {},
     "output_type": "execute_result"
    }
   ],
   "source": [
    "ev2[2][0]"
   ]
  },
  {
   "cell_type": "markdown",
   "id": "9e0580b2",
   "metadata": {},
   "source": [
    "Это наименьшее собственное значение и, следовательно, меньший момент инерции относительно малая главная ось. \n",
    "\n",
    "Третье собственное значение и связанный с ним собственный вектор дают промежуточная главная ось и промежуточный момент инерции: "
   ]
  },
  {
   "cell_type": "code",
   "execution_count": 49,
   "id": "2ff76904",
   "metadata": {
    "execution": {
     "iopub.execute_input": "2023-06-28T09:20:23.633189Z",
     "iopub.status.busy": "2023-06-28T09:20:23.631616Z",
     "iopub.status.idle": "2023-06-28T09:20:23.637742Z",
     "shell.execute_reply": "2023-06-28T09:20:23.636934Z"
    }
   },
   "outputs": [
    {
     "data": {
      "text/latex": [
       "$\\displaystyle 1.86547263609861$"
      ],
      "text/plain": [
       "1.86547263609861"
      ]
     },
     "execution_count": 49,
     "metadata": {},
     "output_type": "execute_result"
    }
   ],
   "source": [
    "ev3[0]"
   ]
  },
  {
   "cell_type": "code",
   "execution_count": 50,
   "id": "7347ac88",
   "metadata": {
    "execution": {
     "iopub.execute_input": "2023-06-28T09:20:23.641107Z",
     "iopub.status.busy": "2023-06-28T09:20:23.640653Z",
     "iopub.status.idle": "2023-06-28T09:20:23.648864Z",
     "shell.execute_reply": "2023-06-28T09:20:23.648113Z"
    }
   },
   "outputs": [
    {
     "data": {
      "text/latex": [
       "$\\displaystyle \\left[\\begin{matrix}0.135624206137434\\\\0\\\\-0.990760351805416\\end{matrix}\\right]$"
      ],
      "text/plain": [
       "⎡0.135624206137434 ⎤\n",
       "⎢                  ⎥\n",
       "⎢        0         ⎥\n",
       "⎢                  ⎥\n",
       "⎣-0.990760351805416⎦"
      ]
     },
     "execution_count": 50,
     "metadata": {},
     "output_type": "execute_result"
    }
   ],
   "source": [
    "ev3[2][0]"
   ]
  },
  {
   "cell_type": "markdown",
   "id": "0955d6c8",
   "metadata": {},
   "source": [
    "### Угловой момент\n",
    "\n",
    "Вектор углового момента твердого тела «B»\n",
    "в системе отсчета «A» относительно точки $O$ определяется как:\n",
    "\n",
    "$$\n",
    "{}^A \\bar{H}^{B/O} := \\breve{I}^{B/O} \\cdot {}^A\\bar{\\omega}^B\n",
    "$$"
   ]
  },
  {
   "cell_type": "markdown",
   "id": "73227bb3",
   "metadata": {},
   "source": [
    "Обозначение скалярного произведения диадических векторов делает это определение кратким. \n",
    "\n",
    "Если вместо этого точка $B_o$ является центром масс B, тогда диада инерции - это *центральная диада инерции* , а результат - *центральная угловой момент* в «A»:\n",
    "\n",
    "$$\n",
    "   {}^A \\bar{H}^{B/B_o} = \\breve{I}^{B/B_o} \\cdot {}^A\\bar{\\omega}^B\n",
    "$$"
   ]
  },
  {
   "cell_type": "markdown",
   "id": "ce6dac68",
   "metadata": {},
   "source": [
    "Вот пример расчета углового момента, выраженного в фиксированная системе отсчета тела через SymPy Mechanics:"
   ]
  },
  {
   "cell_type": "code",
   "execution_count": 51,
   "id": "f452ceba",
   "metadata": {
    "execution": {
     "iopub.execute_input": "2023-06-28T09:20:23.652074Z",
     "iopub.status.busy": "2023-06-28T09:20:23.651788Z",
     "iopub.status.idle": "2023-06-28T09:20:23.694711Z",
     "shell.execute_reply": "2023-06-28T09:20:23.693868Z"
    }
   },
   "outputs": [
    {
     "data": {
      "text/latex": [
       "$\\displaystyle (I_{xx} \\omega_{1} + I_{xy} \\omega_{2} + I_{xz} \\omega_{3})\\hat{b}_x + (I_{xy} \\omega_{1} + I_{yy} \\omega_{2} + I_{yz} \\omega_{3})\\hat{b}_y + (I_{xz} \\omega_{1} + I_{yz} \\omega_{2} + I_{zz} \\omega_{3})\\hat{b}_z$"
      ],
      "text/plain": [
       "(I_{xx}⋅ω₁ + I_{xy}⋅ω₂ + I_{xz}⋅ω₃) b_x + (I_{xy}⋅ω₁ + I_{yy}⋅ω₂ + I_{yz}⋅ω₃)\n",
       "b_y + (I_{xz}⋅ω₁ + I_{yz}⋅ω₂ + I_{zz}⋅ω₃) b_z"
      ]
     },
     "execution_count": 51,
     "metadata": {},
     "output_type": "execute_result"
    }
   ],
   "source": [
    "Ixx, Iyy, Izz = sm.symbols('I_{xx}, I_{yy}, I_{zz}')\n",
    "Ixy, Iyz, Ixz = sm.symbols('I_{xy}, I_{yz}, I_{xz}')\n",
    "w1, w2, w3 = me.dynamicsymbols('omega1, omega2, omega3')\n",
    "\n",
    "B = me.ReferenceFrame('B')\n",
    "\n",
    "I = me.inertia(B, Ixx, Iyy, Izz, Ixy, Iyz, Ixz)\n",
    "\n",
    "A_w_B = w1*B.x + w2*B.y + w3*B.z\n",
    "\n",
    "I.dot(A_w_B)"
   ]
  },
  {
   "cell_type": "markdown",
   "id": "7569b712",
   "metadata": {},
   "source": [
    "Если единичные векторы фиксированного тела оказались совмещены с главными осями твердого тела, то центральный момент импульса упрощается: "
   ]
  },
  {
   "cell_type": "code",
   "execution_count": 52,
   "id": "a5a53324",
   "metadata": {
    "execution": {
     "iopub.execute_input": "2023-06-28T09:20:23.697896Z",
     "iopub.status.busy": "2023-06-28T09:20:23.697639Z",
     "iopub.status.idle": "2023-06-28T09:20:23.714199Z",
     "shell.execute_reply": "2023-06-28T09:20:23.713408Z"
    }
   },
   "outputs": [
    {
     "data": {
      "text/latex": [
       "$\\displaystyle I_{1} \\omega_{1}\\hat{b}_x + I_{2} \\omega_{2}\\hat{b}_y + I_{3} \\omega_{3}\\hat{b}_z$"
      ],
      "text/plain": [
       "I₁⋅ω₁ b_x + I₂⋅ω₂ b_y + I₃⋅ω₃ b_z"
      ]
     },
     "execution_count": 52,
     "metadata": {},
     "output_type": "execute_result"
    }
   ],
   "source": [
    "I1, I2, I3 = sm.symbols('I_1, I_2, I_3')\n",
    "w1, w2, w3 = me.dynamicsymbols('omega1, omega2, omega3')\n",
    "\n",
    "B = me.ReferenceFrame('B')\n",
    "\n",
    "I = me.inertia(B, I1, I2, I3)\n",
    "\n",
    "A_w_B = w1*B.x + w2*B.y + w3*B.z\n",
    "\n",
    "I.dot(A_w_B)"
   ]
  }
 ],
 "metadata": {
  "kernelspec": {
   "display_name": "Python 3 (ipykernel)",
   "language": "python",
   "name": "python3"
  },
  "language_info": {
   "codemirror_mode": {
    "name": "ipython",
    "version": 3
   },
   "file_extension": ".py",
   "mimetype": "text/x-python",
   "name": "python",
   "nbconvert_exporter": "python",
   "pygments_lexer": "ipython3",
   "version": "3.11.6"
  }
 },
 "nbformat": 4,
 "nbformat_minor": 5
}
