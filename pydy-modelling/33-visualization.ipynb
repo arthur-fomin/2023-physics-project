{
 "cells": [
  {
   "cell_type": "markdown",
   "id": "97970e75",
   "metadata": {},
   "source": [
    "# Трехмерная визуализация "
   ]
  },
  {
   "cell_type": "code",
   "execution_count": 2,
   "id": "740c8b15",
   "metadata": {
    "execution": {
     "iopub.execute_input": "2023-06-28T09:22:57.007711Z",
     "iopub.status.busy": "2023-06-28T09:22:57.007255Z",
     "iopub.status.idle": "2023-06-28T09:22:57.766685Z",
     "shell.execute_reply": "2023-06-28T09:22:57.765780Z"
    }
   },
   "outputs": [],
   "source": [
    "from scipy.integrate import solve_ivp\n",
    "import numpy as np\n",
    "import sympy as sm\n",
    "import sympy.physics.mechanics as me"
   ]
  },
  {
   "cell_type": "code",
   "execution_count": 3,
   "id": "8e37e2c0",
   "metadata": {
    "execution": {
     "iopub.execute_input": "2023-06-28T09:22:57.770207Z",
     "iopub.status.busy": "2023-06-28T09:22:57.769882Z",
     "iopub.status.idle": "2023-06-28T09:22:57.776801Z",
     "shell.execute_reply": "2023-06-28T09:22:57.776055Z"
    }
   },
   "outputs": [],
   "source": [
    "class ReferenceFrame(me.ReferenceFrame):\n",
    "\n",
    "    def __init__(self, *args, **kwargs):\n",
    "\n",
    "        kwargs.pop('latexs', None)\n",
    "\n",
    "        lab = args[0].lower()\n",
    "        tex = r'\\hat{{{}}}_{}'\n",
    "\n",
    "        super(ReferenceFrame, self).__init__(*args,\n",
    "                                             latexs=(tex.format(lab, 'x'),\n",
    "                                                     tex.format(lab, 'y'),\n",
    "                                                     tex.format(lab, 'z')),\n",
    "                                             **kwargs)\n",
    "me.ReferenceFrame = ReferenceFrame"
   ]
  },
  {
   "cell_type": "markdown",
   "id": "36f45a49",
   "metadata": {},
   "source": [
    "В этой главе будет базовое введение в создание трехмерных визуализации движения. Есть много инструментов для создания интерактивной трехмерной графики из от классических инструментов нижнего уровня, таких как [OpenGL](https://en.wikipedia.org/wiki/OpenGL) до графических пользовательских интерфейсов для рисования и анимации 3D-моделей, таких как [Blender](https://en.wikipedia.org/wiki/Blender_(software)). \n",
    "\n",
    "Мы будем использовать [pythreejs](https://pythreejs.readthedocs.io/en/stable/), питон-враппер для  [javascript-библиотеки Three.js](https://threejs.org/), построенной на [WebGL](https://en.wikipedia.org/wiki/WebGL)."
   ]
  },
  {
   "cell_type": "markdown",
   "id": "e70edfb9",
   "metadata": {},
   "source": [
    "Снова используем этот пример:\n",
    "\n",
    "![](figures/eom-double-rod-pendulum.svg)\n"
   ]
  },
  {
   "cell_type": "code",
   "execution_count": 4,
   "id": "f0f8f941",
   "metadata": {
    "execution": {
     "iopub.execute_input": "2023-06-28T09:22:57.779825Z",
     "iopub.status.busy": "2023-06-28T09:22:57.779572Z",
     "iopub.status.idle": "2023-06-28T09:22:58.254023Z",
     "shell.execute_reply": "2023-06-28T09:22:58.253168Z"
    }
   },
   "outputs": [],
   "source": [
    "m, g, kt, kl, l = sm.symbols('m, g, k_t, k_l, l')\n",
    "q1, q2, q3 = me.dynamicsymbols('q1, q2, q3')\n",
    "u1, u2, u3 = me.dynamicsymbols('u1, u2, u3')\n",
    "\n",
    "N = me.ReferenceFrame('N')\n",
    "A = me.ReferenceFrame('A')\n",
    "B = me.ReferenceFrame('B')\n",
    "\n",
    "A.orient_axis(N, q1, N.z)\n",
    "B.orient_axis(A, q2, A.x)\n",
    "\n",
    "A.set_ang_vel(N, u1*N.z)\n",
    "B.set_ang_vel(A, u2*A.x)\n",
    "\n",
    "O = me.Point('O')\n",
    "Ao = me.Point('A_O')\n",
    "Bo = me.Point('B_O')\n",
    "Q = me.Point('Q')\n",
    "\n",
    "Ao.set_pos(O, l/2*A.x)\n",
    "Bo.set_pos(O, l*A.x)\n",
    "Q.set_pos(Bo, q3*B.y)\n",
    "\n",
    "O.set_vel(N, 0)\n",
    "Ao.v2pt_theory(O, N, A)\n",
    "Bo.v2pt_theory(O, N, A)\n",
    "Q.set_vel(B, u3*B.y)\n",
    "Q.v1pt_theory(Bo, N, B)\n",
    "\n",
    "t = me.dynamicsymbols._t\n",
    "\n",
    "qdot_repl = {q1.diff(t): u1,\n",
    "             q2.diff(t): u2,\n",
    "             q3.diff(t): u3}\n",
    "\n",
    "Q.set_acc(N, Q.acc(N).xreplace(qdot_repl))\n",
    "\n",
    "R_Ao = m*g*N.x\n",
    "R_Bo = m*g*N.x + kl*q3*B.y\n",
    "R_Q = m/4*g*N.x - kl*q3*B.y\n",
    "T_A = -kt*q1*N.z + kt*q2*A.x\n",
    "T_B = -kt*q2*A.x\n",
    "\n",
    "I = m*l**2/12\n",
    "I_A_Ao = I*me.outer(A.y, A.y) + I*me.outer(A.z, A.z)\n",
    "I_B_Bo = I*me.outer(B.x, B.x) + I*me.outer(B.z, B.z)\n",
    "\n",
    "points = [Ao, Bo, Q]\n",
    "forces = [R_Ao, R_Bo, R_Q]\n",
    "masses = [m, m, m/4]\n",
    "\n",
    "frames = [A, B]\n",
    "torques = [T_A, T_B]\n",
    "inertias = [I_A_Ao, I_B_Bo]\n",
    "\n",
    "Fr_bar = []\n",
    "Frs_bar = []\n",
    "\n",
    "for ur in [u1, u2, u3]:\n",
    "\n",
    "    Fr = 0\n",
    "    Frs = 0\n",
    "\n",
    "    for Pi, Ri, mi in zip(points, forces, masses):\n",
    "        vr = Pi.vel(N).diff(ur, N)\n",
    "        Fr += vr.dot(Ri)\n",
    "        Rs = -mi*Pi.acc(N)\n",
    "        Frs += vr.dot(Rs)\n",
    "\n",
    "    for Bi, Ti, Ii in zip(frames, torques, inertias):\n",
    "        wr = Bi.ang_vel_in(N).diff(ur, N)\n",
    "        Fr += wr.dot(Ti)\n",
    "        Ts = -(Bi.ang_acc_in(N).dot(Ii) +\n",
    "               me.cross(Bi.ang_vel_in(N), Ii).dot(Bi.ang_vel_in(N)))\n",
    "        Frs += wr.dot(Ts)\n",
    "\n",
    "    Fr_bar.append(Fr)\n",
    "    Frs_bar.append(Frs)\n",
    "\n",
    "Fr = sm.Matrix(Fr_bar)\n",
    "Frs = sm.Matrix(Frs_bar)\n",
    "\n",
    "q = sm.Matrix([q1, q2, q3])\n",
    "u = sm.Matrix([u1, u2, u3])\n",
    "p = sm.Matrix([g, kl, kt, l, m])\n",
    "\n",
    "qd = q.diff(t)\n",
    "ud = u.diff(t)\n",
    "\n",
    "ud_zerod = {udr: 0 for udr in ud}\n",
    "\n",
    "Mk = -sm.eye(3)\n",
    "gk = u\n",
    "\n",
    "Md = Frs.jacobian(ud)\n",
    "gd = Frs.xreplace(ud_zerod) + Fr\n",
    "\n",
    "eval_eom = sm.lambdify((q, u, p), [Mk, gk, Md, gd])\n",
    "\n",
    "def eval_rhs(t, x, p):\n",
    "    \"\"\"Return the right hand side of the explicit ordinary differential\n",
    "    equations which evaluates the time derivative of the state ``x`` at time\n",
    "    ``t``.\n",
    "\n",
    "    Parameters\n",
    "    ==========\n",
    "    t : float\n",
    "       Time in seconds.\n",
    "    x : array_like, shape(6,)\n",
    "       State at time t: [q1, q2, q3, u1, u2, u3]\n",
    "    p : array_like, shape(5,)\n",
    "       Constant parameters: [g, kl, kt, l, m]\n",
    "\n",
    "    Returns\n",
    "    =======\n",
    "    xd : ndarray, shape(6,)\n",
    "        Derivative of the state with respect to time at time ``t``.\n",
    "\n",
    "    \"\"\"\n",
    "\n",
    "    # unpack the q and u vectors from x\n",
    "    q = x[:3]\n",
    "    u = x[3:]\n",
    "\n",
    "    # evaluate the equations of motion matrices with the values of q, u, p\n",
    "    Mk, gk, Md, gd = eval_eom(q, u, p)\n",
    "\n",
    "    # solve for q' and u'\n",
    "    qd = np.linalg.solve(-Mk, np.squeeze(gk))\n",
    "    ud = np.linalg.solve(-Md, np.squeeze(gd))\n",
    "\n",
    "    # pack dq/dt and du/dt into a new state time derivative vector dx/dt\n",
    "    xd = np.empty_like(x)\n",
    "    xd[:3] = qd\n",
    "    xd[3:] = ud\n",
    "\n",
    "    return xd\n",
    "\n",
    "q_vals = np.array([\n",
    "    np.deg2rad(25.0),  # q1, rad\n",
    "    np.deg2rad(5.0),  # q2, rad\n",
    "    0.1,  # q3, m\n",
    "])\n",
    "\n",
    "u_vals = np.array([\n",
    "    0.1,  # u1, rad/s\n",
    "    2.2,  # u2, rad/s\n",
    "    0.3,  # u3, m/s\n",
    "])\n",
    "\n",
    "p_vals = np.array([\n",
    "    9.81,  # g, m/s**2\n",
    "    3.0,  # kl, N/m\n",
    "    0.01,  # kt, Nm/rad\n",
    "    0.6,  # l, m\n",
    "    1.0,  # m, kg\n",
    "])\n",
    "\n",
    "x0 = np.empty(6)\n",
    "x0[:3] = q_vals\n",
    "x0[3:] = u_vals\n",
    "\n",
    "fps = 20\n",
    "t0, tf = 0.0, 10.0\n",
    "ts = np.linspace(t0, tf, num=int(fps*(tf - t0)))\n",
    "result = solve_ivp(eval_rhs, (t0, tf), x0, args=(p_vals,), t_eval=ts)\n",
    "xs = result.y.T"
   ]
  },
  {
   "cell_type": "code",
   "execution_count": 5,
   "id": "bf5a34f7",
   "metadata": {
    "execution": {
     "iopub.execute_input": "2023-06-28T09:22:58.257438Z",
     "iopub.status.busy": "2023-06-28T09:22:58.257187Z",
     "iopub.status.idle": "2023-06-28T09:22:58.264800Z",
     "shell.execute_reply": "2023-06-28T09:22:58.263961Z"
    }
   },
   "outputs": [
    {
     "data": {
      "text/plain": [
       "((200,), (200, 6))"
      ]
     },
     "execution_count": 5,
     "metadata": {},
     "output_type": "execute_result"
    }
   ],
   "source": [
    "ts.shape, xs.shape"
   ]
  },
  {
   "cell_type": "markdown",
   "id": "111b06ff",
   "metadata": {},
   "source": [
    "### pythreejs\n",
    "\n",
    "`pythreejs` позволяет вам использовать `three.js` через Python. \n",
    "\n",
    "Функции и объекты, которые pythreejs доступны в [его документации](https://pythreejs.readthedocs.io), но поскольку эти иметь сопоставление 1:1 с кодом Three.js, вы также найдете более полную информацию информация в [документации ThreeJS](https://threejs.org/docs/index.html). \n"
   ]
  },
  {
   "cell_type": "code",
   "execution_count": 6,
   "id": "0373ea19",
   "metadata": {
    "execution": {
     "iopub.execute_input": "2023-06-28T09:22:58.269027Z",
     "iopub.status.busy": "2023-06-28T09:22:58.268776Z",
     "iopub.status.idle": "2023-06-28T09:22:58.488439Z",
     "shell.execute_reply": "2023-06-28T09:22:58.487394Z"
    }
   },
   "outputs": [],
   "source": [
    "import pythreejs as p3js"
   ]
  },
  {
   "cell_type": "markdown",
   "id": "a23c6afc",
   "metadata": {},
   "source": [
    "pythreejs имеет множество [примитивных геометрических фигур](https://pythreejs.readthedocs.io/en/stable/examples/Geometries.html), например [`CylinderGeometry`](https://pythreejs.readthedocs.io/en/stable/api/geometries/CylinderGeometry_autogen.html#pythreejs.CylinderGeometry) может быть использован для создания цилиндров и конусов:"
   ]
  },
  {
   "cell_type": "code",
   "execution_count": 7,
   "id": "e6feb7b7",
   "metadata": {
    "execution": {
     "iopub.execute_input": "2023-06-28T09:22:58.491949Z",
     "iopub.status.busy": "2023-06-28T09:22:58.491699Z",
     "iopub.status.idle": "2023-06-28T09:22:58.501543Z",
     "shell.execute_reply": "2023-06-28T09:22:58.500782Z"
    }
   },
   "outputs": [
    {
     "data": {
      "application/vnd.jupyter.widget-view+json": {
       "model_id": "06fa89e97c22423d8e40f9ed0cdafe8b",
       "version_major": 2,
       "version_minor": 0
      },
      "text/plain": [
       "CylinderGeometry(height=50.0, radiusBottom=10.0, radiusTop=2.0)"
      ]
     },
     "execution_count": 7,
     "metadata": {},
     "output_type": "execute_result"
    }
   ],
   "source": [
    "cyl_geom = p3js.CylinderGeometry(radiusTop=2.0, radiusBottom=10.0, height=50.0)\n",
    "cyl_geom"
   ]
  },
  {
   "cell_type": "markdown",
   "id": "609efbfd",
   "metadata": {},
   "source": [
    "Изображение выше является интерактивным; для щелчка можно использовать мышь или трекпад, удерживайте и переместите объект.\n",
    "\n",
    "Если вы хотите применить материал к поверхности геометрии, вы создаете [`Mesh`](https://pythreejs.readthedocs.io/en/stable/api/objects/Mesh_autogen.html#pythreejs.Mesh)который связывает [`Material`](https://pythreejs.readthedocs.io/en/stable/api/materials/Material_autogen.html#pythreejs.Material\")с геометрией. \n",
    "\n",
    "Раскрасим цилиндр выше так:"
   ]
  },
  {
   "cell_type": "code",
   "execution_count": 8,
   "id": "6b11cc1e",
   "metadata": {
    "execution": {
     "iopub.execute_input": "2023-06-28T09:22:58.507016Z",
     "iopub.status.busy": "2023-06-28T09:22:58.506765Z",
     "iopub.status.idle": "2023-06-28T09:22:58.517479Z",
     "shell.execute_reply": "2023-06-28T09:22:58.516673Z"
    }
   },
   "outputs": [
    {
     "data": {
      "application/vnd.jupyter.widget-view+json": {
       "model_id": "16ea01a5c53c4cf4a5d18f8861bf1423",
       "version_major": 2,
       "version_minor": 0
      },
      "text/plain": [
       "Mesh(geometry=CylinderGeometry(height=50.0, radiusBottom=10.0, radiusTop=2.0), material=MeshStandardMaterial(a…"
      ]
     },
     "execution_count": 8,
     "metadata": {},
     "output_type": "execute_result"
    }
   ],
   "source": [
    "red_material = p3js.MeshStandardMaterial(color='red')\n",
    "\n",
    "cyl_mesh = p3js.Mesh(geometry=cyl_geom, material=red_material)\n",
    "\n",
    "cyl_mesh"
   ]
  },
  {
   "cell_type": "markdown",
   "id": "d7fd7e37",
   "metadata": {},
   "source": [
    "### Создание сцены\n",
    "\n",
    "Здесь я создаю новый оранжевый цилиндр, который смещен от начала координат. \n",
    "\n",
    "Cцена и имеет свои собственные оси координат. [`AxesHelper`](https://pythreejs.readthedocs.io/en/stable/api/helpers/AxesHelper_autogen.html#pythreejs.AxesHelper) создает простые X (красный), Y (зеленый) и Z (синий) прикреплен к сетке. \n",
    "\n",
    "[`position`](https://pythreejs.readthedocs.io/en/stable/api/core/Object3D_autogen.html#pythreejs.Object3D.position ) переопределено для установки позиции."
   ]
  },
  {
   "cell_type": "code",
   "execution_count": 9,
   "id": "0c104466",
   "metadata": {
    "execution": {
     "iopub.execute_input": "2023-06-28T09:22:58.525156Z",
     "iopub.status.busy": "2023-06-28T09:22:58.524914Z",
     "iopub.status.idle": "2023-06-28T09:22:58.537348Z",
     "shell.execute_reply": "2023-06-28T09:22:58.536629Z"
    }
   },
   "outputs": [],
   "source": [
    "cyl_geom = p3js.CylinderGeometry(radiusTop=0.1, radiusBottom=0.5, height=2.0)\n",
    "cyl_material = p3js.MeshStandardMaterial(color='orange', wireframe=True)\n",
    "cyl_mesh = p3js.Mesh(geometry=cyl_geom, material=cyl_material)\n",
    "axes = p3js.AxesHelper()\n",
    "cyl_mesh.add(axes)\n",
    "cyl_mesh.position = (3.0, 3.0, 3.0)"
   ]
  },
  {
   "cell_type": "markdown",
   "id": "5e763192",
   "metadata": {},
   "source": [
    "Теперь мы создадим [`Scene`](https://pythreejs.readthedocs.io/en/stable/api/scenes/Scene_autogen.html#pythreejs.Scene) который может содержать несколько сеток и других объектов, таких как источники света, камеры и оси. \n",
    "\n",
    "Eсть изрядное количество стандартного кода для создания статической сцены. \n",
    "\n",
    "Все объекты должны быть добавлены в ключевой аргумент `Scene` `children=`. \n",
    "\n",
    "Последняя строка создает [`WebGLBufferRenderer`](https://pythreejs.readthedocs.io/en/stable/api/renderers/webgl/WebGLBufferRenderer_autogen.html#pythreejs.WebGLBufferRenderer) который связывает камеру вид на сцену и позволяет [`OrbitControls`](https://pythreejs.readthedocs.io/en/stable/api/controls/OrbitControls_autogen.html#pythreejs.OrbitControls) разрешить масштабирование, панорамирование и вращение с помощью мыши или трекпада.\n"
   ]
  },
  {
   "cell_type": "code",
   "execution_count": 10,
   "id": "8d90d02d",
   "metadata": {
    "execution": {
     "iopub.execute_input": "2023-06-28T09:22:58.543560Z",
     "iopub.status.busy": "2023-06-28T09:22:58.542964Z",
     "iopub.status.idle": "2023-06-28T09:22:58.561437Z",
     "shell.execute_reply": "2023-06-28T09:22:58.560727Z"
    }
   },
   "outputs": [],
   "source": [
    "view_width = 600\n",
    "view_height = 400\n",
    "\n",
    "camera = p3js.PerspectiveCamera(position=[10.0, 10.0, 10.0],\n",
    "                                aspect=view_width/view_height)\n",
    "dir_light = p3js.DirectionalLight(position=[0.0, 10.0, 10.0])\n",
    "ambient_light = p3js.AmbientLight()\n",
    "\n",
    "axes = p3js.AxesHelper()\n",
    "scene = p3js.Scene(children=[cyl_mesh, axes, camera, dir_light, ambient_light])\n",
    "controller = p3js.OrbitControls(controlling=camera)\n",
    "renderer = p3js.Renderer(camera=camera,\n",
    "                        scene=scene,\n",
    "                        controls=[controller],\n",
    "                        width=view_width,\n",
    "                        height=view_height)"
   ]
  },
  {
   "cell_type": "markdown",
   "id": "af7e5357",
   "metadata": {},
   "source": [
    "Теперь отобразим сцену, вызвав рендерер: "
   ]
  },
  {
   "cell_type": "code",
   "execution_count": 11,
   "id": "bd3122a2",
   "metadata": {
    "execution": {
     "iopub.execute_input": "2023-06-28T09:22:58.570420Z",
     "iopub.status.busy": "2023-06-28T09:22:58.569650Z",
     "iopub.status.idle": "2023-06-28T09:22:58.575866Z",
     "shell.execute_reply": "2023-06-28T09:22:58.575041Z"
    }
   },
   "outputs": [
    {
     "data": {
      "application/vnd.jupyter.widget-view+json": {
       "model_id": "25140b0c2f1e42cf81bf6a4401eff76e",
       "version_major": 2,
       "version_minor": 0
      },
      "text/plain": [
       "Renderer(camera=PerspectiveCamera(aspect=1.5, position=(10.0, 10.0, 10.0), projectionMatrix=(1.0, 0.0, 0.0, 0.…"
      ]
     },
     "execution_count": 11,
     "metadata": {},
     "output_type": "execute_result"
    }
   ],
   "source": [
    "renderer"
   ]
  },
  {
   "cell_type": "markdown",
   "id": "deaf28ca",
   "metadata": {},
   "source": [
    "### Матрицы преобразования\n",
    "\n",
    "Местоположение и ориентация любой заданной сетки сохраняется в ее [ матрице преобразований](https://en.wikipedia.org/wiki/Transformation_matrix). \n",
    "\n",
    "Матрица преобразования обычно используется в графических приложениях, может описывать положение, ориентацию, масштабирование и наклон объекта, сетку точек. \n",
    "\n",
    "Матрица преобразования, которая описывает только вращение и позицию принимает такой вид:\n",
    "\n",
    "$$\n",
    "   \\mathbf{T} = \\begin{bmatrix}\n",
    "   {}^N\\mathbf{C}^B & \\bar{0} \\\\\n",
    "   \\bar{r}^{P/O} & 1\n",
    "   \\end{bmatrix} \\quad \\mathbf{T}\\in \\mathbb{R}^{4x4}\n",
    "$$\n",
    "\n",
    "Здесь матрица поворотов сетки «B» по отношению к глобальной системе отсчета сцены «N», хранится в первых трех строках и столбцах, вектор положения точки $P$ относительно $O$ хранится в трех первых колонках нижней записи. Если нет поворотов или вращений, матрица поворота становится единичной. \n",
    "Эта матрица хранится в атрибуте [`matrix`](https://pythreejs.readthedocs.io/en/stable/api/core/Object3D_autogen.html#pythreejs.Object3D.matrix):"
   ]
  },
  {
   "cell_type": "code",
   "execution_count": 33,
   "id": "f1f46c2a",
   "metadata": {
    "execution": {
     "iopub.execute_input": "2023-06-28T09:22:58.578950Z",
     "iopub.status.busy": "2023-06-28T09:22:58.578511Z",
     "iopub.status.idle": "2023-06-28T09:22:58.583540Z",
     "shell.execute_reply": "2023-06-28T09:22:58.582755Z"
    }
   },
   "outputs": [
    {
     "data": {
      "text/plain": [
       "(1.0,\n",
       " 0.0,\n",
       " 0.0,\n",
       " 0.0,\n",
       " 0.0,\n",
       " 1.0,\n",
       " 0.0,\n",
       " 0.0,\n",
       " 0.0,\n",
       " 0.0,\n",
       " 1.0,\n",
       " 0.0,\n",
       " 3.0,\n",
       " 3.0,\n",
       " 3.0,\n",
       " 1.0)"
      ]
     },
     "execution_count": 33,
     "metadata": {},
     "output_type": "execute_result"
    }
   ],
   "source": [
    "cyl_mesh.matrix"
   ]
  },
  {
   "cell_type": "markdown",
   "id": "47678471",
   "metadata": {},
   "source": [
    "Обратите внимание, что матрица 4x4 хранится «сведенной» в одном списке из 16 значений."
   ]
  },
  {
   "cell_type": "code",
   "execution_count": 13,
   "id": "4251b690",
   "metadata": {
    "execution": {
     "iopub.execute_input": "2023-06-28T09:22:58.587300Z",
     "iopub.status.busy": "2023-06-28T09:22:58.586875Z",
     "iopub.status.idle": "2023-06-28T09:22:58.591765Z",
     "shell.execute_reply": "2023-06-28T09:22:58.590980Z"
    }
   },
   "outputs": [
    {
     "data": {
      "text/plain": [
       "16"
      ]
     },
     "execution_count": 13,
     "metadata": {},
     "output_type": "execute_result"
    }
   ],
   "source": [
    "len(cyl_mesh.matrix)"
   ]
  },
  {
   "cell_type": "markdown",
   "id": "2f456eb6",
   "metadata": {},
   "source": [
    "Можно превратить его в массив Numpy, используя [`reshape()`](https://numpy.org/doc/stable/reference/generated/numpy.ndarray.reshape.html#numpy.ndarray.reshape\")это и [`flatten()`](https://numpy.org/doc/stable/reference/generated/numpy.ndarray.flatten.html#numpy.ndarray.flatten\")"
   ]
  },
  {
   "cell_type": "code",
   "execution_count": 14,
   "id": "a32c6e8f",
   "metadata": {
    "execution": {
     "iopub.execute_input": "2023-06-28T09:22:58.595384Z",
     "iopub.status.busy": "2023-06-28T09:22:58.594895Z",
     "iopub.status.idle": "2023-06-28T09:22:58.600430Z",
     "shell.execute_reply": "2023-06-28T09:22:58.599568Z"
    }
   },
   "outputs": [
    {
     "data": {
      "text/plain": [
       "array([[1., 0., 0., 0.],\n",
       "       [0., 1., 0., 0.],\n",
       "       [0., 0., 1., 0.],\n",
       "       [3., 3., 3., 1.]])"
      ]
     },
     "execution_count": 14,
     "metadata": {},
     "output_type": "execute_result"
    }
   ],
   "source": [
    "np.array(cyl_mesh.matrix).reshape(4, 4)"
   ]
  },
  {
   "cell_type": "code",
   "execution_count": 15,
   "id": "f4814548",
   "metadata": {
    "execution": {
     "iopub.execute_input": "2023-06-28T09:22:58.604453Z",
     "iopub.status.busy": "2023-06-28T09:22:58.603814Z",
     "iopub.status.idle": "2023-06-28T09:22:58.609266Z",
     "shell.execute_reply": "2023-06-28T09:22:58.608478Z"
    }
   },
   "outputs": [
    {
     "data": {
      "text/plain": [
       "array([1., 0., 0., 0., 0., 1., 0., 0., 0., 0., 1., 0., 3., 3., 3., 1.])"
      ]
     },
     "execution_count": 15,
     "metadata": {},
     "output_type": "execute_result"
    }
   ],
   "source": [
    "np.array(cyl_mesh.matrix).reshape(4, 4).flatten()"
   ]
  },
  {
   "cell_type": "markdown",
   "id": "8a875067",
   "metadata": {},
   "source": [
    "Каждая сетка/геометрия имеет свою собственную локальную систему координат и начало координат. \n",
    "\n",
    "Для цилиндра, начало координат находится в геометрическом центре, а ось цилиндра равна выровнено по своей локальной оси Y. \n",
    "\n",
    "Для нашего тела A, нам нужен цилиндр, у которого ось по вектору x. \n",
    "\n",
    "Поэтому нужно создать новую систему отсчета, в которой ее единичный вектор Y совмещен с $\\hat{a_x}$. "
   ]
  },
  {
   "cell_type": "code",
   "execution_count": 16,
   "id": "0e48f233",
   "metadata": {
    "execution": {
     "iopub.execute_input": "2023-06-28T09:22:58.612484Z",
     "iopub.status.busy": "2023-06-28T09:22:58.611891Z",
     "iopub.status.idle": "2023-06-28T09:22:58.620337Z",
     "shell.execute_reply": "2023-06-28T09:22:58.619483Z"
    }
   },
   "outputs": [],
   "source": [
    "Ac = me.ReferenceFrame('Ac')\n",
    "Ac.orient_axis(A, sm.pi/2, A.z)"
   ]
  },
  {
   "cell_type": "markdown",
   "id": "79242cdc",
   "metadata": {},
   "source": [
    "Теперь можно создать матрицу транформации для $A_c$ и $A_o$.\n",
    "* $A_o$ выравнивается с оригинальной сеткой цилиндра\n",
    "* $A_c$ выравнен с собственной системой координат.\n"
   ]
  },
  {
   "cell_type": "code",
   "execution_count": 17,
   "id": "fbb0584c",
   "metadata": {
    "execution": {
     "iopub.execute_input": "2023-06-28T09:22:58.623654Z",
     "iopub.status.busy": "2023-06-28T09:22:58.623073Z",
     "iopub.status.idle": "2023-06-28T09:22:58.636144Z",
     "shell.execute_reply": "2023-06-28T09:22:58.635333Z"
    }
   },
   "outputs": [
    {
     "data": {
      "text/latex": [
       "$\\displaystyle \\left[\\begin{matrix}- \\sin{\\left(q_{1}{\\left(t \\right)} \\right)} & \\cos{\\left(q_{1}{\\left(t \\right)} \\right)} & 0 & 0\\\\- \\cos{\\left(q_{1}{\\left(t \\right)} \\right)} & - \\sin{\\left(q_{1}{\\left(t \\right)} \\right)} & 0 & 0\\\\0 & 0 & 1 & 0\\\\\\frac{l \\cos{\\left(q_{1}{\\left(t \\right)} \\right)}}{2} & \\frac{l \\sin{\\left(q_{1}{\\left(t \\right)} \\right)}}{2} & 0 & 1\\end{matrix}\\right]$"
      ],
      "text/plain": [
       "Matrix([\n",
       "[   -sin(q1(t)),     cos(q1(t)), 0, 0],\n",
       "[   -cos(q1(t)),    -sin(q1(t)), 0, 0],\n",
       "[             0,              0, 1, 0],\n",
       "[l*cos(q1(t))/2, l*sin(q1(t))/2, 0, 1]])"
      ]
     },
     "execution_count": 17,
     "metadata": {},
     "output_type": "execute_result"
    }
   ],
   "source": [
    "TA = sm.eye(4)\n",
    "TA[:3, :3] = Ac.dcm(N)\n",
    "TA[3, :3] = sm.transpose(Ao.pos_from(O).to_matrix(N))\n",
    "TA"
   ]
  },
  {
   "cell_type": "markdown",
   "id": "e09e6fa7",
   "metadata": {},
   "source": [
    "Ось «B» уже правильно совмещена с локальной системой координат геометрии цилиндра поэтому нам не нужно вводить новую систему отсчета для его матрицы преобразования."
   ]
  },
  {
   "cell_type": "code",
   "execution_count": 18,
   "id": "ae742d9b",
   "metadata": {
    "execution": {
     "iopub.execute_input": "2023-06-28T09:22:58.639222Z",
     "iopub.status.busy": "2023-06-28T09:22:58.638968Z",
     "iopub.status.idle": "2023-06-28T09:22:58.652117Z",
     "shell.execute_reply": "2023-06-28T09:22:58.651276Z"
    }
   },
   "outputs": [
    {
     "data": {
      "text/latex": [
       "$\\displaystyle \\left[\\begin{matrix}\\cos{\\left(q_{1}{\\left(t \\right)} \\right)} & \\sin{\\left(q_{1}{\\left(t \\right)} \\right)} & 0 & 0\\\\- \\sin{\\left(q_{1}{\\left(t \\right)} \\right)} \\cos{\\left(q_{2}{\\left(t \\right)} \\right)} & \\cos{\\left(q_{1}{\\left(t \\right)} \\right)} \\cos{\\left(q_{2}{\\left(t \\right)} \\right)} & \\sin{\\left(q_{2}{\\left(t \\right)} \\right)} & 0\\\\\\sin{\\left(q_{1}{\\left(t \\right)} \\right)} \\sin{\\left(q_{2}{\\left(t \\right)} \\right)} & - \\sin{\\left(q_{2}{\\left(t \\right)} \\right)} \\cos{\\left(q_{1}{\\left(t \\right)} \\right)} & \\cos{\\left(q_{2}{\\left(t \\right)} \\right)} & 0\\\\l \\cos{\\left(q_{1}{\\left(t \\right)} \\right)} & l \\sin{\\left(q_{1}{\\left(t \\right)} \\right)} & 0 & 1\\end{matrix}\\right]$"
      ],
      "text/plain": [
       "Matrix([\n",
       "[            cos(q1(t)),             sin(q1(t)),          0, 0],\n",
       "[-sin(q1(t))*cos(q2(t)),  cos(q1(t))*cos(q2(t)), sin(q2(t)), 0],\n",
       "[ sin(q1(t))*sin(q2(t)), -sin(q2(t))*cos(q1(t)), cos(q2(t)), 0],\n",
       "[          l*cos(q1(t)),           l*sin(q1(t)),          0, 1]])"
      ]
     },
     "execution_count": 18,
     "metadata": {},
     "output_type": "execute_result"
    }
   ],
   "source": [
    "TB = sm.eye(4)\n",
    "TB[:3, :3] = B.dcm(N)\n",
    "TB[3, :3] = sm.transpose(Bo.pos_from(O).to_matrix(N))\n",
    "TB"
   ]
  },
  {
   "cell_type": "markdown",
   "id": "e66c55ee",
   "metadata": {},
   "source": [
    "Наконец, мы добавим сферическую сетку, чтобы показать местоположение точки Q. \n",
    "\n",
    "Мы можем выбрать любую систему отсчета, потому что сфера выглядит одинаково со всех сторон, но возьмем систему координат $B$, т.к. надо описать точку, как скользящую по стержню $B$. \n",
    "\n",
    "Этот выбор сыграет роль в улучшении визуализации локальных осей координат в финальном варианте анимации."
   ]
  },
  {
   "cell_type": "code",
   "execution_count": 19,
   "id": "07ba2c25",
   "metadata": {
    "execution": {
     "iopub.execute_input": "2023-06-28T09:22:58.655265Z",
     "iopub.status.busy": "2023-06-28T09:22:58.654998Z",
     "iopub.status.idle": "2023-06-28T09:22:58.673602Z",
     "shell.execute_reply": "2023-06-28T09:22:58.672882Z"
    }
   },
   "outputs": [
    {
     "data": {
      "text/latex": [
       "$\\displaystyle \\left[\\begin{matrix}\\cos{\\left(q_{1}{\\left(t \\right)} \\right)} & \\sin{\\left(q_{1}{\\left(t \\right)} \\right)} & 0 & 0\\\\- \\sin{\\left(q_{1}{\\left(t \\right)} \\right)} \\cos{\\left(q_{2}{\\left(t \\right)} \\right)} & \\cos{\\left(q_{1}{\\left(t \\right)} \\right)} \\cos{\\left(q_{2}{\\left(t \\right)} \\right)} & \\sin{\\left(q_{2}{\\left(t \\right)} \\right)} & 0\\\\\\sin{\\left(q_{1}{\\left(t \\right)} \\right)} \\sin{\\left(q_{2}{\\left(t \\right)} \\right)} & - \\sin{\\left(q_{2}{\\left(t \\right)} \\right)} \\cos{\\left(q_{1}{\\left(t \\right)} \\right)} & \\cos{\\left(q_{2}{\\left(t \\right)} \\right)} & 0\\\\l \\cos{\\left(q_{1}{\\left(t \\right)} \\right)} - q_{3}{\\left(t \\right)} \\sin{\\left(q_{1}{\\left(t \\right)} \\right)} \\cos{\\left(q_{2}{\\left(t \\right)} \\right)} & l \\sin{\\left(q_{1}{\\left(t \\right)} \\right)} + q_{3}{\\left(t \\right)} \\cos{\\left(q_{1}{\\left(t \\right)} \\right)} \\cos{\\left(q_{2}{\\left(t \\right)} \\right)} & q_{3}{\\left(t \\right)} \\sin{\\left(q_{2}{\\left(t \\right)} \\right)} & 1\\end{matrix}\\right]$"
      ],
      "text/plain": [
       "Matrix([\n",
       "[                                cos(q1(t)),                                 sin(q1(t)),                0, 0],\n",
       "[                    -sin(q1(t))*cos(q2(t)),                      cos(q1(t))*cos(q2(t)),       sin(q2(t)), 0],\n",
       "[                     sin(q1(t))*sin(q2(t)),                     -sin(q2(t))*cos(q1(t)),       cos(q2(t)), 0],\n",
       "[l*cos(q1(t)) - q3(t)*sin(q1(t))*cos(q2(t)), l*sin(q1(t)) + q3(t)*cos(q1(t))*cos(q2(t)), q3(t)*sin(q2(t)), 1]])"
      ]
     },
     "execution_count": 19,
     "metadata": {},
     "output_type": "execute_result"
    }
   ],
   "source": [
    "TQ = sm.eye(4)\n",
    "TQ[:3, :3] = B.dcm(N)\n",
    "TQ[3, :3] = sm.transpose(Q.pos_from(O).to_matrix(N))\n",
    "TQ"
   ]
  },
  {
   "cell_type": "markdown",
   "id": "51fd301e",
   "metadata": {},
   "source": [
    "Теперь, когда у нас есть матрицы символических преобразований, давайте выпрямим их, чтобы они были в той форме, которая нужна для Three.js: "
   ]
  },
  {
   "cell_type": "code",
   "execution_count": 20,
   "id": "d210ca6e",
   "metadata": {
    "execution": {
     "iopub.execute_input": "2023-06-28T09:22:58.676961Z",
     "iopub.status.busy": "2023-06-28T09:22:58.676507Z",
     "iopub.status.idle": "2023-06-28T09:22:58.681844Z",
     "shell.execute_reply": "2023-06-28T09:22:58.681011Z"
    }
   },
   "outputs": [],
   "source": [
    "TA = TA.reshape(16, 1)\n",
    "TB = TB.reshape(16, 1)\n",
    "TQ = TQ.reshape(16, 1)"
   ]
  },
  {
   "cell_type": "code",
   "execution_count": 21,
   "id": "59ee3ce1",
   "metadata": {
    "execution": {
     "iopub.execute_input": "2023-06-28T09:22:58.684808Z",
     "iopub.status.busy": "2023-06-28T09:22:58.684555Z",
     "iopub.status.idle": "2023-06-28T09:22:58.694457Z",
     "shell.execute_reply": "2023-06-28T09:22:58.693662Z"
    }
   },
   "outputs": [
    {
     "data": {
      "text/latex": [
       "$\\displaystyle \\left[\\begin{matrix}- \\sin{\\left(q_{1}{\\left(t \\right)} \\right)}\\\\\\cos{\\left(q_{1}{\\left(t \\right)} \\right)}\\\\0\\\\0\\\\- \\cos{\\left(q_{1}{\\left(t \\right)} \\right)}\\\\- \\sin{\\left(q_{1}{\\left(t \\right)} \\right)}\\\\0\\\\0\\\\0\\\\0\\\\1\\\\0\\\\\\frac{l \\cos{\\left(q_{1}{\\left(t \\right)} \\right)}}{2}\\\\\\frac{l \\sin{\\left(q_{1}{\\left(t \\right)} \\right)}}{2}\\\\0\\\\1\\end{matrix}\\right]$"
      ],
      "text/plain": [
       "Matrix([\n",
       "[   -sin(q1(t))],\n",
       "[    cos(q1(t))],\n",
       "[             0],\n",
       "[             0],\n",
       "[   -cos(q1(t))],\n",
       "[   -sin(q1(t))],\n",
       "[             0],\n",
       "[             0],\n",
       "[             0],\n",
       "[             0],\n",
       "[             1],\n",
       "[             0],\n",
       "[l*cos(q1(t))/2],\n",
       "[l*sin(q1(t))/2],\n",
       "[             0],\n",
       "[             1]])"
      ]
     },
     "execution_count": 21,
     "metadata": {},
     "output_type": "execute_result"
    }
   ],
   "source": [
    "TA"
   ]
  },
  {
   "cell_type": "markdown",
   "id": "84ba8a67",
   "metadata": {},
   "source": [
    "Теперь функция для численной оценки заданных матриц преобразования, обобщенные координат и константы системы: "
   ]
  },
  {
   "cell_type": "code",
   "execution_count": 22,
   "id": "94ea57b6",
   "metadata": {
    "execution": {
     "iopub.execute_input": "2023-06-28T09:22:58.697342Z",
     "iopub.status.busy": "2023-06-28T09:22:58.696938Z",
     "iopub.status.idle": "2023-06-28T09:22:58.721044Z",
     "shell.execute_reply": "2023-06-28T09:22:58.720193Z"
    }
   },
   "outputs": [
    {
     "data": {
      "text/plain": [
       "(array([[-0.42261826],\n",
       "        [ 0.90630779],\n",
       "        [ 0.        ],\n",
       "        [ 0.        ],\n",
       "        [-0.90630779],\n",
       "        [-0.42261826],\n",
       "        [ 0.        ],\n",
       "        [ 0.        ],\n",
       "        [ 0.        ],\n",
       "        [ 0.        ],\n",
       "        [ 1.        ],\n",
       "        [ 0.        ],\n",
       "        [ 0.27189234],\n",
       "        [ 0.12678548],\n",
       "        [ 0.        ],\n",
       "        [ 1.        ]]),\n",
       " array([[ 0.90630779],\n",
       "        [ 0.42261826],\n",
       "        [ 0.        ],\n",
       "        [ 0.        ],\n",
       "        [-0.42101007],\n",
       "        [ 0.90285901],\n",
       "        [ 0.08715574],\n",
       "        [ 0.        ],\n",
       "        [ 0.03683361],\n",
       "        [-0.07898993],\n",
       "        [ 0.9961947 ],\n",
       "        [ 0.        ],\n",
       "        [ 0.54378467],\n",
       "        [ 0.25357096],\n",
       "        [ 0.        ],\n",
       "        [ 1.        ]]),\n",
       " array([[ 0.90630779],\n",
       "        [ 0.42261826],\n",
       "        [ 0.        ],\n",
       "        [ 0.        ],\n",
       "        [-0.42101007],\n",
       "        [ 0.90285901],\n",
       "        [ 0.08715574],\n",
       "        [ 0.        ],\n",
       "        [ 0.03683361],\n",
       "        [-0.07898993],\n",
       "        [ 0.9961947 ],\n",
       "        [ 0.        ],\n",
       "        [ 0.50168367],\n",
       "        [ 0.34385686],\n",
       "        [ 0.00871557],\n",
       "        [ 1.        ]]))"
      ]
     },
     "execution_count": 22,
     "metadata": {},
     "output_type": "execute_result"
    }
   ],
   "source": [
    "eval_transform = sm.lambdify((q, p), (TA, TB, TQ))\n",
    "eval_transform(q_vals, p_vals)"
   ]
  },
  {
   "cell_type": "markdown",
   "id": "224af3a2",
   "metadata": {},
   "source": [
    "Наконец, создадим список списков для матриц преобразования ts, \n",
    "так как это форма, необходимая для данных анимации ниже: "
   ]
  },
  {
   "cell_type": "code",
   "execution_count": 35,
   "id": "20fc76ed",
   "metadata": {
    "execution": {
     "iopub.execute_input": "2023-06-28T09:22:58.724447Z",
     "iopub.status.busy": "2023-06-28T09:22:58.724075Z",
     "iopub.status.idle": "2023-06-28T09:22:58.744387Z",
     "shell.execute_reply": "2023-06-28T09:22:58.743668Z"
    }
   },
   "outputs": [],
   "source": [
    "TAs = []\n",
    "TBs = []\n",
    "TQs = []\n",
    "\n",
    "for xi in xs:\n",
    "    TAi, TBi, TQi = eval_transform(xi[:3], p_vals)\n",
    "    TAs.append(TAi.squeeze().tolist())\n",
    "    TBs.append(TBi.squeeze().tolist())\n",
    "    TQs.append(TQi.squeeze().tolist())"
   ]
  },
  {
   "cell_type": "code",
   "execution_count": 36,
   "id": "4aadbe54",
   "metadata": {
    "execution": {
     "iopub.execute_input": "2023-06-28T09:22:58.747685Z",
     "iopub.status.busy": "2023-06-28T09:22:58.747270Z",
     "iopub.status.idle": "2023-06-28T09:22:58.754541Z",
     "shell.execute_reply": "2023-06-28T09:22:58.753779Z"
    }
   },
   "outputs": [
    {
     "data": {
      "text/plain": [
       "[[-0.42261826174069944,\n",
       "  0.9063077870366499,\n",
       "  0.0,\n",
       "  0.0,\n",
       "  -0.9063077870366499,\n",
       "  -0.42261826174069944,\n",
       "  0.0,\n",
       "  0.0,\n",
       "  0.0,\n",
       "  0.0,\n",
       "  1.0,\n",
       "  0.0,\n",
       "  0.27189233611099495,\n",
       "  0.12678547852220984,\n",
       "  0.0,\n",
       "  1.0],\n",
       " [-0.4187739215332694,\n",
       "  0.9080905255775148,\n",
       "  0.0,\n",
       "  0.0,\n",
       "  -0.9080905255775148,\n",
       "  -0.4187739215332694,\n",
       "  0.0,\n",
       "  0.0,\n",
       "  0.0,\n",
       "  0.0,\n",
       "  1.0,\n",
       "  0.0,\n",
       "  0.2724271576732544,\n",
       "  0.12563217645998082,\n",
       "  0.0,\n",
       "  1.0]]"
      ]
     },
     "execution_count": 36,
     "metadata": {},
     "output_type": "execute_result"
    }
   ],
   "source": [
    "TAs[:2]"
   ]
  },
  {
   "cell_type": "markdown",
   "id": "2afe3ea2",
   "metadata": {},
   "source": [
    "### Определения геометрии и сетки\n",
    "\n",
    "Создадим два цилиндра для стержней — A и B и сферу для частицы Q: "
   ]
  },
  {
   "cell_type": "code",
   "execution_count": 25,
   "id": "6577ad7f",
   "metadata": {
    "execution": {
     "iopub.execute_input": "2023-06-28T09:22:58.757747Z",
     "iopub.status.busy": "2023-06-28T09:22:58.757480Z",
     "iopub.status.idle": "2023-06-28T09:22:58.769113Z",
     "shell.execute_reply": "2023-06-28T09:22:58.768250Z"
    }
   },
   "outputs": [],
   "source": [
    "rod_radius = p_vals[3]/20  # l/20\n",
    "sphere_radius = p_vals[3]/16  # l/16\n",
    "\n",
    "geom_A = p3js.CylinderGeometry(\n",
    "    radiusTop=rod_radius,\n",
    "    radiusBottom=rod_radius,\n",
    "    height=p_vals[3],  # l\n",
    ")\n",
    "\n",
    "geom_B = p3js.CylinderGeometry(\n",
    "    radiusTop=rod_radius,\n",
    "    radiusBottom=rod_radius,\n",
    "    height=p_vals[3],  # l\n",
    ")\n",
    "\n",
    "geom_Q = p3js.SphereGeometry(radius=sphere_radius)"
   ]
  },
  {
   "cell_type": "markdown",
   "id": "51b1189e",
   "metadata": {},
   "source": [
    "Теперь создадим сетки для каждого тела и добавим в них материал разного цвета. \n",
    "\n",
    "Каждой сетке потребуется уникальное имя, чтобы мы могли связать информация анимации с правильным объектом. \n",
    "\n",
    "После создания сетки выключаем атрибут [`matrixAutoUpdate`](https://pythreejs.readthedocs.io/en/stable/api/core/Object3D_autogen.html#pythreejs.Object3D.matrixAutoUpdate) на, чтобы можно было вручную укажите матрицу преобразования во время анимации. Наконец, добавим локальные оси координат для каждой сетки и установите матрицу преобразования в первоначальную конфигурацию."
   ]
  },
  {
   "cell_type": "code",
   "execution_count": 26,
   "id": "3081cbc9",
   "metadata": {
    "execution": {
     "iopub.execute_input": "2023-06-28T09:22:58.772377Z",
     "iopub.status.busy": "2023-06-28T09:22:58.772109Z",
     "iopub.status.idle": "2023-06-28T09:22:58.793672Z",
     "shell.execute_reply": "2023-06-28T09:22:58.792896Z"
    }
   },
   "outputs": [],
   "source": [
    "arrow_length = 0.2\n",
    "\n",
    "mesh_A = p3js.Mesh(\n",
    "    geometry=geom_A,\n",
    "    material=p3js.MeshStandardMaterial(color='red'),\n",
    "    name='mesh_A',\n",
    ")\n",
    "mesh_A.matrixAutoUpdate = False\n",
    "mesh_A.add(p3js.AxesHelper(arrow_length))\n",
    "mesh_A.matrix = TAs[0]\n",
    "\n",
    "mesh_B = p3js.Mesh(\n",
    "    geometry=geom_B,\n",
    "    material=p3js.MeshStandardMaterial(color='blue'),\n",
    "    name='mesh_B',\n",
    ")\n",
    "mesh_B.matrixAutoUpdate = False\n",
    "mesh_B.add(p3js.AxesHelper(arrow_length))\n",
    "mesh_B.matrix = TBs[0]\n",
    "\n",
    "mesh_Q = p3js.Mesh(\n",
    "    geometry=geom_Q,\n",
    "    material=p3js.MeshStandardMaterial(color='green'),\n",
    "    name='mesh_Q',\n",
    ")\n",
    "mesh_Q.matrixAutoUpdate = False\n",
    "mesh_Q.add(p3js.AxesHelper(arrow_length))\n",
    "mesh_Q.matrix = TQs[0]"
   ]
  },
  {
   "cell_type": "markdown",
   "id": "70118b0d",
   "metadata": {},
   "source": [
    "### Настройка сцены \n",
    "\n",
    "Теперь создаем сцену и рендерер, включаем камеру, освещение, оси координат и все сетки. "
   ]
  },
  {
   "cell_type": "code",
   "execution_count": 27,
   "id": "95617f92",
   "metadata": {
    "execution": {
     "iopub.execute_input": "2023-06-28T09:22:58.802618Z",
     "iopub.status.busy": "2023-06-28T09:22:58.802008Z",
     "iopub.status.idle": "2023-06-28T09:22:58.821693Z",
     "shell.execute_reply": "2023-06-28T09:22:58.820971Z"
    }
   },
   "outputs": [],
   "source": [
    "view_width = 600\n",
    "view_height = 400\n",
    "\n",
    "camera = p3js.PerspectiveCamera(position=[1.5, 0.6, 1],\n",
    "                                up=[-1.0, 0.0, 0.0],\n",
    "                                aspect=view_width/view_height)\n",
    "\n",
    "key_light = p3js.DirectionalLight(position=[0, 10, 10])\n",
    "ambient_light = p3js.AmbientLight()\n",
    "\n",
    "axes = p3js.AxesHelper()\n",
    "\n",
    "children = [mesh_A, mesh_B, mesh_Q, axes, camera, key_light, ambient_light]\n",
    "\n",
    "scene = p3js.Scene(children=children)\n",
    "\n",
    "controller = p3js.OrbitControls(controlling=camera)\n",
    "renderer = p3js.Renderer(camera=camera, scene=scene, controls=[controller],\n",
    "                         width=view_width, height=view_height)"
   ]
  },
  {
   "cell_type": "markdown",
   "id": "832525c2",
   "metadata": {},
   "source": [
    "### Настройка анимации \n",
    "\n",
    "`Three.js` для анимации использует концепцию «трека» для отслеживания данных, которые изменяются с течением времени.\n",
    "\n",
    "[`VectorKeyframeTrack`](https://pythreejs.readthedocs.io/en/stable/api/animation/tracks/VectorKeyframeTrack_autogen.html#pythreejs.VectorKeyframeTrack) можно использовать, чтобы  связать изменяющиеся во времени матрицы преобразования с определенной сеткой. \n",
    "\n",
    "Создаваем «трек» для каждой сетки. "
   ]
  },
  {
   "cell_type": "code",
   "execution_count": 28,
   "id": "c9df72d7",
   "metadata": {
    "execution": {
     "iopub.execute_input": "2023-06-28T09:22:58.826349Z",
     "iopub.status.busy": "2023-06-28T09:22:58.825586Z",
     "iopub.status.idle": "2023-06-28T09:22:58.837556Z",
     "shell.execute_reply": "2023-06-28T09:22:58.836829Z"
    }
   },
   "outputs": [
    {
     "name": "stderr",
     "output_type": "stream",
     "text": [
      "/mnt/work2/artur/ipywidget-wtf-latex/.venv/lib64/python3.11/site-packages/pythreejs/traits.py:257: UserWarning: 64-bit data types not supported for WebGL data, casting to 32-bit.\n",
      "  warnings.warn('64-bit data types not supported for WebGL '\n"
     ]
    }
   ],
   "source": [
    "track_A = p3js.VectorKeyframeTrack(\n",
    "    name=\"scene/mesh_A.matrix\",\n",
    "    times=ts,\n",
    "    values=TAs\n",
    ")\n",
    "\n",
    "track_B = p3js.VectorKeyframeTrack(\n",
    "    name=\"scene/mesh_B.matrix\",\n",
    "    times=ts,\n",
    "    values=TBs\n",
    ")\n",
    "\n",
    "track_Q = p3js.VectorKeyframeTrack(\n",
    "    name=\"scene/mesh_Q.matrix\",\n",
    "    times=ts,\n",
    "    values=TQs\n",
    ")"
   ]
  },
  {
   "cell_type": "markdown",
   "id": "48edd577",
   "metadata": {},
   "source": [
    "Создаем [`AnimationAction`](https://pythreejs.readthedocs.io/en/stable/api/animation/AnimationAction_autogen.html#pythreejs.AnimationAction) что связывает треки к кнопке воспроизведения/паузы и связывают ее со сценой."
   ]
  },
  {
   "cell_type": "code",
   "execution_count": 29,
   "id": "3837749d",
   "metadata": {
    "execution": {
     "iopub.execute_input": "2023-06-28T09:22:58.841082Z",
     "iopub.status.busy": "2023-06-28T09:22:58.840568Z",
     "iopub.status.idle": "2023-06-28T09:22:58.849544Z",
     "shell.execute_reply": "2023-06-28T09:22:58.848871Z"
    }
   },
   "outputs": [],
   "source": [
    "tracks = [track_B, track_A, track_Q]\n",
    "duration = ts[-1] - ts[0]\n",
    "clip = p3js.AnimationClip(tracks=tracks, duration=duration)\n",
    "action = p3js.AnimationAction(p3js.AnimationMixer(scene), clip, scene)"
   ]
  },
  {
   "cell_type": "markdown",
   "id": "8b319314",
   "metadata": {},
   "source": [
    "Дополнительную информацию о настройке анимации с помощью pythreejs можно найти в [их документация](https://pythreejs.readthedocs.io/en/stable/examples/Animation.html)."
   ]
  },
  {
   "cell_type": "markdown",
   "id": "caa9810e",
   "metadata": {},
   "source": [
    "### Анимированная интерактивная 3D-визуализация "
   ]
  },
  {
   "cell_type": "markdown",
   "id": "6985c5c3",
   "metadata": {},
   "source": [
    "Теперь, когда сцена и анимация определены, рендерер и анимация элементы управления могут отображаться:"
   ]
  },
  {
   "cell_type": "code",
   "execution_count": 30,
   "id": "a7e79820",
   "metadata": {
    "execution": {
     "iopub.execute_input": "2023-06-28T09:22:58.852414Z",
     "iopub.status.busy": "2023-06-28T09:22:58.852151Z",
     "iopub.status.idle": "2023-06-28T09:22:58.858573Z",
     "shell.execute_reply": "2023-06-28T09:22:58.857548Z"
    }
   },
   "outputs": [
    {
     "data": {
      "application/vnd.jupyter.widget-view+json": {
       "model_id": "f82a75f7a3c2475a9b8735f953b7b3a0",
       "version_major": 2,
       "version_minor": 0
      },
      "text/plain": [
       "Renderer(camera=PerspectiveCamera(aspect=1.5, position=(1.5, 0.6, 1.0), projectionMatrix=(1.4296712803397058, …"
      ]
     },
     "execution_count": 30,
     "metadata": {},
     "output_type": "execute_result"
    }
   ],
   "source": [
    "renderer"
   ]
  },
  {
   "cell_type": "code",
   "execution_count": 31,
   "id": "a27dcccc",
   "metadata": {
    "execution": {
     "iopub.execute_input": "2023-06-28T09:22:58.861648Z",
     "iopub.status.busy": "2023-06-28T09:22:58.861395Z",
     "iopub.status.idle": "2023-06-28T09:22:58.874358Z",
     "shell.execute_reply": "2023-06-28T09:22:58.873397Z"
    }
   },
   "outputs": [
    {
     "data": {
      "application/vnd.jupyter.widget-view+json": {
       "model_id": "f35a1572edc841db8b58b818540d1216",
       "version_major": 2,
       "version_minor": 0
      },
      "text/plain": [
       "AnimationAction(clip=AnimationClip(duration=10.0, tracks=(VectorKeyframeTrack(name='scene/mesh_B.matrix', time…"
      ]
     },
     "execution_count": 31,
     "metadata": {},
     "output_type": "execute_result"
    }
   ],
   "source": [
    "action"
   ]
  },
  {
   "cell_type": "markdown",
   "id": "4d109201",
   "metadata": {},
   "source": [
    "Оси, прикрепленные к инерциальной системе отсчета и каждой сетке, являются локальными. система координат этого объекта. Ось X — красная, ось Y — зеленая, Ось Z — синяя.\n",
    "\n",
    "Анимацию можно использовать для подтверждения реалистичного движения системы нескольких тел и визуально исследовать различные движения, которые могут произойти. "
   ]
  },
  {
   "cell_type": "markdown",
   "id": "cf7956a5",
   "metadata": {},
   "source": []
  }
 ],
 "metadata": {
  "kernelspec": {
   "display_name": "Python 3 (ipykernel)",
   "language": "python",
   "name": "python3"
  },
  "language_info": {
   "codemirror_mode": {
    "name": "ipython",
    "version": 3
   },
   "file_extension": ".py",
   "mimetype": "text/x-python",
   "name": "python",
   "nbconvert_exporter": "python",
   "pygments_lexer": "ipython3",
   "version": "3.11.6"
  },
  "widgets": {
   "application/vnd.jupyter.widget-state+json": {
    "state": {
     "00ee48305e3e48e0a7dd3e77a210616f": {
      "model_module": "jupyter-threejs",
      "model_module_version": "^2.1.0",
      "model_name": "AmbientLightModel",
      "state": {
       "_model_module": "jupyter-threejs",
       "_model_module_version": "^2.1.0",
       "_model_name": "AmbientLightModel",
       "_view_count": null,
       "_view_module": null,
       "_view_module_version": "",
       "_view_name": null,
       "castShadow": false,
       "children": [],
       "color": "#ffffff",
       "frustumCulled": true,
       "intensity": 1,
       "matrix": [
        1,
        0,
        0,
        0,
        0,
        1,
        0,
        0,
        0,
        0,
        1,
        0,
        0,
        0,
        0,
        1
       ],
       "matrixAutoUpdate": true,
       "matrixWorld": [
        1,
        0,
        0,
        0,
        0,
        1,
        0,
        0,
        0,
        0,
        1,
        0,
        0,
        0,
        0,
        1
       ],
       "matrixWorldNeedsUpdate": false,
       "modelViewMatrix": [
        1,
        0,
        0,
        0,
        0,
        1,
        0,
        0,
        0,
        0,
        1,
        0,
        0,
        0,
        0,
        1
       ],
       "name": "",
       "normalMatrix": [
        1,
        0,
        0,
        0,
        1,
        0,
        0,
        0,
        1
       ],
       "position": [
        0,
        0,
        0
       ],
       "quaternion": [
        0,
        0,
        0,
        1
       ],
       "receiveShadow": false,
       "renderOrder": 0,
       "rotation": [
        0,
        0,
        0,
        "XYZ"
       ],
       "scale": [
        1,
        1,
        1
       ],
       "type": "AmbientLight",
       "up": [
        0,
        1,
        0
       ],
       "visible": true
      }
     },
     "081b3b04eb214b579d99fbd2167541de": {
      "model_module": "jupyter-threejs",
      "model_module_version": "^2.1.0",
      "model_name": "PreviewModel",
      "state": {
       "_alpha": false,
       "_antialias": false,
       "_dom_classes": [],
       "_flat": false,
       "_height": 200,
       "_model_module": "jupyter-threejs",
       "_model_module_version": "^2.1.0",
       "_model_name": "PreviewModel",
       "_view_count": null,
       "_view_module": "jupyter-threejs",
       "_view_module_version": "^2.1.0",
       "_view_name": "PreviewView",
       "_webgl_version": 2,
       "_width": 200,
       "_wire": false,
       "autoClear": true,
       "autoClearColor": true,
       "autoClearDepth": true,
       "autoClearStencil": true,
       "child": "IPY_MODEL_30169f3dcb114719a0c3a7b59e109007",
       "clearColor": "#000000",
       "clearOpacity": 1,
       "clippingPlanes": [],
       "gammaFactor": 2,
       "gammaInput": false,
       "gammaOutput": false,
       "layout": "IPY_MODEL_ecfae5c5454949e1a343f32c8871ebf0",
       "localClippingEnabled": false,
       "maxMorphNormals": 4,
       "maxMorphTargets": 8,
       "physicallyCorrectLights": false,
       "shadowMap": "IPY_MODEL_27aecda6d9a44e3289ddfa6869ae66f0",
       "sortObject": true,
       "toneMapping": "LinearToneMapping",
       "toneMappingExposure": 1,
       "toneMappingWhitePoint": 1
      }
     },
     "0a1017f736f04b50bd013ddb039076e0": {
      "model_module": "jupyter-threejs",
      "model_module_version": "^2.1.0",
      "model_name": "MeshStandardMaterialModel",
      "state": {
       "_model_module": "jupyter-threejs",
       "_model_module_version": "^2.1.0",
       "_model_name": "MeshStandardMaterialModel",
       "_view_count": null,
       "_view_module": null,
       "_view_module_version": "",
       "_view_name": null,
       "alphaMap": null,
       "alphaTest": 0,
       "aoMap": null,
       "aoMapIntensity": 1,
       "blendDst": "OneMinusSrcAlphaFactor",
       "blendDstAlpha": 0,
       "blendEquation": "AddEquation",
       "blendEquationAlpha": 0,
       "blendSrc": "SrcAlphaFactor",
       "blendSrcAlpha": 0,
       "blending": "NormalBlending",
       "bumpMap": null,
       "bumpScale": 1,
       "clipIntersection": false,
       "clipShadows": false,
       "clippingPlanes": [],
       "color": "red",
       "colorWrite": true,
       "defines": {
        "STANDARD": ""
       },
       "depthFunc": "LessEqualDepth",
       "depthTest": true,
       "depthWrite": true,
       "displacementBias": 0,
       "displacementMap": null,
       "displacementScale": 1,
       "dithering": false,
       "emissive": "#000000",
       "emissiveIntensity": 1,
       "emissiveMap": null,
       "envMap": null,
       "envMapIntensity": 1,
       "flatShading": false,
       "fog": true,
       "lightMap": null,
       "lightMapIntensity": 1,
       "lights": true,
       "map": null,
       "metalness": 0.5,
       "metalnessMap": null,
       "morphNormals": false,
       "morphTargets": false,
       "name": "",
       "normalMap": null,
       "normalScale": [
        1,
        1
       ],
       "opacity": 1,
       "overdraw": 0,
       "polygonOffset": false,
       "polygonOffsetFactor": 0,
       "polygonOffsetUnits": 0,
       "precision": null,
       "premultipliedAlpha": false,
       "refractionRatio": 0.98,
       "roughness": 0.5,
       "roughnessMap": null,
       "shadowSide": null,
       "side": "FrontSide",
       "skinning": false,
       "transparent": false,
       "type": "MeshStandardMaterial",
       "vertexColors": "NoColors",
       "visible": true,
       "wireframe": false,
       "wireframeLinecap": "round",
       "wireframeLinejoin": "round",
       "wireframeLinewidth": 1
      }
     },
     "0d487bedcfee4655a29d8a3c729397eb": {
      "model_module": "jupyter-threejs",
      "model_module_version": "^2.1.0",
      "model_name": "DirectionalLightModel",
      "state": {
       "_model_module": "jupyter-threejs",
       "_model_module_version": "^2.1.0",
       "_model_name": "DirectionalLightModel",
       "_view_count": null,
       "_view_module": null,
       "_view_module_version": "",
       "_view_name": null,
       "castShadow": false,
       "children": [],
       "color": "#ffffff",
       "frustumCulled": true,
       "intensity": 1,
       "matrix": [
        1,
        0,
        0,
        0,
        0,
        1,
        0,
        0,
        0,
        0,
        1,
        0,
        0,
        0,
        0,
        1
       ],
       "matrixAutoUpdate": true,
       "matrixWorld": [
        1,
        0,
        0,
        0,
        0,
        1,
        0,
        0,
        0,
        0,
        1,
        0,
        0,
        0,
        0,
        1
       ],
       "matrixWorldNeedsUpdate": false,
       "modelViewMatrix": [
        1,
        0,
        0,
        0,
        0,
        1,
        0,
        0,
        0,
        0,
        1,
        0,
        0,
        0,
        0,
        1
       ],
       "name": "",
       "normalMatrix": [
        1,
        0,
        0,
        0,
        1,
        0,
        0,
        0,
        1
       ],
       "position": [
        0,
        10,
        10
       ],
       "quaternion": [
        0,
        0,
        0,
        1
       ],
       "receiveShadow": false,
       "renderOrder": 0,
       "rotation": [
        0,
        0,
        0,
        "XYZ"
       ],
       "scale": [
        1,
        1,
        1
       ],
       "shadow": "uninitialized",
       "target": "uninitialized",
       "type": "DirectionalLight",
       "up": [
        0,
        1,
        0
       ],
       "visible": true
      }
     },
     "155725b74b1940a3a4f31700528ca9cd": {
      "model_module": "jupyter-threejs",
      "model_module_version": "^2.1.0",
      "model_name": "PerspectiveCameraModel",
      "state": {
       "_model_module": "jupyter-threejs",
       "_model_module_version": "^2.1.0",
       "_model_name": "PerspectiveCameraModel",
       "_view_count": null,
       "_view_module": null,
       "_view_module_version": "",
       "_view_name": null,
       "aspect": 1.5,
       "castShadow": false,
       "children": [],
       "far": 2000,
       "focus": 10,
       "fov": 50,
       "frustumCulled": true,
       "matrix": [
        1,
        0,
        0,
        0,
        0,
        1,
        0,
        0,
        0,
        0,
        1,
        0,
        0,
        0,
        0,
        1
       ],
       "matrixAutoUpdate": true,
       "matrixWorld": [
        1,
        0,
        0,
        0,
        0,
        1,
        0,
        0,
        0,
        0,
        1,
        0,
        0,
        0,
        0,
        1
       ],
       "matrixWorldInverse": [
        1,
        0,
        0,
        0,
        0,
        1,
        0,
        0,
        0,
        0,
        1,
        0,
        0,
        0,
        0,
        1
       ],
       "matrixWorldNeedsUpdate": false,
       "modelViewMatrix": [
        1,
        0,
        0,
        0,
        0,
        1,
        0,
        0,
        0,
        0,
        1,
        0,
        0,
        0,
        0,
        1
       ],
       "name": "",
       "near": 0.1,
       "normalMatrix": [
        1,
        0,
        0,
        0,
        1,
        0,
        0,
        0,
        1
       ],
       "position": [
        10,
        10,
        10
       ],
       "projectionMatrix": [
        1,
        0,
        0,
        0,
        0,
        1,
        0,
        0,
        0,
        0,
        1,
        0,
        0,
        0,
        0,
        1
       ],
       "quaternion": [
        0,
        0,
        0,
        1
       ],
       "receiveShadow": false,
       "renderOrder": 0,
       "rotation": [
        0,
        0,
        0,
        "XYZ"
       ],
       "scale": [
        1,
        1,
        1
       ],
       "type": "PerspectiveCamera",
       "up": [
        0,
        1,
        0
       ],
       "visible": true,
       "zoom": 1
      }
     },
     "15e2ba3b02644ac6934f30a81f2e762a": {
      "model_module": "jupyter-threejs",
      "model_module_version": "^2.1.0",
      "model_name": "PerspectiveCameraModel",
      "state": {
       "_model_module": "jupyter-threejs",
       "_model_module_version": "^2.1.0",
       "_model_name": "PerspectiveCameraModel",
       "_view_count": null,
       "_view_module": null,
       "_view_module_version": "",
       "_view_name": null,
       "aspect": 1.5,
       "castShadow": false,
       "children": [],
       "far": 2000,
       "focus": 10,
       "fov": 50,
       "frustumCulled": true,
       "matrix": [
        1,
        0,
        0,
        0,
        0,
        1,
        0,
        0,
        0,
        0,
        1,
        0,
        0,
        0,
        0,
        1
       ],
       "matrixAutoUpdate": true,
       "matrixWorld": [
        1,
        0,
        0,
        0,
        0,
        1,
        0,
        0,
        0,
        0,
        1,
        0,
        0,
        0,
        0,
        1
       ],
       "matrixWorldInverse": [
        1,
        0,
        0,
        0,
        0,
        1,
        0,
        0,
        0,
        0,
        1,
        0,
        0,
        0,
        0,
        1
       ],
       "matrixWorldNeedsUpdate": false,
       "modelViewMatrix": [
        1,
        0,
        0,
        0,
        0,
        1,
        0,
        0,
        0,
        0,
        1,
        0,
        0,
        0,
        0,
        1
       ],
       "name": "",
       "near": 0.1,
       "normalMatrix": [
        1,
        0,
        0,
        0,
        1,
        0,
        0,
        0,
        1
       ],
       "position": [
        1.5,
        0.6,
        1
       ],
       "projectionMatrix": [
        1,
        0,
        0,
        0,
        0,
        1,
        0,
        0,
        0,
        0,
        1,
        0,
        0,
        0,
        0,
        1
       ],
       "quaternion": [
        0,
        0,
        0,
        1
       ],
       "receiveShadow": false,
       "renderOrder": 0,
       "rotation": [
        0,
        0,
        0,
        "XYZ"
       ],
       "scale": [
        1,
        1,
        1
       ],
       "type": "PerspectiveCamera",
       "up": [
        -1,
        0,
        0
       ],
       "visible": true,
       "zoom": 1
      }
     },
     "2710ae2cdb044585a671308ac6afd881": {
      "model_module": "jupyter-threejs",
      "model_module_version": "^2.1.0",
      "model_name": "AxesHelperModel",
      "state": {
       "_model_module": "jupyter-threejs",
       "_model_module_version": "^2.1.0",
       "_model_name": "AxesHelperModel",
       "_view_count": null,
       "_view_module": null,
       "_view_module_version": "",
       "_view_name": null,
       "castShadow": false,
       "children": [],
       "frustumCulled": true,
       "matrix": [
        1,
        0,
        0,
        0,
        0,
        1,
        0,
        0,
        0,
        0,
        1,
        0,
        0,
        0,
        0,
        1
       ],
       "matrixAutoUpdate": true,
       "matrixWorld": [
        1,
        0,
        0,
        0,
        0,
        1,
        0,
        0,
        0,
        0,
        1,
        0,
        0,
        0,
        0,
        1
       ],
       "matrixWorldNeedsUpdate": false,
       "modelViewMatrix": [
        1,
        0,
        0,
        0,
        0,
        1,
        0,
        0,
        0,
        0,
        1,
        0,
        0,
        0,
        0,
        1
       ],
       "name": "",
       "normalMatrix": [
        1,
        0,
        0,
        0,
        1,
        0,
        0,
        0,
        1
       ],
       "position": [
        0,
        0,
        0
       ],
       "quaternion": [
        0,
        0,
        0,
        1
       ],
       "receiveShadow": false,
       "renderOrder": 0,
       "rotation": [
        0,
        0,
        0,
        "XYZ"
       ],
       "scale": [
        1,
        1,
        1
       ],
       "size": 0.2,
       "type": "AxesHelper",
       "up": [
        0,
        1,
        0
       ],
       "visible": true
      }
     },
     "2779b83886314bb18db01530f9c24f56": {
      "model_module": "jupyter-threejs",
      "model_module_version": "^2.1.0",
      "model_name": "CylinderGeometryModel",
      "state": {
       "_model_module": "jupyter-threejs",
       "_model_module_version": "^2.1.0",
       "_model_name": "CylinderGeometryModel",
       "_view_count": null,
       "_view_module": null,
       "_view_module_version": "",
       "_view_name": null,
       "height": 50,
       "heightSegments": 1,
       "name": "",
       "openEnded": false,
       "radialSegments": 8,
       "radiusBottom": 10,
       "radiusTop": 2,
       "thetaLength": 6.283185307179586,
       "thetaStart": 0,
       "type": "CylinderGeometry"
      }
     },
     "27aecda6d9a44e3289ddfa6869ae66f0": {
      "model_module": "jupyter-threejs",
      "model_module_version": "^2.1.0",
      "model_name": "WebGLShadowMapModel",
      "state": {
       "_model_module": "jupyter-threejs",
       "_model_module_version": "^2.1.0",
       "_model_name": "WebGLShadowMapModel",
       "_view_count": null,
       "_view_module": null,
       "_view_module_version": "",
       "_view_name": null,
       "enabled": false,
       "type": "PCFShadowMap"
      }
     },
     "2c8fcdc7a93e48929ee0cf19372be22b": {
      "model_module": "jupyter-threejs",
      "model_module_version": "^2.1.0",
      "model_name": "MeshStandardMaterialModel",
      "state": {
       "_model_module": "jupyter-threejs",
       "_model_module_version": "^2.1.0",
       "_model_name": "MeshStandardMaterialModel",
       "_view_count": null,
       "_view_module": null,
       "_view_module_version": "",
       "_view_name": null,
       "alphaMap": null,
       "alphaTest": 0,
       "aoMap": null,
       "aoMapIntensity": 1,
       "blendDst": "OneMinusSrcAlphaFactor",
       "blendDstAlpha": 0,
       "blendEquation": "AddEquation",
       "blendEquationAlpha": 0,
       "blendSrc": "SrcAlphaFactor",
       "blendSrcAlpha": 0,
       "blending": "NormalBlending",
       "bumpMap": null,
       "bumpScale": 1,
       "clipIntersection": false,
       "clipShadows": false,
       "clippingPlanes": [],
       "color": "green",
       "colorWrite": true,
       "defines": {
        "STANDARD": ""
       },
       "depthFunc": "LessEqualDepth",
       "depthTest": true,
       "depthWrite": true,
       "displacementBias": 0,
       "displacementMap": null,
       "displacementScale": 1,
       "dithering": false,
       "emissive": "#000000",
       "emissiveIntensity": 1,
       "emissiveMap": null,
       "envMap": null,
       "envMapIntensity": 1,
       "flatShading": false,
       "fog": true,
       "lightMap": null,
       "lightMapIntensity": 1,
       "lights": true,
       "map": null,
       "metalness": 0.5,
       "metalnessMap": null,
       "morphNormals": false,
       "morphTargets": false,
       "name": "",
       "normalMap": null,
       "normalScale": [
        1,
        1
       ],
       "opacity": 1,
       "overdraw": 0,
       "polygonOffset": false,
       "polygonOffsetFactor": 0,
       "polygonOffsetUnits": 0,
       "precision": null,
       "premultipliedAlpha": false,
       "refractionRatio": 0.98,
       "roughness": 0.5,
       "roughnessMap": null,
       "shadowSide": null,
       "side": "FrontSide",
       "skinning": false,
       "transparent": false,
       "type": "MeshStandardMaterial",
       "vertexColors": "NoColors",
       "visible": true,
       "wireframe": false,
       "wireframeLinecap": "round",
       "wireframeLinejoin": "round",
       "wireframeLinewidth": 1
      }
     },
     "2ef5c310dc5940b28fd7d7c6363e78e6": {
      "model_module": "jupyter-threejs",
      "model_module_version": "^2.1.0",
      "model_name": "OrbitControlsModel",
      "state": {
       "_model_module": "jupyter-threejs",
       "_model_module_version": "^2.1.0",
       "_model_name": "OrbitControlsModel",
       "_view_count": null,
       "_view_module": null,
       "_view_module_version": "",
       "_view_name": null,
       "autoRotate": false,
       "autoRotateSpeed": 2,
       "controlling": "IPY_MODEL_155725b74b1940a3a4f31700528ca9cd",
       "dampingFactor": 0.25,
       "enableDamping": false,
       "enableKeys": true,
       "enablePan": true,
       "enableRotate": true,
       "enableZoom": true,
       "enabled": true,
       "keyPanSpeed": 7,
       "maxAzimuthAngle": "inf",
       "maxDistance": "inf",
       "maxPolarAngle": 3.141592653589793,
       "maxZoom": "inf",
       "minAzimuthAngle": "-inf",
       "minDistance": 0,
       "minPolarAngle": 0,
       "minZoom": 0,
       "panSpeed": 1,
       "rotateSpeed": 1,
       "screenSpacePanning": true,
       "target": [
        0,
        0,
        0
       ],
       "zoomSpeed": 1
      }
     },
     "2f40441a700642dfbfe166b05875b72f": {
      "model_module": "jupyter-threejs",
      "model_module_version": "^2.1.0",
      "model_name": "CylinderGeometryModel",
      "state": {
       "_model_module": "jupyter-threejs",
       "_model_module_version": "^2.1.0",
       "_model_name": "CylinderGeometryModel",
       "_view_count": null,
       "_view_module": null,
       "_view_module_version": "",
       "_view_name": null,
       "height": 2,
       "heightSegments": 1,
       "name": "",
       "openEnded": false,
       "radialSegments": 8,
       "radiusBottom": 0.5,
       "radiusTop": 0.1,
       "thetaLength": 6.283185307179586,
       "thetaStart": 0,
       "type": "CylinderGeometry"
      }
     },
     "30169f3dcb114719a0c3a7b59e109007": {
      "model_module": "jupyter-threejs",
      "model_module_version": "^2.1.0",
      "model_name": "MeshModel",
      "state": {
       "_model_module": "jupyter-threejs",
       "_model_module_version": "^2.1.0",
       "_model_name": "MeshModel",
       "_view_count": null,
       "_view_module": null,
       "_view_module_version": "",
       "_view_name": null,
       "castShadow": false,
       "children": [],
       "drawMode": "TrianglesDrawMode",
       "frustumCulled": true,
       "geometry": "IPY_MODEL_2779b83886314bb18db01530f9c24f56",
       "material": "IPY_MODEL_6da94fb402f84f588d129d94a1e78a9c",
       "matrix": [
        1,
        0,
        0,
        0,
        0,
        1,
        0,
        0,
        0,
        0,
        1,
        0,
        0,
        0,
        0,
        1
       ],
       "matrixAutoUpdate": true,
       "matrixWorld": [
        1,
        0,
        0,
        0,
        0,
        1,
        0,
        0,
        0,
        0,
        1,
        0,
        0,
        0,
        0,
        1
       ],
       "matrixWorldNeedsUpdate": false,
       "modelViewMatrix": [
        1,
        0,
        0,
        0,
        0,
        1,
        0,
        0,
        0,
        0,
        1,
        0,
        0,
        0,
        0,
        1
       ],
       "morphTargetInfluences": [],
       "name": "",
       "normalMatrix": [
        1,
        0,
        0,
        0,
        1,
        0,
        0,
        0,
        1
       ],
       "position": [
        0,
        0,
        0
       ],
       "quaternion": [
        0,
        0,
        0,
        1
       ],
       "receiveShadow": false,
       "renderOrder": 0,
       "rotation": [
        0,
        0,
        0,
        "XYZ"
       ],
       "scale": [
        1,
        1,
        1
       ],
       "type": "Mesh",
       "up": [
        0,
        1,
        0
       ],
       "visible": true
      }
     },
     "36546cf7fa6a4e54bb0d3c6295fc2a86": {
      "model_module": "jupyter-threejs",
      "model_module_version": "^2.1.0",
      "model_name": "MeshModel",
      "state": {
       "_model_module": "jupyter-threejs",
       "_model_module_version": "^2.1.0",
       "_model_name": "MeshModel",
       "_view_count": null,
       "_view_module": null,
       "_view_module_version": "",
       "_view_name": null,
       "castShadow": false,
       "children": [
        "IPY_MODEL_972c39b0091e4903930f570f7bd9b74e"
       ],
       "drawMode": "TrianglesDrawMode",
       "frustumCulled": true,
       "geometry": "IPY_MODEL_899842b8392f4863ac31c00175d63343",
       "material": "IPY_MODEL_2c8fcdc7a93e48929ee0cf19372be22b",
       "matrix": [
        0.9063077870366499,
        0.42261826174069944,
        0,
        0,
        -0.4210100716628344,
        0.9028590122851735,
        0.08715574274765817,
        0,
        0.03683360850073487,
        -0.07898992833716563,
        0.9961946980917455,
        0,
        0.5016836650557065,
        0.34385685827293705,
        0.008715574274765816,
        1
       ],
       "matrixAutoUpdate": false,
       "matrixWorld": [
        1,
        0,
        0,
        0,
        0,
        1,
        0,
        0,
        0,
        0,
        1,
        0,
        0,
        0,
        0,
        1
       ],
       "matrixWorldNeedsUpdate": false,
       "modelViewMatrix": [
        1,
        0,
        0,
        0,
        0,
        1,
        0,
        0,
        0,
        0,
        1,
        0,
        0,
        0,
        0,
        1
       ],
       "morphTargetInfluences": [],
       "name": "mesh_Q",
       "normalMatrix": [
        1,
        0,
        0,
        0,
        1,
        0,
        0,
        0,
        1
       ],
       "position": [
        0,
        0,
        0
       ],
       "quaternion": [
        0,
        0,
        0,
        1
       ],
       "receiveShadow": false,
       "renderOrder": 0,
       "rotation": [
        0,
        0,
        0,
        "XYZ"
       ],
       "scale": [
        1,
        1,
        1
       ],
       "type": "Mesh",
       "up": [
        0,
        1,
        0
       ],
       "visible": true
      }
     },
     "3f5c17a3d3e34f86b8a2066054b4ed41": {
      "model_module": "jupyter-threejs",
      "model_module_version": "^2.1.0",
      "model_name": "OrbitControlsModel",
      "state": {
       "_model_module": "jupyter-threejs",
       "_model_module_version": "^2.1.0",
       "_model_name": "OrbitControlsModel",
       "_view_count": null,
       "_view_module": null,
       "_view_module_version": "",
       "_view_name": null,
       "autoRotate": false,
       "autoRotateSpeed": 2,
       "controlling": "IPY_MODEL_15e2ba3b02644ac6934f30a81f2e762a",
       "dampingFactor": 0.25,
       "enableDamping": false,
       "enableKeys": true,
       "enablePan": true,
       "enableRotate": true,
       "enableZoom": true,
       "enabled": true,
       "keyPanSpeed": 7,
       "maxAzimuthAngle": "inf",
       "maxDistance": "inf",
       "maxPolarAngle": 3.141592653589793,
       "maxZoom": "inf",
       "minAzimuthAngle": "-inf",
       "minDistance": 0,
       "minPolarAngle": 0,
       "minZoom": 0,
       "panSpeed": 1,
       "rotateSpeed": 1,
       "screenSpacePanning": true,
       "target": [
        0,
        0,
        0
       ],
       "zoomSpeed": 1
      }
     },
     "469437175ec44e72a3a5108a23f7c489": {
      "buffers": [
       {
        "data": "AAAAAEPUTT1D1M09Ml8aPkPUTT6qpIA+Ml+aPrsZtD5D1M0+y47nPqqkAD/ugQ0/Ml8aP3Y8Jz+7GTQ///ZAP0PUTT+HsVo/y45nPw9sdD+qpIA/TBOHP+6BjT+Q8JM/Ml+aP9TNoD92PKc/GKutP7sZtD9diLo///bAP6Flxz9D1M0/5ULUP4ex2j8pIOE/y47nP2397T8PbPQ/str6P6qkAED72wNATBMHQJ1KCkDugQ1AP7kQQJDwE0DhJxdAMl8aQIOWHUDUzSBAJQUkQHY8J0DHcypAGKstQGniMEC7GTRADFE3QF2IOkCuvz1A//ZAQFAuREChZUdA8pxKQEPUTUCUC1FA5UJUQDZ6V0CHsVpA2OhdQCkgYUB6V2RAy45nQBzGakBt/W1AvjRxQA9sdEBgo3dAstp6QAMSfkCqpIBAUkCCQPvbg0Cjd4VATBOHQPSuiECdSopAReaLQO6BjUCXHY9AP7mQQOhUkkCQ8JNAOYyVQOEnl0CKw5hAMl+aQNv6m0CDlp1ALDKfQNTNoEB9aaJAJQWkQM6gpUB2PKdAH9ioQMdzqkBwD6xAGKutQMFGr0Bp4rBAEn6yQLsZtEBjtbVADFG3QLTsuEBdiLpABSS8QK6/vUBWW79A//bAQKeSwkBQLsRA+MnFQKFlx0BJAclA8pzKQJo4zEBD1M1A62/PQJQL0UA8p9JA5ULUQI7e1UA2etdA3xXZQIex2kAwTdxA2OjdQIGE30ApIOFA0rviQHpX5EAj8+VAy47nQHQq6UAcxupAxWHsQG397UAWme9AvjTxQGfQ8kAPbPRAuAf2QGCj90AJP/lAstr6QFp2/EADEv5Aq63/QKqkAEF+cgFBUkACQScOA0H72wNBz6kEQaN3BUF4RQZBTBMHQSDhB0H0rghByXwJQZ1KCkFxGAtBReYLQRq0DEHugQ1Bwk8OQZcdD0Fr6w9BP7kQQROHEUHoVBJBvCITQZDwE0FkvhRBOYwVQQ1aFkHhJxdBtfUXQYrDGEFekRlBMl8aQQYtG0Hb+htBr8gcQYOWHUFXZB5BLDIfQQAAIEE=",
        "encoding": "base64",
        "path": [
         "times",
         "buffer"
        ]
       },
       {
        "data": "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",
        "encoding": "base64",
        "path": [
         "values",
         "buffer"
        ]
       }
      ],
      "model_module": "jupyter-threejs",
      "model_module_version": "^2.1.0",
      "model_name": "VectorKeyframeTrackModel",
      "state": {
       "_model_module": "jupyter-threejs",
       "_model_module_version": "^2.1.0",
       "_model_name": "VectorKeyframeTrackModel",
       "_view_count": null,
       "_view_module": null,
       "_view_module_version": "",
       "_view_name": null,
       "interpolation": "InterpolateLinear",
       "name": "scene/mesh_B.matrix",
       "times": {
        "dtype": "float32",
        "shape": [
         200
        ]
       },
       "values": {
        "dtype": "float32",
        "shape": [
         200,
         16
        ]
       }
      }
     },
     "47aba13eb51543f0bebb953a1e012e74": {
      "model_module": "jupyter-threejs",
      "model_module_version": "^2.1.0",
      "model_name": "MeshModel",
      "state": {
       "_model_module": "jupyter-threejs",
       "_model_module_version": "^2.1.0",
       "_model_name": "MeshModel",
       "_view_count": null,
       "_view_module": null,
       "_view_module_version": "",
       "_view_name": null,
       "castShadow": false,
       "children": [
        "IPY_MODEL_567051c9814f4ac79173dcb88d4e3e27"
       ],
       "drawMode": "TrianglesDrawMode",
       "frustumCulled": true,
       "geometry": "IPY_MODEL_e3f0fe1aa9f4446a9b08bbc3758a1712",
       "material": "IPY_MODEL_0a1017f736f04b50bd013ddb039076e0",
       "matrix": [
        -0.42261826174069944,
        0.9063077870366499,
        0,
        0,
        -0.9063077870366499,
        -0.42261826174069944,
        0,
        0,
        0,
        0,
        1,
        0,
        0.27189233611099495,
        0.12678547852220984,
        0,
        1
       ],
       "matrixAutoUpdate": false,
       "matrixWorld": [
        1,
        0,
        0,
        0,
        0,
        1,
        0,
        0,
        0,
        0,
        1,
        0,
        0,
        0,
        0,
        1
       ],
       "matrixWorldNeedsUpdate": false,
       "modelViewMatrix": [
        1,
        0,
        0,
        0,
        0,
        1,
        0,
        0,
        0,
        0,
        1,
        0,
        0,
        0,
        0,
        1
       ],
       "morphTargetInfluences": [],
       "name": "mesh_A",
       "normalMatrix": [
        1,
        0,
        0,
        0,
        1,
        0,
        0,
        0,
        1
       ],
       "position": [
        0,
        0,
        0
       ],
       "quaternion": [
        0,
        0,
        0,
        1
       ],
       "receiveShadow": false,
       "renderOrder": 0,
       "rotation": [
        0,
        0,
        0,
        "XYZ"
       ],
       "scale": [
        1,
        1,
        1
       ],
       "type": "Mesh",
       "up": [
        0,
        1,
        0
       ],
       "visible": true
      }
     },
     "4e14a934a95c437c97ac168719260dc2": {
      "model_module": "@jupyter-widgets/base",
      "model_module_version": "1.2.0",
      "model_name": "LayoutModel",
      "state": {
       "_model_module": "@jupyter-widgets/base",
       "_model_module_version": "1.2.0",
       "_model_name": "LayoutModel",
       "_view_count": null,
       "_view_module": "@jupyter-widgets/base",
       "_view_module_version": "1.2.0",
       "_view_name": "LayoutView",
       "align_content": null,
       "align_items": null,
       "align_self": null,
       "border": null,
       "bottom": null,
       "display": null,
       "flex": null,
       "flex_flow": null,
       "grid_area": null,
       "grid_auto_columns": null,
       "grid_auto_flow": null,
       "grid_auto_rows": null,
       "grid_column": null,
       "grid_gap": null,
       "grid_row": null,
       "grid_template_areas": null,
       "grid_template_columns": null,
       "grid_template_rows": null,
       "height": null,
       "justify_content": null,
       "justify_items": null,
       "left": null,
       "margin": null,
       "max_height": null,
       "max_width": null,
       "min_height": null,
       "min_width": null,
       "object_fit": null,
       "object_position": null,
       "order": null,
       "overflow": null,
       "overflow_x": null,
       "overflow_y": null,
       "padding": null,
       "right": null,
       "top": null,
       "visibility": null,
       "width": null
      }
     },
     "567051c9814f4ac79173dcb88d4e3e27": {
      "model_module": "jupyter-threejs",
      "model_module_version": "^2.1.0",
      "model_name": "AxesHelperModel",
      "state": {
       "_model_module": "jupyter-threejs",
       "_model_module_version": "^2.1.0",
       "_model_name": "AxesHelperModel",
       "_view_count": null,
       "_view_module": null,
       "_view_module_version": "",
       "_view_name": null,
       "castShadow": false,
       "children": [],
       "frustumCulled": true,
       "matrix": [
        1,
        0,
        0,
        0,
        0,
        1,
        0,
        0,
        0,
        0,
        1,
        0,
        0,
        0,
        0,
        1
       ],
       "matrixAutoUpdate": true,
       "matrixWorld": [
        1,
        0,
        0,
        0,
        0,
        1,
        0,
        0,
        0,
        0,
        1,
        0,
        0,
        0,
        0,
        1
       ],
       "matrixWorldNeedsUpdate": false,
       "modelViewMatrix": [
        1,
        0,
        0,
        0,
        0,
        1,
        0,
        0,
        0,
        0,
        1,
        0,
        0,
        0,
        0,
        1
       ],
       "name": "",
       "normalMatrix": [
        1,
        0,
        0,
        0,
        1,
        0,
        0,
        0,
        1
       ],
       "position": [
        0,
        0,
        0
       ],
       "quaternion": [
        0,
        0,
        0,
        1
       ],
       "receiveShadow": false,
       "renderOrder": 0,
       "rotation": [
        0,
        0,
        0,
        "XYZ"
       ],
       "scale": [
        1,
        1,
        1
       ],
       "size": 0.2,
       "type": "AxesHelper",
       "up": [
        0,
        1,
        0
       ],
       "visible": true
      }
     },
     "586ff3ae92a54463950e32963d6c47aa": {
      "model_module": "jupyter-threejs",
      "model_module_version": "^2.1.0",
      "model_name": "AnimationActionModel",
      "state": {
       "_dom_classes": [],
       "_model_module": "jupyter-threejs",
       "_model_module_version": "^2.1.0",
       "_model_name": "AnimationActionModel",
       "_view_count": null,
       "_view_module": "jupyter-threejs",
       "_view_module_version": "^2.1.0",
       "_view_name": "AnimationActionView",
       "clampWhenFinished": false,
       "clip": "IPY_MODEL_ea05e0c9829246c9a246f6b0f388cb9a",
       "enabled": true,
       "layout": "IPY_MODEL_4e14a934a95c437c97ac168719260dc2",
       "localRoot": "IPY_MODEL_8ff00fe1d37f47b894b035d00159af61",
       "loop": "LoopRepeat",
       "mixer": "IPY_MODEL_71f66c8eb1ad499ba8afbe705eedbbf4",
       "paused": false,
       "repititions": "inf",
       "time": 0,
       "timeScale": 1,
       "weigth": 1,
       "zeroSlopeAtEnd": true,
       "zeroSlopeAtStart": true
      }
     },
     "64910e1c642340b6a0ad1ac949f96aa1": {
      "model_module": "jupyter-threejs",
      "model_module_version": "^2.1.0",
      "model_name": "MeshStandardMaterialModel",
      "state": {
       "_model_module": "jupyter-threejs",
       "_model_module_version": "^2.1.0",
       "_model_name": "MeshStandardMaterialModel",
       "_view_count": null,
       "_view_module": null,
       "_view_module_version": "",
       "_view_name": null,
       "alphaMap": null,
       "alphaTest": 0,
       "aoMap": null,
       "aoMapIntensity": 1,
       "blendDst": "OneMinusSrcAlphaFactor",
       "blendDstAlpha": 0,
       "blendEquation": "AddEquation",
       "blendEquationAlpha": 0,
       "blendSrc": "SrcAlphaFactor",
       "blendSrcAlpha": 0,
       "blending": "NormalBlending",
       "bumpMap": null,
       "bumpScale": 1,
       "clipIntersection": false,
       "clipShadows": false,
       "clippingPlanes": [],
       "color": "blue",
       "colorWrite": true,
       "defines": {
        "STANDARD": ""
       },
       "depthFunc": "LessEqualDepth",
       "depthTest": true,
       "depthWrite": true,
       "displacementBias": 0,
       "displacementMap": null,
       "displacementScale": 1,
       "dithering": false,
       "emissive": "#000000",
       "emissiveIntensity": 1,
       "emissiveMap": null,
       "envMap": null,
       "envMapIntensity": 1,
       "flatShading": false,
       "fog": true,
       "lightMap": null,
       "lightMapIntensity": 1,
       "lights": true,
       "map": null,
       "metalness": 0.5,
       "metalnessMap": null,
       "morphNormals": false,
       "morphTargets": false,
       "name": "",
       "normalMap": null,
       "normalScale": [
        1,
        1
       ],
       "opacity": 1,
       "overdraw": 0,
       "polygonOffset": false,
       "polygonOffsetFactor": 0,
       "polygonOffsetUnits": 0,
       "precision": null,
       "premultipliedAlpha": false,
       "refractionRatio": 0.98,
       "roughness": 0.5,
       "roughnessMap": null,
       "shadowSide": null,
       "side": "FrontSide",
       "skinning": false,
       "transparent": false,
       "type": "MeshStandardMaterial",
       "vertexColors": "NoColors",
       "visible": true,
       "wireframe": false,
       "wireframeLinecap": "round",
       "wireframeLinejoin": "round",
       "wireframeLinewidth": 1
      }
     },
     "683778d2586b4515adfde63ec51e1131": {
      "model_module": "jupyter-threejs",
      "model_module_version": "^2.1.0",
      "model_name": "MeshModel",
      "state": {
       "_model_module": "jupyter-threejs",
       "_model_module_version": "^2.1.0",
       "_model_name": "MeshModel",
       "_view_count": null,
       "_view_module": null,
       "_view_module_version": "",
       "_view_name": null,
       "castShadow": false,
       "children": [
        "IPY_MODEL_2710ae2cdb044585a671308ac6afd881"
       ],
       "drawMode": "TrianglesDrawMode",
       "frustumCulled": true,
       "geometry": "IPY_MODEL_838fb9f61ecd4e79ad3543b5bae639e2",
       "material": "IPY_MODEL_64910e1c642340b6a0ad1ac949f96aa1",
       "matrix": [
        0.9063077870366499,
        0.42261826174069944,
        0,
        0,
        -0.4210100716628344,
        0.9028590122851735,
        0.08715574274765817,
        0,
        0.03683360850073487,
        -0.07898992833716563,
        0.9961946980917455,
        0,
        0.5437846722219899,
        0.2535709570444197,
        0,
        1
       ],
       "matrixAutoUpdate": false,
       "matrixWorld": [
        1,
        0,
        0,
        0,
        0,
        1,
        0,
        0,
        0,
        0,
        1,
        0,
        0,
        0,
        0,
        1
       ],
       "matrixWorldNeedsUpdate": false,
       "modelViewMatrix": [
        1,
        0,
        0,
        0,
        0,
        1,
        0,
        0,
        0,
        0,
        1,
        0,
        0,
        0,
        0,
        1
       ],
       "morphTargetInfluences": [],
       "name": "mesh_B",
       "normalMatrix": [
        1,
        0,
        0,
        0,
        1,
        0,
        0,
        0,
        1
       ],
       "position": [
        0,
        0,
        0
       ],
       "quaternion": [
        0,
        0,
        0,
        1
       ],
       "receiveShadow": false,
       "renderOrder": 0,
       "rotation": [
        0,
        0,
        0,
        "XYZ"
       ],
       "scale": [
        1,
        1,
        1
       ],
       "type": "Mesh",
       "up": [
        0,
        1,
        0
       ],
       "visible": true
      }
     },
     "6da94fb402f84f588d129d94a1e78a9c": {
      "model_module": "jupyter-threejs",
      "model_module_version": "^2.1.0",
      "model_name": "MeshStandardMaterialModel",
      "state": {
       "_model_module": "jupyter-threejs",
       "_model_module_version": "^2.1.0",
       "_model_name": "MeshStandardMaterialModel",
       "_view_count": null,
       "_view_module": null,
       "_view_module_version": "",
       "_view_name": null,
       "alphaMap": null,
       "alphaTest": 0,
       "aoMap": null,
       "aoMapIntensity": 1,
       "blendDst": "OneMinusSrcAlphaFactor",
       "blendDstAlpha": 0,
       "blendEquation": "AddEquation",
       "blendEquationAlpha": 0,
       "blendSrc": "SrcAlphaFactor",
       "blendSrcAlpha": 0,
       "blending": "NormalBlending",
       "bumpMap": null,
       "bumpScale": 1,
       "clipIntersection": false,
       "clipShadows": false,
       "clippingPlanes": [],
       "color": "red",
       "colorWrite": true,
       "defines": {
        "STANDARD": ""
       },
       "depthFunc": "LessEqualDepth",
       "depthTest": true,
       "depthWrite": true,
       "displacementBias": 0,
       "displacementMap": null,
       "displacementScale": 1,
       "dithering": false,
       "emissive": "#000000",
       "emissiveIntensity": 1,
       "emissiveMap": null,
       "envMap": null,
       "envMapIntensity": 1,
       "flatShading": false,
       "fog": true,
       "lightMap": null,
       "lightMapIntensity": 1,
       "lights": true,
       "map": null,
       "metalness": 0.5,
       "metalnessMap": null,
       "morphNormals": false,
       "morphTargets": false,
       "name": "",
       "normalMap": null,
       "normalScale": [
        1,
        1
       ],
       "opacity": 1,
       "overdraw": 0,
       "polygonOffset": false,
       "polygonOffsetFactor": 0,
       "polygonOffsetUnits": 0,
       "precision": null,
       "premultipliedAlpha": false,
       "refractionRatio": 0.98,
       "roughness": 0.5,
       "roughnessMap": null,
       "shadowSide": null,
       "side": "FrontSide",
       "skinning": false,
       "transparent": false,
       "type": "MeshStandardMaterial",
       "vertexColors": "NoColors",
       "visible": true,
       "wireframe": false,
       "wireframeLinecap": "round",
       "wireframeLinejoin": "round",
       "wireframeLinewidth": 1
      }
     },
     "71f66c8eb1ad499ba8afbe705eedbbf4": {
      "model_module": "jupyter-threejs",
      "model_module_version": "^2.1.0",
      "model_name": "AnimationMixerModel",
      "state": {
       "_model_module": "jupyter-threejs",
       "_model_module_version": "^2.1.0",
       "_model_name": "AnimationMixerModel",
       "_view_count": null,
       "_view_module": null,
       "_view_module_version": "",
       "_view_name": null,
       "rootObject": "IPY_MODEL_8ff00fe1d37f47b894b035d00159af61",
       "time": 0,
       "timeScale": 1
      }
     },
     "7211b0450ffa4dcaa1b6803753f504d7": {
      "model_module": "jupyter-threejs",
      "model_module_version": "^2.1.0",
      "model_name": "DirectionalLightModel",
      "state": {
       "_model_module": "jupyter-threejs",
       "_model_module_version": "^2.1.0",
       "_model_name": "DirectionalLightModel",
       "_view_count": null,
       "_view_module": null,
       "_view_module_version": "",
       "_view_name": null,
       "castShadow": false,
       "children": [],
       "color": "#ffffff",
       "frustumCulled": true,
       "intensity": 1,
       "matrix": [
        1,
        0,
        0,
        0,
        0,
        1,
        0,
        0,
        0,
        0,
        1,
        0,
        0,
        0,
        0,
        1
       ],
       "matrixAutoUpdate": true,
       "matrixWorld": [
        1,
        0,
        0,
        0,
        0,
        1,
        0,
        0,
        0,
        0,
        1,
        0,
        0,
        0,
        0,
        1
       ],
       "matrixWorldNeedsUpdate": false,
       "modelViewMatrix": [
        1,
        0,
        0,
        0,
        0,
        1,
        0,
        0,
        0,
        0,
        1,
        0,
        0,
        0,
        0,
        1
       ],
       "name": "",
       "normalMatrix": [
        1,
        0,
        0,
        0,
        1,
        0,
        0,
        0,
        1
       ],
       "position": [
        0,
        10,
        10
       ],
       "quaternion": [
        0,
        0,
        0,
        1
       ],
       "receiveShadow": false,
       "renderOrder": 0,
       "rotation": [
        0,
        0,
        0,
        "XYZ"
       ],
       "scale": [
        1,
        1,
        1
       ],
       "shadow": "uninitialized",
       "target": "uninitialized",
       "type": "DirectionalLight",
       "up": [
        0,
        1,
        0
       ],
       "visible": true
      }
     },
     "7558beb8f20648c28b2488ebd06173b7": {
      "model_module": "jupyter-threejs",
      "model_module_version": "^2.1.0",
      "model_name": "MeshStandardMaterialModel",
      "state": {
       "_model_module": "jupyter-threejs",
       "_model_module_version": "^2.1.0",
       "_model_name": "MeshStandardMaterialModel",
       "_view_count": null,
       "_view_module": null,
       "_view_module_version": "",
       "_view_name": null,
       "alphaMap": null,
       "alphaTest": 0,
       "aoMap": null,
       "aoMapIntensity": 1,
       "blendDst": "OneMinusSrcAlphaFactor",
       "blendDstAlpha": 0,
       "blendEquation": "AddEquation",
       "blendEquationAlpha": 0,
       "blendSrc": "SrcAlphaFactor",
       "blendSrcAlpha": 0,
       "blending": "NormalBlending",
       "bumpMap": null,
       "bumpScale": 1,
       "clipIntersection": false,
       "clipShadows": false,
       "clippingPlanes": [],
       "color": "orange",
       "colorWrite": true,
       "defines": {
        "STANDARD": ""
       },
       "depthFunc": "LessEqualDepth",
       "depthTest": true,
       "depthWrite": true,
       "displacementBias": 0,
       "displacementMap": null,
       "displacementScale": 1,
       "dithering": false,
       "emissive": "#000000",
       "emissiveIntensity": 1,
       "emissiveMap": null,
       "envMap": null,
       "envMapIntensity": 1,
       "flatShading": false,
       "fog": true,
       "lightMap": null,
       "lightMapIntensity": 1,
       "lights": true,
       "map": null,
       "metalness": 0.5,
       "metalnessMap": null,
       "morphNormals": false,
       "morphTargets": false,
       "name": "",
       "normalMap": null,
       "normalScale": [
        1,
        1
       ],
       "opacity": 1,
       "overdraw": 0,
       "polygonOffset": false,
       "polygonOffsetFactor": 0,
       "polygonOffsetUnits": 0,
       "precision": null,
       "premultipliedAlpha": false,
       "refractionRatio": 0.98,
       "roughness": 0.5,
       "roughnessMap": null,
       "shadowSide": null,
       "side": "FrontSide",
       "skinning": false,
       "transparent": false,
       "type": "MeshStandardMaterial",
       "vertexColors": "NoColors",
       "visible": true,
       "wireframe": true,
       "wireframeLinecap": "round",
       "wireframeLinejoin": "round",
       "wireframeLinewidth": 1
      }
     },
     "7c524a1bd1ed4b719dfe1265aba752a3": {
      "model_module": "jupyter-threejs",
      "model_module_version": "^2.1.0",
      "model_name": "SceneModel",
      "state": {
       "_model_module": "jupyter-threejs",
       "_model_module_version": "^2.1.0",
       "_model_name": "SceneModel",
       "_view_count": null,
       "_view_module": null,
       "_view_module_version": "",
       "_view_name": null,
       "autoUpdate": true,
       "background": "#ffffff",
       "castShadow": false,
       "children": [
        "IPY_MODEL_9fa8c7cb8a0340de98c61ec3216c06f6",
        "IPY_MODEL_d2b1da6f56764604b0d51272f5eccb0c",
        "IPY_MODEL_155725b74b1940a3a4f31700528ca9cd",
        "IPY_MODEL_7211b0450ffa4dcaa1b6803753f504d7",
        "IPY_MODEL_00ee48305e3e48e0a7dd3e77a210616f"
       ],
       "fog": null,
       "frustumCulled": true,
       "matrix": [
        1,
        0,
        0,
        0,
        0,
        1,
        0,
        0,
        0,
        0,
        1,
        0,
        0,
        0,
        0,
        1
       ],
       "matrixAutoUpdate": true,
       "matrixWorld": [
        1,
        0,
        0,
        0,
        0,
        1,
        0,
        0,
        0,
        0,
        1,
        0,
        0,
        0,
        0,
        1
       ],
       "matrixWorldNeedsUpdate": false,
       "modelViewMatrix": [
        1,
        0,
        0,
        0,
        0,
        1,
        0,
        0,
        0,
        0,
        1,
        0,
        0,
        0,
        0,
        1
       ],
       "name": "",
       "normalMatrix": [
        1,
        0,
        0,
        0,
        1,
        0,
        0,
        0,
        1
       ],
       "overrideMaterial": null,
       "position": [
        0,
        0,
        0
       ],
       "quaternion": [
        0,
        0,
        0,
        1
       ],
       "receiveShadow": false,
       "renderOrder": 0,
       "rotation": [
        0,
        0,
        0,
        "XYZ"
       ],
       "scale": [
        1,
        1,
        1
       ],
       "type": "Scene",
       "up": [
        0,
        1,
        0
       ],
       "visible": true
      }
     },
     "8088231e1b514e33bd6badf0b9d864a9": {
      "model_module": "@jupyter-widgets/base",
      "model_module_version": "1.2.0",
      "model_name": "LayoutModel",
      "state": {
       "_model_module": "@jupyter-widgets/base",
       "_model_module_version": "1.2.0",
       "_model_name": "LayoutModel",
       "_view_count": null,
       "_view_module": "@jupyter-widgets/base",
       "_view_module_version": "1.2.0",
       "_view_name": "LayoutView",
       "align_content": null,
       "align_items": null,
       "align_self": null,
       "border": null,
       "bottom": null,
       "display": null,
       "flex": null,
       "flex_flow": null,
       "grid_area": null,
       "grid_auto_columns": null,
       "grid_auto_flow": null,
       "grid_auto_rows": null,
       "grid_column": null,
       "grid_gap": null,
       "grid_row": null,
       "grid_template_areas": null,
       "grid_template_columns": null,
       "grid_template_rows": null,
       "height": null,
       "justify_content": null,
       "justify_items": null,
       "left": null,
       "margin": null,
       "max_height": null,
       "max_width": null,
       "min_height": null,
       "min_width": null,
       "object_fit": null,
       "object_position": null,
       "order": null,
       "overflow": null,
       "overflow_x": null,
       "overflow_y": null,
       "padding": null,
       "right": null,
       "top": null,
       "visibility": null,
       "width": null
      }
     },
     "838fb9f61ecd4e79ad3543b5bae639e2": {
      "model_module": "jupyter-threejs",
      "model_module_version": "^2.1.0",
      "model_name": "CylinderGeometryModel",
      "state": {
       "_model_module": "jupyter-threejs",
       "_model_module_version": "^2.1.0",
       "_model_name": "CylinderGeometryModel",
       "_view_count": null,
       "_view_module": null,
       "_view_module_version": "",
       "_view_name": null,
       "height": 0.6,
       "heightSegments": 1,
       "name": "",
       "openEnded": false,
       "radialSegments": 8,
       "radiusBottom": 0.03,
       "radiusTop": 0.03,
       "thetaLength": 6.283185307179586,
       "thetaStart": 0,
       "type": "CylinderGeometry"
      }
     },
     "84fe1e0613844821ab8d17159fe0fc3a": {
      "buffers": [
       {
        "data": "AAAAAEPUTT1D1M09Ml8aPkPUTT6qpIA+Ml+aPrsZtD5D1M0+y47nPqqkAD/ugQ0/Ml8aP3Y8Jz+7GTQ///ZAP0PUTT+HsVo/y45nPw9sdD+qpIA/TBOHP+6BjT+Q8JM/Ml+aP9TNoD92PKc/GKutP7sZtD9diLo///bAP6Flxz9D1M0/5ULUP4ex2j8pIOE/y47nP2397T8PbPQ/str6P6qkAED72wNATBMHQJ1KCkDugQ1AP7kQQJDwE0DhJxdAMl8aQIOWHUDUzSBAJQUkQHY8J0DHcypAGKstQGniMEC7GTRADFE3QF2IOkCuvz1A//ZAQFAuREChZUdA8pxKQEPUTUCUC1FA5UJUQDZ6V0CHsVpA2OhdQCkgYUB6V2RAy45nQBzGakBt/W1AvjRxQA9sdEBgo3dAstp6QAMSfkCqpIBAUkCCQPvbg0Cjd4VATBOHQPSuiECdSopAReaLQO6BjUCXHY9AP7mQQOhUkkCQ8JNAOYyVQOEnl0CKw5hAMl+aQNv6m0CDlp1ALDKfQNTNoEB9aaJAJQWkQM6gpUB2PKdAH9ioQMdzqkBwD6xAGKutQMFGr0Bp4rBAEn6yQLsZtEBjtbVADFG3QLTsuEBdiLpABSS8QK6/vUBWW79A//bAQKeSwkBQLsRA+MnFQKFlx0BJAclA8pzKQJo4zEBD1M1A62/PQJQL0UA8p9JA5ULUQI7e1UA2etdA3xXZQIex2kAwTdxA2OjdQIGE30ApIOFA0rviQHpX5EAj8+VAy47nQHQq6UAcxupAxWHsQG397UAWme9AvjTxQGfQ8kAPbPRAuAf2QGCj90AJP/lAstr6QFp2/EADEv5Aq63/QKqkAEF+cgFBUkACQScOA0H72wNBz6kEQaN3BUF4RQZBTBMHQSDhB0H0rghByXwJQZ1KCkFxGAtBReYLQRq0DEHugQ1Bwk8OQZcdD0Fr6w9BP7kQQROHEUHoVBJBvCITQZDwE0FkvhRBOYwVQQ1aFkHhJxdBtfUXQYrDGEFekRlBMl8aQQYtG0Hb+htBr8gcQYOWHUFXZB5BLDIfQQAAIEE=",
        "encoding": "base64",
        "path": [
         "times",
         "buffer"
        ]
       },
       {
        "data": "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",
        "encoding": "base64",
        "path": [
         "values",
         "buffer"
        ]
       }
      ],
      "model_module": "jupyter-threejs",
      "model_module_version": "^2.1.0",
      "model_name": "VectorKeyframeTrackModel",
      "state": {
       "_model_module": "jupyter-threejs",
       "_model_module_version": "^2.1.0",
       "_model_name": "VectorKeyframeTrackModel",
       "_view_count": null,
       "_view_module": null,
       "_view_module_version": "",
       "_view_name": null,
       "interpolation": "InterpolateLinear",
       "name": "scene/mesh_A.matrix",
       "times": {
        "dtype": "float32",
        "shape": [
         200
        ]
       },
       "values": {
        "dtype": "float32",
        "shape": [
         200,
         16
        ]
       }
      }
     },
     "899842b8392f4863ac31c00175d63343": {
      "model_module": "jupyter-threejs",
      "model_module_version": "^2.1.0",
      "model_name": "SphereGeometryModel",
      "state": {
       "_model_module": "jupyter-threejs",
       "_model_module_version": "^2.1.0",
       "_model_name": "SphereGeometryModel",
       "_view_count": null,
       "_view_module": null,
       "_view_module_version": "",
       "_view_name": null,
       "heightSegments": 6,
       "name": "",
       "phiLength": 6.283185307179586,
       "phiStart": 0,
       "radius": 0.0375,
       "thetaLength": 3.141592653589793,
       "thetaStart": 0,
       "type": "SphereGeometry",
       "widthSegments": 8
      }
     },
     "8ff00fe1d37f47b894b035d00159af61": {
      "model_module": "jupyter-threejs",
      "model_module_version": "^2.1.0",
      "model_name": "SceneModel",
      "state": {
       "_model_module": "jupyter-threejs",
       "_model_module_version": "^2.1.0",
       "_model_name": "SceneModel",
       "_view_count": null,
       "_view_module": null,
       "_view_module_version": "",
       "_view_name": null,
       "autoUpdate": true,
       "background": "#ffffff",
       "castShadow": false,
       "children": [
        "IPY_MODEL_47aba13eb51543f0bebb953a1e012e74",
        "IPY_MODEL_683778d2586b4515adfde63ec51e1131",
        "IPY_MODEL_36546cf7fa6a4e54bb0d3c6295fc2a86",
        "IPY_MODEL_a5d57a08362b4fee9a49a4d5a1073b8f",
        "IPY_MODEL_15e2ba3b02644ac6934f30a81f2e762a",
        "IPY_MODEL_0d487bedcfee4655a29d8a3c729397eb",
        "IPY_MODEL_96bf74052fe54f0eb57a0ffcd33295ea"
       ],
       "fog": null,
       "frustumCulled": true,
       "matrix": [
        1,
        0,
        0,
        0,
        0,
        1,
        0,
        0,
        0,
        0,
        1,
        0,
        0,
        0,
        0,
        1
       ],
       "matrixAutoUpdate": true,
       "matrixWorld": [
        1,
        0,
        0,
        0,
        0,
        1,
        0,
        0,
        0,
        0,
        1,
        0,
        0,
        0,
        0,
        1
       ],
       "matrixWorldNeedsUpdate": false,
       "modelViewMatrix": [
        1,
        0,
        0,
        0,
        0,
        1,
        0,
        0,
        0,
        0,
        1,
        0,
        0,
        0,
        0,
        1
       ],
       "name": "",
       "normalMatrix": [
        1,
        0,
        0,
        0,
        1,
        0,
        0,
        0,
        1
       ],
       "overrideMaterial": null,
       "position": [
        0,
        0,
        0
       ],
       "quaternion": [
        0,
        0,
        0,
        1
       ],
       "receiveShadow": false,
       "renderOrder": 0,
       "rotation": [
        0,
        0,
        0,
        "XYZ"
       ],
       "scale": [
        1,
        1,
        1
       ],
       "type": "Scene",
       "up": [
        0,
        1,
        0
       ],
       "visible": true
      }
     },
     "92d35475d1e64926a1a6118e3b9d69e6": {
      "model_module": "jupyter-threejs",
      "model_module_version": "^2.1.0",
      "model_name": "WebGLShadowMapModel",
      "state": {
       "_model_module": "jupyter-threejs",
       "_model_module_version": "^2.1.0",
       "_model_name": "WebGLShadowMapModel",
       "_view_count": null,
       "_view_module": null,
       "_view_module_version": "",
       "_view_name": null,
       "enabled": false,
       "type": "PCFShadowMap"
      }
     },
     "96bf74052fe54f0eb57a0ffcd33295ea": {
      "model_module": "jupyter-threejs",
      "model_module_version": "^2.1.0",
      "model_name": "AmbientLightModel",
      "state": {
       "_model_module": "jupyter-threejs",
       "_model_module_version": "^2.1.0",
       "_model_name": "AmbientLightModel",
       "_view_count": null,
       "_view_module": null,
       "_view_module_version": "",
       "_view_name": null,
       "castShadow": false,
       "children": [],
       "color": "#ffffff",
       "frustumCulled": true,
       "intensity": 1,
       "matrix": [
        1,
        0,
        0,
        0,
        0,
        1,
        0,
        0,
        0,
        0,
        1,
        0,
        0,
        0,
        0,
        1
       ],
       "matrixAutoUpdate": true,
       "matrixWorld": [
        1,
        0,
        0,
        0,
        0,
        1,
        0,
        0,
        0,
        0,
        1,
        0,
        0,
        0,
        0,
        1
       ],
       "matrixWorldNeedsUpdate": false,
       "modelViewMatrix": [
        1,
        0,
        0,
        0,
        0,
        1,
        0,
        0,
        0,
        0,
        1,
        0,
        0,
        0,
        0,
        1
       ],
       "name": "",
       "normalMatrix": [
        1,
        0,
        0,
        0,
        1,
        0,
        0,
        0,
        1
       ],
       "position": [
        0,
        0,
        0
       ],
       "quaternion": [
        0,
        0,
        0,
        1
       ],
       "receiveShadow": false,
       "renderOrder": 0,
       "rotation": [
        0,
        0,
        0,
        "XYZ"
       ],
       "scale": [
        1,
        1,
        1
       ],
       "type": "AmbientLight",
       "up": [
        0,
        1,
        0
       ],
       "visible": true
      }
     },
     "972c39b0091e4903930f570f7bd9b74e": {
      "model_module": "jupyter-threejs",
      "model_module_version": "^2.1.0",
      "model_name": "AxesHelperModel",
      "state": {
       "_model_module": "jupyter-threejs",
       "_model_module_version": "^2.1.0",
       "_model_name": "AxesHelperModel",
       "_view_count": null,
       "_view_module": null,
       "_view_module_version": "",
       "_view_name": null,
       "castShadow": false,
       "children": [],
       "frustumCulled": true,
       "matrix": [
        1,
        0,
        0,
        0,
        0,
        1,
        0,
        0,
        0,
        0,
        1,
        0,
        0,
        0,
        0,
        1
       ],
       "matrixAutoUpdate": true,
       "matrixWorld": [
        1,
        0,
        0,
        0,
        0,
        1,
        0,
        0,
        0,
        0,
        1,
        0,
        0,
        0,
        0,
        1
       ],
       "matrixWorldNeedsUpdate": false,
       "modelViewMatrix": [
        1,
        0,
        0,
        0,
        0,
        1,
        0,
        0,
        0,
        0,
        1,
        0,
        0,
        0,
        0,
        1
       ],
       "name": "",
       "normalMatrix": [
        1,
        0,
        0,
        0,
        1,
        0,
        0,
        0,
        1
       ],
       "position": [
        0,
        0,
        0
       ],
       "quaternion": [
        0,
        0,
        0,
        1
       ],
       "receiveShadow": false,
       "renderOrder": 0,
       "rotation": [
        0,
        0,
        0,
        "XYZ"
       ],
       "scale": [
        1,
        1,
        1
       ],
       "size": 0.2,
       "type": "AxesHelper",
       "up": [
        0,
        1,
        0
       ],
       "visible": true
      }
     },
     "9dc6b6a845324803ac386a57e630eb8d": {
      "buffers": [
       {
        "data": "AAAAAEPUTT1D1M09Ml8aPkPUTT6qpIA+Ml+aPrsZtD5D1M0+y47nPqqkAD/ugQ0/Ml8aP3Y8Jz+7GTQ///ZAP0PUTT+HsVo/y45nPw9sdD+qpIA/TBOHP+6BjT+Q8JM/Ml+aP9TNoD92PKc/GKutP7sZtD9diLo///bAP6Flxz9D1M0/5ULUP4ex2j8pIOE/y47nP2397T8PbPQ/str6P6qkAED72wNATBMHQJ1KCkDugQ1AP7kQQJDwE0DhJxdAMl8aQIOWHUDUzSBAJQUkQHY8J0DHcypAGKstQGniMEC7GTRADFE3QF2IOkCuvz1A//ZAQFAuREChZUdA8pxKQEPUTUCUC1FA5UJUQDZ6V0CHsVpA2OhdQCkgYUB6V2RAy45nQBzGakBt/W1AvjRxQA9sdEBgo3dAstp6QAMSfkCqpIBAUkCCQPvbg0Cjd4VATBOHQPSuiECdSopAReaLQO6BjUCXHY9AP7mQQOhUkkCQ8JNAOYyVQOEnl0CKw5hAMl+aQNv6m0CDlp1ALDKfQNTNoEB9aaJAJQWkQM6gpUB2PKdAH9ioQMdzqkBwD6xAGKutQMFGr0Bp4rBAEn6yQLsZtEBjtbVADFG3QLTsuEBdiLpABSS8QK6/vUBWW79A//bAQKeSwkBQLsRA+MnFQKFlx0BJAclA8pzKQJo4zEBD1M1A62/PQJQL0UA8p9JA5ULUQI7e1UA2etdA3xXZQIex2kAwTdxA2OjdQIGE30ApIOFA0rviQHpX5EAj8+VAy47nQHQq6UAcxupAxWHsQG397UAWme9AvjTxQGfQ8kAPbPRAuAf2QGCj90AJP/lAstr6QFp2/EADEv5Aq63/QKqkAEF+cgFBUkACQScOA0H72wNBz6kEQaN3BUF4RQZBTBMHQSDhB0H0rghByXwJQZ1KCkFxGAtBReYLQRq0DEHugQ1Bwk8OQZcdD0Fr6w9BP7kQQROHEUHoVBJBvCITQZDwE0FkvhRBOYwVQQ1aFkHhJxdBtfUXQYrDGEFekRlBMl8aQQYtG0Hb+htBr8gcQYOWHUFXZB5BLDIfQQAAIEE=",
        "encoding": "base64",
        "path": [
         "times",
         "buffer"
        ]
       },
       {
        "data": "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",
        "encoding": "base64",
        "path": [
         "values",
         "buffer"
        ]
       }
      ],
      "model_module": "jupyter-threejs",
      "model_module_version": "^2.1.0",
      "model_name": "VectorKeyframeTrackModel",
      "state": {
       "_model_module": "jupyter-threejs",
       "_model_module_version": "^2.1.0",
       "_model_name": "VectorKeyframeTrackModel",
       "_view_count": null,
       "_view_module": null,
       "_view_module_version": "",
       "_view_name": null,
       "interpolation": "InterpolateLinear",
       "name": "scene/mesh_Q.matrix",
       "times": {
        "dtype": "float32",
        "shape": [
         200
        ]
       },
       "values": {
        "dtype": "float32",
        "shape": [
         200,
         16
        ]
       }
      }
     },
     "9fa8c7cb8a0340de98c61ec3216c06f6": {
      "model_module": "jupyter-threejs",
      "model_module_version": "^2.1.0",
      "model_name": "MeshModel",
      "state": {
       "_model_module": "jupyter-threejs",
       "_model_module_version": "^2.1.0",
       "_model_name": "MeshModel",
       "_view_count": null,
       "_view_module": null,
       "_view_module_version": "",
       "_view_name": null,
       "castShadow": false,
       "children": [
        "IPY_MODEL_bb97601b59e94747990b9e138c4610be"
       ],
       "drawMode": "TrianglesDrawMode",
       "frustumCulled": true,
       "geometry": "IPY_MODEL_2f40441a700642dfbfe166b05875b72f",
       "material": "IPY_MODEL_7558beb8f20648c28b2488ebd06173b7",
       "matrix": [
        1,
        0,
        0,
        0,
        0,
        1,
        0,
        0,
        0,
        0,
        1,
        0,
        0,
        0,
        0,
        1
       ],
       "matrixAutoUpdate": true,
       "matrixWorld": [
        1,
        0,
        0,
        0,
        0,
        1,
        0,
        0,
        0,
        0,
        1,
        0,
        0,
        0,
        0,
        1
       ],
       "matrixWorldNeedsUpdate": false,
       "modelViewMatrix": [
        1,
        0,
        0,
        0,
        0,
        1,
        0,
        0,
        0,
        0,
        1,
        0,
        0,
        0,
        0,
        1
       ],
       "morphTargetInfluences": [],
       "name": "",
       "normalMatrix": [
        1,
        0,
        0,
        0,
        1,
        0,
        0,
        0,
        1
       ],
       "position": [
        3,
        3,
        3
       ],
       "quaternion": [
        0,
        0,
        0,
        1
       ],
       "receiveShadow": false,
       "renderOrder": 0,
       "rotation": [
        0,
        0,
        0,
        "XYZ"
       ],
       "scale": [
        1,
        1,
        1
       ],
       "type": "Mesh",
       "up": [
        0,
        1,
        0
       ],
       "visible": true
      }
     },
     "a5d57a08362b4fee9a49a4d5a1073b8f": {
      "model_module": "jupyter-threejs",
      "model_module_version": "^2.1.0",
      "model_name": "AxesHelperModel",
      "state": {
       "_model_module": "jupyter-threejs",
       "_model_module_version": "^2.1.0",
       "_model_name": "AxesHelperModel",
       "_view_count": null,
       "_view_module": null,
       "_view_module_version": "",
       "_view_name": null,
       "castShadow": false,
       "children": [],
       "frustumCulled": true,
       "matrix": [
        1,
        0,
        0,
        0,
        0,
        1,
        0,
        0,
        0,
        0,
        1,
        0,
        0,
        0,
        0,
        1
       ],
       "matrixAutoUpdate": true,
       "matrixWorld": [
        1,
        0,
        0,
        0,
        0,
        1,
        0,
        0,
        0,
        0,
        1,
        0,
        0,
        0,
        0,
        1
       ],
       "matrixWorldNeedsUpdate": false,
       "modelViewMatrix": [
        1,
        0,
        0,
        0,
        0,
        1,
        0,
        0,
        0,
        0,
        1,
        0,
        0,
        0,
        0,
        1
       ],
       "name": "",
       "normalMatrix": [
        1,
        0,
        0,
        0,
        1,
        0,
        0,
        0,
        1
       ],
       "position": [
        0,
        0,
        0
       ],
       "quaternion": [
        0,
        0,
        0,
        1
       ],
       "receiveShadow": false,
       "renderOrder": 0,
       "rotation": [
        0,
        0,
        0,
        "XYZ"
       ],
       "scale": [
        1,
        1,
        1
       ],
       "size": 1,
       "type": "AxesHelper",
       "up": [
        0,
        1,
        0
       ],
       "visible": true
      }
     },
     "a690bc54d90c43409cb3d244d8fb04ef": {
      "model_module": "@jupyter-widgets/base",
      "model_module_version": "1.2.0",
      "model_name": "LayoutModel",
      "state": {
       "_model_module": "@jupyter-widgets/base",
       "_model_module_version": "1.2.0",
       "_model_name": "LayoutModel",
       "_view_count": null,
       "_view_module": "@jupyter-widgets/base",
       "_view_module_version": "1.2.0",
       "_view_name": "LayoutView",
       "align_content": null,
       "align_items": null,
       "align_self": null,
       "border": null,
       "bottom": null,
       "display": null,
       "flex": null,
       "flex_flow": null,
       "grid_area": null,
       "grid_auto_columns": null,
       "grid_auto_flow": null,
       "grid_auto_rows": null,
       "grid_column": null,
       "grid_gap": null,
       "grid_row": null,
       "grid_template_areas": null,
       "grid_template_columns": null,
       "grid_template_rows": null,
       "height": null,
       "justify_content": null,
       "justify_items": null,
       "left": null,
       "margin": null,
       "max_height": null,
       "max_width": null,
       "min_height": null,
       "min_width": null,
       "object_fit": null,
       "object_position": null,
       "order": null,
       "overflow": null,
       "overflow_x": null,
       "overflow_y": null,
       "padding": null,
       "right": null,
       "top": null,
       "visibility": null,
       "width": null
      }
     },
     "b30856cd07844fb2acd798d446a0b1f5": {
      "model_module": "jupyter-threejs",
      "model_module_version": "^2.1.0",
      "model_name": "RendererModel",
      "state": {
       "_alpha": false,
       "_antialias": false,
       "_dom_classes": [],
       "_height": 400,
       "_model_module": "jupyter-threejs",
       "_model_module_version": "^2.1.0",
       "_model_name": "RendererModel",
       "_pause_autorender": false,
       "_view_count": null,
       "_view_module": "jupyter-threejs",
       "_view_module_version": "^2.1.0",
       "_view_name": "RendererView",
       "_webgl_version": 2,
       "_width": 600,
       "autoClear": true,
       "autoClearColor": true,
       "autoClearDepth": true,
       "autoClearStencil": true,
       "background": "black",
       "background_opacity": 1,
       "camera": "IPY_MODEL_15e2ba3b02644ac6934f30a81f2e762a",
       "clearColor": "#000000",
       "clearOpacity": 1,
       "clippingPlanes": [],
       "controls": [
        "IPY_MODEL_3f5c17a3d3e34f86b8a2066054b4ed41"
       ],
       "gammaFactor": 2,
       "gammaInput": false,
       "gammaOutput": false,
       "layout": "IPY_MODEL_ba11f576629c433880a39fe72c770999",
       "localClippingEnabled": false,
       "maxMorphNormals": 4,
       "maxMorphTargets": 8,
       "physicallyCorrectLights": false,
       "scene": "IPY_MODEL_8ff00fe1d37f47b894b035d00159af61",
       "shadowMap": "IPY_MODEL_92d35475d1e64926a1a6118e3b9d69e6",
       "sortObject": true,
       "toneMapping": "LinearToneMapping",
       "toneMappingExposure": 1,
       "toneMappingWhitePoint": 1
      }
     },
     "b7a3fda92d2945ae95ba61023695aa53": {
      "model_module": "jupyter-threejs",
      "model_module_version": "^2.1.0",
      "model_name": "RendererModel",
      "state": {
       "_alpha": false,
       "_antialias": false,
       "_dom_classes": [],
       "_height": 400,
       "_model_module": "jupyter-threejs",
       "_model_module_version": "^2.1.0",
       "_model_name": "RendererModel",
       "_pause_autorender": false,
       "_view_count": null,
       "_view_module": "jupyter-threejs",
       "_view_module_version": "^2.1.0",
       "_view_name": "RendererView",
       "_webgl_version": 2,
       "_width": 600,
       "autoClear": true,
       "autoClearColor": true,
       "autoClearDepth": true,
       "autoClearStencil": true,
       "background": "black",
       "background_opacity": 1,
       "camera": "IPY_MODEL_155725b74b1940a3a4f31700528ca9cd",
       "clearColor": "#000000",
       "clearOpacity": 1,
       "clippingPlanes": [],
       "controls": [
        "IPY_MODEL_2ef5c310dc5940b28fd7d7c6363e78e6"
       ],
       "gammaFactor": 2,
       "gammaInput": false,
       "gammaOutput": false,
       "layout": "IPY_MODEL_a690bc54d90c43409cb3d244d8fb04ef",
       "localClippingEnabled": false,
       "maxMorphNormals": 4,
       "maxMorphTargets": 8,
       "physicallyCorrectLights": false,
       "scene": "IPY_MODEL_7c524a1bd1ed4b719dfe1265aba752a3",
       "shadowMap": "IPY_MODEL_e440424dc9cb4a4fbfe9ab601b3d4cfa",
       "sortObject": true,
       "toneMapping": "LinearToneMapping",
       "toneMappingExposure": 1,
       "toneMappingWhitePoint": 1
      }
     },
     "ba11f576629c433880a39fe72c770999": {
      "model_module": "@jupyter-widgets/base",
      "model_module_version": "1.2.0",
      "model_name": "LayoutModel",
      "state": {
       "_model_module": "@jupyter-widgets/base",
       "_model_module_version": "1.2.0",
       "_model_name": "LayoutModel",
       "_view_count": null,
       "_view_module": "@jupyter-widgets/base",
       "_view_module_version": "1.2.0",
       "_view_name": "LayoutView",
       "align_content": null,
       "align_items": null,
       "align_self": null,
       "border": null,
       "bottom": null,
       "display": null,
       "flex": null,
       "flex_flow": null,
       "grid_area": null,
       "grid_auto_columns": null,
       "grid_auto_flow": null,
       "grid_auto_rows": null,
       "grid_column": null,
       "grid_gap": null,
       "grid_row": null,
       "grid_template_areas": null,
       "grid_template_columns": null,
       "grid_template_rows": null,
       "height": null,
       "justify_content": null,
       "justify_items": null,
       "left": null,
       "margin": null,
       "max_height": null,
       "max_width": null,
       "min_height": null,
       "min_width": null,
       "object_fit": null,
       "object_position": null,
       "order": null,
       "overflow": null,
       "overflow_x": null,
       "overflow_y": null,
       "padding": null,
       "right": null,
       "top": null,
       "visibility": null,
       "width": null
      }
     },
     "bb97601b59e94747990b9e138c4610be": {
      "model_module": "jupyter-threejs",
      "model_module_version": "^2.1.0",
      "model_name": "AxesHelperModel",
      "state": {
       "_model_module": "jupyter-threejs",
       "_model_module_version": "^2.1.0",
       "_model_name": "AxesHelperModel",
       "_view_count": null,
       "_view_module": null,
       "_view_module_version": "",
       "_view_name": null,
       "castShadow": false,
       "children": [],
       "frustumCulled": true,
       "matrix": [
        1,
        0,
        0,
        0,
        0,
        1,
        0,
        0,
        0,
        0,
        1,
        0,
        0,
        0,
        0,
        1
       ],
       "matrixAutoUpdate": true,
       "matrixWorld": [
        1,
        0,
        0,
        0,
        0,
        1,
        0,
        0,
        0,
        0,
        1,
        0,
        0,
        0,
        0,
        1
       ],
       "matrixWorldNeedsUpdate": false,
       "modelViewMatrix": [
        1,
        0,
        0,
        0,
        0,
        1,
        0,
        0,
        0,
        0,
        1,
        0,
        0,
        0,
        0,
        1
       ],
       "name": "",
       "normalMatrix": [
        1,
        0,
        0,
        0,
        1,
        0,
        0,
        0,
        1
       ],
       "position": [
        0,
        0,
        0
       ],
       "quaternion": [
        0,
        0,
        0,
        1
       ],
       "receiveShadow": false,
       "renderOrder": 0,
       "rotation": [
        0,
        0,
        0,
        "XYZ"
       ],
       "scale": [
        1,
        1,
        1
       ],
       "size": 1,
       "type": "AxesHelper",
       "up": [
        0,
        1,
        0
       ],
       "visible": true
      }
     },
     "d2b1da6f56764604b0d51272f5eccb0c": {
      "model_module": "jupyter-threejs",
      "model_module_version": "^2.1.0",
      "model_name": "AxesHelperModel",
      "state": {
       "_model_module": "jupyter-threejs",
       "_model_module_version": "^2.1.0",
       "_model_name": "AxesHelperModel",
       "_view_count": null,
       "_view_module": null,
       "_view_module_version": "",
       "_view_name": null,
       "castShadow": false,
       "children": [],
       "frustumCulled": true,
       "matrix": [
        1,
        0,
        0,
        0,
        0,
        1,
        0,
        0,
        0,
        0,
        1,
        0,
        0,
        0,
        0,
        1
       ],
       "matrixAutoUpdate": true,
       "matrixWorld": [
        1,
        0,
        0,
        0,
        0,
        1,
        0,
        0,
        0,
        0,
        1,
        0,
        0,
        0,
        0,
        1
       ],
       "matrixWorldNeedsUpdate": false,
       "modelViewMatrix": [
        1,
        0,
        0,
        0,
        0,
        1,
        0,
        0,
        0,
        0,
        1,
        0,
        0,
        0,
        0,
        1
       ],
       "name": "",
       "normalMatrix": [
        1,
        0,
        0,
        0,
        1,
        0,
        0,
        0,
        1
       ],
       "position": [
        0,
        0,
        0
       ],
       "quaternion": [
        0,
        0,
        0,
        1
       ],
       "receiveShadow": false,
       "renderOrder": 0,
       "rotation": [
        0,
        0,
        0,
        "XYZ"
       ],
       "scale": [
        1,
        1,
        1
       ],
       "size": 1,
       "type": "AxesHelper",
       "up": [
        0,
        1,
        0
       ],
       "visible": true
      }
     },
     "dc5845b91eda4098b9aec3c01913b732": {
      "model_module": "jupyter-threejs",
      "model_module_version": "^2.1.0",
      "model_name": "WebGLShadowMapModel",
      "state": {
       "_model_module": "jupyter-threejs",
       "_model_module_version": "^2.1.0",
       "_model_name": "WebGLShadowMapModel",
       "_view_count": null,
       "_view_module": null,
       "_view_module_version": "",
       "_view_name": null,
       "enabled": false,
       "type": "PCFShadowMap"
      }
     },
     "e3f0fe1aa9f4446a9b08bbc3758a1712": {
      "model_module": "jupyter-threejs",
      "model_module_version": "^2.1.0",
      "model_name": "CylinderGeometryModel",
      "state": {
       "_model_module": "jupyter-threejs",
       "_model_module_version": "^2.1.0",
       "_model_name": "CylinderGeometryModel",
       "_view_count": null,
       "_view_module": null,
       "_view_module_version": "",
       "_view_name": null,
       "height": 0.6,
       "heightSegments": 1,
       "name": "",
       "openEnded": false,
       "radialSegments": 8,
       "radiusBottom": 0.03,
       "radiusTop": 0.03,
       "thetaLength": 6.283185307179586,
       "thetaStart": 0,
       "type": "CylinderGeometry"
      }
     },
     "e440424dc9cb4a4fbfe9ab601b3d4cfa": {
      "model_module": "jupyter-threejs",
      "model_module_version": "^2.1.0",
      "model_name": "WebGLShadowMapModel",
      "state": {
       "_model_module": "jupyter-threejs",
       "_model_module_version": "^2.1.0",
       "_model_name": "WebGLShadowMapModel",
       "_view_count": null,
       "_view_module": null,
       "_view_module_version": "",
       "_view_name": null,
       "enabled": false,
       "type": "PCFShadowMap"
      }
     },
     "e7e9a9e0e3ad4d25adbeb5342841187c": {
      "model_module": "jupyter-threejs",
      "model_module_version": "^2.1.0",
      "model_name": "PreviewModel",
      "state": {
       "_alpha": false,
       "_antialias": false,
       "_dom_classes": [],
       "_flat": false,
       "_height": 200,
       "_model_module": "jupyter-threejs",
       "_model_module_version": "^2.1.0",
       "_model_name": "PreviewModel",
       "_view_count": null,
       "_view_module": "jupyter-threejs",
       "_view_module_version": "^2.1.0",
       "_view_name": "PreviewView",
       "_webgl_version": 2,
       "_width": 200,
       "_wire": false,
       "autoClear": true,
       "autoClearColor": true,
       "autoClearDepth": true,
       "autoClearStencil": true,
       "child": "IPY_MODEL_2779b83886314bb18db01530f9c24f56",
       "clearColor": "#000000",
       "clearOpacity": 1,
       "clippingPlanes": [],
       "gammaFactor": 2,
       "gammaInput": false,
       "gammaOutput": false,
       "layout": "IPY_MODEL_8088231e1b514e33bd6badf0b9d864a9",
       "localClippingEnabled": false,
       "maxMorphNormals": 4,
       "maxMorphTargets": 8,
       "physicallyCorrectLights": false,
       "shadowMap": "IPY_MODEL_dc5845b91eda4098b9aec3c01913b732",
       "sortObject": true,
       "toneMapping": "LinearToneMapping",
       "toneMappingExposure": 1,
       "toneMappingWhitePoint": 1
      }
     },
     "ea05e0c9829246c9a246f6b0f388cb9a": {
      "model_module": "jupyter-threejs",
      "model_module_version": "^2.1.0",
      "model_name": "AnimationClipModel",
      "state": {
       "_model_module": "jupyter-threejs",
       "_model_module_version": "^2.1.0",
       "_model_name": "AnimationClipModel",
       "_view_count": null,
       "_view_module": null,
       "_view_module_version": "",
       "_view_name": null,
       "duration": 10,
       "name": null,
       "tracks": [
        "IPY_MODEL_469437175ec44e72a3a5108a23f7c489",
        "IPY_MODEL_84fe1e0613844821ab8d17159fe0fc3a",
        "IPY_MODEL_9dc6b6a845324803ac386a57e630eb8d"
       ]
      }
     },
     "ecfae5c5454949e1a343f32c8871ebf0": {
      "model_module": "@jupyter-widgets/base",
      "model_module_version": "1.2.0",
      "model_name": "LayoutModel",
      "state": {
       "_model_module": "@jupyter-widgets/base",
       "_model_module_version": "1.2.0",
       "_model_name": "LayoutModel",
       "_view_count": null,
       "_view_module": "@jupyter-widgets/base",
       "_view_module_version": "1.2.0",
       "_view_name": "LayoutView",
       "align_content": null,
       "align_items": null,
       "align_self": null,
       "border": null,
       "bottom": null,
       "display": null,
       "flex": null,
       "flex_flow": null,
       "grid_area": null,
       "grid_auto_columns": null,
       "grid_auto_flow": null,
       "grid_auto_rows": null,
       "grid_column": null,
       "grid_gap": null,
       "grid_row": null,
       "grid_template_areas": null,
       "grid_template_columns": null,
       "grid_template_rows": null,
       "height": null,
       "justify_content": null,
       "justify_items": null,
       "left": null,
       "margin": null,
       "max_height": null,
       "max_width": null,
       "min_height": null,
       "min_width": null,
       "object_fit": null,
       "object_position": null,
       "order": null,
       "overflow": null,
       "overflow_x": null,
       "overflow_y": null,
       "padding": null,
       "right": null,
       "top": null,
       "visibility": null,
       "width": null
      }
     }
    },
    "version_major": 2,
    "version_minor": 0
   }
  }
 },
 "nbformat": 4,
 "nbformat_minor": 5
}
