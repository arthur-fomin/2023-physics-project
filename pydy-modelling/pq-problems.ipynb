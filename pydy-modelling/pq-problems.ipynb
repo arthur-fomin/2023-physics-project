{
 "cells": [
  {
   "cell_type": "code",
   "execution_count": 1,
   "metadata": {},
   "outputs": [],
   "source": [
    "import numpy as np\n",
    "\n",
    "%load_ext PhysicalQuantities.ipython\n",
    "#from PhysicalQuantities import q, QA \n"
   ]
  },
  {
   "cell_type": "code",
   "execution_count": 2,
   "metadata": {},
   "outputs": [
    {
     "data": {
      "text/latex": [
       "1.6 mm^2 $\\text{kg}$"
      ],
      "text/markdown": [
       "1.6 mm^2 $\\text{kg}$"
      ],
      "text/plain": [
       "1.6 mm^2 kg"
      ]
     },
     "execution_count": 2,
     "metadata": {},
     "output_type": "execute_result"
    }
   ],
   "source": [
    "m = 1 kg\n",
    "l = 2 mm\n",
    "l2 = l*l\n",
    "Ps = np.array([[l2, 2*l2], \n",
    "               [3*l2, 4*l2]]) * m * 2/5\n",
    "Ps[0,0]"
   ]
  },
  {
   "cell_type": "code",
   "execution_count": 3,
   "metadata": {},
   "outputs": [
    {
     "data": {
      "text/plain": [
       "(<PhysicalUnit kg>, <PhysicalUnit kg>, 1.6 mm^2 kg)"
      ]
     },
     "execution_count": 3,
     "metadata": {},
     "output_type": "execute_result"
    }
   ],
   "source": [
    "Ps.unit, Ps[0,0].unit, Ps[0,0]\n",
    "\n",
    "# to('mm**2*kg')"
   ]
  },
  {
   "cell_type": "code",
   "execution_count": 4,
   "metadata": {},
   "outputs": [
    {
     "ename": "UnitError",
     "evalue": "Incompatible unit for conversion from kg to mm^2*kg",
     "output_type": "error",
     "traceback": [
      "\u001b[0;31m---------------------------------------------------------------------------\u001b[0m",
      "\u001b[0;31mUnitError\u001b[0m                                 Traceback (most recent call last)",
      "\u001b[1;32m/var/data/cocalc/c48d6f16-2998-46dd-b339-93dcd2815b5e/2023-physics-project/pydy-modelling/pq-problems.ipynb Cell 4\u001b[0m line \u001b[0;36m1\n\u001b[0;32m----> <a href='vscode-notebook-cell://xn--28-6kce2c.xn--80apqgfe.xn--p1ai/var/data/cocalc/c48d6f16-2998-46dd-b339-93dcd2815b5e/2023-physics-project/pydy-modelling/pq-problems.ipynb#W3sdnNjb2RlLXJlbW90ZQ%3D%3D?line=0'>1</a>\u001b[0m Ps[\u001b[39m0\u001b[39;49m,\u001b[39m0\u001b[39;49m]\u001b[39m.\u001b[39;49mto(\u001b[39m'\u001b[39;49m\u001b[39mmm**2*kg\u001b[39;49m\u001b[39m'\u001b[39;49m)\n",
      "File \u001b[0;32m~/2023-physics-project/pydy-modelling/.venv/lib64/python3.11/site-packages/PhysicalQuantities/quantity.py:626\u001b[0m, in \u001b[0;36mPhysicalQuantity.to\u001b[0;34m(self, *units)\u001b[0m\n\u001b[1;32m    624\u001b[0m \u001b[39mif\u001b[39;00m \u001b[39mlen\u001b[39m(units) \u001b[39m==\u001b[39m \u001b[39m1\u001b[39m:\n\u001b[1;32m    625\u001b[0m     unit \u001b[39m=\u001b[39m units[\u001b[39m0\u001b[39m]\n\u001b[0;32m--> 626\u001b[0m     value \u001b[39m=\u001b[39m convertvalue(\u001b[39mself\u001b[39;49m\u001b[39m.\u001b[39;49mvalue, \u001b[39mself\u001b[39;49m\u001b[39m.\u001b[39;49munit, unit)\n\u001b[1;32m    627\u001b[0m     \u001b[39mreturn\u001b[39;00m \u001b[39mself\u001b[39m\u001b[39m.\u001b[39m\u001b[39m__class__\u001b[39m(value, unit)\n\u001b[1;32m    628\u001b[0m \u001b[39melse\u001b[39;00m:\n",
      "File \u001b[0;32m~/2023-physics-project/pydy-modelling/.venv/lib64/python3.11/site-packages/PhysicalQuantities/unit.py:863\u001b[0m, in \u001b[0;36mconvertvalue\u001b[0;34m(value, src_unit, target_unit)\u001b[0m\n\u001b[1;32m    840\u001b[0m \u001b[39mdef\u001b[39;00m \u001b[39mconvertvalue\u001b[39m(value, src_unit, target_unit):\n\u001b[1;32m    841\u001b[0m \u001b[39m    \u001b[39m\u001b[39m\"\"\" Convert between units, if possible\u001b[39;00m\n\u001b[1;32m    842\u001b[0m \n\u001b[1;32m    843\u001b[0m \u001b[39m    Parameters\u001b[39;00m\n\u001b[0;32m   (...)\u001b[0m\n\u001b[1;32m    861\u001b[0m \u001b[39m    1e-06\u001b[39;00m\n\u001b[1;32m    862\u001b[0m \u001b[39m    \"\"\"\u001b[39;00m\n\u001b[0;32m--> 863\u001b[0m     (factor, offset) \u001b[39m=\u001b[39m src_unit\u001b[39m.\u001b[39;49mconversion_tuple_to(target_unit)\n\u001b[1;32m    864\u001b[0m     \u001b[39mif\u001b[39;00m \u001b[39misinstance\u001b[39m(value, \u001b[39mlist\u001b[39m):\n\u001b[1;32m    865\u001b[0m         \u001b[39mraise\u001b[39;00m UnitError(\u001b[39m'\u001b[39m\u001b[39mCannot convert units for a list\u001b[39m\u001b[39m'\u001b[39m)\n",
      "File \u001b[0;32m~/2023-physics-project/pydy-modelling/.venv/lib64/python3.11/site-packages/PhysicalQuantities/unit.py:570\u001b[0m, in \u001b[0;36mPhysicalUnit.conversion_tuple_to\u001b[0;34m(self, other)\u001b[0m\n\u001b[1;32m    551\u001b[0m \u001b[39m\u001b[39m\u001b[39m\"\"\"Return conversion factor and offset to another unit\u001b[39;00m\n\u001b[1;32m    552\u001b[0m \n\u001b[1;32m    553\u001b[0m \u001b[39mParameters\u001b[39;00m\n\u001b[0;32m   (...)\u001b[0m\n\u001b[1;32m    567\u001b[0m \u001b[39m(1000.0, 0.0)\u001b[39;00m\n\u001b[1;32m    568\u001b[0m \u001b[39m\"\"\"\u001b[39;00m\n\u001b[1;32m    569\u001b[0m \u001b[39mif\u001b[39;00m \u001b[39mself\u001b[39m\u001b[39m.\u001b[39mpowers \u001b[39m!=\u001b[39m other\u001b[39m.\u001b[39mpowers:\n\u001b[0;32m--> 570\u001b[0m     \u001b[39mraise\u001b[39;00m UnitError(\u001b[39mf\u001b[39m\u001b[39m'\u001b[39m\u001b[39mIncompatible unit for conversion from \u001b[39m\u001b[39m{\u001b[39;00m\u001b[39mself\u001b[39m\u001b[39m}\u001b[39;00m\u001b[39m to \u001b[39m\u001b[39m{\u001b[39;00mother\u001b[39m}\u001b[39;00m\u001b[39m'\u001b[39m)\n\u001b[1;32m    572\u001b[0m \u001b[39m# let (s1,d1) be the conversion tuple from 'self' to base units\u001b[39;00m\n\u001b[1;32m    573\u001b[0m \u001b[39m#   (ie. (x+d1)*s1 converts a value x from 'self' to base units,\u001b[39;00m\n\u001b[1;32m    574\u001b[0m \u001b[39m#   and (x/s1)-d1 converts x from base to 'self' units)\u001b[39;00m\n\u001b[0;32m   (...)\u001b[0m\n\u001b[1;32m    585\u001b[0m \u001b[39m#   = (x + d1 - d2*s2/s1) * s1/s2\u001b[39;00m\n\u001b[1;32m    586\u001b[0m \u001b[39m# thus, D = d1 - d2*s2/s1 and S = s1/s2\u001b[39;00m\n\u001b[1;32m    587\u001b[0m factor \u001b[39m=\u001b[39m \u001b[39mself\u001b[39m\u001b[39m.\u001b[39mfactor \u001b[39m/\u001b[39m other\u001b[39m.\u001b[39mfactor\n",
      "\u001b[0;31mUnitError\u001b[0m: Incompatible unit for conversion from kg to mm^2*kg"
     ]
    }
   ],
   "source": [
    "Ps[0,0].to('mm**2*kg')"
   ]
  }
 ],
 "metadata": {
  "kernelspec": {
   "display_name": "Python 3 (ipykernel)",
   "language": "python",
   "name": "python3"
  },
  "language_info": {
   "codemirror_mode": {
    "name": "ipython",
    "version": 3
   },
   "file_extension": ".py",
   "mimetype": "text/x-python",
   "name": "python",
   "nbconvert_exporter": "python",
   "pygments_lexer": "ipython3",
   "version": "3.11.6"
  }
 },
 "nbformat": 4,
 "nbformat_minor": 4
}
