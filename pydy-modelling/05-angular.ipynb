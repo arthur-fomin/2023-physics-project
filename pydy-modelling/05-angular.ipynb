{
 "cells": [
  {
   "cell_type": "markdown",
   "id": "1acf9e06",
   "metadata": {},
   "source": [
    "## Угловая кинематика "
   ]
  },
  {
   "cell_type": "code",
   "execution_count": 1,
   "id": "ee988a44",
   "metadata": {
    "execution": {
     "iopub.execute_input": "2023-06-28T09:14:24.690109Z",
     "iopub.status.busy": "2023-06-28T09:14:24.689439Z",
     "iopub.status.idle": "2023-06-28T09:14:25.313438Z",
     "shell.execute_reply": "2023-06-28T09:14:25.312553Z"
    }
   },
   "outputs": [],
   "source": [
    "import sympy as sm\n",
    "import sympy.physics.mechanics as me\n",
    "me.init_vprinting(use_latex='mathjax')"
   ]
  },
  {
   "cell_type": "code",
   "execution_count": 2,
   "id": "58ed0845",
   "metadata": {
    "execution": {
     "iopub.execute_input": "2023-06-28T09:14:25.316865Z",
     "iopub.status.busy": "2023-06-28T09:14:25.316548Z",
     "iopub.status.idle": "2023-06-28T09:14:25.323661Z",
     "shell.execute_reply": "2023-06-28T09:14:25.322893Z"
    }
   },
   "outputs": [],
   "source": [
    "# class ReferenceFrame(me.ReferenceFrame):\n",
    "\n",
    "#     def __init__(self, *args, **kwargs):\n",
    "\n",
    "#         kwargs.pop('latexs', None)\n",
    "\n",
    "#         lab = args[0].lower()\n",
    "#         tex = r'\\hat{{{}}}_{}'\n",
    "\n",
    "#         super(ReferenceFrame, self).__init__(*args,\n",
    "#                                              latexs=(tex.format(lab, 'x'),\n",
    "#                                                      tex.format(lab, 'y'),\n",
    "#                                                      tex.format(lab, 'z')),\n",
    "#                                              **kwargs)\n",
    "# me.ReferenceFrame = ReferenceFrame"
   ]
  },
  {
   "cell_type": "markdown",
   "id": "181b3d5d",
   "metadata": {},
   "source": [
    "Чтобы применить [законы движения Эйлера](https://en.wikipedia.org/wiki/Euler%27s_laws_of_motion) к системе многих тел, нам нужно будет определить, как [изменяется момент импульса](https://en.wikipedia.org/wiki/Angular_momentum) каждого твердого тела со временем. \n",
    "\n",
    "Для этого необходимо указать угловую кинематику каждого тела в система: обычно как угловая скорость, так и угловое ускорение. При условии, что система отсчета прикреплена к твердому телу, начнем с нахождения угловой кинематики одной системы отсчета, а затем использовать свойства последовательной ориентации систем отсчета для определения угловой кинематики в других, связанных системах отсчета.\n",
    "\n",
    "[На видео](https://upload.wikimedia.org/wikipedia/commons/b/be/Dzhanibekov_effect.ogv) показана небольшая Т-образная ручка, вращающаяся на низкой околоземной орбите в невесомости на борту МКС. Это  твердое тело имеет ориентация, угловая скорость и угловое ускорение в любой момент времени времени.\n",
    "\n",
    "Т-образная рукоятка совершает неинтуитивное движение, периодически поворачиваясь вперед и назад. Это явление принято называть «[Эффектом Джанибекова](https://ru.wikipedia.org/wiki/%D0%AD%D1%84%D1%84%D0%B5%D0%BA%D1%82_%D0%94%D0%B6%D0%B0%D0%BD%D0%B8%D0%B1%D0%B5%D0%BA%D0%BE%D0%B2%D0%B0)» и законы движения Эйлера предсказывают поведение, которое мы будем исследовать дальше.. Сейчас мы научимся указывать угловую кинематику движущейся системы отсчета, например, фиксированной к этой Т-образная ручке.\n"
   ]
  },
  {
   "cell_type": "markdown",
   "id": "9d53baa4",
   "metadata": {},
   "source": [
    "Если взаимная ориентация двух системы отсчета меняются во времени, тогда мы можем вычислить угловой скорость ${}^A\\bar{\\omega}^B$ системы отсчета «B», наблюдаемой из системы отсчета «A». \n",
    "\n",
    "Если $\\hat{b}_x,\\hat{b}_y,\\hat{b}_z$ — правосторонние взаимно перпендикулярные единичные векторы, фиксированные в «B», тогда угловая скорость «B» в «A» определяется как \n",
    "\n",
    "$\n",
    "   {}^A\\bar{\\omega}^B :=\n",
    "   \\left(\\frac{{}^A d\\hat{b}_y}{dt} \\cdot \\hat{b}_z\\right) \\hat{b}_x +\n",
    "   \\left(\\frac{{}^A d\\hat{b}_z}{dt} \\cdot \\hat{b}_x\\right) \\hat{b}_y +\n",
    "   \\left(\\frac{{}^A d\\hat{b}_x}{dt} \\cdot \\hat{b}_y\\right) \\hat{b}_z\n",
    "   \\textrm{.}\n",
    "$\n",
    "\n",
    "Если «B» ориентирован относительно «A» и взаимно перпендикулярны единичные векторы $\\hat{a}_x,\\hat{a}_y,\\hat{a}_z$ зафиксированы в «A» то существуют единичными векторами каждой системы отсчета:\n",
    "\n",
    "\\begin{align*}\n",
    "\\hat{b}_x & = c_{xx} \\hat{a}_x + c_{xy} \\hat{a}_y + c_{xz} \\hat{a}_z \\\\\n",
    "   \\hat{b}_y & = c_{yx} \\hat{a}_x + c_{yy} \\hat{a}_y + c_{yz} \\hat{a}_z \\\\\n",
    "   \\hat{b}_z & = c_{zx} \\hat{a}_x + c_{zy} \\hat{a}_y + c_{zz} \\hat{a}_z\n",
    "\\end{align*}\n",
    "\n"
   ]
  },
  {
   "cell_type": "code",
   "execution_count": 3,
   "id": "8c7002f3",
   "metadata": {
    "execution": {
     "iopub.execute_input": "2023-06-28T09:14:25.326554Z",
     "iopub.status.busy": "2023-06-28T09:14:25.326301Z",
     "iopub.status.idle": "2023-06-28T09:14:25.335388Z",
     "shell.execute_reply": "2023-06-28T09:14:25.334475Z"
    }
   },
   "outputs": [],
   "source": [
    "cxx, cyy, czz = me.dynamicsymbols('c_{xx} c_{yy} c_{zz}')\n",
    "cxy, cxz, cyx = me.dynamicsymbols('c_{xy} c_{xz} c_{yx}')\n",
    "cyz, czx, czy = me.dynamicsymbols('c_{yz} c_{zx} c_{zy}')\n",
    "\n",
    "B_C_A = sm.Matrix([ [cxx, cxy, cxz],\n",
    "                    [cyx, cyy, cyz],\n",
    "                    [czx, czy, czz]])"
   ]
  },
  {
   "cell_type": "code",
   "execution_count": 4,
   "id": "5c23a400",
   "metadata": {
    "execution": {
     "iopub.execute_input": "2023-06-28T09:14:25.338233Z",
     "iopub.status.busy": "2023-06-28T09:14:25.337973Z",
     "iopub.status.idle": "2023-06-28T09:14:25.373087Z",
     "shell.execute_reply": "2023-06-28T09:14:25.372312Z"
    }
   },
   "outputs": [
    {
     "data": {
      "text/latex": [
       "$\\displaystyle \\left[\\begin{matrix}c_{xx} & c_{xy} & c_{xz}\\\\c_{yx} & c_{yy} & c_{yz}\\\\c_{zx} & c_{zy} & c_{zz}\\end{matrix}\\right]$"
      ],
      "text/plain": [
       "⎡c_{xx}  c_{xy}  c_{xz}⎤\n",
       "⎢                      ⎥\n",
       "⎢c_{yx}  c_{yy}  c_{yz}⎥\n",
       "⎢                      ⎥\n",
       "⎣c_{zx}  c_{zy}  c_{zz}⎦"
      ]
     },
     "execution_count": 4,
     "metadata": {},
     "output_type": "execute_result"
    }
   ],
   "source": [
    "A = me.ReferenceFrame('A')\n",
    "B = me.ReferenceFrame('B')\n",
    "B.orient_explicit(A, B_C_A.transpose())\n",
    "B.dcm(A)"
   ]
  },
  {
   "cell_type": "markdown",
   "id": "b22cef94",
   "metadata": {},
   "source": [
    "Теперь давайте напишем базис «B» в терминах базиса «A»: "
   ]
  },
  {
   "cell_type": "code",
   "execution_count": 5,
   "id": "1e857ef3",
   "metadata": {
    "execution": {
     "iopub.execute_input": "2023-06-28T09:14:25.376868Z",
     "iopub.status.busy": "2023-06-28T09:14:25.376620Z",
     "iopub.status.idle": "2023-06-28T09:14:25.382992Z",
     "shell.execute_reply": "2023-06-28T09:14:25.382208Z"
    }
   },
   "outputs": [
    {
     "data": {
      "text/latex": [
       "$\\displaystyle c_{xx}\\mathbf{\\hat{a}_x} + c_{xy}\\mathbf{\\hat{a}_y} + c_{xz}\\mathbf{\\hat{a}_z}$"
      ],
      "text/plain": [
       "c_{xx} a_x + c_{xy} a_y + c_{xz} a_z"
      ]
     },
     "execution_count": 5,
     "metadata": {},
     "output_type": "execute_result"
    }
   ],
   "source": [
    "B.x.express(A)"
   ]
  },
  {
   "cell_type": "code",
   "execution_count": 6,
   "id": "4789dcb6",
   "metadata": {
    "execution": {
     "iopub.execute_input": "2023-06-28T09:14:25.386980Z",
     "iopub.status.busy": "2023-06-28T09:14:25.386710Z",
     "iopub.status.idle": "2023-06-28T09:14:25.393146Z",
     "shell.execute_reply": "2023-06-28T09:14:25.392342Z"
    }
   },
   "outputs": [
    {
     "data": {
      "text/latex": [
       "$\\displaystyle c_{yx}\\mathbf{\\hat{a}_x} + c_{yy}\\mathbf{\\hat{a}_y} + c_{yz}\\mathbf{\\hat{a}_z}$"
      ],
      "text/plain": [
       "c_{yx} a_x + c_{yy} a_y + c_{yz} a_z"
      ]
     },
     "execution_count": 6,
     "metadata": {},
     "output_type": "execute_result"
    }
   ],
   "source": [
    "B.y.express(A)"
   ]
  },
  {
   "cell_type": "code",
   "execution_count": 7,
   "id": "67ce35ce",
   "metadata": {
    "execution": {
     "iopub.execute_input": "2023-06-28T09:14:25.396816Z",
     "iopub.status.busy": "2023-06-28T09:14:25.396569Z",
     "iopub.status.idle": "2023-06-28T09:14:25.402883Z",
     "shell.execute_reply": "2023-06-28T09:14:25.402095Z"
    }
   },
   "outputs": [
    {
     "data": {
      "text/latex": [
       "$\\displaystyle c_{zx}\\mathbf{\\hat{a}_x} + c_{zy}\\mathbf{\\hat{a}_y} + c_{zz}\\mathbf{\\hat{a}_z}$"
      ],
      "text/plain": [
       "c_{zx} a_x + c_{zy} a_y + c_{zz} a_z"
      ]
     },
     "execution_count": 7,
     "metadata": {},
     "output_type": "execute_result"
    }
   ],
   "source": [
    "B.z.express(A)"
   ]
  },
  {
   "cell_type": "markdown",
   "id": "285dead8",
   "metadata": {},
   "source": [
    "Вспоминая приведенное выше определение угловой скорости, каждое из коэффициентов угловой скорости вычисляется путем расстановки точек над производной базисного вектора «B» в «A». \n",
    "\n",
    "Например $\\frac{{}^A \\hat{b}_y}{dt}$:"
   ]
  },
  {
   "cell_type": "code",
   "execution_count": 8,
   "id": "dd4e7dc1",
   "metadata": {
    "execution": {
     "iopub.execute_input": "2023-06-28T09:14:25.406782Z",
     "iopub.status.busy": "2023-06-28T09:14:25.406529Z",
     "iopub.status.idle": "2023-06-28T09:14:25.416456Z",
     "shell.execute_reply": "2023-06-28T09:14:25.415624Z"
    }
   },
   "outputs": [
    {
     "data": {
      "text/latex": [
       "$\\displaystyle \\dot{c}_{yx}\\mathbf{\\hat{a}_x} + \\dot{c}_{yy}\\mathbf{\\hat{a}_y} + \\dot{c}_{yz}\\mathbf{\\hat{a}_z}$"
      ],
      "text/plain": [
       "c_{ẏx} a_x + c_{ẏy} a_y + c_{ẏz} a_z"
      ]
     },
     "execution_count": 8,
     "metadata": {},
     "output_type": "execute_result"
    }
   ],
   "source": [
    "B.y.express(A).dt(A)"
   ]
  },
  {
   "cell_type": "code",
   "execution_count": 9,
   "id": "1f510184",
   "metadata": {
    "execution": {
     "iopub.execute_input": "2023-06-28T09:14:25.420536Z",
     "iopub.status.busy": "2023-06-28T09:14:25.419889Z",
     "iopub.status.idle": "2023-06-28T09:14:25.434270Z",
     "shell.execute_reply": "2023-06-28T09:14:25.433466Z"
    }
   },
   "outputs": [
    {
     "data": {
      "text/latex": [
       "$\\displaystyle c_{zx} \\dot{c}_{yx} + c_{zy} \\dot{c}_{yy} + c_{zz} \\dot{c}_{yz}$"
      ],
      "text/plain": [
       "c_{zx}⋅c_{ẏx} + c_{zy}⋅c_{ẏy} + c_{zz}⋅c_{ẏz}"
      ]
     },
     "execution_count": 9,
     "metadata": {},
     "output_type": "execute_result"
    }
   ],
   "source": [
    "mnx = me.dot(B.y.express(A).dt(A), B.z)\n",
    "mnx"
   ]
  },
  {
   "cell_type": "code",
   "execution_count": 10,
   "id": "b2f326e7",
   "metadata": {
    "execution": {
     "iopub.execute_input": "2023-06-28T09:14:25.438063Z",
     "iopub.status.busy": "2023-06-28T09:14:25.437782Z",
     "iopub.status.idle": "2023-06-28T09:14:25.452741Z",
     "shell.execute_reply": "2023-06-28T09:14:25.451366Z"
    }
   },
   "outputs": [
    {
     "data": {
      "text/latex": [
       "$\\displaystyle c_{xx} \\dot{c}_{zx} + c_{xy} \\dot{c}_{zy} + c_{xz} \\dot{c}_{zz}$"
      ],
      "text/plain": [
       "c_{xx}⋅c_{żx} + c_{xy}⋅c_{ży} + c_{xz}⋅c_{żz}"
      ]
     },
     "execution_count": 10,
     "metadata": {},
     "output_type": "execute_result"
    }
   ],
   "source": [
    "mny = me.dot(B.z.express(A).dt(A), B.x)\n",
    "mny"
   ]
  },
  {
   "cell_type": "code",
   "execution_count": 11,
   "id": "3f52758f",
   "metadata": {
    "execution": {
     "iopub.execute_input": "2023-06-28T09:14:25.455935Z",
     "iopub.status.busy": "2023-06-28T09:14:25.455665Z",
     "iopub.status.idle": "2023-06-28T09:14:25.470414Z",
     "shell.execute_reply": "2023-06-28T09:14:25.469636Z"
    }
   },
   "outputs": [
    {
     "data": {
      "text/latex": [
       "$\\displaystyle c_{yx} \\dot{c}_{xx} + c_{yy} \\dot{c}_{xy} + c_{yz} \\dot{c}_{xz}$"
      ],
      "text/plain": [
       "c_{yx}⋅c_{ẋx} + c_{yy}⋅c_{ẋy} + c_{yz}⋅c_{ẋz}"
      ]
     },
     "execution_count": 11,
     "metadata": {},
     "output_type": "execute_result"
    }
   ],
   "source": [
    "mnz = me.dot(B.x.express(A).dt(A), B.y)\n",
    "mnz"
   ]
  },
  {
   "cell_type": "markdown",
   "id": "3d76ac9c",
   "metadata": {},
   "source": [
    "Тогда вектор угловой скорости для матрицы поворота равен: "
   ]
  },
  {
   "cell_type": "code",
   "execution_count": 12,
   "id": "671f83e2",
   "metadata": {
    "execution": {
     "iopub.execute_input": "2023-06-28T09:14:25.473621Z",
     "iopub.status.busy": "2023-06-28T09:14:25.473345Z",
     "iopub.status.idle": "2023-06-28T09:14:25.489209Z",
     "shell.execute_reply": "2023-06-28T09:14:25.488427Z"
    }
   },
   "outputs": [
    {
     "data": {
      "text/latex": [
       "$\\displaystyle (c_{zx} \\dot{c}_{yx} + c_{zy} \\dot{c}_{yy} + c_{zz} \\dot{c}_{yz})\\mathbf{\\hat{b}_x} + (c_{xx} \\dot{c}_{zx} + c_{xy} \\dot{c}_{zy} + c_{xz} \\dot{c}_{zz})\\mathbf{\\hat{b}_y} + (c_{yx} \\dot{c}_{xx} + c_{yy} \\dot{c}_{xy} + c_{yz} \\dot{c}_{xz})\\mathbf{\\hat{b}_z}$"
      ],
      "text/plain": [
       "(c_{zx}⋅c_{ẏx} + c_{zy}⋅c_{ẏy} + c_{zz}⋅c_{ẏz}) b_x + (c_{xx}⋅c_{żx} + c_{\n",
       "xy}⋅c_{ży} + c_{xz}⋅c_{żz}) b_y + (c_{yx}⋅c_{ẋx} + c_{yy}⋅c_{ẋy} + c_{yz}⋅\n",
       "c_{ẋz}) b_z"
      ]
     },
     "execution_count": 12,
     "metadata": {},
     "output_type": "execute_result"
    }
   ],
   "source": [
    "A_w_B = mnx*B.x + mny*B.y + mnz*B.z\n",
    "A_w_B"
   ]
  },
  {
   "cell_type": "markdown",
   "id": "11a4d299",
   "metadata": {},
   "source": [
    "Если вы знаете матрицу поворота и производную ее записей с относительно времени, угловая скорость может быть непосредственно рассчитана с помощью приведенных выше уравнений. "
   ]
  },
  {
   "cell_type": "markdown",
   "id": "3f6387a9",
   "metadata": {},
   "source": [
    "Например, если в один момент времени матрица поворота: "
   ]
  },
  {
   "cell_type": "code",
   "execution_count": 13,
   "id": "06f5f3ee",
   "metadata": {
    "execution": {
     "iopub.execute_input": "2023-06-28T09:14:25.493436Z",
     "iopub.status.busy": "2023-06-28T09:14:25.493163Z",
     "iopub.status.idle": "2023-06-28T09:14:25.504414Z",
     "shell.execute_reply": "2023-06-28T09:14:25.503608Z"
    }
   },
   "outputs": [
    {
     "data": {
      "text/latex": [
       "$\\displaystyle \\left[\\begin{matrix}\\frac{\\sqrt{2}}{4} & \\frac{\\sqrt{2}}{2} & \\frac{\\sqrt{6}}{4}\\\\- \\frac{\\sqrt{3}}{2} & 0 & \\frac{1}{2}\\\\\\frac{\\sqrt{2}}{4} & - \\frac{\\sqrt{2}}{2} & \\frac{\\sqrt{6}}{4}\\end{matrix}\\right]$"
      ],
      "text/plain": [
       "⎡ √2    √2   √6 ⎤\n",
       "⎢ ──    ──   ── ⎥\n",
       "⎢ 4     2    4  ⎥\n",
       "⎢               ⎥\n",
       "⎢-√3            ⎥\n",
       "⎢────   0    1/2⎥\n",
       "⎢ 2             ⎥\n",
       "⎢               ⎥\n",
       "⎢ √2   -√2   √6 ⎥\n",
       "⎢ ──   ────  ── ⎥\n",
       "⎣ 4     2    4  ⎦"
      ]
     },
     "execution_count": 13,
     "metadata": {},
     "output_type": "execute_result"
    }
   ],
   "source": [
    "B_C_A = sm.Matrix([\n",
    "    [ sm.sqrt(2)/4,  sm.sqrt(2)/2, sm.sqrt(6)/4],\n",
    "    [-sm.sqrt(3)/2,          0,       sm.S(1)/2],\n",
    "    [ sm.sqrt(2)/4, -sm.sqrt(2)/2, sm.sqrt(6)/4]\n",
    "])\n",
    "B_C_A"
   ]
  },
  {
   "cell_type": "markdown",
   "id": "05dc6b3c",
   "metadata": {},
   "source": [
    "а производные по времени ее коэффициентов: "
   ]
  },
  {
   "cell_type": "code",
   "execution_count": 14,
   "id": "cbf3689e",
   "metadata": {
    "execution": {
     "iopub.execute_input": "2023-06-28T09:14:25.508165Z",
     "iopub.status.busy": "2023-06-28T09:14:25.507903Z",
     "iopub.status.idle": "2023-06-28T09:14:25.527476Z",
     "shell.execute_reply": "2023-06-28T09:14:25.526460Z"
    }
   },
   "outputs": [
    {
     "data": {
      "text/latex": [
       "$\\displaystyle \\left[\\begin{matrix}- \\frac{\\sqrt{6}}{2} - \\frac{3 \\sqrt{2}}{4} & - \\frac{\\sqrt{6}}{4} + \\frac{3 \\sqrt{2}}{2} & - \\frac{3 \\sqrt{6}}{4} + \\sqrt{2}\\\\-1 & - \\frac{1}{2} & - \\sqrt{3}\\\\- \\frac{\\sqrt{6}}{2} + \\frac{3 \\sqrt{2}}{4} & - \\frac{\\sqrt{6}}{4} + \\frac{3 \\sqrt{2}}{2} & \\frac{3 \\sqrt{6}}{4}\\end{matrix}\\right]$"
      ],
      "text/plain": [
       "⎡  √6   3⋅√2    √6   3⋅√2    3⋅√6     ⎤\n",
       "⎢- ── - ────  - ── + ────  - ──── + √2⎥\n",
       "⎢  2     4      4     2       4       ⎥\n",
       "⎢                                     ⎥\n",
       "⎢    -1          -1/2          -√3    ⎥\n",
       "⎢                                     ⎥\n",
       "⎢  √6   3⋅√2    √6   3⋅√2     3⋅√6    ⎥\n",
       "⎢- ── + ────  - ── + ────     ────    ⎥\n",
       "⎣  2     4      4     2        4      ⎦"
      ]
     },
     "execution_count": 14,
     "metadata": {},
     "output_type": "execute_result"
    }
   ],
   "source": [
    "B_C_A_dt = sm.Matrix([\n",
    "    [-sm.sqrt(6)/2 - 3*sm.sqrt(2)/4, -sm.sqrt(6)/4 + 3*sm.sqrt(2)/2, -3*sm.sqrt(6)/4 + sm.sqrt(2)],\n",
    "    [                      -1,                     -sm.S(1)/2,               -sm.sqrt(3)],\n",
    "    [-sm.sqrt(6)/2 + 3*sm.sqrt(2)/4, -sm.sqrt(6)/4 + 3*sm.sqrt(2)/2,            3*sm.sqrt(6)/4]\n",
    "])\n",
    "B_C_A_dt"
   ]
  },
  {
   "cell_type": "code",
   "execution_count": 15,
   "id": "0b2d7517",
   "metadata": {
    "execution": {
     "iopub.execute_input": "2023-06-28T09:14:25.530872Z",
     "iopub.status.busy": "2023-06-28T09:14:25.530255Z",
     "iopub.status.idle": "2023-06-28T09:14:25.539849Z",
     "shell.execute_reply": "2023-06-28T09:14:25.539061Z"
    }
   },
   "outputs": [],
   "source": [
    "mnx = (B_C_A[2, :]*B_C_A_dt[1, :].transpose())[0, 0]\n",
    "mny = (B_C_A[0, :]*B_C_A_dt[2, :].transpose())[0, 0]\n",
    "mnz = (B_C_A[1, :]*B_C_A_dt[0, :].transpose())[0, 0]\n",
    "\n",
    "A_w_B = mnx*B.x + mny*B.y + mnz*B.z"
   ]
  },
  {
   "cell_type": "code",
   "execution_count": 16,
   "id": "83c3b3d1",
   "metadata": {
    "execution": {
     "iopub.execute_input": "2023-06-28T09:14:25.543236Z",
     "iopub.status.busy": "2023-06-28T09:14:25.542986Z",
     "iopub.status.idle": "2023-06-28T09:14:25.645867Z",
     "shell.execute_reply": "2023-06-28T09:14:25.645052Z"
    }
   },
   "outputs": [
    {
     "data": {
      "text/latex": [
       "$\\displaystyle -  \\frac{3 \\sqrt{2}}{4}\\mathbf{\\hat{b}_x} + (3 - \\frac{\\sqrt{3}}{2})\\mathbf{\\hat{b}_y} + \\frac{5 \\sqrt{2}}{4}\\mathbf{\\hat{b}_z}$"
      ],
      "text/plain": [
       "-3⋅√2        ⎛    √3⎞       5⋅√2\n",
       "────── b_x + ⎜3 - ──⎟ b_y + ──── b_z\n",
       "  4          ⎝    2 ⎠        4"
      ]
     },
     "execution_count": 16,
     "metadata": {},
     "output_type": "execute_result"
    }
   ],
   "source": [
    "A_w_B.simplify()"
   ]
  },
  {
   "cell_type": "markdown",
   "id": "b9895d4f",
   "metadata": {},
   "source": [
    "### Угловая скорость простых ориентаций"
   ]
  },
  {
   "cell_type": "markdown",
   "id": "125d8005",
   "metadata": {},
   "source": [
    "Для простой ориентации B относительно A через поворот на θ относительно оси z: "
   ]
  },
  {
   "cell_type": "code",
   "execution_count": 17,
   "id": "f26a6461",
   "metadata": {
    "execution": {
     "iopub.execute_input": "2023-06-28T09:14:25.648799Z",
     "iopub.status.busy": "2023-06-28T09:14:25.648558Z",
     "iopub.status.idle": "2023-06-28T09:14:25.658314Z",
     "shell.execute_reply": "2023-06-28T09:14:25.657527Z"
    }
   },
   "outputs": [
    {
     "data": {
      "text/latex": [
       "$\\displaystyle \\left[\\begin{matrix}\\cos{\\left(\\theta \\right)} & \\sin{\\left(\\theta \\right)} & 0\\\\- \\sin{\\left(\\theta \\right)} & \\cos{\\left(\\theta \\right)} & 0\\\\0 & 0 & 1\\end{matrix}\\right]$"
      ],
      "text/plain": [
       "⎡cos(θ)   sin(θ)  0⎤\n",
       "⎢                  ⎥\n",
       "⎢-sin(θ)  cos(θ)  0⎥\n",
       "⎢                  ⎥\n",
       "⎣   0       0     1⎦"
      ]
     },
     "execution_count": 17,
     "metadata": {},
     "output_type": "execute_result"
    }
   ],
   "source": [
    "theta = me.dynamicsymbols('theta')\n",
    "\n",
    "B_C_A = sm.Matrix([ [sm.cos(theta), sm.sin(theta), 0],\n",
    "                    [-sm.sin(theta), sm.cos(theta), 0],\n",
    "                    [0, 0, 1]])\n",
    "\n",
    "B_C_A"
   ]
  },
  {
   "cell_type": "code",
   "execution_count": 18,
   "id": "8863ac76",
   "metadata": {
    "execution": {
     "iopub.execute_input": "2023-06-28T09:14:25.662291Z",
     "iopub.status.busy": "2023-06-28T09:14:25.662052Z",
     "iopub.status.idle": "2023-06-28T09:14:25.741709Z",
     "shell.execute_reply": "2023-06-28T09:14:25.740922Z"
    }
   },
   "outputs": [
    {
     "data": {
      "text/latex": [
       "$\\displaystyle (\\sin^{2}{\\left(\\theta \\right)} \\dot{\\theta} + \\cos^{2}{\\left(\\theta \\right)} \\dot{\\theta})\\mathbf{\\hat{b}_z}$"
      ],
      "text/plain": [
       "⎛   2           2     ⎞\n",
       "⎝sin (θ)⋅θ̇ + cos (θ)⋅θ̇⎠ b_z"
      ]
     },
     "execution_count": 18,
     "metadata": {},
     "output_type": "execute_result"
    }
   ],
   "source": [
    "A = me.ReferenceFrame('A')\n",
    "B = me.ReferenceFrame('B')\n",
    "B.orient_explicit(A, B_C_A.transpose())\n",
    "\n",
    "mnx = me.dot(B.y.express(A).dt(A), B.z)\n",
    "mny = me.dot(B.z.express(A).dt(A), B.x)\n",
    "mnz = me.dot(B.x.express(A).dt(A), B.y)\n",
    "\n",
    "A_w_B = mnx*B.x + mny*B.y + mnz*B.z\n",
    "A_w_B"
   ]
  },
  {
   "cell_type": "code",
   "execution_count": 19,
   "id": "e6663a11",
   "metadata": {
    "execution": {
     "iopub.execute_input": "2023-06-28T09:14:25.744667Z",
     "iopub.status.busy": "2023-06-28T09:14:25.744411Z",
     "iopub.status.idle": "2023-06-28T09:14:25.792030Z",
     "shell.execute_reply": "2023-06-28T09:14:25.791186Z"
    }
   },
   "outputs": [
    {
     "data": {
      "text/latex": [
       "$\\displaystyle \\dot{\\theta}\\mathbf{\\hat{b}_z}$"
      ],
      "text/plain": [
       "θ̇ b_z"
      ]
     },
     "execution_count": 19,
     "metadata": {},
     "output_type": "execute_result"
    }
   ],
   "source": [
    "A_w_B.simplify()"
   ]
  },
  {
   "cell_type": "markdown",
   "id": "55616558",
   "metadata": {},
   "source": [
    "Получили очевидный результат, что угловая скорость простой ориентации — это просто скорость изменения во времени угла θ относительно оси $\\hat{b}_z=\\hat{a}_z$. \n",
    "\n",
    "«SymPy Mechanics» предлагает метод [`ang_vel_in()`](https://docs.sympy.org/latest/modules/physics/vector/api/classes.html#sympy.physics.vector.frame.ReferenceFrame.ang_vel_in) —  автоматический расчет угловой скорости между связанными системами отсчета:"
   ]
  },
  {
   "cell_type": "code",
   "execution_count": 20,
   "id": "276ab01e",
   "metadata": {
    "execution": {
     "iopub.execute_input": "2023-06-28T09:14:25.795067Z",
     "iopub.status.busy": "2023-06-28T09:14:25.794806Z",
     "iopub.status.idle": "2023-06-28T09:14:25.807571Z",
     "shell.execute_reply": "2023-06-28T09:14:25.806666Z"
    }
   },
   "outputs": [
    {
     "data": {
      "text/latex": [
       "$\\displaystyle \\dot{\\theta}\\mathbf{\\hat{a}_z}$"
      ],
      "text/plain": [
       "θ̇ a_z"
      ]
     },
     "execution_count": 20,
     "metadata": {},
     "output_type": "execute_result"
    }
   ],
   "source": [
    "A = me.ReferenceFrame('A')\n",
    "B = me.ReferenceFrame('B')\n",
    "B.orient_axis(A, theta, A.z)\n",
    "B.ang_vel_in(A)"
   ]
  },
  {
   "cell_type": "code",
   "execution_count": 21,
   "id": "0c196df1",
   "metadata": {
    "execution": {
     "iopub.execute_input": "2023-06-28T09:14:25.812431Z",
     "iopub.status.busy": "2023-06-28T09:14:25.811973Z",
     "iopub.status.idle": "2023-06-28T09:14:25.826734Z",
     "shell.execute_reply": "2023-06-28T09:14:25.825943Z"
    }
   },
   "outputs": [
    {
     "data": {
      "text/latex": [
       "$\\displaystyle \\frac{\\sqrt{2} \\dot{\\theta}}{2}\\mathbf{\\hat{a}_x} + \\frac{\\sqrt{2} \\dot{\\theta}}{2}\\mathbf{\\hat{a}_y}$"
      ],
      "text/plain": [
       "√2⋅θ̇       √2⋅θ̇\n",
       "──── a_x + ──── a_y\n",
       " 2          2"
      ]
     },
     "execution_count": 21,
     "metadata": {},
     "output_type": "execute_result"
    }
   ],
   "source": [
    "theta = me.dynamicsymbols('theta')\n",
    "\n",
    "A = me.ReferenceFrame('A')\n",
    "B = me.ReferenceFrame('B')\n",
    "B.orient_axis(A, theta, A.x + A.y)\n",
    "B.ang_vel_in(A)"
   ]
  },
  {
   "cell_type": "code",
   "execution_count": 22,
   "id": "26e2311e",
   "metadata": {
    "execution": {
     "iopub.execute_input": "2023-06-28T09:14:25.830059Z",
     "iopub.status.busy": "2023-06-28T09:14:25.829809Z",
     "iopub.status.idle": "2023-06-28T09:14:25.853065Z",
     "shell.execute_reply": "2023-06-28T09:14:25.852292Z"
    }
   },
   "outputs": [
    {
     "data": {
      "text/latex": [
       "$\\displaystyle \\sqrt{\\dot{\\theta}^{2}}$"
      ],
      "text/plain": [
       "   ____\n",
       "  ╱  2 \n",
       "╲╱ θ̇  "
      ]
     },
     "execution_count": 22,
     "metadata": {},
     "output_type": "execute_result"
    }
   ],
   "source": [
    "B.ang_vel_in(A).magnitude()"
   ]
  },
  {
   "cell_type": "markdown",
   "id": "95d0be09",
   "metadata": {},
   "source": [
    "Очевидно, тут должно быть $|\\dot{\\theta}|$, есть [небольшой баг](https://github.com/sympy/sympy/issues/23173)."
   ]
  },
  {
   "cell_type": "markdown",
   "id": "5b342641",
   "metadata": {},
   "source": [
    "### Фиксированная ориентация тела\n",
    "\n",
    "Если установить «z-x-z» ориентацию Эйлера с углами ψ, θ, φ соответственно, то угловая скорость вектора: "
   ]
  },
  {
   "cell_type": "code",
   "execution_count": 23,
   "id": "573ea47f",
   "metadata": {
    "execution": {
     "iopub.execute_input": "2023-06-28T09:14:25.856140Z",
     "iopub.status.busy": "2023-06-28T09:14:25.855867Z",
     "iopub.status.idle": "2023-06-28T09:14:31.100492Z",
     "shell.execute_reply": "2023-06-28T09:14:31.099639Z"
    }
   },
   "outputs": [
    {
     "data": {
      "text/latex": [
       "$\\displaystyle (\\sin{\\left(\\theta \\right)} \\sin{\\left(\\varphi \\right)} \\dot{\\psi} + \\cos{\\left(\\varphi \\right)} \\dot{\\theta})\\mathbf{\\hat{b}_x} + (\\sin{\\left(\\theta \\right)} \\cos{\\left(\\varphi \\right)} \\dot{\\psi} - \\sin{\\left(\\varphi \\right)} \\dot{\\theta})\\mathbf{\\hat{b}_y} + (\\cos{\\left(\\theta \\right)} \\dot{\\psi} + \\dot{\\varphi})\\mathbf{\\hat{b}_z}$"
      ],
      "text/plain": [
       "(sin(θ)⋅sin(varphi)⋅ψ̇ + cos(varphi)⋅θ̇) b_x + (sin(θ)⋅cos(varphi)⋅ψ̇ - sin(va\n",
       "rphi)⋅θ̇) b_y + (cos(θ)⋅ψ̇ + varṗhi) b_z"
      ]
     },
     "execution_count": 23,
     "metadata": {},
     "output_type": "execute_result"
    }
   ],
   "source": [
    "psi, theta, phi = me.dynamicsymbols('psi, theta, varphi')\n",
    "\n",
    "A = me.ReferenceFrame('A')\n",
    "B = me.ReferenceFrame('B')\n",
    "B.orient_body_fixed(A, (psi, theta, phi), 'ZXZ')\n",
    "\n",
    "mnx = me.dot(B.y.express(A).dt(A), B.z)\n",
    "mny = me.dot(B.z.express(A).dt(A), B.x)\n",
    "mnz = me.dot(B.x.express(A).dt(A), B.y)\n",
    "\n",
    "A_w_B = mnx*B.x + mny*B.y + mnz*B.z\n",
    "A_w_B.simplify()"
   ]
  },
  {
   "cell_type": "code",
   "execution_count": 24,
   "id": "8fd843da",
   "metadata": {
    "execution": {
     "iopub.execute_input": "2023-06-28T09:14:31.103569Z",
     "iopub.status.busy": "2023-06-28T09:14:31.103292Z",
     "iopub.status.idle": "2023-06-28T09:14:31.116975Z",
     "shell.execute_reply": "2023-06-28T09:14:31.116197Z"
    }
   },
   "outputs": [
    {
     "data": {
      "text/latex": [
       "$\\displaystyle (\\sin{\\left(\\theta \\right)} \\sin{\\left(\\varphi \\right)} \\dot{\\psi} + \\cos{\\left(\\varphi \\right)} \\dot{\\theta})\\mathbf{\\hat{b}_x} + (\\sin{\\left(\\theta \\right)} \\cos{\\left(\\varphi \\right)} \\dot{\\psi} - \\sin{\\left(\\varphi \\right)} \\dot{\\theta})\\mathbf{\\hat{b}_y} + (\\cos{\\left(\\theta \\right)} \\dot{\\psi} + \\dot{\\varphi})\\mathbf{\\hat{b}_z}$"
      ],
      "text/plain": [
       "(sin(θ)⋅sin(varphi)⋅ψ̇ + cos(varphi)⋅θ̇) b_x + (sin(θ)⋅cos(varphi)⋅ψ̇ - sin(va\n",
       "rphi)⋅θ̇) b_y + (cos(θ)⋅ψ̇ + varṗhi) b_z"
      ]
     },
     "execution_count": 24,
     "metadata": {},
     "output_type": "execute_result"
    }
   ],
   "source": [
    "B.ang_vel_in(A)"
   ]
  },
  {
   "cell_type": "markdown",
   "id": "8cb0f26a",
   "metadata": {},
   "source": [
    "Итак, вернемся к «гайке Джанибекова» — рассчитаем угловую скорость «T»-ручки по отношению с системе отсчета МКС «N», если\n",
    "* $\\hat{t}_z$ параллельна оси вращения\n",
    "* $\\hat{t}_y$ параллельна оси ручки\n",
    "* $\\hat{t}_x$ правая нормаль к плоскости «T»\n",
    "\n",
    "и постаратся выбрать углы эйлера чтобы избежать «[складывания рамок](https://ru.wikipedia.org/wiki/%D0%A1%D0%BA%D0%BB%D0%B0%D0%B4%D1%8B%D0%B2%D0%B0%D0%BD%D0%B8%D0%B5_%D1%80%D0%B0%D0%BC%D0%BE%D0%BA)»"
   ]
  },
  {
   "cell_type": "code",
   "execution_count": 25,
   "id": "b0d2d21c",
   "metadata": {
    "execution": {
     "iopub.execute_input": "2023-06-28T09:14:31.119806Z",
     "iopub.status.busy": "2023-06-28T09:14:31.119562Z",
     "iopub.status.idle": "2023-06-28T09:14:31.684506Z",
     "shell.execute_reply": "2023-06-28T09:14:31.683593Z"
    }
   },
   "outputs": [],
   "source": [
    "psi, theta, phi = me.dynamicsymbols('psi, theta, varphi')\n",
    "\n",
    "N = me.ReferenceFrame('N')\n",
    "T = me.ReferenceFrame('T')\n",
    "T.orient_body_fixed(N, (psi, theta, phi), 'xyz')"
   ]
  },
  {
   "cell_type": "markdown",
   "id": "8b58061c",
   "metadata": {},
   "source": [
    "Чтобы проверить, «x-y-z» фиксированное вращение тела выбранные нами углы подходят для наблюдаемого движения в видео, сначала оценим вероятные границы движения в терминах кратных π/2. Для наших углов Эйлера это кажется разумным: \n",
    "\n",
    "$$\n",
    "      0       \\leq \\psi    \\leq \\pi \\\\\n",
    "      -\\pi/2  \\leq \\theta  \\leq \\pi/2 \\\\\n",
    "      -\\infty \\leq \\varphi \\leq \\infty\n",
    "$$"
   ]
  },
  {
   "cell_type": "markdown",
   "id": "00d6fbdf",
   "metadata": {},
   "source": [
    "Теперь мы можем проверить матрицу направляющего косинуса в пределах ψ и θ чтобы увидеть, сводят ли они матрицу поворота к форме, указывающая на блокировку подвеса. "
   ]
  },
  {
   "cell_type": "code",
   "execution_count": 26,
   "id": "08be8212",
   "metadata": {
    "execution": {
     "iopub.execute_input": "2023-06-28T09:14:31.688405Z",
     "iopub.status.busy": "2023-06-28T09:14:31.688149Z",
     "iopub.status.idle": "2023-06-28T09:14:31.752618Z",
     "shell.execute_reply": "2023-06-28T09:14:31.751801Z"
    }
   },
   "outputs": [
    {
     "data": {
      "text/latex": [
       "$\\displaystyle \\left[\\begin{matrix}\\cos{\\left(\\theta \\right)} \\cos{\\left(\\varphi \\right)} & \\sin{\\left(\\varphi \\right)} & - \\sin{\\left(\\theta \\right)} \\cos{\\left(\\varphi \\right)}\\\\- \\sin{\\left(\\varphi \\right)} \\cos{\\left(\\theta \\right)} & \\cos{\\left(\\varphi \\right)} & \\sin{\\left(\\theta \\right)} \\sin{\\left(\\varphi \\right)}\\\\\\sin{\\left(\\theta \\right)} & 0 & \\cos{\\left(\\theta \\right)}\\end{matrix}\\right]$"
      ],
      "text/plain": [
       "⎡cos(θ)⋅cos(varphi)   sin(varphi)  -sin(θ)⋅cos(varphi)⎤\n",
       "⎢                                                     ⎥\n",
       "⎢-sin(varphi)⋅cos(θ)  cos(varphi)  sin(θ)⋅sin(varphi) ⎥\n",
       "⎢                                                     ⎥\n",
       "⎣      sin(θ)              0             cos(θ)       ⎦"
      ]
     },
     "execution_count": 26,
     "metadata": {},
     "output_type": "execute_result"
    }
   ],
   "source": [
    "sm.trigsimp(T.dcm(N).xreplace({psi: 0}))"
   ]
  },
  {
   "cell_type": "code",
   "execution_count": 27,
   "id": "bdc089f2",
   "metadata": {
    "execution": {
     "iopub.execute_input": "2023-06-28T09:14:31.755751Z",
     "iopub.status.busy": "2023-06-28T09:14:31.755484Z",
     "iopub.status.idle": "2023-06-28T09:14:31.827287Z",
     "shell.execute_reply": "2023-06-28T09:14:31.826387Z"
    }
   },
   "outputs": [
    {
     "data": {
      "text/latex": [
       "$\\displaystyle \\left[\\begin{matrix}\\cos{\\left(\\theta \\right)} \\cos{\\left(\\varphi \\right)} & - \\sin{\\left(\\varphi \\right)} & \\sin{\\left(\\theta \\right)} \\cos{\\left(\\varphi \\right)}\\\\- \\sin{\\left(\\varphi \\right)} \\cos{\\left(\\theta \\right)} & - \\cos{\\left(\\varphi \\right)} & - \\sin{\\left(\\theta \\right)} \\sin{\\left(\\varphi \\right)}\\\\\\sin{\\left(\\theta \\right)} & 0 & - \\cos{\\left(\\theta \\right)}\\end{matrix}\\right]$"
      ],
      "text/plain": [
       "⎡cos(θ)⋅cos(varphi)   -sin(varphi)  sin(θ)⋅cos(varphi) ⎤\n",
       "⎢                                                      ⎥\n",
       "⎢-sin(varphi)⋅cos(θ)  -cos(varphi)  -sin(θ)⋅sin(varphi)⎥\n",
       "⎢                                                      ⎥\n",
       "⎣      sin(θ)              0              -cos(θ)      ⎦"
      ]
     },
     "execution_count": 27,
     "metadata": {},
     "output_type": "execute_result"
    }
   ],
   "source": [
    "sm.trigsimp(T.dcm(N).xreplace({psi: sm.pi}))"
   ]
  },
  {
   "cell_type": "markdown",
   "id": "5ec6a65f",
   "metadata": {},
   "source": [
    "Эти первые матрицы показывают, что мы все еще можем ориентировать ручку, если ψ находится на пределе своих границ. "
   ]
  },
  {
   "cell_type": "code",
   "execution_count": 28,
   "id": "8dad1fdf",
   "metadata": {
    "execution": {
     "iopub.execute_input": "2023-06-28T09:14:31.831060Z",
     "iopub.status.busy": "2023-06-28T09:14:31.830678Z",
     "iopub.status.idle": "2023-06-28T09:14:32.032070Z",
     "shell.execute_reply": "2023-06-28T09:14:32.031206Z"
    }
   },
   "outputs": [
    {
     "data": {
      "text/latex": [
       "$\\displaystyle \\left[\\begin{matrix}0 & - \\sin{\\left(\\psi - \\varphi \\right)} & \\cos{\\left(\\psi - \\varphi \\right)}\\\\0 & \\cos{\\left(\\psi - \\varphi \\right)} & \\sin{\\left(\\psi - \\varphi \\right)}\\\\-1 & 0 & 0\\end{matrix}\\right]$"
      ],
      "text/plain": [
       "⎡0   -sin(ψ - varphi)  cos(ψ - varphi)⎤\n",
       "⎢                                     ⎥\n",
       "⎢0   cos(ψ - varphi)   sin(ψ - varphi)⎥\n",
       "⎢                                     ⎥\n",
       "⎣-1         0                 0       ⎦"
      ]
     },
     "execution_count": 28,
     "metadata": {},
     "output_type": "execute_result"
    }
   ],
   "source": [
    "sm.trigsimp(T.dcm(N).xreplace({theta: -sm.pi/2}))"
   ]
  },
  {
   "cell_type": "code",
   "execution_count": 29,
   "id": "f86fe5c9",
   "metadata": {
    "execution": {
     "iopub.execute_input": "2023-06-28T09:14:32.035197Z",
     "iopub.status.busy": "2023-06-28T09:14:32.034893Z",
     "iopub.status.idle": "2023-06-28T09:14:32.221231Z",
     "shell.execute_reply": "2023-06-28T09:14:32.220405Z"
    }
   },
   "outputs": [
    {
     "data": {
      "text/latex": [
       "$\\displaystyle \\left[\\begin{matrix}0 & \\sin{\\left(\\psi + \\varphi \\right)} & - \\cos{\\left(\\psi + \\varphi \\right)}\\\\0 & \\cos{\\left(\\psi + \\varphi \\right)} & \\sin{\\left(\\psi + \\varphi \\right)}\\\\1 & 0 & 0\\end{matrix}\\right]$"
      ],
      "text/plain": [
       "⎡0  sin(ψ + varphi)  -cos(ψ + varphi)⎤\n",
       "⎢                                    ⎥\n",
       "⎢0  cos(ψ + varphi)  sin(ψ + varphi) ⎥\n",
       "⎢                                    ⎥\n",
       "⎣1         0                0        ⎦"
      ]
     },
     "execution_count": 29,
     "metadata": {},
     "output_type": "execute_result"
    }
   ],
   "source": [
    "sm.trigsimp(T.dcm(N).xreplace({theta: sm.pi/2}))"
   ]
  },
  {
   "cell_type": "markdown",
   "id": "3b28712c",
   "metadata": {},
   "source": [
    "Этот второй набор матриц показывает, что блокировка подвеса может произойти, если θ, «угол тангажа» достигает своих ±90°-ых пределов, . Но для наблюдаемого движения этот предел никогда не должен быть достигнут. Таким образом, мы можем использовать этот набор углов Эйлера для моделирования Т-образная ручка для наблюдаемого движения, не беспокоясь о фиксации подвеса. "
   ]
  },
  {
   "cell_type": "markdown",
   "id": "70c1927c",
   "metadata": {},
   "source": [
    "### Производные векторов по времени "
   ]
  },
  {
   "cell_type": "markdown",
   "id": "5f0e5581",
   "metadata": {},
   "source": [
    "Используя определение угловой скорости, можно показать, что производная по времени единичного вектора, фиксированного в «B» относится к угловую скорости по следующей теореме: \n",
    "\n",
    "$$\n",
    "\\frac{{}^Ad\\hat{b}_x}{dt} = {}^A\\bar{\\omega}^B \\times \\hat{b}_x\n",
    "$$"
   ]
  },
  {
   "cell_type": "markdown",
   "id": "32dbf0bc",
   "metadata": {},
   "source": [
    "Это указывает на то, что производная по времени всегда нормальна к единичному вектору. потому что величина единичного вектора постоянна, а производная масштабируется с величиной угловой скорости: \n",
    "$$\n",
    "   \\frac{{}^Ad\\hat{b}_x}{dt} = \\left| {}^A\\bar{\\omega}^B \\right| \\left( {}^A\\hat{\\omega}^B \\times \\hat{b}_x \\right)\n",
    "$$"
   ]
  },
  {
   "cell_type": "markdown",
   "id": "f0bfc928",
   "metadata": {},
   "source": [
    "Теперь, если вектор $\\bar{v} = v\\hat{b}_x$ и $v$ — постоянна по времени:\n",
    "\n",
    "$$\n",
    "   \\frac{{}^A d\\bar{v}}{dt} =\n",
    "   v({}^A\\bar{\\omega}^B \\times \\hat{b}_x) =\n",
    "   {}^A\\bar{\\omega}^B \\times v\\hat{b}_x =\n",
    "   {}^A\\bar{\\omega}^B \\times \\bar{v}\n",
    "$$\n",
    "\n",
    "Это уравнение обобщается на любой вектор, фиксированный в «B» и наблюдаемый из «A», и получается что производная по времени равна векторному произведению угловой скорости «B» в «A» на этот вектор."
   ]
  },
  {
   "cell_type": "markdown",
   "id": "1fac026f",
   "metadata": {},
   "source": [
    "Рассмотрим теперь $\\bar{u}$ который не зафиксирован в «B»\n",
    "\n",
    "$$\n",
    "   \\bar{u} = u_1\\hat{b}_x + u_2\\hat{b}_y + u_3\\hat{b}_z\n",
    "$$\n",
    "\n",
    "Взяв производную в другой системе отсчета «A», и применяя правила произведения, получаем:\n",
    "\n",
    "\\begin{align*}\n",
    "   \\frac{{}^Ad\\bar{u}}{dt} &=\n",
    "   \\dot{u}_1\\hat{b}_x + \\dot{u}_2\\hat{b}_y + \\dot{u}_3\\hat{b}_z +\n",
    "   u_1\\frac{{}^Ad\\hat{b}_x}{dt} + u_2\\frac{{}^Ad\\hat{b}_y}{dt} + u_3\\frac{{}^Ad\\hat{b}_z}{dt} \\\\\n",
    "   \\frac{{}^Ad\\bar{u}}{dt} &=\n",
    "   \\frac{{}^Bd\\bar{u}}{dt} +\n",
    "   u_1{}^A\\bar{\\omega}^B\\times\\hat{b}_x + u_2{}^A\\bar{\\omega}^B\\times\\hat{b}_y + u_3{}^A\\bar{\\omega}^B\\times\\hat{b}_z \\\\\n",
    "   \\frac{{}^Ad\\bar{u}}{dt} &=\n",
    "   \\frac{{}^Bd\\bar{u}}{dt} +\n",
    "   {}^A\\bar{\\omega}^B\\times\\bar{u}\n",
    "\\end{align*}\n",
    "\n",
    "Это мощное уравнение, т.к. позволяет дифференцировать любой вектор, если мы знаем матрицу вращения из которого мы наблюдаем изменение.\n",
    "\n",
    "Например, возьмем «z-x» ориентацию и произвольный вектор, не фиксированный в «B»:"
   ]
  },
  {
   "cell_type": "code",
   "execution_count": 30,
   "id": "d57aad72",
   "metadata": {
    "execution": {
     "iopub.execute_input": "2023-06-28T09:14:32.224303Z",
     "iopub.status.busy": "2023-06-28T09:14:32.224051Z",
     "iopub.status.idle": "2023-06-28T09:14:32.291419Z",
     "shell.execute_reply": "2023-06-28T09:14:32.290611Z"
    }
   },
   "outputs": [
    {
     "data": {
      "text/latex": [
       "$\\displaystyle u_{1}\\mathbf{\\hat{b}_x} + u_{2}\\mathbf{\\hat{b}_y} + u_{3}\\mathbf{\\hat{b}_z}$"
      ],
      "text/plain": [
       "u₁ b_x + u₂ b_y + u₃ b_z"
      ]
     },
     "execution_count": 30,
     "metadata": {},
     "output_type": "execute_result"
    }
   ],
   "source": [
    "A = me.ReferenceFrame('A')\n",
    "B = me.ReferenceFrame('B')\n",
    "B.orient_body_fixed(A, (psi, theta, 0), 'ZXZ')\n",
    "\n",
    "u1, u2, u3 = me.dynamicsymbols('u1, u2, u3')\n",
    "\n",
    "u = u1*B.x + u2*B.y + u3*B.z\n",
    "u"
   ]
  },
  {
   "cell_type": "markdown",
   "id": "0b45bb17",
   "metadata": {},
   "source": [
    "Можно выразить вектор в системе «A», затем взять производную коэффициентов по времени, чтобы получить $\\frac{{}^Ad\\bar{u}}{dt}$:"
   ]
  },
  {
   "cell_type": "code",
   "execution_count": 31,
   "id": "a6b7a89d",
   "metadata": {
    "execution": {
     "iopub.execute_input": "2023-06-28T09:14:32.294865Z",
     "iopub.status.busy": "2023-06-28T09:14:32.294613Z",
     "iopub.status.idle": "2023-06-28T09:14:32.313792Z",
     "shell.execute_reply": "2023-06-28T09:14:32.312992Z"
    }
   },
   "outputs": [
    {
     "data": {
      "text/latex": [
       "$\\displaystyle (u_{1} \\cos{\\left(\\psi \\right)} - u_{2} \\sin{\\left(\\psi \\right)} \\cos{\\left(\\theta \\right)} + u_{3} \\sin{\\left(\\psi \\right)} \\sin{\\left(\\theta \\right)})\\mathbf{\\hat{a}_x} + (u_{1} \\sin{\\left(\\psi \\right)} + u_{2} \\cos{\\left(\\psi \\right)} \\cos{\\left(\\theta \\right)} - u_{3} \\sin{\\left(\\theta \\right)} \\cos{\\left(\\psi \\right)})\\mathbf{\\hat{a}_y} + (u_{2} \\sin{\\left(\\theta \\right)} + u_{3} \\cos{\\left(\\theta \\right)})\\mathbf{\\hat{a}_z}$"
      ],
      "text/plain": [
       "(u₁⋅cos(ψ) - u₂⋅sin(ψ)⋅cos(θ) + u₃⋅sin(ψ)⋅sin(θ)) a_x + (u₁⋅sin(ψ) + u₂⋅cos(ψ)\n",
       "⋅cos(θ) - u₃⋅sin(θ)⋅cos(ψ)) a_y + (u₂⋅sin(θ) + u₃⋅cos(θ)) a_z"
      ]
     },
     "execution_count": 31,
     "metadata": {},
     "output_type": "execute_result"
    }
   ],
   "source": [
    "u.express(A)"
   ]
  },
  {
   "cell_type": "code",
   "execution_count": 32,
   "id": "648448ff",
   "metadata": {
    "execution": {
     "iopub.execute_input": "2023-06-28T09:14:32.316974Z",
     "iopub.status.busy": "2023-06-28T09:14:32.316534Z",
     "iopub.status.idle": "2023-06-28T09:14:32.400856Z",
     "shell.execute_reply": "2023-06-28T09:14:32.399890Z"
    }
   },
   "outputs": [
    {
     "data": {
      "text/latex": [
       "$\\displaystyle (- u_{1} \\sin{\\left(\\psi \\right)} \\dot{\\psi} + u_{2} \\sin{\\left(\\psi \\right)} \\sin{\\left(\\theta \\right)} \\dot{\\theta} - u_{2} \\cos{\\left(\\psi \\right)} \\cos{\\left(\\theta \\right)} \\dot{\\psi} + u_{3} \\sin{\\left(\\psi \\right)} \\cos{\\left(\\theta \\right)} \\dot{\\theta} + u_{3} \\sin{\\left(\\theta \\right)} \\cos{\\left(\\psi \\right)} \\dot{\\psi} + \\sin{\\left(\\psi \\right)} \\sin{\\left(\\theta \\right)} \\dot{u}_{3} - \\sin{\\left(\\psi \\right)} \\cos{\\left(\\theta \\right)} \\dot{u}_{2} + \\cos{\\left(\\psi \\right)} \\dot{u}_{1})\\mathbf{\\hat{a}_x} + (u_{1} \\cos{\\left(\\psi \\right)} \\dot{\\psi} - u_{2} \\sin{\\left(\\psi \\right)} \\cos{\\left(\\theta \\right)} \\dot{\\psi} - u_{2} \\sin{\\left(\\theta \\right)} \\cos{\\left(\\psi \\right)} \\dot{\\theta} + u_{3} \\sin{\\left(\\psi \\right)} \\sin{\\left(\\theta \\right)} \\dot{\\psi} - u_{3} \\cos{\\left(\\psi \\right)} \\cos{\\left(\\theta \\right)} \\dot{\\theta} + \\sin{\\left(\\psi \\right)} \\dot{u}_{1} - \\sin{\\left(\\theta \\right)} \\cos{\\left(\\psi \\right)} \\dot{u}_{3} + \\cos{\\left(\\psi \\right)} \\cos{\\left(\\theta \\right)} \\dot{u}_{2})\\mathbf{\\hat{a}_y} + (u_{2} \\cos{\\left(\\theta \\right)} \\dot{\\theta} - u_{3} \\sin{\\left(\\theta \\right)} \\dot{\\theta} + \\sin{\\left(\\theta \\right)} \\dot{u}_{2} + \\cos{\\left(\\theta \\right)} \\dot{u}_{3})\\mathbf{\\hat{a}_z}$"
      ],
      "text/plain": [
       "(-u₁⋅sin(ψ)⋅ψ̇ + u₂⋅sin(ψ)⋅sin(θ)⋅θ̇ - u₂⋅cos(ψ)⋅cos(θ)⋅ψ̇ + u₃⋅sin(ψ)⋅cos(θ)⋅\n",
       "θ̇ + u₃⋅sin(θ)⋅cos(ψ)⋅ψ̇ + sin(ψ)⋅sin(θ)⋅u₃̇ - sin(ψ)⋅cos(θ)⋅u₂̇ + cos(ψ)⋅u₁̇)\n",
       " a_x + (u₁⋅cos(ψ)⋅ψ̇ - u₂⋅sin(ψ)⋅cos(θ)⋅ψ̇ - u₂⋅sin(θ)⋅cos(ψ)⋅θ̇ + u₃⋅sin(ψ)⋅s\n",
       "in(θ)⋅ψ̇ - u₃⋅cos(ψ)⋅cos(θ)⋅θ̇ + sin(ψ)⋅u₁̇ - sin(θ)⋅cos(ψ)⋅u₃̇ + cos(ψ)⋅cos(θ\n",
       ")⋅u₂̇) a_y + (u₂⋅cos(θ)⋅θ̇ - u₃⋅sin(θ)⋅θ̇ + sin(θ)⋅u₂̇ + cos(θ)⋅u₃̇) a_z"
      ]
     },
     "execution_count": 32,
     "metadata": {},
     "output_type": "execute_result"
    }
   ],
   "source": [
    "u.express(A).dt(A)"
   ]
  },
  {
   "cell_type": "markdown",
   "id": "d0605f01",
   "metadata": {},
   "source": [
    "Но, применив приведенную выше теорему, мы можем найти производную с векторным произведением. \n",
    "\n",
    "Приятным аспектом этой формулировки является то, что нет необходимости выражать вектор в A. \n",
    "Сначала $\\frac{{}^Bd\\bar{u}}{dt}$:"
   ]
  },
  {
   "cell_type": "code",
   "execution_count": 33,
   "id": "c7003916",
   "metadata": {
    "execution": {
     "iopub.execute_input": "2023-06-28T09:14:32.404355Z",
     "iopub.status.busy": "2023-06-28T09:14:32.403997Z",
     "iopub.status.idle": "2023-06-28T09:14:32.415303Z",
     "shell.execute_reply": "2023-06-28T09:14:32.414362Z"
    }
   },
   "outputs": [
    {
     "data": {
      "text/latex": [
       "$\\displaystyle \\dot{u}_{1}\\mathbf{\\hat{b}_x} + \\dot{u}_{2}\\mathbf{\\hat{b}_y} + \\dot{u}_{3}\\mathbf{\\hat{b}_z}$"
      ],
      "text/plain": [
       "u₁̇ b_x + u₂̇ b_y + u₃̇ b_z"
      ]
     },
     "execution_count": 33,
     "metadata": {},
     "output_type": "execute_result"
    }
   ],
   "source": [
    "u.dt(B)"
   ]
  },
  {
   "cell_type": "markdown",
   "id": "175fcf25",
   "metadata": {},
   "source": [
    "Потом ${}^A\\bar{\\omega}^B$"
   ]
  },
  {
   "cell_type": "code",
   "execution_count": 34,
   "id": "4d0bd927",
   "metadata": {
    "execution": {
     "iopub.execute_input": "2023-06-28T09:14:32.418874Z",
     "iopub.status.busy": "2023-06-28T09:14:32.418569Z",
     "iopub.status.idle": "2023-06-28T09:14:32.427354Z",
     "shell.execute_reply": "2023-06-28T09:14:32.426547Z"
    }
   },
   "outputs": [
    {
     "data": {
      "text/latex": [
       "$\\displaystyle \\dot{\\theta}\\mathbf{\\hat{b}_x} + \\sin{\\left(\\theta \\right)} \\dot{\\psi}\\mathbf{\\hat{b}_y} + \\cos{\\left(\\theta \\right)} \\dot{\\psi}\\mathbf{\\hat{b}_z}$"
      ],
      "text/plain": [
       "θ̇ b_x + sin(θ)⋅ψ̇ b_y + cos(θ)⋅ψ̇ b_z"
      ]
     },
     "execution_count": 34,
     "metadata": {},
     "output_type": "execute_result"
    }
   ],
   "source": [
    "A_w_B = B.ang_vel_in(A)\n",
    "A_w_B"
   ]
  },
  {
   "cell_type": "markdown",
   "id": "5004b169",
   "metadata": {},
   "source": [
    "Наконец $\\frac{{}^Ad\\bar{u}}{dt}$"
   ]
  },
  {
   "cell_type": "code",
   "execution_count": 35,
   "id": "52752b87",
   "metadata": {
    "execution": {
     "iopub.execute_input": "2023-06-28T09:14:32.430861Z",
     "iopub.status.busy": "2023-06-28T09:14:32.430498Z",
     "iopub.status.idle": "2023-06-28T09:14:32.456622Z",
     "shell.execute_reply": "2023-06-28T09:14:32.455770Z"
    }
   },
   "outputs": [
    {
     "data": {
      "text/latex": [
       "$\\displaystyle (- u_{2} \\cos{\\left(\\theta \\right)} \\dot{\\psi} + u_{3} \\sin{\\left(\\theta \\right)} \\dot{\\psi} + \\dot{u}_{1})\\mathbf{\\hat{b}_x} + (u_{1} \\cos{\\left(\\theta \\right)} \\dot{\\psi} - u_{3} \\dot{\\theta} + \\dot{u}_{2})\\mathbf{\\hat{b}_y} + (- u_{1} \\sin{\\left(\\theta \\right)} \\dot{\\psi} + u_{2} \\dot{\\theta} + \\dot{u}_{3})\\mathbf{\\hat{b}_z}$"
      ],
      "text/plain": [
       "(-u₂⋅cos(θ)⋅ψ̇ + u₃⋅sin(θ)⋅ψ̇ + u₁̇) b_x + (u₁⋅cos(θ)⋅ψ̇ - u₃⋅θ̇ + u₂̇) b_y +\n",
       "(-u₁⋅sin(θ)⋅ψ̇ + u₂⋅θ̇ + u₃̇) b_z"
      ]
     },
     "execution_count": 35,
     "metadata": {},
     "output_type": "execute_result"
    }
   ],
   "source": [
    "u.dt(B) + me.cross(A_w_B, u)"
   ]
  },
  {
   "cell_type": "markdown",
   "id": "bb3b1a01",
   "metadata": {},
   "source": [
    "что является относительно простой формой производной, выраженной в виде «вращающаяся система отсчета».\n",
    "\n",
    "Мы можем показать, что первый результат эквивалентен:"
   ]
  },
  {
   "cell_type": "code",
   "execution_count": 36,
   "id": "e9e370e3",
   "metadata": {
    "execution": {
     "iopub.execute_input": "2023-06-28T09:14:32.459985Z",
     "iopub.status.busy": "2023-06-28T09:14:32.459726Z",
     "iopub.status.idle": "2023-06-28T09:14:35.325679Z",
     "shell.execute_reply": "2023-06-28T09:14:35.324863Z"
    }
   },
   "outputs": [
    {
     "data": {
      "text/latex": [
       "$\\displaystyle (- u_{2} \\cos{\\left(\\theta \\right)} \\dot{\\psi} + u_{3} \\sin{\\left(\\theta \\right)} \\dot{\\psi} + \\dot{u}_{1})\\mathbf{\\hat{b}_x} + (u_{1} \\cos{\\left(\\theta \\right)} \\dot{\\psi} - u_{3} \\dot{\\theta} + \\dot{u}_{2})\\mathbf{\\hat{b}_y} + (- u_{1} \\sin{\\left(\\theta \\right)} \\dot{\\psi} + u_{2} \\dot{\\theta} + \\dot{u}_{3})\\mathbf{\\hat{b}_z}$"
      ],
      "text/plain": [
       "(-u₂⋅cos(θ)⋅ψ̇ + u₃⋅sin(θ)⋅ψ̇ + u₁̇) b_x + (u₁⋅cos(θ)⋅ψ̇ - u₃⋅θ̇ + u₂̇) b_y +\n",
       "(-u₁⋅sin(θ)⋅ψ̇ + u₂⋅θ̇ + u₃̇) b_z"
      ]
     },
     "execution_count": 36,
     "metadata": {},
     "output_type": "execute_result"
    }
   ],
   "source": [
    "u.express(A).dt(A).express(B).simplify()"
   ]
  },
  {
   "cell_type": "markdown",
   "id": "5202c62f",
   "metadata": {},
   "source": [
    "Еще пара тестовых упражнений:"
   ]
  },
  {
   "cell_type": "code",
   "execution_count": 37,
   "id": "1b29b7cb",
   "metadata": {
    "execution": {
     "iopub.execute_input": "2023-06-28T09:14:35.328722Z",
     "iopub.status.busy": "2023-06-28T09:14:35.328473Z",
     "iopub.status.idle": "2023-06-28T09:14:35.353693Z",
     "shell.execute_reply": "2023-06-28T09:14:35.352882Z"
    }
   },
   "outputs": [
    {
     "data": {
      "text/latex": [
       "$\\displaystyle (- u_{2} \\cos{\\left(\\theta \\right)} \\dot{\\psi} + u_{3} \\sin{\\left(\\theta \\right)} \\dot{\\psi} + \\dot{u}_{1})\\mathbf{\\hat{b}_x} + (u_{1} \\cos{\\left(\\theta \\right)} \\dot{\\psi} - u_{3} \\dot{\\theta} + \\dot{u}_{2})\\mathbf{\\hat{b}_y} + (- u_{1} \\sin{\\left(\\theta \\right)} \\dot{\\psi} + u_{2} \\dot{\\theta} + \\dot{u}_{3})\\mathbf{\\hat{b}_z}$"
      ],
      "text/plain": [
       "(-u₂⋅cos(θ)⋅ψ̇ + u₃⋅sin(θ)⋅ψ̇ + u₁̇) b_x + (u₁⋅cos(θ)⋅ψ̇ - u₃⋅θ̇ + u₂̇) b_y +\n",
       "(-u₁⋅sin(θ)⋅ψ̇ + u₂⋅θ̇ + u₃̇) b_z"
      ]
     },
     "execution_count": 37,
     "metadata": {},
     "output_type": "execute_result"
    }
   ],
   "source": [
    "u.dt(A)"
   ]
  },
  {
   "cell_type": "code",
   "execution_count": 38,
   "id": "1eda0394",
   "metadata": {
    "execution": {
     "iopub.execute_input": "2023-06-28T09:14:35.356645Z",
     "iopub.status.busy": "2023-06-28T09:14:35.356383Z",
     "iopub.status.idle": "2023-06-28T09:14:35.380528Z",
     "shell.execute_reply": "2023-06-28T09:14:35.379725Z"
    }
   },
   "outputs": [
    {
     "data": {
      "text/latex": [
       "$\\displaystyle (- u_{2} \\cos{\\left(\\theta \\right)} \\dot{\\psi} + u_{3} \\sin{\\left(\\theta \\right)} \\dot{\\psi} + \\dot{u}_{1})\\mathbf{\\hat{b}_x} + (u_{1} \\cos{\\left(\\theta \\right)} \\dot{\\psi} - u_{3} \\dot{\\theta} + \\dot{u}_{2})\\mathbf{\\hat{b}_y} + (- u_{1} \\sin{\\left(\\theta \\right)} \\dot{\\psi} + u_{2} \\dot{\\theta} + \\dot{u}_{3})\\mathbf{\\hat{b}_z}$"
      ],
      "text/plain": [
       "(-u₂⋅cos(θ)⋅ψ̇ + u₃⋅sin(θ)⋅ψ̇ + u₁̇) b_x + (u₁⋅cos(θ)⋅ψ̇ - u₃⋅θ̇ + u₂̇) b_y +\n",
       "(-u₁⋅sin(θ)⋅ψ̇ + u₂⋅θ̇ + u₃̇) b_z"
      ]
     },
     "execution_count": 38,
     "metadata": {},
     "output_type": "execute_result"
    }
   ],
   "source": [
    "u.dt(B) + me.cross(A_w_B, u)"
   ]
  },
  {
   "cell_type": "markdown",
   "id": "4b0259ba",
   "metadata": {},
   "source": [
    "### Добавление угловой скорости "
   ]
  },
  {
   "cell_type": "markdown",
   "id": "fd6bc3cc",
   "metadata": {},
   "source": [
    "Аналогично соотношению матриц поворотов, существует связь среди угловых скоростей последовательно ориентированных систем отсчета, только тут вместо умножения матриц будет сложение. \n",
    "\n",
    "Теорема:\n",
    "\n",
    "$$\n",
    "{}^A\\bar{\\omega}^Z =\n",
    "   {}^A\\bar{\\omega}^B +\n",
    "   {}^B\\bar{\\omega}^C +\n",
    "   \\ldots +\n",
    "   {}^Y\\bar{\\omega}^Z\n",
    "$$\n",
    "\n",
    "Мы можем продемонстрировать это, создав три простых ориентации  Эйлера, «y\\-x\\-y»:"
   ]
  },
  {
   "cell_type": "code",
   "execution_count": 39,
   "id": "cdc4fb71",
   "metadata": {
    "execution": {
     "iopub.execute_input": "2023-06-28T09:14:35.383580Z",
     "iopub.status.busy": "2023-06-28T09:14:35.383328Z",
     "iopub.status.idle": "2023-06-28T09:14:35.400442Z",
     "shell.execute_reply": "2023-06-28T09:14:35.399623Z"
    }
   },
   "outputs": [],
   "source": [
    "psi, theta, phi = me.dynamicsymbols('psi, theta, varphi')\n",
    "\n",
    "A = me.ReferenceFrame('A')\n",
    "B = me.ReferenceFrame('B')\n",
    "C = me.ReferenceFrame('C')\n",
    "D = me.ReferenceFrame('D')\n",
    "\n",
    "B.orient_axis(A, psi, A.y)\n",
    "C.orient_axis(B, theta, B.x)\n",
    "D.orient_axis(C, phi, C.y)"
   ]
  },
  {
   "cell_type": "markdown",
   "id": "3e078474",
   "metadata": {},
   "source": [
    "Посмотрим простую угловую скорость каждой последующей ориентации: "
   ]
  },
  {
   "cell_type": "code",
   "execution_count": 40,
   "id": "9dff8bf9",
   "metadata": {
    "execution": {
     "iopub.execute_input": "2023-06-28T09:14:35.403715Z",
     "iopub.status.busy": "2023-06-28T09:14:35.403475Z",
     "iopub.status.idle": "2023-06-28T09:14:35.409387Z",
     "shell.execute_reply": "2023-06-28T09:14:35.408613Z"
    }
   },
   "outputs": [
    {
     "data": {
      "text/latex": [
       "$\\displaystyle \\dot{\\psi}\\mathbf{\\hat{a}_y}$"
      ],
      "text/plain": [
       "ψ̇ a_y"
      ]
     },
     "execution_count": 40,
     "metadata": {},
     "output_type": "execute_result"
    }
   ],
   "source": [
    "A_w_B = B.ang_vel_in(A)\n",
    "A_w_B"
   ]
  },
  {
   "cell_type": "code",
   "execution_count": 41,
   "id": "07959f12",
   "metadata": {
    "execution": {
     "iopub.execute_input": "2023-06-28T09:14:35.414087Z",
     "iopub.status.busy": "2023-06-28T09:14:35.413846Z",
     "iopub.status.idle": "2023-06-28T09:14:35.419640Z",
     "shell.execute_reply": "2023-06-28T09:14:35.418871Z"
    }
   },
   "outputs": [
    {
     "data": {
      "text/latex": [
       "$\\displaystyle \\dot{\\theta}\\mathbf{\\hat{b}_x}$"
      ],
      "text/plain": [
       "θ̇ b_x"
      ]
     },
     "execution_count": 41,
     "metadata": {},
     "output_type": "execute_result"
    }
   ],
   "source": [
    "B_w_C = C.ang_vel_in(B)\n",
    "B_w_C"
   ]
  },
  {
   "cell_type": "code",
   "execution_count": 42,
   "id": "a7a29669",
   "metadata": {
    "execution": {
     "iopub.execute_input": "2023-06-28T09:14:35.423462Z",
     "iopub.status.busy": "2023-06-28T09:14:35.423087Z",
     "iopub.status.idle": "2023-06-28T09:14:35.429192Z",
     "shell.execute_reply": "2023-06-28T09:14:35.428405Z"
    }
   },
   "outputs": [
    {
     "data": {
      "text/latex": [
       "$\\displaystyle \\dot{\\varphi}\\mathbf{\\hat{c}_y}$"
      ],
      "text/plain": [
       "varṗhi c_y"
      ]
     },
     "execution_count": 42,
     "metadata": {},
     "output_type": "execute_result"
    }
   ],
   "source": [
    "C_w_D = D.ang_vel_in(C)\n",
    "C_w_D"
   ]
  },
  {
   "cell_type": "markdown",
   "id": "e5eb49db",
   "metadata": {},
   "source": [
    "Суммирование последовательных угловых скоростей дает компактный результат: "
   ]
  },
  {
   "cell_type": "code",
   "execution_count": 43,
   "id": "c234c104",
   "metadata": {
    "execution": {
     "iopub.execute_input": "2023-06-28T09:14:35.433070Z",
     "iopub.status.busy": "2023-06-28T09:14:35.432828Z",
     "iopub.status.idle": "2023-06-28T09:14:35.440241Z",
     "shell.execute_reply": "2023-06-28T09:14:35.439395Z"
    }
   },
   "outputs": [
    {
     "data": {
      "text/latex": [
       "$\\displaystyle \\dot{\\psi}\\mathbf{\\hat{a}_y} + \\dot{\\theta}\\mathbf{\\hat{b}_x} + \\dot{\\varphi}\\mathbf{\\hat{c}_y}$"
      ],
      "text/plain": [
       "ψ̇ a_y + θ̇ b_x + varṗhi c_y"
      ]
     },
     "execution_count": 43,
     "metadata": {},
     "output_type": "execute_result"
    }
   ],
   "source": [
    "A_w_D = A_w_B + B_w_C + C_w_D\n",
    "A_w_D"
   ]
  },
  {
   "cell_type": "markdown",
   "id": "3d3f18e3",
   "metadata": {},
   "source": [
    "Аналогично мы можем пропустить вспомогательные кадры и сформировать связь между «A» и «D» напрямую и рассчитать ${}^A\\bar{\\omega}^D$: "
   ]
  },
  {
   "cell_type": "code",
   "execution_count": 44,
   "id": "ffd7ed42",
   "metadata": {
    "execution": {
     "iopub.execute_input": "2023-06-28T09:14:35.444373Z",
     "iopub.status.busy": "2023-06-28T09:14:35.444132Z",
     "iopub.status.idle": "2023-06-28T09:14:36.163924Z",
     "shell.execute_reply": "2023-06-28T09:14:36.163094Z"
    }
   },
   "outputs": [
    {
     "data": {
      "text/latex": [
       "$\\displaystyle (\\sin{\\left(\\theta \\right)} \\sin{\\left(\\varphi \\right)} \\dot{\\psi} + \\cos{\\left(\\varphi \\right)} \\dot{\\theta})\\mathbf{\\hat{d}_x} + (\\cos{\\left(\\theta \\right)} \\dot{\\psi} + \\dot{\\varphi})\\mathbf{\\hat{d}_y} + (- \\sin{\\left(\\theta \\right)} \\cos{\\left(\\varphi \\right)} \\dot{\\psi} + \\sin{\\left(\\varphi \\right)} \\dot{\\theta})\\mathbf{\\hat{d}_z}$"
      ],
      "text/plain": [
       "(sin(θ)⋅sin(varphi)⋅ψ̇ + cos(varphi)⋅θ̇) d_x + (cos(θ)⋅ψ̇ + varṗhi) d_y + (-s\n",
       "in(θ)⋅cos(varphi)⋅ψ̇ + sin(varphi)⋅θ̇) d_z"
      ]
     },
     "execution_count": 44,
     "metadata": {},
     "output_type": "execute_result"
    }
   ],
   "source": [
    "A2 = me.ReferenceFrame('A')\n",
    "D2 = me.ReferenceFrame('D')\n",
    "D2.orient_body_fixed(A2, (psi, theta, phi), 'YXY')\n",
    "D2.ang_vel_in(A2).simplify()"
   ]
  },
  {
   "cell_type": "markdown",
   "id": "18c92952",
   "metadata": {},
   "source": [
    "Если мы выразим наш предыдущий результат в D мы видим, что результаты одинаковы: "
   ]
  },
  {
   "cell_type": "code",
   "execution_count": 45,
   "id": "583fd5bf",
   "metadata": {
    "execution": {
     "iopub.execute_input": "2023-06-28T09:14:36.167137Z",
     "iopub.status.busy": "2023-06-28T09:14:36.166880Z",
     "iopub.status.idle": "2023-06-28T09:14:36.196214Z",
     "shell.execute_reply": "2023-06-28T09:14:36.195489Z"
    }
   },
   "outputs": [
    {
     "data": {
      "text/latex": [
       "$\\displaystyle (\\sin{\\left(\\theta \\right)} \\sin{\\left(\\varphi \\right)} \\dot{\\psi} + \\cos{\\left(\\varphi \\right)} \\dot{\\theta})\\mathbf{\\hat{d}_x} + (\\cos{\\left(\\theta \\right)} \\dot{\\psi} + \\dot{\\varphi})\\mathbf{\\hat{d}_y} + (- \\sin{\\left(\\theta \\right)} \\cos{\\left(\\varphi \\right)} \\dot{\\psi} + \\sin{\\left(\\varphi \\right)} \\dot{\\theta})\\mathbf{\\hat{d}_z}$"
      ],
      "text/plain": [
       "(sin(θ)⋅sin(varphi)⋅ψ̇ + cos(varphi)⋅θ̇) d_x + (cos(θ)⋅ψ̇ + varṗhi) d_y + (-s\n",
       "in(θ)⋅cos(varphi)⋅ψ̇ + sin(varphi)⋅θ̇) d_z"
      ]
     },
     "execution_count": 45,
     "metadata": {},
     "output_type": "execute_result"
    }
   ],
   "source": [
    "A_w_D.express(D)"
   ]
  },
  {
   "cell_type": "markdown",
   "id": "f916be7f",
   "metadata": {},
   "source": [
    "### Угловое ускорение "
   ]
  },
  {
   "cell_type": "markdown",
   "id": "3c513ae0",
   "metadata": {},
   "source": [
    "Угловое ускорение «B» при наблюдении со стороны «A» определено как: \n",
    "\n",
    "$$\n",
    "{}^A\\bar{\\alpha}^B := \\frac{{}^Ad}{dt} {}^A\\bar{\\omega}^B\n",
    "$$\n",
    "\n",
    "${}^A\\bar{\\omega}^B$ это просто вектор, поэтому мы можем дифференцировать его по времени относительно системы «A».\n",
    "\n",
    "\\begin{align*}\n",
    "   \\frac{{}^Ad}{dt} {}^A\\bar{\\omega}^B & =\n",
    "   \\frac{{}^Bd}{dt} {}^A\\bar{\\omega}^B + {}^A\\bar{\\omega}^B \\times {}^A\\bar{\\omega}^B \\\\\n",
    "\\end{align*}   \n",
    "\n",
    "and т.к. ${}^A\\bar{\\omega}^B \\times {}^A\\bar{\\omega}^B=0$:\n",
    "\n",
    "$$\n",
    "   \\frac{{}^Ad}{dt} {}^A\\bar{\\omega}^B = \\frac{{}^Bd}{dt} {}^A\\bar{\\omega}^B\n",
    "$$\n",
    "что гораздо удобней."
   ]
  },
  {
   "cell_type": "markdown",
   "id": "4b3ac777",
   "metadata": {},
   "source": [
    "«SymPy Mechanics» находит ${}^A\\bar{\\alpha}^B$ автоматически для взаимоориентированных систем с помощью [`ang_acc_in()`](https://docs.sympy.org/latest/modules/physics/vector/api/classes.html#sympy.physics.vector.frame.ReferenceFrame.ang_acc_in)."
   ]
  },
  {
   "cell_type": "code",
   "execution_count": 46,
   "id": "00ed070b",
   "metadata": {
    "execution": {
     "iopub.execute_input": "2023-06-28T09:14:36.199620Z",
     "iopub.status.busy": "2023-06-28T09:14:36.199276Z",
     "iopub.status.idle": "2023-06-28T09:14:36.213879Z",
     "shell.execute_reply": "2023-06-28T09:14:36.213108Z"
    }
   },
   "outputs": [
    {
     "data": {
      "text/latex": [
       "$\\displaystyle \\ddot{\\theta}\\mathbf{\\hat{a}_z}$"
      ],
      "text/plain": [
       "θ̈ a_z"
      ]
     },
     "execution_count": 46,
     "metadata": {},
     "output_type": "execute_result"
    }
   ],
   "source": [
    "theta = me.dynamicsymbols('theta')\n",
    "\n",
    "A = me.ReferenceFrame('A')\n",
    "B = me.ReferenceFrame('B')\n",
    "B.orient_axis(A, theta, A.z)\n",
    "B.ang_acc_in(A)"
   ]
  },
  {
   "cell_type": "markdown",
   "id": "3d21d3ad",
   "metadata": {},
   "source": [
    "Аналогично мы можем вычислить производную вручную: "
   ]
  },
  {
   "cell_type": "code",
   "execution_count": 47,
   "id": "9f560cf9",
   "metadata": {
    "execution": {
     "iopub.execute_input": "2023-06-28T09:14:36.217237Z",
     "iopub.status.busy": "2023-06-28T09:14:36.216884Z",
     "iopub.status.idle": "2023-06-28T09:14:36.227058Z",
     "shell.execute_reply": "2023-06-28T09:14:36.226350Z"
    }
   },
   "outputs": [
    {
     "data": {
      "text/latex": [
       "$\\displaystyle \\ddot{\\theta}\\mathbf{\\hat{a}_z}$"
      ],
      "text/plain": [
       "θ̈ a_z"
      ]
     },
     "execution_count": 47,
     "metadata": {},
     "output_type": "execute_result"
    }
   ],
   "source": [
    "B.ang_vel_in(A).dt(A)"
   ]
  },
  {
   "cell_type": "code",
   "execution_count": 48,
   "id": "abfef01e",
   "metadata": {
    "execution": {
     "iopub.execute_input": "2023-06-28T09:14:36.230031Z",
     "iopub.status.busy": "2023-06-28T09:14:36.229787Z",
     "iopub.status.idle": "2023-06-28T09:14:36.241896Z",
     "shell.execute_reply": "2023-06-28T09:14:36.241019Z"
    }
   },
   "outputs": [
    {
     "data": {
      "text/latex": [
       "$\\displaystyle \\ddot{\\theta}\\mathbf{\\hat{a}_z}$"
      ],
      "text/plain": [
       "θ̈ a_z"
      ]
     },
     "execution_count": 48,
     "metadata": {},
     "output_type": "execute_result"
    }
   ],
   "source": [
    "B.ang_vel_in(A).dt(B)"
   ]
  },
  {
   "cell_type": "markdown",
   "id": "1df4e0c3",
   "metadata": {},
   "source": [
    "Для фиксированной ориентации тела получаем: "
   ]
  },
  {
   "cell_type": "code",
   "execution_count": 49,
   "id": "c6eba16a",
   "metadata": {
    "execution": {
     "iopub.execute_input": "2023-06-28T09:14:36.245118Z",
     "iopub.status.busy": "2023-06-28T09:14:36.244874Z",
     "iopub.status.idle": "2023-06-28T09:14:37.507238Z",
     "shell.execute_reply": "2023-06-28T09:14:37.506407Z"
    }
   },
   "outputs": [
    {
     "data": {
      "text/latex": [
       "$\\displaystyle (\\sin{\\left(\\theta \\right)} \\sin{\\left(\\varphi \\right)} \\ddot{\\psi} + \\sin{\\left(\\theta \\right)} \\cos{\\left(\\varphi \\right)} \\dot{\\psi} \\dot{\\varphi} + \\sin{\\left(\\varphi \\right)} \\cos{\\left(\\theta \\right)} \\dot{\\psi} \\dot{\\theta} - \\sin{\\left(\\varphi \\right)} \\dot{\\theta} \\dot{\\varphi} + \\cos{\\left(\\varphi \\right)} \\ddot{\\theta})\\mathbf{\\hat{d}_x} + (- \\sin{\\left(\\theta \\right)} \\dot{\\psi} \\dot{\\theta} + \\cos{\\left(\\theta \\right)} \\ddot{\\psi} + \\ddot{\\varphi})\\mathbf{\\hat{d}_y} + (\\sin{\\left(\\theta \\right)} \\sin{\\left(\\varphi \\right)} \\dot{\\psi} \\dot{\\varphi} - \\sin{\\left(\\theta \\right)} \\cos{\\left(\\varphi \\right)} \\ddot{\\psi} + \\sin{\\left(\\varphi \\right)} \\ddot{\\theta} - \\cos{\\left(\\theta \\right)} \\cos{\\left(\\varphi \\right)} \\dot{\\psi} \\dot{\\theta} + \\cos{\\left(\\varphi \\right)} \\dot{\\theta} \\dot{\\varphi})\\mathbf{\\hat{d}_z}$"
      ],
      "text/plain": [
       "(sin(θ)⋅sin(varphi)⋅ψ̈ + sin(θ)⋅cos(varphi)⋅ψ̇⋅varṗhi + sin(varphi)⋅cos(θ)⋅ψ̇\n",
       "⋅θ̇ - sin(varphi)⋅θ̇⋅varṗhi + cos(varphi)⋅θ̈) d_x + (-sin(θ)⋅ψ̇⋅θ̇ + cos(θ)⋅ψ\n",
       "̈ + varp̈hi) d_y + (sin(θ)⋅sin(varphi)⋅ψ̇⋅varṗhi - sin(θ)⋅cos(varphi)⋅ψ̈ + si\n",
       "n(varphi)⋅θ̈ - cos(θ)⋅cos(varphi)⋅ψ̇⋅θ̇ + cos(varphi)⋅θ̇⋅varṗhi) d_z"
      ]
     },
     "execution_count": 49,
     "metadata": {},
     "output_type": "execute_result"
    }
   ],
   "source": [
    "psi, theta, phi = me.dynamicsymbols('psi, theta, varphi')\n",
    "\n",
    "A = me.ReferenceFrame('A')\n",
    "D = me.ReferenceFrame('D')\n",
    "D.orient_body_fixed(A, (psi, theta, phi), 'YXY')\n",
    "\n",
    "D.ang_acc_in(A).simplify()"
   ]
  },
  {
   "cell_type": "markdown",
   "id": "e7fe3212",
   "metadata": {},
   "source": [
    "А если брать производные «вручную»:"
   ]
  },
  {
   "cell_type": "code",
   "execution_count": 50,
   "id": "9374f39c",
   "metadata": {
    "execution": {
     "iopub.execute_input": "2023-06-28T09:14:37.510562Z",
     "iopub.status.busy": "2023-06-28T09:14:37.510104Z",
     "iopub.status.idle": "2023-06-28T09:14:38.281609Z",
     "shell.execute_reply": "2023-06-28T09:14:38.280754Z"
    }
   },
   "outputs": [
    {
     "data": {
      "text/latex": [
       "$\\displaystyle (\\sin{\\left(\\theta \\right)} \\sin{\\left(\\varphi \\right)} \\ddot{\\psi} + \\sin{\\left(\\theta \\right)} \\cos{\\left(\\varphi \\right)} \\dot{\\psi} \\dot{\\varphi} + \\sin{\\left(\\varphi \\right)} \\cos{\\left(\\theta \\right)} \\dot{\\psi} \\dot{\\theta} - \\sin{\\left(\\varphi \\right)} \\dot{\\theta} \\dot{\\varphi} + \\cos{\\left(\\varphi \\right)} \\ddot{\\theta})\\mathbf{\\hat{d}_x} + (- \\sin{\\left(\\theta \\right)} \\dot{\\psi} \\dot{\\theta} + \\cos{\\left(\\theta \\right)} \\ddot{\\psi} + \\ddot{\\varphi})\\mathbf{\\hat{d}_y} + (\\sin{\\left(\\theta \\right)} \\sin{\\left(\\varphi \\right)} \\dot{\\psi} \\dot{\\varphi} - \\sin{\\left(\\theta \\right)} \\cos{\\left(\\varphi \\right)} \\ddot{\\psi} + \\sin{\\left(\\varphi \\right)} \\ddot{\\theta} - \\cos{\\left(\\theta \\right)} \\cos{\\left(\\varphi \\right)} \\dot{\\psi} \\dot{\\theta} + \\cos{\\left(\\varphi \\right)} \\dot{\\theta} \\dot{\\varphi})\\mathbf{\\hat{d}_z}$"
      ],
      "text/plain": [
       "(sin(θ)⋅sin(varphi)⋅ψ̈ + sin(θ)⋅cos(varphi)⋅ψ̇⋅varṗhi + sin(varphi)⋅cos(θ)⋅ψ̇\n",
       "⋅θ̇ - sin(varphi)⋅θ̇⋅varṗhi + cos(varphi)⋅θ̈) d_x + (-sin(θ)⋅ψ̇⋅θ̇ + cos(θ)⋅ψ\n",
       "̈ + varp̈hi) d_y + (sin(θ)⋅sin(varphi)⋅ψ̇⋅varṗhi - sin(θ)⋅cos(varphi)⋅ψ̈ + si\n",
       "n(varphi)⋅θ̈ - cos(θ)⋅cos(varphi)⋅ψ̇⋅θ̇ + cos(varphi)⋅θ̇⋅varṗhi) d_z"
      ]
     },
     "execution_count": 50,
     "metadata": {},
     "output_type": "execute_result"
    }
   ],
   "source": [
    "D.ang_vel_in(A).dt(A).simplify()"
   ]
  },
  {
   "cell_type": "code",
   "execution_count": 51,
   "id": "4be05b38",
   "metadata": {
    "execution": {
     "iopub.execute_input": "2023-06-28T09:14:38.285191Z",
     "iopub.status.busy": "2023-06-28T09:14:38.284792Z",
     "iopub.status.idle": "2023-06-28T09:14:39.058854Z",
     "shell.execute_reply": "2023-06-28T09:14:39.058019Z"
    }
   },
   "outputs": [
    {
     "data": {
      "text/latex": [
       "$\\displaystyle (\\sin{\\left(\\theta \\right)} \\sin{\\left(\\varphi \\right)} \\ddot{\\psi} + \\sin{\\left(\\theta \\right)} \\cos{\\left(\\varphi \\right)} \\dot{\\psi} \\dot{\\varphi} + \\sin{\\left(\\varphi \\right)} \\cos{\\left(\\theta \\right)} \\dot{\\psi} \\dot{\\theta} - \\sin{\\left(\\varphi \\right)} \\dot{\\theta} \\dot{\\varphi} + \\cos{\\left(\\varphi \\right)} \\ddot{\\theta})\\mathbf{\\hat{d}_x} + (- \\sin{\\left(\\theta \\right)} \\dot{\\psi} \\dot{\\theta} + \\cos{\\left(\\theta \\right)} \\ddot{\\psi} + \\ddot{\\varphi})\\mathbf{\\hat{d}_y} + (\\sin{\\left(\\theta \\right)} \\sin{\\left(\\varphi \\right)} \\dot{\\psi} \\dot{\\varphi} - \\sin{\\left(\\theta \\right)} \\cos{\\left(\\varphi \\right)} \\ddot{\\psi} + \\sin{\\left(\\varphi \\right)} \\ddot{\\theta} - \\cos{\\left(\\theta \\right)} \\cos{\\left(\\varphi \\right)} \\dot{\\psi} \\dot{\\theta} + \\cos{\\left(\\varphi \\right)} \\dot{\\theta} \\dot{\\varphi})\\mathbf{\\hat{d}_z}$"
      ],
      "text/plain": [
       "(sin(θ)⋅sin(varphi)⋅ψ̈ + sin(θ)⋅cos(varphi)⋅ψ̇⋅varṗhi + sin(varphi)⋅cos(θ)⋅ψ̇\n",
       "⋅θ̇ - sin(varphi)⋅θ̇⋅varṗhi + cos(varphi)⋅θ̈) d_x + (-sin(θ)⋅ψ̇⋅θ̇ + cos(θ)⋅ψ\n",
       "̈ + varp̈hi) d_y + (sin(θ)⋅sin(varphi)⋅ψ̇⋅varṗhi - sin(θ)⋅cos(varphi)⋅ψ̈ + si\n",
       "n(varphi)⋅θ̈ - cos(θ)⋅cos(varphi)⋅ψ̇⋅θ̇ + cos(varphi)⋅θ̇⋅varṗhi) d_z"
      ]
     },
     "execution_count": 51,
     "metadata": {},
     "output_type": "execute_result"
    }
   ],
   "source": [
    "D.ang_vel_in(A).dt(D).simplify()"
   ]
  },
  {
   "cell_type": "markdown",
   "id": "02f2978a",
   "metadata": {},
   "source": [
    "Обратите внимание, изменение скорости не зависит от системы отсчета."
   ]
  },
  {
   "cell_type": "markdown",
   "id": "896aa5cf",
   "metadata": {},
   "source": [
    "### Добавление углового ускорения"
   ]
  },
  {
   "cell_type": "markdown",
   "id": "7bb0f298",
   "metadata": {},
   "source": [
    "Расчет углового ускорения относительно просто из-за эквивалентности при наблюдении из разных систем отсчета.\n",
    "\n",
    "Но сложение угловых скоростей не распространяется на угловые ускорения:\n",
    "\n",
    "$$\n",
    "   {}^A\\bar{\\alpha}^Z \\neq\n",
    "   {}^A\\bar{\\alpha}^B +\n",
    "   {}^B\\bar{\\alpha}^C +\n",
    "   \\ldots +\n",
    "   {}^Y\\bar{\\alpha}^Z\n",
    "\n",
    "$$"
   ]
  },
  {
   "cell_type": "markdown",
   "id": "74ac1d5b",
   "metadata": {},
   "source": [
    "Покажем это на примере. Возьмем последовательные ориентации, образующие «y\\-x\\-y» Эйлер-вращения:"
   ]
  },
  {
   "cell_type": "code",
   "execution_count": 52,
   "id": "0e25049b",
   "metadata": {
    "execution": {
     "iopub.execute_input": "2023-06-28T09:14:39.063666Z",
     "iopub.status.busy": "2023-06-28T09:14:39.062201Z",
     "iopub.status.idle": "2023-06-28T09:14:39.080745Z",
     "shell.execute_reply": "2023-06-28T09:14:39.079979Z"
    }
   },
   "outputs": [],
   "source": [
    "psi, theta, phi = me.dynamicsymbols('psi, theta, varphi')\n",
    "\n",
    "A = me.ReferenceFrame('A')\n",
    "B = me.ReferenceFrame('B')\n",
    "C = me.ReferenceFrame('C')\n",
    "D = me.ReferenceFrame('D')\n",
    "\n",
    "B.orient_axis(A, psi, A.y)\n",
    "C.orient_axis(B, theta, B.x)\n",
    "D.orient_axis(C, phi, C.y)"
   ]
  },
  {
   "cell_type": "code",
   "execution_count": 53,
   "id": "c9c2d086",
   "metadata": {
    "execution": {
     "iopub.execute_input": "2023-06-28T09:14:39.086545Z",
     "iopub.status.busy": "2023-06-28T09:14:39.085968Z",
     "iopub.status.idle": "2023-06-28T09:14:39.094600Z",
     "shell.execute_reply": "2023-06-28T09:14:39.093799Z"
    }
   },
   "outputs": [
    {
     "data": {
      "text/latex": [
       "$\\displaystyle \\ddot{\\psi}\\mathbf{\\hat{a}_y}$"
      ],
      "text/plain": [
       "ψ̈ a_y"
      ]
     },
     "execution_count": 53,
     "metadata": {},
     "output_type": "execute_result"
    }
   ],
   "source": [
    "A_alp_B = B.ang_acc_in(A)\n",
    "A_alp_B"
   ]
  },
  {
   "cell_type": "code",
   "execution_count": 54,
   "id": "e64fe389",
   "metadata": {
    "execution": {
     "iopub.execute_input": "2023-06-28T09:14:39.097335Z",
     "iopub.status.busy": "2023-06-28T09:14:39.097096Z",
     "iopub.status.idle": "2023-06-28T09:14:39.106727Z",
     "shell.execute_reply": "2023-06-28T09:14:39.105498Z"
    }
   },
   "outputs": [
    {
     "data": {
      "text/latex": [
       "$\\displaystyle \\ddot{\\theta}\\mathbf{\\hat{b}_x}$"
      ],
      "text/plain": [
       "θ̈ b_x"
      ]
     },
     "execution_count": 54,
     "metadata": {},
     "output_type": "execute_result"
    }
   ],
   "source": [
    "B_alp_C = C.ang_acc_in(B)\n",
    "B_alp_C"
   ]
  },
  {
   "cell_type": "code",
   "execution_count": 55,
   "id": "91752f21",
   "metadata": {
    "execution": {
     "iopub.execute_input": "2023-06-28T09:14:39.109928Z",
     "iopub.status.busy": "2023-06-28T09:14:39.109677Z",
     "iopub.status.idle": "2023-06-28T09:14:39.117614Z",
     "shell.execute_reply": "2023-06-28T09:14:39.116822Z"
    }
   },
   "outputs": [
    {
     "data": {
      "text/latex": [
       "$\\displaystyle \\ddot{\\varphi}\\mathbf{\\hat{c}_y}$"
      ],
      "text/plain": [
       "varp̈hi c_y"
      ]
     },
     "execution_count": 55,
     "metadata": {},
     "output_type": "execute_result"
    }
   ],
   "source": [
    "C_alp_D = D.ang_acc_in(C)\n",
    "C_alp_D"
   ]
  },
  {
   "cell_type": "markdown",
   "id": "6524b1cb",
   "metadata": {},
   "source": [
    "Суммируя последовательные угловые ускорения и выражая полученное вектор в системе отсчета тела «D» получаем: "
   ]
  },
  {
   "cell_type": "code",
   "execution_count": 56,
   "id": "9c92520f",
   "metadata": {
    "execution": {
     "iopub.execute_input": "2023-06-28T09:14:39.121418Z",
     "iopub.status.busy": "2023-06-28T09:14:39.121178Z",
     "iopub.status.idle": "2023-06-28T09:14:39.374116Z",
     "shell.execute_reply": "2023-06-28T09:14:39.372928Z"
    }
   },
   "outputs": [
    {
     "data": {
      "text/latex": [
       "$\\displaystyle (\\sin{\\left(\\theta \\right)} \\sin{\\left(\\varphi \\right)} \\ddot{\\psi} + \\cos{\\left(\\varphi \\right)} \\ddot{\\theta})\\mathbf{\\hat{d}_x} + (\\cos{\\left(\\theta \\right)} \\ddot{\\psi} + \\ddot{\\varphi})\\mathbf{\\hat{d}_y} + (- \\sin{\\left(\\theta \\right)} \\cos{\\left(\\varphi \\right)} \\ddot{\\psi} + \\sin{\\left(\\varphi \\right)} \\ddot{\\theta})\\mathbf{\\hat{d}_z}$"
      ],
      "text/plain": [
       "(sin(θ)⋅sin(varphi)⋅ψ̈ + cos(varphi)⋅θ̈) d_x + (cos(θ)⋅ψ̈ + varp̈hi) d_y + (-s\n",
       "in(θ)⋅cos(varphi)⋅ψ̈ + sin(varphi)⋅θ̈) d_z"
      ]
     },
     "execution_count": 56,
     "metadata": {},
     "output_type": "execute_result"
    }
   ],
   "source": [
    "A_alp_D = A_alp_B + B_alp_C + C_alp_D\n",
    "A_alp_D.express(D).simplify()"
   ]
  },
  {
   "cell_type": "markdown",
   "id": "f1edea30",
   "metadata": {},
   "source": [
    "… что не равно правильному, более сложному результату: "
   ]
  },
  {
   "cell_type": "code",
   "execution_count": 57,
   "id": "71cb34b6",
   "metadata": {
    "execution": {
     "iopub.execute_input": "2023-06-28T09:14:39.377425Z",
     "iopub.status.busy": "2023-06-28T09:14:39.376893Z",
     "iopub.status.idle": "2023-06-28T09:14:40.154476Z",
     "shell.execute_reply": "2023-06-28T09:14:40.153543Z"
    }
   },
   "outputs": [
    {
     "data": {
      "text/latex": [
       "$\\displaystyle (\\sin{\\left(\\theta \\right)} \\sin{\\left(\\varphi \\right)} \\ddot{\\psi} + \\sin{\\left(\\theta \\right)} \\cos{\\left(\\varphi \\right)} \\dot{\\psi} \\dot{\\varphi} + \\sin{\\left(\\varphi \\right)} \\cos{\\left(\\theta \\right)} \\dot{\\psi} \\dot{\\theta} - \\sin{\\left(\\varphi \\right)} \\dot{\\theta} \\dot{\\varphi} + \\cos{\\left(\\varphi \\right)} \\ddot{\\theta})\\mathbf{\\hat{d}_x} + (- \\sin{\\left(\\theta \\right)} \\dot{\\psi} \\dot{\\theta} + \\cos{\\left(\\theta \\right)} \\ddot{\\psi} + \\ddot{\\varphi})\\mathbf{\\hat{d}_y} + (\\sin{\\left(\\theta \\right)} \\sin{\\left(\\varphi \\right)} \\dot{\\psi} \\dot{\\varphi} - \\sin{\\left(\\theta \\right)} \\cos{\\left(\\varphi \\right)} \\ddot{\\psi} + \\sin{\\left(\\varphi \\right)} \\ddot{\\theta} - \\cos{\\left(\\theta \\right)} \\cos{\\left(\\varphi \\right)} \\dot{\\psi} \\dot{\\theta} + \\cos{\\left(\\varphi \\right)} \\dot{\\theta} \\dot{\\varphi})\\mathbf{\\hat{d}_z}$"
      ],
      "text/plain": [
       "(sin(θ)⋅sin(varphi)⋅ψ̈ + sin(θ)⋅cos(varphi)⋅ψ̇⋅varṗhi + sin(varphi)⋅cos(θ)⋅ψ̇\n",
       "⋅θ̇ - sin(varphi)⋅θ̇⋅varṗhi + cos(varphi)⋅θ̈) d_x + (-sin(θ)⋅ψ̇⋅θ̇ + cos(θ)⋅ψ\n",
       "̈ + varp̈hi) d_y + (sin(θ)⋅sin(varphi)⋅ψ̇⋅varṗhi - sin(θ)⋅cos(varphi)⋅ψ̈ + si\n",
       "n(varphi)⋅θ̈ - cos(θ)⋅cos(varphi)⋅ψ̇⋅θ̇ + cos(varphi)⋅θ̇⋅varṗhi) d_z"
      ]
     },
     "execution_count": 57,
     "metadata": {},
     "output_type": "execute_result"
    }
   ],
   "source": [
    "D.ang_vel_in(A).dt(A).express(D).simplify()"
   ]
  },
  {
   "cell_type": "markdown",
   "id": "4801e157",
   "metadata": {},
   "source": [
    "Угловые ускорения, полученные из последовательных ориентаций, требуют явного дифференцирование связанного вектора угловой скорости. К сожалению, там не существует теоремы, упрощающей этот расчет, как было с ориентацией и угловой скоростью. "
   ]
  },
  {
   "cell_type": "markdown",
   "id": "ed1350a4",
   "metadata": {},
   "source": []
  }
 ],
 "metadata": {
  "kernelspec": {
   "display_name": "Python 3 (ipykernel)",
   "language": "python",
   "name": "python3"
  },
  "language_info": {
   "codemirror_mode": {
    "name": "ipython",
    "version": 3
   },
   "file_extension": ".py",
   "mimetype": "text/x-python",
   "name": "python",
   "nbconvert_exporter": "python",
   "pygments_lexer": "ipython3",
   "version": "3.11.6"
  }
 },
 "nbformat": 4,
 "nbformat_minor": 5
}
